{
 "cells": [
  {
   "cell_type": "markdown",
   "metadata": {},
   "source": [
    "# Betabank Customer Churn Prediction\n",
    "\n",
    "This notebook presents a complete workflow for predicting customer churn for Betabank. The process includes data loading, exploratory data analysis, preprocessing, model training, evaluation, and final conclusions. Each step is explained in detail, and code cells are commented for clarity."
   ]
  },
  {
   "cell_type": "markdown",
   "metadata": {},
   "source": [
    "This project will analyze the effects of downsampling and oversampling techniques. \n",
    "First we will prepare our data without class balance adjustments to train candidate models. Aditionally, we will train the same candidates but this time we will balance the classes"
   ]
  },
  {
   "cell_type": "markdown",
   "metadata": {},
   "source": [
    "# Account Closure Predictor for BetaBank Users"
   ]
  },
  {
   "cell_type": "markdown",
   "metadata": {},
   "source": [
    "Beta Bank customers are leaving, little by little, every month. Bankers have discovered that it is cheaper to retain existing customers than to attract new ones.\n",
    "\n",
    "We need to predict if a customer will leave the bank soon. You have data on past customer behavior and contract terminations with the bank.\n",
    "\n",
    "We will Create a model with the highest possible F1 score. To pass the review, we set an F1 score of at least 0.59.\n",
    "\n",
    "For this particullar project we will compare the AUC-ROC and F1-score metrics to correctly assess our candidates.\n",
    "\n",
    "Data Description\n",
    "\n",
    "Features\n",
    "\n",
    "- RowNumber: data string index\n",
    "- CustomerId: unique customer identifier\n",
    "- Surname: last name\n",
    "- CreditScore: credit score\n",
    "- Geography: country of residence\n",
    "- Gender: gender\n",
    "- Age: age\n",
    "- Tenure: period during which the client's fixed-term deposit has matured (years)\n",
    "- Balance: account balance\n",
    "- NumOfProducts: number of bank products used by the client\n",
    "- HasCrCard: the client has a credit card (1 - yes; 0 - no)\n",
    "- IsActiveMember: client activity (1 - yes; 0 - no)\n",
    "- EstimatedSalary: estimated salary\n",
    "- Target:\n",
    "    - Exited: The client has left (1 - yes; 0 - no)\n",
    "\n",
    "Project Evaluation\n",
    "We have defined the evaluation criteria for the project. Read this carefully before proceeding to the exercise.\n"
   ]
  },
  {
   "cell_type": "markdown",
   "metadata": {},
   "source": [
    "## Dependencies\n",
    "\n",
    "The following libraries are used for data manipulation, machine learning, and evaluation metrics throughout this notebook."
   ]
  },
  {
   "cell_type": "code",
   "execution_count": 42,
   "metadata": {},
   "outputs": [],
   "source": [
    "# Import necessary libraries for data analysis and machine learning\n",
    "import pandas as pd  # For data manipulation and analysis\n",
    "\n",
    "import numpy as np  # For numerical operations\n",
    "\n",
    "import matplotlib.pyplot as plt  # For plotting graphs\n",
    "\n",
    "\n",
    "from sklearn.ensemble import RandomForestClassifier  # Random Forest model\n",
    "from sklearn.metrics import confusion_matrix, f1_score, recall_score, precision_score, roc_auc_score, roc_curve  # Evaluation metrics\n",
    "from sklearn.linear_model import LogisticRegression  # Logistic Regression model\n",
    "from sklearn.model_selection import train_test_split  # For splitting data into train and test sets\n",
    "from sklearn.preprocessing import StandardScaler, OneHotEncoder  # For feature scaling and encoding categorical variables\n",
    "\n",
    "from sklearn.utils import shuffle  # For shuffling data\n",
    "\n"
   ]
  },
  {
   "cell_type": "markdown",
   "metadata": {},
   "source": [
    "### Data Loading and Exploration\n",
    "\n",
    "In this section, we will load the dataset and perform an initial exploration to understand its structure and contents."
   ]
  },
  {
   "cell_type": "markdown",
   "metadata": {},
   "source": [
    "## Loading dataset"
   ]
  },
  {
   "cell_type": "code",
   "execution_count": 43,
   "metadata": {},
   "outputs": [
    {
     "data": {
      "application/vnd.microsoft.datawrangler.viewer.v0+json": {
       "columns": [
        {
         "name": "index",
         "rawType": "int64",
         "type": "integer"
        },
        {
         "name": "RowNumber",
         "rawType": "int64",
         "type": "integer"
        },
        {
         "name": "CustomerId",
         "rawType": "int64",
         "type": "integer"
        },
        {
         "name": "Surname",
         "rawType": "object",
         "type": "string"
        },
        {
         "name": "CreditScore",
         "rawType": "int64",
         "type": "integer"
        },
        {
         "name": "Geography",
         "rawType": "object",
         "type": "string"
        },
        {
         "name": "Gender",
         "rawType": "object",
         "type": "string"
        },
        {
         "name": "Age",
         "rawType": "int64",
         "type": "integer"
        },
        {
         "name": "Tenure",
         "rawType": "float64",
         "type": "float"
        },
        {
         "name": "Balance",
         "rawType": "float64",
         "type": "float"
        },
        {
         "name": "NumOfProducts",
         "rawType": "int64",
         "type": "integer"
        },
        {
         "name": "HasCrCard",
         "rawType": "int64",
         "type": "integer"
        },
        {
         "name": "IsActiveMember",
         "rawType": "int64",
         "type": "integer"
        },
        {
         "name": "EstimatedSalary",
         "rawType": "float64",
         "type": "float"
        },
        {
         "name": "Exited",
         "rawType": "int64",
         "type": "integer"
        }
       ],
       "ref": "cdc4b0d1-92fa-43cf-924e-b5a2c2c52a1d",
       "rows": [
        [
         "0",
         "1",
         "15634602",
         "Hargrave",
         "619",
         "France",
         "Female",
         "42",
         "2.0",
         "0.0",
         "1",
         "1",
         "1",
         "101348.88",
         "1"
        ],
        [
         "1",
         "2",
         "15647311",
         "Hill",
         "608",
         "Spain",
         "Female",
         "41",
         "1.0",
         "83807.86",
         "1",
         "0",
         "1",
         "112542.58",
         "0"
        ],
        [
         "2",
         "3",
         "15619304",
         "Onio",
         "502",
         "France",
         "Female",
         "42",
         "8.0",
         "159660.8",
         "3",
         "1",
         "0",
         "113931.57",
         "1"
        ],
        [
         "3",
         "4",
         "15701354",
         "Boni",
         "699",
         "France",
         "Female",
         "39",
         "1.0",
         "0.0",
         "2",
         "0",
         "0",
         "93826.63",
         "0"
        ],
        [
         "4",
         "5",
         "15737888",
         "Mitchell",
         "850",
         "Spain",
         "Female",
         "43",
         "2.0",
         "125510.82",
         "1",
         "1",
         "1",
         "79084.1",
         "0"
        ]
       ],
       "shape": {
        "columns": 14,
        "rows": 5
       }
      },
      "text/html": [
       "<div>\n",
       "<style scoped>\n",
       "    .dataframe tbody tr th:only-of-type {\n",
       "        vertical-align: middle;\n",
       "    }\n",
       "\n",
       "    .dataframe tbody tr th {\n",
       "        vertical-align: top;\n",
       "    }\n",
       "\n",
       "    .dataframe thead th {\n",
       "        text-align: right;\n",
       "    }\n",
       "</style>\n",
       "<table border=\"1\" class=\"dataframe\">\n",
       "  <thead>\n",
       "    <tr style=\"text-align: right;\">\n",
       "      <th></th>\n",
       "      <th>RowNumber</th>\n",
       "      <th>CustomerId</th>\n",
       "      <th>Surname</th>\n",
       "      <th>CreditScore</th>\n",
       "      <th>Geography</th>\n",
       "      <th>Gender</th>\n",
       "      <th>Age</th>\n",
       "      <th>Tenure</th>\n",
       "      <th>Balance</th>\n",
       "      <th>NumOfProducts</th>\n",
       "      <th>HasCrCard</th>\n",
       "      <th>IsActiveMember</th>\n",
       "      <th>EstimatedSalary</th>\n",
       "      <th>Exited</th>\n",
       "    </tr>\n",
       "  </thead>\n",
       "  <tbody>\n",
       "    <tr>\n",
       "      <th>0</th>\n",
       "      <td>1</td>\n",
       "      <td>15634602</td>\n",
       "      <td>Hargrave</td>\n",
       "      <td>619</td>\n",
       "      <td>France</td>\n",
       "      <td>Female</td>\n",
       "      <td>42</td>\n",
       "      <td>2.0</td>\n",
       "      <td>0.00</td>\n",
       "      <td>1</td>\n",
       "      <td>1</td>\n",
       "      <td>1</td>\n",
       "      <td>101348.88</td>\n",
       "      <td>1</td>\n",
       "    </tr>\n",
       "    <tr>\n",
       "      <th>1</th>\n",
       "      <td>2</td>\n",
       "      <td>15647311</td>\n",
       "      <td>Hill</td>\n",
       "      <td>608</td>\n",
       "      <td>Spain</td>\n",
       "      <td>Female</td>\n",
       "      <td>41</td>\n",
       "      <td>1.0</td>\n",
       "      <td>83807.86</td>\n",
       "      <td>1</td>\n",
       "      <td>0</td>\n",
       "      <td>1</td>\n",
       "      <td>112542.58</td>\n",
       "      <td>0</td>\n",
       "    </tr>\n",
       "    <tr>\n",
       "      <th>2</th>\n",
       "      <td>3</td>\n",
       "      <td>15619304</td>\n",
       "      <td>Onio</td>\n",
       "      <td>502</td>\n",
       "      <td>France</td>\n",
       "      <td>Female</td>\n",
       "      <td>42</td>\n",
       "      <td>8.0</td>\n",
       "      <td>159660.80</td>\n",
       "      <td>3</td>\n",
       "      <td>1</td>\n",
       "      <td>0</td>\n",
       "      <td>113931.57</td>\n",
       "      <td>1</td>\n",
       "    </tr>\n",
       "    <tr>\n",
       "      <th>3</th>\n",
       "      <td>4</td>\n",
       "      <td>15701354</td>\n",
       "      <td>Boni</td>\n",
       "      <td>699</td>\n",
       "      <td>France</td>\n",
       "      <td>Female</td>\n",
       "      <td>39</td>\n",
       "      <td>1.0</td>\n",
       "      <td>0.00</td>\n",
       "      <td>2</td>\n",
       "      <td>0</td>\n",
       "      <td>0</td>\n",
       "      <td>93826.63</td>\n",
       "      <td>0</td>\n",
       "    </tr>\n",
       "    <tr>\n",
       "      <th>4</th>\n",
       "      <td>5</td>\n",
       "      <td>15737888</td>\n",
       "      <td>Mitchell</td>\n",
       "      <td>850</td>\n",
       "      <td>Spain</td>\n",
       "      <td>Female</td>\n",
       "      <td>43</td>\n",
       "      <td>2.0</td>\n",
       "      <td>125510.82</td>\n",
       "      <td>1</td>\n",
       "      <td>1</td>\n",
       "      <td>1</td>\n",
       "      <td>79084.10</td>\n",
       "      <td>0</td>\n",
       "    </tr>\n",
       "  </tbody>\n",
       "</table>\n",
       "</div>"
      ],
      "text/plain": [
       "   RowNumber  CustomerId   Surname  CreditScore Geography  Gender  Age  \\\n",
       "0          1    15634602  Hargrave          619    France  Female   42   \n",
       "1          2    15647311      Hill          608     Spain  Female   41   \n",
       "2          3    15619304      Onio          502    France  Female   42   \n",
       "3          4    15701354      Boni          699    France  Female   39   \n",
       "4          5    15737888  Mitchell          850     Spain  Female   43   \n",
       "\n",
       "   Tenure    Balance  NumOfProducts  HasCrCard  IsActiveMember  \\\n",
       "0     2.0       0.00              1          1               1   \n",
       "1     1.0   83807.86              1          0               1   \n",
       "2     8.0  159660.80              3          1               0   \n",
       "3     1.0       0.00              2          0               0   \n",
       "4     2.0  125510.82              1          1               1   \n",
       "\n",
       "   EstimatedSalary  Exited  \n",
       "0        101348.88       1  \n",
       "1        112542.58       0  \n",
       "2        113931.57       1  \n",
       "3         93826.63       0  \n",
       "4         79084.10       0  "
      ]
     },
     "execution_count": 43,
     "metadata": {},
     "output_type": "execute_result"
    }
   ],
   "source": [
    "# Load the dataset and display the first few rows to understand its structure\n",
    "\n",
    "data = pd.read_csv('data/Churn.csv')  # Load the data from CSV file\n",
    "\n",
    "data.head()  # Display the first five rows of the dataset"
   ]
  },
  {
   "cell_type": "code",
   "execution_count": 44,
   "metadata": {},
   "outputs": [
    {
     "name": "stdout",
     "output_type": "stream",
     "text": [
      "<class 'pandas.core.frame.DataFrame'>\n",
      "RangeIndex: 10000 entries, 0 to 9999\n",
      "Data columns (total 14 columns):\n",
      " #   Column           Non-Null Count  Dtype  \n",
      "---  ------           --------------  -----  \n",
      " 0   RowNumber        10000 non-null  int64  \n",
      " 1   CustomerId       10000 non-null  int64  \n",
      " 2   Surname          10000 non-null  object \n",
      " 3   CreditScore      10000 non-null  int64  \n",
      " 4   Geography        10000 non-null  object \n",
      " 5   Gender           10000 non-null  object \n",
      " 6   Age              10000 non-null  int64  \n",
      " 7   Tenure           9091 non-null   float64\n",
      " 8   Balance          10000 non-null  float64\n",
      " 9   NumOfProducts    10000 non-null  int64  \n",
      " 10  HasCrCard        10000 non-null  int64  \n",
      " 11  IsActiveMember   10000 non-null  int64  \n",
      " 12  EstimatedSalary  10000 non-null  float64\n",
      " 13  Exited           10000 non-null  int64  \n",
      "dtypes: float64(3), int64(8), object(3)\n",
      "memory usage: 1.1+ MB\n"
     ]
    }
   ],
   "source": [
    "data.info() # Display information about the dataset, including data types and non-null counts"
   ]
  },
  {
   "cell_type": "code",
   "execution_count": 45,
   "metadata": {},
   "outputs": [
    {
     "data": {
      "application/vnd.microsoft.datawrangler.viewer.v0+json": {
       "columns": [
        {
         "name": "index",
         "rawType": "object",
         "type": "string"
        },
        {
         "name": "RowNumber",
         "rawType": "float64",
         "type": "float"
        },
        {
         "name": "CustomerId",
         "rawType": "float64",
         "type": "float"
        },
        {
         "name": "CreditScore",
         "rawType": "float64",
         "type": "float"
        },
        {
         "name": "Age",
         "rawType": "float64",
         "type": "float"
        },
        {
         "name": "Tenure",
         "rawType": "float64",
         "type": "float"
        },
        {
         "name": "Balance",
         "rawType": "float64",
         "type": "float"
        },
        {
         "name": "NumOfProducts",
         "rawType": "float64",
         "type": "float"
        },
        {
         "name": "HasCrCard",
         "rawType": "float64",
         "type": "float"
        },
        {
         "name": "IsActiveMember",
         "rawType": "float64",
         "type": "float"
        },
        {
         "name": "EstimatedSalary",
         "rawType": "float64",
         "type": "float"
        },
        {
         "name": "Exited",
         "rawType": "float64",
         "type": "float"
        }
       ],
       "ref": "475c580c-12f1-4422-882b-3233909882eb",
       "rows": [
        [
         "count",
         "10000.0",
         "10000.0",
         "10000.0",
         "10000.0",
         "9091.0",
         "10000.0",
         "10000.0",
         "10000.0",
         "10000.0",
         "10000.0",
         "10000.0"
        ],
        [
         "mean",
         "5000.5",
         "15690940.5694",
         "650.5288",
         "38.9218",
         "4.997690023099769",
         "76485.889288",
         "1.5302",
         "0.7055",
         "0.5151",
         "100090.239881",
         "0.2037"
        ],
        [
         "std",
         "2886.8956799071675",
         "71936.18612274883",
         "96.65329873613061",
         "10.487806451704591",
         "2.894723234821264",
         "62397.40520238623",
         "0.5816543579989936",
         "0.45584046447514237",
         "0.4997969284589202",
         "57510.49281769822",
         "0.40276858399484955"
        ],
        [
         "min",
         "1.0",
         "15565701.0",
         "350.0",
         "18.0",
         "0.0",
         "0.0",
         "1.0",
         "0.0",
         "0.0",
         "11.58",
         "0.0"
        ],
        [
         "25%",
         "2500.75",
         "15628528.25",
         "584.0",
         "32.0",
         "2.0",
         "0.0",
         "1.0",
         "0.0",
         "0.0",
         "51002.11",
         "0.0"
        ],
        [
         "50%",
         "5000.5",
         "15690738.0",
         "652.0",
         "37.0",
         "5.0",
         "97198.54000000001",
         "1.0",
         "1.0",
         "1.0",
         "100193.915",
         "0.0"
        ],
        [
         "75%",
         "7500.25",
         "15753233.75",
         "718.0",
         "44.0",
         "7.0",
         "127644.24",
         "2.0",
         "1.0",
         "1.0",
         "149388.2475",
         "0.0"
        ],
        [
         "max",
         "10000.0",
         "15815690.0",
         "850.0",
         "92.0",
         "10.0",
         "250898.09",
         "4.0",
         "1.0",
         "1.0",
         "199992.48",
         "1.0"
        ]
       ],
       "shape": {
        "columns": 11,
        "rows": 8
       }
      },
      "text/html": [
       "<div>\n",
       "<style scoped>\n",
       "    .dataframe tbody tr th:only-of-type {\n",
       "        vertical-align: middle;\n",
       "    }\n",
       "\n",
       "    .dataframe tbody tr th {\n",
       "        vertical-align: top;\n",
       "    }\n",
       "\n",
       "    .dataframe thead th {\n",
       "        text-align: right;\n",
       "    }\n",
       "</style>\n",
       "<table border=\"1\" class=\"dataframe\">\n",
       "  <thead>\n",
       "    <tr style=\"text-align: right;\">\n",
       "      <th></th>\n",
       "      <th>RowNumber</th>\n",
       "      <th>CustomerId</th>\n",
       "      <th>CreditScore</th>\n",
       "      <th>Age</th>\n",
       "      <th>Tenure</th>\n",
       "      <th>Balance</th>\n",
       "      <th>NumOfProducts</th>\n",
       "      <th>HasCrCard</th>\n",
       "      <th>IsActiveMember</th>\n",
       "      <th>EstimatedSalary</th>\n",
       "      <th>Exited</th>\n",
       "    </tr>\n",
       "  </thead>\n",
       "  <tbody>\n",
       "    <tr>\n",
       "      <th>count</th>\n",
       "      <td>10000.00000</td>\n",
       "      <td>1.000000e+04</td>\n",
       "      <td>10000.000000</td>\n",
       "      <td>10000.000000</td>\n",
       "      <td>9091.000000</td>\n",
       "      <td>10000.000000</td>\n",
       "      <td>10000.000000</td>\n",
       "      <td>10000.00000</td>\n",
       "      <td>10000.000000</td>\n",
       "      <td>10000.000000</td>\n",
       "      <td>10000.000000</td>\n",
       "    </tr>\n",
       "    <tr>\n",
       "      <th>mean</th>\n",
       "      <td>5000.50000</td>\n",
       "      <td>1.569094e+07</td>\n",
       "      <td>650.528800</td>\n",
       "      <td>38.921800</td>\n",
       "      <td>4.997690</td>\n",
       "      <td>76485.889288</td>\n",
       "      <td>1.530200</td>\n",
       "      <td>0.70550</td>\n",
       "      <td>0.515100</td>\n",
       "      <td>100090.239881</td>\n",
       "      <td>0.203700</td>\n",
       "    </tr>\n",
       "    <tr>\n",
       "      <th>std</th>\n",
       "      <td>2886.89568</td>\n",
       "      <td>7.193619e+04</td>\n",
       "      <td>96.653299</td>\n",
       "      <td>10.487806</td>\n",
       "      <td>2.894723</td>\n",
       "      <td>62397.405202</td>\n",
       "      <td>0.581654</td>\n",
       "      <td>0.45584</td>\n",
       "      <td>0.499797</td>\n",
       "      <td>57510.492818</td>\n",
       "      <td>0.402769</td>\n",
       "    </tr>\n",
       "    <tr>\n",
       "      <th>min</th>\n",
       "      <td>1.00000</td>\n",
       "      <td>1.556570e+07</td>\n",
       "      <td>350.000000</td>\n",
       "      <td>18.000000</td>\n",
       "      <td>0.000000</td>\n",
       "      <td>0.000000</td>\n",
       "      <td>1.000000</td>\n",
       "      <td>0.00000</td>\n",
       "      <td>0.000000</td>\n",
       "      <td>11.580000</td>\n",
       "      <td>0.000000</td>\n",
       "    </tr>\n",
       "    <tr>\n",
       "      <th>25%</th>\n",
       "      <td>2500.75000</td>\n",
       "      <td>1.562853e+07</td>\n",
       "      <td>584.000000</td>\n",
       "      <td>32.000000</td>\n",
       "      <td>2.000000</td>\n",
       "      <td>0.000000</td>\n",
       "      <td>1.000000</td>\n",
       "      <td>0.00000</td>\n",
       "      <td>0.000000</td>\n",
       "      <td>51002.110000</td>\n",
       "      <td>0.000000</td>\n",
       "    </tr>\n",
       "    <tr>\n",
       "      <th>50%</th>\n",
       "      <td>5000.50000</td>\n",
       "      <td>1.569074e+07</td>\n",
       "      <td>652.000000</td>\n",
       "      <td>37.000000</td>\n",
       "      <td>5.000000</td>\n",
       "      <td>97198.540000</td>\n",
       "      <td>1.000000</td>\n",
       "      <td>1.00000</td>\n",
       "      <td>1.000000</td>\n",
       "      <td>100193.915000</td>\n",
       "      <td>0.000000</td>\n",
       "    </tr>\n",
       "    <tr>\n",
       "      <th>75%</th>\n",
       "      <td>7500.25000</td>\n",
       "      <td>1.575323e+07</td>\n",
       "      <td>718.000000</td>\n",
       "      <td>44.000000</td>\n",
       "      <td>7.000000</td>\n",
       "      <td>127644.240000</td>\n",
       "      <td>2.000000</td>\n",
       "      <td>1.00000</td>\n",
       "      <td>1.000000</td>\n",
       "      <td>149388.247500</td>\n",
       "      <td>0.000000</td>\n",
       "    </tr>\n",
       "    <tr>\n",
       "      <th>max</th>\n",
       "      <td>10000.00000</td>\n",
       "      <td>1.581569e+07</td>\n",
       "      <td>850.000000</td>\n",
       "      <td>92.000000</td>\n",
       "      <td>10.000000</td>\n",
       "      <td>250898.090000</td>\n",
       "      <td>4.000000</td>\n",
       "      <td>1.00000</td>\n",
       "      <td>1.000000</td>\n",
       "      <td>199992.480000</td>\n",
       "      <td>1.000000</td>\n",
       "    </tr>\n",
       "  </tbody>\n",
       "</table>\n",
       "</div>"
      ],
      "text/plain": [
       "         RowNumber    CustomerId   CreditScore           Age       Tenure  \\\n",
       "count  10000.00000  1.000000e+04  10000.000000  10000.000000  9091.000000   \n",
       "mean    5000.50000  1.569094e+07    650.528800     38.921800     4.997690   \n",
       "std     2886.89568  7.193619e+04     96.653299     10.487806     2.894723   \n",
       "min        1.00000  1.556570e+07    350.000000     18.000000     0.000000   \n",
       "25%     2500.75000  1.562853e+07    584.000000     32.000000     2.000000   \n",
       "50%     5000.50000  1.569074e+07    652.000000     37.000000     5.000000   \n",
       "75%     7500.25000  1.575323e+07    718.000000     44.000000     7.000000   \n",
       "max    10000.00000  1.581569e+07    850.000000     92.000000    10.000000   \n",
       "\n",
       "             Balance  NumOfProducts    HasCrCard  IsActiveMember  \\\n",
       "count   10000.000000   10000.000000  10000.00000    10000.000000   \n",
       "mean    76485.889288       1.530200      0.70550        0.515100   \n",
       "std     62397.405202       0.581654      0.45584        0.499797   \n",
       "min         0.000000       1.000000      0.00000        0.000000   \n",
       "25%         0.000000       1.000000      0.00000        0.000000   \n",
       "50%     97198.540000       1.000000      1.00000        1.000000   \n",
       "75%    127644.240000       2.000000      1.00000        1.000000   \n",
       "max    250898.090000       4.000000      1.00000        1.000000   \n",
       "\n",
       "       EstimatedSalary        Exited  \n",
       "count     10000.000000  10000.000000  \n",
       "mean     100090.239881      0.203700  \n",
       "std       57510.492818      0.402769  \n",
       "min          11.580000      0.000000  \n",
       "25%       51002.110000      0.000000  \n",
       "50%      100193.915000      0.000000  \n",
       "75%      149388.247500      0.000000  \n",
       "max      199992.480000      1.000000  "
      ]
     },
     "execution_count": 45,
     "metadata": {},
     "output_type": "execute_result"
    }
   ],
   "source": [
    "data.describe() # Display summary statistics of the dataset"
   ]
  },
  {
   "cell_type": "code",
   "execution_count": 46,
   "metadata": {},
   "outputs": [
    {
     "data": {
      "text/plain": [
       "np.int64(0)"
      ]
     },
     "execution_count": 46,
     "metadata": {},
     "output_type": "execute_result"
    }
   ],
   "source": [
    "data.duplicated().sum() # Check for duplicate rows in the dataset"
   ]
  },
  {
   "cell_type": "markdown",
   "metadata": {},
   "source": [
    "The `Surname` is not relevant for our perdictor, and in adittion if we try to use one hot enconder over the `Surname` column it will generate a huge amount of new columns. For that reason the columns we will include as features are:"
   ]
  },
  {
   "cell_type": "code",
   "execution_count": 47,
   "metadata": {},
   "outputs": [
    {
     "name": "stdout",
     "output_type": "stream",
     "text": [
      "<class 'pandas.core.frame.DataFrame'>\n",
      "Index: 9091 entries, 0 to 9998\n",
      "Data columns (total 11 columns):\n",
      " #   Column           Non-Null Count  Dtype  \n",
      "---  ------           --------------  -----  \n",
      " 0   CreditScore      9091 non-null   int64  \n",
      " 1   Geography        9091 non-null   object \n",
      " 2   Gender           9091 non-null   object \n",
      " 3   Age              9091 non-null   int64  \n",
      " 4   Tenure           9091 non-null   float64\n",
      " 5   Balance          9091 non-null   float64\n",
      " 6   NumOfProducts    9091 non-null   int64  \n",
      " 7   HasCrCard        9091 non-null   int64  \n",
      " 8   IsActiveMember   9091 non-null   int64  \n",
      " 9   EstimatedSalary  9091 non-null   float64\n",
      " 10  Exited           9091 non-null   int64  \n",
      "dtypes: float64(3), int64(6), object(2)\n",
      "memory usage: 852.3+ KB\n"
     ]
    }
   ],
   "source": [
    "data = data.drop('RowNumber', axis=1)  # Drop the 'RowNumber' column as it is not neede\n",
    "data = data.drop('Surname', axis=1)  # Drop the 'Surname' column as it is not needed for analysi\n",
    "data = data.drop('CustomerId', axis=1)  # Drop the 'CustomerId' column as it is not needed for analysisdata = data.dropna() # Drop rows with missing values\n",
    "data = data.dropna()  # Drop rows with missing values\n",
    "data.info() # Check the dataset information again after dropping missing values"
   ]
  },
  {
   "cell_type": "markdown",
   "metadata": {},
   "source": [
    "### Data Preparation\n",
    "\n",
    "Here, we will prepare the features and target variable, and split the data into training and validation sets for model development."
   ]
  },
  {
   "cell_type": "code",
   "execution_count": 48,
   "metadata": {},
   "outputs": [],
   "source": [
    "X = data.drop('Exited', axis=1)\n",
    "y = data['Exited']"
   ]
  },
  {
   "cell_type": "code",
   "execution_count": 49,
   "metadata": {},
   "outputs": [],
   "source": [
    "X_train, X_test, y_train, y_test = train_test_split(X, y, test_size=0.25, random_state=42)  # Split the data into training and testing sets"
   ]
  },
  {
   "cell_type": "markdown",
   "metadata": {},
   "source": [
    "### Encoding"
   ]
  },
  {
   "cell_type": "markdown",
   "metadata": {},
   "source": [
    "There are some categorical variable we need to encode, those are `Geography` (Nominal), `Gender`(nominal)"
   ]
  },
  {
   "cell_type": "code",
   "execution_count": 50,
   "metadata": {},
   "outputs": [],
   "source": [
    "categorical_columns = ['Geography', 'Gender']\n",
    "\n",
    "encoder = OneHotEncoder(drop='first', handle_unknown='ignore', sparse_output=False)  # Initialize OneHotEncoder with options to handle unknown categories and output as dense arra\n",
    "encoder.fit(X_train[categorical_columns])\n",
    "\n",
    "X_train_enc = encoder.transform(X_train[categorical_columns])\n",
    "X_test_enc = encoder.transform(X_test[categorical_columns])"
   ]
  },
  {
   "cell_type": "markdown",
   "metadata": {},
   "source": [
    "### Scaling "
   ]
  },
  {
   "cell_type": "code",
   "execution_count": 51,
   "metadata": {},
   "outputs": [],
   "source": [
    "numeric_columns = ['CreditScore','Age', 'Tenure', 'Balance', 'NumOfProducts','EstimatedSalary']\n",
    "scaler = StandardScaler()\n",
    "scaler.fit(X_train[numeric_columns])\n",
    "\n",
    "X_train_scaled = scaler.transform(X_train[numeric_columns])\n",
    "X_test_scaled = scaler.transform(X_test[numeric_columns])\n"
   ]
  },
  {
   "cell_type": "code",
   "execution_count": 52,
   "metadata": {},
   "outputs": [],
   "source": [
    "X_train_processed = np.hstack((X_train_scaled, X_train_enc))\n",
    "X_test_processed = np.hstack((X_test_scaled, X_test_enc))"
   ]
  },
  {
   "cell_type": "markdown",
   "metadata": {},
   "source": [
    "## Target"
   ]
  },
  {
   "cell_type": "markdown",
   "metadata": {},
   "source": [
    "### Class disbalance"
   ]
  },
  {
   "cell_type": "code",
   "execution_count": 53,
   "metadata": {},
   "outputs": [
    {
     "data": {
      "text/plain": [
       "<Axes: xlabel='Exited'>"
      ]
     },
     "execution_count": 53,
     "metadata": {},
     "output_type": "execute_result"
    },
    {
     "data": {
      "image/png": "[encoded data removed]",
      "text/plain": [
       "<Figure size 640x480 with 1 Axes>"
      ]
     },
     "metadata": {},
     "output_type": "display_data"
    }
   ],
   "source": [
    "y.value_counts().plot(kind='bar')"
   ]
  },
  {
   "cell_type": "markdown",
   "metadata": {},
   "source": [
    "Let's make predictions with the imbalance"
   ]
  },
  {
   "cell_type": "markdown",
   "metadata": {},
   "source": [
    "## Predictive models"
   ]
  },
  {
   "cell_type": "markdown",
   "metadata": {},
   "source": [
    "### Model Training and Evaluation\n",
    "\n",
    "In this section, we will train machine learning models to predict customer churn, evaluate their performance using F1 and AUC-ROC metrics, later on we will do the same process but including balanced classes."
   ]
  },
  {
   "cell_type": "markdown",
   "metadata": {},
   "source": [
    "#### Random Forest classification"
   ]
  },
  {
   "cell_type": "code",
   "execution_count": 54,
   "metadata": {},
   "outputs": [
    {
     "data": {
      "application/vnd.microsoft.datawrangler.viewer.v0+json": {
       "columns": [
        {
         "name": "depth",
         "rawType": "int64",
         "type": "integer"
        },
        {
         "name": "confusion_matrix",
         "rawType": "object",
         "type": "string"
        },
        {
         "name": "f1_score",
         "rawType": "object",
         "type": "unknown"
        },
        {
         "name": "training_score",
         "rawType": "object",
         "type": "unknown"
        },
        {
         "name": "validation_score",
         "rawType": "object",
         "type": "unknown"
        },
        {
         "name": "recall_score",
         "rawType": "object",
         "type": "unknown"
        },
        {
         "name": "precision_score",
         "rawType": "object",
         "type": "unknown"
        },
        {
         "name": "depth",
         "rawType": "float64",
         "type": "float"
        },
        {
         "name": "roc_auc_score",
         "rawType": "float64",
         "type": "float"
        }
       ],
       "ref": "7e8c3d92-eb2c-4132-b7ee-e8d7b3b4731d",
       "rows": [
        [
         "1",
         "[[1427  388]* [ 154  304]]",
         "0.528695652173913",
         "0.7640070401877384",
         "0.7615486141663",
         "0.4393063583815029",
         "0.6637554585152838",
         "1.0",
         "0.7759717059439172"
        ],
        [
         "2",
         "[[1380  435]* [ 124  334]]",
         "0.5444172779136104",
         "0.7585802288061015",
         "0.7540695116586009",
         "0.4343302990897269",
         "0.7292576419213974",
         "2.0",
         "0.8052395731832016"
        ],
        [
         "3",
         "[[1443  372]* [ 145  313]]",
         "0.5476815398075241",
         "0.7799941331768847",
         "0.772547294324681",
         "0.4569343065693431",
         "0.6834061135371179",
         "3.0",
         "0.8198623792510255"
        ],
        [
         "4",
         "[[1468  347]* [ 145  313]]",
         "0.5599284436493739",
         "0.7968612496333236",
         "0.7835459744830621",
         "0.47424242424242424",
         "0.6834061135371179",
         "4.0",
         "0.8288131413379527"
        ],
        [
         "5",
         "[[1498  317]* [ 150  308]]",
         "0.5687903970452447",
         "0.8072748606629511",
         "0.7945446546414431",
         "0.4928",
         "0.6724890829694323",
         "5.0",
         "0.8367088912146475"
        ],
        [
         "6",
         "[[1507  308]* [ 151  307]]",
         "0.5722273998136067",
         "0.82062188325022",
         "0.798064232292125",
         "0.4991869918699187",
         "0.6703056768558951",
         "6.0",
         "0.8337321207309297"
        ],
        [
         "7",
         "[[1518  297]* [ 154  304]]",
         "0.5741265344664778",
         "0.8298621296567908",
         "0.8015838099428069",
         "0.5058236272878536",
         "0.6637554585152838",
         "7.0",
         "0.8386390703381573"
        ],
        [
         "8",
         "[[1537  278]* [ 157  301]]",
         "0.5805207328833173",
         "0.8471692578468759",
         "0.8086229652441707",
         "0.5198618307426598",
         "0.6572052401746725",
         "8.0",
         "0.8419412465263993"
        ],
        [
         "9",
         "[[1555  260]* [ 165  293]]",
         "0.579624134520277",
         "0.871956585508947",
         "0.8130224373075231",
         "0.5298372513562387",
         "0.6397379912663755",
         "9.0",
         "0.8366962599396105"
        ],
        [
         "10",
         "[[1587  228]* [ 176  282]]",
         "0.5826446280991735",
         "0.8901437371663244",
         "0.8222613286405631",
         "0.5529411764705883",
         "0.6157205240174672",
         "10.0",
         "0.83441360809364"
        ],
        [
         "11",
         "[[1620  195]* [ 195  263]]",
         "0.574235807860262",
         "0.9200645350542681",
         "0.8284205895292565",
         "0.574235807860262",
         "0.574235807860262",
         "11.0",
         "0.8315342788744933"
        ],
        [
         "12",
         "[[1625  190]* [ 200  258]]",
         "0.5695364238410596",
         "0.9344382516867117",
         "0.8284205895292565",
         "0.5758928571428571",
         "0.5633187772925764",
         "12.0",
         "0.8230887677890457"
        ],
        [
         "13",
         "[[1655  160]* [ 230  228]]",
         "0.5390070921985816",
         "0.9559988266353769",
         "0.8284205895292565",
         "0.5876288659793815",
         "0.4978165938864629",
         "13.0",
         "0.8190557821165205"
        ],
        [
         "14",
         "[[1659  156]* [ 243  215]]",
         "0.5186972255729795",
         "0.9687591669111176",
         "0.8244610646722393",
         "0.5795148247978437",
         "0.46943231441048033",
         "14.0",
         "0.8117807691845007"
        ],
        [
         "15",
         "[[1689  126]* [ 253  205]]",
         "0.5196451204055766",
         "0.9775594015840422",
         "0.8332600087989441",
         "0.6193353474320241",
         "0.44759825327510916",
         "15.0",
         "0.8131684049707074"
        ]
       ],
       "shape": {
        "columns": 8,
        "rows": 15
       }
      },
      "text/html": [
       "<div>\n",
       "<style scoped>\n",
       "    .dataframe tbody tr th:only-of-type {\n",
       "        vertical-align: middle;\n",
       "    }\n",
       "\n",
       "    .dataframe tbody tr th {\n",
       "        vertical-align: top;\n",
       "    }\n",
       "\n",
       "    .dataframe thead th {\n",
       "        text-align: right;\n",
       "    }\n",
       "</style>\n",
       "<table border=\"1\" class=\"dataframe\">\n",
       "  <thead>\n",
       "    <tr style=\"text-align: right;\">\n",
       "      <th></th>\n",
       "      <th>confusion_matrix</th>\n",
       "      <th>f1_score</th>\n",
       "      <th>training_score</th>\n",
       "      <th>validation_score</th>\n",
       "      <th>recall_score</th>\n",
       "      <th>precision_score</th>\n",
       "      <th>depth</th>\n",
       "      <th>roc_auc_score</th>\n",
       "    </tr>\n",
       "    <tr>\n",
       "      <th>depth</th>\n",
       "      <th></th>\n",
       "      <th></th>\n",
       "      <th></th>\n",
       "      <th></th>\n",
       "      <th></th>\n",
       "      <th></th>\n",
       "      <th></th>\n",
       "      <th></th>\n",
       "    </tr>\n",
       "  </thead>\n",
       "  <tbody>\n",
       "    <tr>\n",
       "      <th>1</th>\n",
       "      <td>[[1427  388]* [ 154  304]]</td>\n",
       "      <td>0.528696</td>\n",
       "      <td>0.764007</td>\n",
       "      <td>0.761549</td>\n",
       "      <td>0.439306</td>\n",
       "      <td>0.663755</td>\n",
       "      <td>1.0</td>\n",
       "      <td>0.775972</td>\n",
       "    </tr>\n",
       "    <tr>\n",
       "      <th>2</th>\n",
       "      <td>[[1380  435]* [ 124  334]]</td>\n",
       "      <td>0.544417</td>\n",
       "      <td>0.75858</td>\n",
       "      <td>0.75407</td>\n",
       "      <td>0.43433</td>\n",
       "      <td>0.729258</td>\n",
       "      <td>2.0</td>\n",
       "      <td>0.805240</td>\n",
       "    </tr>\n",
       "    <tr>\n",
       "      <th>3</th>\n",
       "      <td>[[1443  372]* [ 145  313]]</td>\n",
       "      <td>0.547682</td>\n",
       "      <td>0.779994</td>\n",
       "      <td>0.772547</td>\n",
       "      <td>0.456934</td>\n",
       "      <td>0.683406</td>\n",
       "      <td>3.0</td>\n",
       "      <td>0.819862</td>\n",
       "    </tr>\n",
       "    <tr>\n",
       "      <th>4</th>\n",
       "      <td>[[1468  347]* [ 145  313]]</td>\n",
       "      <td>0.559928</td>\n",
       "      <td>0.796861</td>\n",
       "      <td>0.783546</td>\n",
       "      <td>0.474242</td>\n",
       "      <td>0.683406</td>\n",
       "      <td>4.0</td>\n",
       "      <td>0.828813</td>\n",
       "    </tr>\n",
       "    <tr>\n",
       "      <th>5</th>\n",
       "      <td>[[1498  317]* [ 150  308]]</td>\n",
       "      <td>0.56879</td>\n",
       "      <td>0.807275</td>\n",
       "      <td>0.794545</td>\n",
       "      <td>0.4928</td>\n",
       "      <td>0.672489</td>\n",
       "      <td>5.0</td>\n",
       "      <td>0.836709</td>\n",
       "    </tr>\n",
       "    <tr>\n",
       "      <th>6</th>\n",
       "      <td>[[1507  308]* [ 151  307]]</td>\n",
       "      <td>0.572227</td>\n",
       "      <td>0.820622</td>\n",
       "      <td>0.798064</td>\n",
       "      <td>0.499187</td>\n",
       "      <td>0.670306</td>\n",
       "      <td>6.0</td>\n",
       "      <td>0.833732</td>\n",
       "    </tr>\n",
       "    <tr>\n",
       "      <th>7</th>\n",
       "      <td>[[1518  297]* [ 154  304]]</td>\n",
       "      <td>0.574127</td>\n",
       "      <td>0.829862</td>\n",
       "      <td>0.801584</td>\n",
       "      <td>0.505824</td>\n",
       "      <td>0.663755</td>\n",
       "      <td>7.0</td>\n",
       "      <td>0.838639</td>\n",
       "    </tr>\n",
       "    <tr>\n",
       "      <th>8</th>\n",
       "      <td>[[1537  278]* [ 157  301]]</td>\n",
       "      <td>0.580521</td>\n",
       "      <td>0.847169</td>\n",
       "      <td>0.808623</td>\n",
       "      <td>0.519862</td>\n",
       "      <td>0.657205</td>\n",
       "      <td>8.0</td>\n",
       "      <td>0.841941</td>\n",
       "    </tr>\n",
       "    <tr>\n",
       "      <th>9</th>\n",
       "      <td>[[1555  260]* [ 165  293]]</td>\n",
       "      <td>0.579624</td>\n",
       "      <td>0.871957</td>\n",
       "      <td>0.813022</td>\n",
       "      <td>0.529837</td>\n",
       "      <td>0.639738</td>\n",
       "      <td>9.0</td>\n",
       "      <td>0.836696</td>\n",
       "    </tr>\n",
       "    <tr>\n",
       "      <th>10</th>\n",
       "      <td>[[1587  228]* [ 176  282]]</td>\n",
       "      <td>0.582645</td>\n",
       "      <td>0.890144</td>\n",
       "      <td>0.822261</td>\n",
       "      <td>0.552941</td>\n",
       "      <td>0.615721</td>\n",
       "      <td>10.0</td>\n",
       "      <td>0.834414</td>\n",
       "    </tr>\n",
       "    <tr>\n",
       "      <th>11</th>\n",
       "      <td>[[1620  195]* [ 195  263]]</td>\n",
       "      <td>0.574236</td>\n",
       "      <td>0.920065</td>\n",
       "      <td>0.828421</td>\n",
       "      <td>0.574236</td>\n",
       "      <td>0.574236</td>\n",
       "      <td>11.0</td>\n",
       "      <td>0.831534</td>\n",
       "    </tr>\n",
       "    <tr>\n",
       "      <th>12</th>\n",
       "      <td>[[1625  190]* [ 200  258]]</td>\n",
       "      <td>0.569536</td>\n",
       "      <td>0.934438</td>\n",
       "      <td>0.828421</td>\n",
       "      <td>0.575893</td>\n",
       "      <td>0.563319</td>\n",
       "      <td>12.0</td>\n",
       "      <td>0.823089</td>\n",
       "    </tr>\n",
       "    <tr>\n",
       "      <th>13</th>\n",
       "      <td>[[1655  160]* [ 230  228]]</td>\n",
       "      <td>0.539007</td>\n",
       "      <td>0.955999</td>\n",
       "      <td>0.828421</td>\n",
       "      <td>0.587629</td>\n",
       "      <td>0.497817</td>\n",
       "      <td>13.0</td>\n",
       "      <td>0.819056</td>\n",
       "    </tr>\n",
       "    <tr>\n",
       "      <th>14</th>\n",
       "      <td>[[1659  156]* [ 243  215]]</td>\n",
       "      <td>0.518697</td>\n",
       "      <td>0.968759</td>\n",
       "      <td>0.824461</td>\n",
       "      <td>0.579515</td>\n",
       "      <td>0.469432</td>\n",
       "      <td>14.0</td>\n",
       "      <td>0.811781</td>\n",
       "    </tr>\n",
       "    <tr>\n",
       "      <th>15</th>\n",
       "      <td>[[1689  126]* [ 253  205]]</td>\n",
       "      <td>0.519645</td>\n",
       "      <td>0.977559</td>\n",
       "      <td>0.83326</td>\n",
       "      <td>0.619335</td>\n",
       "      <td>0.447598</td>\n",
       "      <td>15.0</td>\n",
       "      <td>0.813168</td>\n",
       "    </tr>\n",
       "  </tbody>\n",
       "</table>\n",
       "</div>"
      ],
      "text/plain": [
       "                 confusion_matrix  f1_score training_score validation_score  \\\n",
       "depth                                                                         \n",
       "1      [[1427  388]* [ 154  304]]  0.528696       0.764007         0.761549   \n",
       "2      [[1380  435]* [ 124  334]]  0.544417        0.75858          0.75407   \n",
       "3      [[1443  372]* [ 145  313]]  0.547682       0.779994         0.772547   \n",
       "4      [[1468  347]* [ 145  313]]  0.559928       0.796861         0.783546   \n",
       "5      [[1498  317]* [ 150  308]]   0.56879       0.807275         0.794545   \n",
       "6      [[1507  308]* [ 151  307]]  0.572227       0.820622         0.798064   \n",
       "7      [[1518  297]* [ 154  304]]  0.574127       0.829862         0.801584   \n",
       "8      [[1537  278]* [ 157  301]]  0.580521       0.847169         0.808623   \n",
       "9      [[1555  260]* [ 165  293]]  0.579624       0.871957         0.813022   \n",
       "10     [[1587  228]* [ 176  282]]  0.582645       0.890144         0.822261   \n",
       "11     [[1620  195]* [ 195  263]]  0.574236       0.920065         0.828421   \n",
       "12     [[1625  190]* [ 200  258]]  0.569536       0.934438         0.828421   \n",
       "13     [[1655  160]* [ 230  228]]  0.539007       0.955999         0.828421   \n",
       "14     [[1659  156]* [ 243  215]]  0.518697       0.968759         0.824461   \n",
       "15     [[1689  126]* [ 253  205]]  0.519645       0.977559          0.83326   \n",
       "\n",
       "      recall_score precision_score  depth  roc_auc_score  \n",
       "depth                                                     \n",
       "1         0.439306        0.663755    1.0       0.775972  \n",
       "2          0.43433        0.729258    2.0       0.805240  \n",
       "3         0.456934        0.683406    3.0       0.819862  \n",
       "4         0.474242        0.683406    4.0       0.828813  \n",
       "5           0.4928        0.672489    5.0       0.836709  \n",
       "6         0.499187        0.670306    6.0       0.833732  \n",
       "7         0.505824        0.663755    7.0       0.838639  \n",
       "8         0.519862        0.657205    8.0       0.841941  \n",
       "9         0.529837        0.639738    9.0       0.836696  \n",
       "10        0.552941        0.615721   10.0       0.834414  \n",
       "11        0.574236        0.574236   11.0       0.831534  \n",
       "12        0.575893        0.563319   12.0       0.823089  \n",
       "13        0.587629        0.497817   13.0       0.819056  \n",
       "14        0.579515        0.469432   14.0       0.811781  \n",
       "15        0.619335        0.447598   15.0       0.813168  "
      ]
     },
     "execution_count": 54,
     "metadata": {},
     "output_type": "execute_result"
    }
   ],
   "source": [
    "random_forest_results = pd.DataFrame(columns=['depth', 'confusion_matrix', 'f1_score', 'training_score', 'validation_score', 'recall_score', 'precision_score'])\n",
    "random_forest_results.set_index('depth', inplace=True)\n",
    "n=1\n",
    "for depth in range(1, 16):\n",
    "    model = RandomForestClassifier(random_state=12345, max_depth=depth, n_estimators=20,  class_weight='balanced')\n",
    "    model.fit(X_train_processed, y_train)\n",
    "\n",
    "    predicted_values = model.predict(X_test_processed)\n",
    "\n",
    "    random_forest_results.loc[n, 'depth'] = depth \n",
    "    random_forest_results.loc[n, 'confusion_matrix'] = str(confusion_matrix(y_test, predicted_values)).replace('\\n', '*')\n",
    "    random_forest_results.loc[n, 'f1_score'] = f1_score(y_test, predicted_values)\n",
    "    random_forest_results.loc[n, 'training_score'] = model.score(X_train_processed, y_train)\n",
    "    random_forest_results.loc[n, 'validation_score'] = model.score(X_test_processed, y_test)\n",
    "    random_forest_results.loc[n, 'recall_score'] = recall_score(predicted_values, y_test)\n",
    "    \n",
    "    random_forest_results.loc[n, 'roc_auc_score'] = roc_auc_score(y_test, model.predict_proba(X_test_processed)[:, 1])      \n",
    "    random_forest_results.loc[n, 'precision_score'] = precision_score(predicted_values, y_test)\n",
    "\n",
    "    n +=1 \n",
    "\n",
    "random_forest_results"
   ]
  },
  {
   "cell_type": "code",
   "execution_count": 55,
   "metadata": {},
   "outputs": [
    {
     "data": {
      "text/plain": [
       "<Axes: title={'center': 'ROC-AUC Score vs Depth of Random Forest'}, xlabel='depth'>"
      ]
     },
     "execution_count": 55,
     "metadata": {},
     "output_type": "execute_result"
    },
    {
     "data": {
      "image/png": "[encoded data removed]",
      "text/plain": [
       "<Figure size 640x480 with 1 Axes>"
      ]
     },
     "metadata": {},
     "output_type": "display_data"
    }
   ],
   "source": [
    "random_forest_results.plot(x='depth', y='roc_auc_score', kind='line', title='ROC-AUC Score vs Depth of Random Forest')"
   ]
  },
  {
   "cell_type": "code",
   "execution_count": 56,
   "metadata": {},
   "outputs": [
    {
     "data": {
      "application/vnd.microsoft.datawrangler.viewer.v0+json": {
       "columns": [
        {
         "name": "index",
         "rawType": "object",
         "type": "string"
        },
        {
         "name": "8",
         "rawType": "object",
         "type": "unknown"
        }
       ],
       "ref": "a49b2440-5d59-40c4-be77-4241ead82306",
       "rows": [
        [
         "confusion_matrix",
         "[[1537  278]* [ 157  301]]"
        ],
        [
         "f1_score",
         "0.5805207328833173"
        ],
        [
         "training_score",
         "0.8471692578468759"
        ],
        [
         "validation_score",
         "0.8086229652441707"
        ],
        [
         "recall_score",
         "0.5198618307426598"
        ],
        [
         "precision_score",
         "0.6572052401746725"
        ],
        [
         "depth",
         "8.0"
        ],
        [
         "roc_auc_score",
         "0.8419412465263993"
        ]
       ],
       "shape": {
        "columns": 1,
        "rows": 8
       }
      },
      "text/plain": [
       "confusion_matrix    [[1537  278]* [ 157  301]]\n",
       "f1_score                              0.580521\n",
       "training_score                        0.847169\n",
       "validation_score                      0.808623\n",
       "recall_score                          0.519862\n",
       "precision_score                       0.657205\n",
       "depth                                      8.0\n",
       "roc_auc_score                         0.841941\n",
       "Name: 8, dtype: object"
      ]
     },
     "execution_count": 56,
     "metadata": {},
     "output_type": "execute_result"
    }
   ],
   "source": [
    "best_model_i = int(random_forest_results['roc_auc_score'].idxmax())\n",
    "best_model = random_forest_results.loc[best_model_i]  \n",
    "best_model"
   ]
  },
  {
   "cell_type": "code",
   "execution_count": 57,
   "metadata": {},
   "outputs": [
    {
     "data": {
      "text/plain": [
       "Text(0, 0.5, 'TPR')"
      ]
     },
     "execution_count": 57,
     "metadata": {},
     "output_type": "execute_result"
    },
    {
     "data": {
      "image/png": "[encoded data removed]",
      "text/plain": [
       "<Figure size 640x480 with 1 Axes>"
      ]
     },
     "metadata": {},
     "output_type": "display_data"
    }
   ],
   "source": [
    "best_depth = int(best_model['depth'])\n",
    "best_forest = RandomForestClassifier(random_state=12345, max_depth=best_depth, n_estimators=20, class_weight='balanced')\n",
    "\n",
    "best_forest.fit(X_train_processed, y_train)\n",
    "probabilities = best_forest.predict_proba(X_test_processed)[:, 1]\n",
    "\n",
    "fpr, tpr, threshold= roc_curve(y_test, probabilities)\n",
    "roc_auc = roc_auc_score(y_test, probabilities)\n",
    "\n",
    "plt.figure()\n",
    "plt.plot(fpr, tpr)\n",
    "plt.plot([0,1],[0,1], linestyle='--')\n",
    "plt.title(f'ROC plot (ROC-AUC = {roc_auc})')\n",
    "plt.xlabel('FPR')\n",
    "plt.ylabel('TPR')"
   ]
  },
  {
   "cell_type": "markdown",
   "metadata": {},
   "source": [
    "#### Logistic regression"
   ]
  },
  {
   "cell_type": "code",
   "execution_count": 58,
   "metadata": {},
   "outputs": [
    {
     "data": {
      "application/vnd.microsoft.datawrangler.viewer.v0+json": {
       "columns": [
        {
         "name": "index",
         "rawType": "int64",
         "type": "integer"
        },
        {
         "name": "threshold",
         "rawType": "object",
         "type": "unknown"
        },
        {
         "name": "recall_score",
         "rawType": "object",
         "type": "unknown"
        },
        {
         "name": "precision_score",
         "rawType": "object",
         "type": "unknown"
        },
        {
         "name": "f1_score",
         "rawType": "object",
         "type": "unknown"
        },
        {
         "name": "confusion_matrix",
         "rawType": "object",
         "type": "string"
        },
        {
         "name": "training_score",
         "rawType": "object",
         "type": "unknown"
        },
        {
         "name": "validation_score",
         "rawType": "object",
         "type": "unknown"
        }
       ],
       "ref": "5efc1209-f668-4cae-867d-aae72d7bd22a",
       "rows": [
        [
         "0",
         "0.0",
         "0.2014958205015398",
         "1.0",
         "0.33540827535701206",
         "[[   0 1815]* [   0  458]]",
         "0.7142857142857143",
         "0.7021557413110426"
        ],
        [
         "1",
         "0.01",
         "0.2014958205015398",
         "1.0",
         "0.33540827535701206",
         "[[   0 1815]* [   0  458]]",
         "0.7142857142857143",
         "0.7021557413110426"
        ],
        [
         "2",
         "0.02",
         "0.2014958205015398",
         "1.0",
         "0.33540827535701206",
         "[[   0 1815]* [   0  458]]",
         "0.7142857142857143",
         "0.7021557413110426"
        ],
        [
         "3",
         "0.03",
         "0.2014958205015398",
         "1.0",
         "0.33540827535701206",
         "[[   0 1815]* [   0  458]]",
         "0.7142857142857143",
         "0.7021557413110426"
        ],
        [
         "4",
         "0.04",
         "0.2014958205015398",
         "1.0",
         "0.33540827535701206",
         "[[   0 1815]* [   0  458]]",
         "0.7142857142857143",
         "0.7021557413110426"
        ],
        [
         "5",
         "0.05",
         "0.2014958205015398",
         "1.0",
         "0.33540827535701206",
         "[[   0 1815]* [   0  458]]",
         "0.7142857142857143",
         "0.7021557413110426"
        ],
        [
         "6",
         "0.06",
         "0.2014958205015398",
         "1.0",
         "0.33540827535701206",
         "[[   0 1815]* [   0  458]]",
         "0.7142857142857143",
         "0.7021557413110426"
        ],
        [
         "7",
         "0.07",
         "0.20141031291317762",
         "0.9978165938864629",
         "0.3351668500183352",
         "[[   3 1812]* [   1  457]]",
         "0.7142857142857143",
         "0.7021557413110426"
        ],
        [
         "8",
         "0.08",
         "0.20149911816578484",
         "0.9978165938864629",
         "0.33528980190755686",
         "[[   4 1811]* [   1  457]]",
         "0.7142857142857143",
         "0.7021557413110426"
        ],
        [
         "9",
         "0.09",
         "0.20185512367491165",
         "0.9978165938864629",
         "0.3357825128581925",
         "[[   8 1807]* [   1  457]]",
         "0.7142857142857143",
         "0.7021557413110426"
        ],
        [
         "10",
         "0.1",
         "0.20203810367744793",
         "0.9956331877729258",
         "0.33591160220994476",
         "[[  14 1801]* [   2  456]]",
         "0.7142857142857143",
         "0.7021557413110426"
        ],
        [
         "11",
         "0.11",
         "0.20275678079146287",
         "0.9956331877729258",
         "0.3369043221278168",
         "[[  22 1793]* [   2  456]]",
         "0.7142857142857143",
         "0.7021557413110426"
        ],
        [
         "12",
         "0.12",
         "0.20411817367949867",
         "0.9956331877729258",
         "0.3387815750371471",
         "[[  37 1778]* [   2  456]]",
         "0.7142857142857143",
         "0.7021557413110426"
        ],
        [
         "13",
         "0.13",
         "0.20605512878445548",
         "0.9956331877729258",
         "0.3414451516286035",
         "[[  58 1757]* [   2  456]]",
         "0.7142857142857143",
         "0.7021557413110426"
        ],
        [
         "14",
         "0.14",
         "0.20664542558033683",
         "0.9912663755458515",
         "0.34199623352165726",
         "[[  72 1743]* [   4  454]]",
         "0.7142857142857143",
         "0.7021557413110426"
        ],
        [
         "15",
         "0.15",
         "0.20885200553250347",
         "0.9890829694323144",
         "0.3448800913589646",
         "[[  99 1716]* [   5  453]]",
         "0.7142857142857143",
         "0.7021557413110426"
        ],
        [
         "16",
         "0.16",
         "0.21062441752096925",
         "0.9868995633187773",
         "0.34715821812596004",
         "[[ 121 1694]* [   6  452]]",
         "0.7142857142857143",
         "0.7021557413110426"
        ],
        [
         "17",
         "0.17",
         "0.21223529411764705",
         "0.9847161572052402",
         "0.3492063492063492",
         "[[ 141 1674]* [   7  451]]",
         "0.7142857142857143",
         "0.7021557413110426"
        ],
        [
         "18",
         "0.18",
         "0.2146621945376138",
         "0.9781659388646288",
         "0.3520628683693517",
         "[[ 176 1639]* [  10  448]]",
         "0.7142857142857143",
         "0.7021557413110426"
        ],
        [
         "19",
         "0.19",
         "0.21671525753158405",
         "0.9737991266375546",
         "0.35453100158982515",
         "[[ 203 1612]* [  12  446]]",
         "0.7142857142857143",
         "0.7021557413110426"
        ],
        [
         "20",
         "0.2",
         "0.22013820335636722",
         "0.9737991266375546",
         "0.35909822866344604",
         "[[ 235 1580]* [  12  446]]",
         "0.7142857142857143",
         "0.7021557413110426"
        ],
        [
         "21",
         "0.21",
         "0.22267002518891688",
         "0.9650655021834061",
         "0.3618501841997544",
         "[[ 272 1543]* [  16  442]]",
         "0.7142857142857143",
         "0.7021557413110426"
        ],
        [
         "22",
         "0.22",
         "0.22519280205655526",
         "0.9563318777292577",
         "0.3645443196004994",
         "[[ 308 1507]* [  20  438]]",
         "0.7142857142857143",
         "0.7021557413110426"
        ],
        [
         "23",
         "0.23",
         "0.2291886195995785",
         "0.9497816593886463",
         "0.3692699490662139",
         "[[ 352 1463]* [  23  435]]",
         "0.7142857142857143",
         "0.7021557413110426"
        ],
        [
         "24",
         "0.24",
         "0.23363980530016226",
         "0.9432314410480349",
         "0.37451235370611186",
         "[[ 398 1417]* [  26  432]]",
         "0.7142857142857143",
         "0.7021557413110426"
        ],
        [
         "25",
         "0.25",
         "0.23756906077348067",
         "0.9388646288209607",
         "0.37918871252204583",
         "[[ 435 1380]* [  28  430]]",
         "0.7142857142857143",
         "0.7021557413110426"
        ],
        [
         "26",
         "0.26",
         "0.24124293785310735",
         "0.9323144104803494",
         "0.38330341113105926",
         "[[ 472 1343]* [  31  427]]",
         "0.7142857142857143",
         "0.7021557413110426"
        ],
        [
         "27",
         "0.27",
         "0.2449334105385061",
         "0.9235807860262009",
         "0.3871853546910755",
         "[[ 511 1304]* [  35  423]]",
         "0.7142857142857143",
         "0.7021557413110426"
        ],
        [
         "28",
         "0.28",
         "0.24941037735849056",
         "0.9235807860262009",
         "0.39275766016713093",
         "[[ 542 1273]* [  35  423]]",
         "0.7142857142857143",
         "0.7021557413110426"
        ],
        [
         "29",
         "0.29",
         "0.25271411338962607",
         "0.9148471615720524",
         "0.3960302457466919",
         "[[ 576 1239]* [  39  419]]",
         "0.7142857142857143",
         "0.7021557413110426"
        ],
        [
         "30",
         "0.3",
         "0.25696594427244585",
         "0.9061135371179039",
         "0.4003859141341052",
         "[[ 615 1200]* [  43  415]]",
         "0.7142857142857143",
         "0.7021557413110426"
        ],
        [
         "31",
         "0.31",
         "0.26095238095238094",
         "0.8973799126637555",
         "0.40432857845548453",
         "[[ 651 1164]* [  47  411]]",
         "0.7142857142857143",
         "0.7021557413110426"
        ],
        [
         "32",
         "0.32",
         "0.265625",
         "0.8908296943231441",
         "0.4092276830491474",
         "[[ 687 1128]* [  50  408]]",
         "0.7142857142857143",
         "0.7021557413110426"
        ],
        [
         "33",
         "0.33",
         "0.2698201199200533",
         "0.8842794759825328",
         "0.41347626339969373",
         "[[ 719 1096]* [  53  405]]",
         "0.7142857142857143",
         "0.7021557413110426"
        ],
        [
         "34",
         "0.34",
         "0.273474982864976",
         "0.87117903930131",
         "0.4162754303599374",
         "[[ 755 1060]* [  59  399]]",
         "0.7142857142857143",
         "0.7021557413110426"
        ],
        [
         "35",
         "0.35000000000000003",
         "0.28011404133998574",
         "0.8580786026200873",
         "0.42235357334766255",
         "[[ 805 1010]* [  65  393]]",
         "0.7142857142857143",
         "0.7021557413110426"
        ],
        [
         "36",
         "0.36",
         "0.28750923872875095",
         "0.8493449781659389",
         "0.4295969077857537",
         "[[851 964]* [ 69 389]]",
         "0.7142857142857143",
         "0.7021557413110426"
        ],
        [
         "37",
         "0.37",
         "0.2926829268292683",
         "0.8384279475982532",
         "0.43389830508474575",
         "[[887 928]* [ 74 384]]",
         "0.7142857142857143",
         "0.7021557413110426"
        ],
        [
         "38",
         "0.38",
         "0.300314465408805",
         "0.834061135371179",
         "0.4416184971098266",
         "[[925 890]* [ 76 382]]",
         "0.7142857142857143",
         "0.7021557413110426"
        ],
        [
         "39",
         "0.39",
         "0.3061389337641357",
         "0.8275109170305677",
         "0.44693396226415094",
         "[[956 859]* [ 79 379]]",
         "0.7142857142857143",
         "0.7021557413110426"
        ],
        [
         "40",
         "0.4",
         "0.3143336127409891",
         "0.8187772925764192",
         "0.4542701393095094",
         "[[997 818]* [ 83 375]]",
         "0.7142857142857143",
         "0.7021557413110426"
        ],
        [
         "41",
         "0.41000000000000003",
         "0.32458442694663164",
         "0.8100436681222707",
         "0.4634603372891943",
         "[[1043  772]* [  87  371]]",
         "0.7142857142857143",
         "0.7021557413110426"
        ],
        [
         "42",
         "0.42",
         "0.33212669683257917",
         "0.8013100436681223",
         "0.4696097248880358",
         "[[1077  738]* [  91  367]]",
         "0.7142857142857143",
         "0.7021557413110426"
        ],
        [
         "43",
         "0.43",
         "0.33863423760523853",
         "0.7903930131004366",
         "0.47413228552717746",
         "[[1108  707]* [  96  362]]",
         "0.7142857142857143",
         "0.7021557413110426"
        ],
        [
         "44",
         "0.44",
         "0.3446601941747573",
         "0.7751091703056768",
         "0.4771505376344086",
         "[[1140  675]* [ 103  355]]",
         "0.7142857142857143",
         "0.7021557413110426"
        ],
        [
         "45",
         "0.45",
         "0.3505050505050505",
         "0.75764192139738",
         "0.47928176795580113",
         "[[1172  643]* [ 111  347]]",
         "0.7142857142857143",
         "0.7021557413110426"
        ],
        [
         "46",
         "0.46",
         "0.35436382754994744",
         "0.7358078602620087",
         "0.47835344215755854",
         "[[1201  614]* [ 121  337]]",
         "0.7142857142857143",
         "0.7021557413110426"
        ],
        [
         "47",
         "0.47000000000000003",
         "0.3611713665943601",
         "0.7270742358078602",
         "0.4826086956521739",
         "[[1226  589]* [ 125  333]]",
         "0.7142857142857143",
         "0.7021557413110426"
        ],
        [
         "48",
         "0.48",
         "0.36711711711711714",
         "0.7117903930131004",
         "0.48439821693907875",
         "[[1253  562]* [ 132  326]]",
         "0.7142857142857143",
         "0.7021557413110426"
        ],
        [
         "49",
         "0.49",
         "0.3616279069767442",
         "0.6790393013100436",
         "0.47192716236722304",
         "[[1266  549]* [ 147  311]]",
         "0.7142857142857143",
         "0.7021557413110426"
        ]
       ],
       "shape": {
        "columns": 7,
        "rows": 75
       }
      },
      "text/html": [
       "<div>\n",
       "<style scoped>\n",
       "    .dataframe tbody tr th:only-of-type {\n",
       "        vertical-align: middle;\n",
       "    }\n",
       "\n",
       "    .dataframe tbody tr th {\n",
       "        vertical-align: top;\n",
       "    }\n",
       "\n",
       "    .dataframe thead th {\n",
       "        text-align: right;\n",
       "    }\n",
       "</style>\n",
       "<table border=\"1\" class=\"dataframe\">\n",
       "  <thead>\n",
       "    <tr style=\"text-align: right;\">\n",
       "      <th></th>\n",
       "      <th>threshold</th>\n",
       "      <th>recall_score</th>\n",
       "      <th>precision_score</th>\n",
       "      <th>f1_score</th>\n",
       "      <th>confusion_matrix</th>\n",
       "      <th>training_score</th>\n",
       "      <th>validation_score</th>\n",
       "    </tr>\n",
       "  </thead>\n",
       "  <tbody>\n",
       "    <tr>\n",
       "      <th>0</th>\n",
       "      <td>0.0</td>\n",
       "      <td>0.201496</td>\n",
       "      <td>1.0</td>\n",
       "      <td>0.335408</td>\n",
       "      <td>[[   0 1815]* [   0  458]]</td>\n",
       "      <td>0.714286</td>\n",
       "      <td>0.702156</td>\n",
       "    </tr>\n",
       "    <tr>\n",
       "      <th>1</th>\n",
       "      <td>0.01</td>\n",
       "      <td>0.201496</td>\n",
       "      <td>1.0</td>\n",
       "      <td>0.335408</td>\n",
       "      <td>[[   0 1815]* [   0  458]]</td>\n",
       "      <td>0.714286</td>\n",
       "      <td>0.702156</td>\n",
       "    </tr>\n",
       "    <tr>\n",
       "      <th>2</th>\n",
       "      <td>0.02</td>\n",
       "      <td>0.201496</td>\n",
       "      <td>1.0</td>\n",
       "      <td>0.335408</td>\n",
       "      <td>[[   0 1815]* [   0  458]]</td>\n",
       "      <td>0.714286</td>\n",
       "      <td>0.702156</td>\n",
       "    </tr>\n",
       "    <tr>\n",
       "      <th>3</th>\n",
       "      <td>0.03</td>\n",
       "      <td>0.201496</td>\n",
       "      <td>1.0</td>\n",
       "      <td>0.335408</td>\n",
       "      <td>[[   0 1815]* [   0  458]]</td>\n",
       "      <td>0.714286</td>\n",
       "      <td>0.702156</td>\n",
       "    </tr>\n",
       "    <tr>\n",
       "      <th>4</th>\n",
       "      <td>0.04</td>\n",
       "      <td>0.201496</td>\n",
       "      <td>1.0</td>\n",
       "      <td>0.335408</td>\n",
       "      <td>[[   0 1815]* [   0  458]]</td>\n",
       "      <td>0.714286</td>\n",
       "      <td>0.702156</td>\n",
       "    </tr>\n",
       "    <tr>\n",
       "      <th>...</th>\n",
       "      <td>...</td>\n",
       "      <td>...</td>\n",
       "      <td>...</td>\n",
       "      <td>...</td>\n",
       "      <td>...</td>\n",
       "      <td>...</td>\n",
       "      <td>...</td>\n",
       "    </tr>\n",
       "    <tr>\n",
       "      <th>70</th>\n",
       "      <td>0.7</td>\n",
       "      <td>0.445483</td>\n",
       "      <td>0.312227</td>\n",
       "      <td>0.367137</td>\n",
       "      <td>[[1637  178]* [ 315  143]]</td>\n",
       "      <td>0.714286</td>\n",
       "      <td>0.702156</td>\n",
       "    </tr>\n",
       "    <tr>\n",
       "      <th>71</th>\n",
       "      <td>0.71</td>\n",
       "      <td>0.445183</td>\n",
       "      <td>0.292576</td>\n",
       "      <td>0.353096</td>\n",
       "      <td>[[1648  167]* [ 324  134]]</td>\n",
       "      <td>0.714286</td>\n",
       "      <td>0.702156</td>\n",
       "    </tr>\n",
       "    <tr>\n",
       "      <th>72</th>\n",
       "      <td>0.72</td>\n",
       "      <td>0.459364</td>\n",
       "      <td>0.283843</td>\n",
       "      <td>0.350877</td>\n",
       "      <td>[[1662  153]* [ 328  130]]</td>\n",
       "      <td>0.714286</td>\n",
       "      <td>0.702156</td>\n",
       "    </tr>\n",
       "    <tr>\n",
       "      <th>73</th>\n",
       "      <td>0.73</td>\n",
       "      <td>0.456604</td>\n",
       "      <td>0.264192</td>\n",
       "      <td>0.334716</td>\n",
       "      <td>[[1671  144]* [ 337  121]]</td>\n",
       "      <td>0.714286</td>\n",
       "      <td>0.702156</td>\n",
       "    </tr>\n",
       "    <tr>\n",
       "      <th>74</th>\n",
       "      <td>0.74</td>\n",
       "      <td>0.479675</td>\n",
       "      <td>0.257642</td>\n",
       "      <td>0.335227</td>\n",
       "      <td>[[1687  128]* [ 340  118]]</td>\n",
       "      <td>0.714286</td>\n",
       "      <td>0.702156</td>\n",
       "    </tr>\n",
       "  </tbody>\n",
       "</table>\n",
       "<p>75 rows × 7 columns</p>\n",
       "</div>"
      ],
      "text/plain": [
       "   threshold recall_score precision_score  f1_score  \\\n",
       "0        0.0     0.201496             1.0  0.335408   \n",
       "1       0.01     0.201496             1.0  0.335408   \n",
       "2       0.02     0.201496             1.0  0.335408   \n",
       "3       0.03     0.201496             1.0  0.335408   \n",
       "4       0.04     0.201496             1.0  0.335408   \n",
       "..       ...          ...             ...       ...   \n",
       "70       0.7     0.445483        0.312227  0.367137   \n",
       "71      0.71     0.445183        0.292576  0.353096   \n",
       "72      0.72     0.459364        0.283843  0.350877   \n",
       "73      0.73     0.456604        0.264192  0.334716   \n",
       "74      0.74     0.479675        0.257642  0.335227   \n",
       "\n",
       "              confusion_matrix training_score validation_score  \n",
       "0   [[   0 1815]* [   0  458]]       0.714286         0.702156  \n",
       "1   [[   0 1815]* [   0  458]]       0.714286         0.702156  \n",
       "2   [[   0 1815]* [   0  458]]       0.714286         0.702156  \n",
       "3   [[   0 1815]* [   0  458]]       0.714286         0.702156  \n",
       "4   [[   0 1815]* [   0  458]]       0.714286         0.702156  \n",
       "..                         ...            ...              ...  \n",
       "70  [[1637  178]* [ 315  143]]       0.714286         0.702156  \n",
       "71  [[1648  167]* [ 324  134]]       0.714286         0.702156  \n",
       "72  [[1662  153]* [ 328  130]]       0.714286         0.702156  \n",
       "73  [[1671  144]* [ 337  121]]       0.714286         0.702156  \n",
       "74  [[1687  128]* [ 340  118]]       0.714286         0.702156  \n",
       "\n",
       "[75 rows x 7 columns]"
      ]
     },
     "execution_count": 58,
     "metadata": {},
     "output_type": "execute_result"
    }
   ],
   "source": [
    "model = LogisticRegression(random_state=12345,  class_weight='balanced')\n",
    "model.fit(X_train_processed, y_train)\n",
    "\n",
    "y_probabilities = model.predict_proba(X_test_processed)[:,1]\n",
    "\n",
    "\n",
    "logistic_regression_results = pd.DataFrame(columns=['threshold', 'recall_score', 'precision_score', 'f1_score', 'confusion_matrix', 'training_score', 'validation_score'])\n",
    "n=0\n",
    "\n",
    "for threshold in np.arange(0, 0.75, 0.01):\n",
    "    predicted_values = y_probabilities > threshold\n",
    "\n",
    "    logistic_regression_results.loc[n, 'threshold'] = threshold \n",
    "    logistic_regression_results.loc[n, 'confusion_matrix'] = str(confusion_matrix(y_test, predicted_values)).replace('\\n', '*')\n",
    "    logistic_regression_results.loc[n, 'f1_score'] = f1_score(y_test, predicted_values)\n",
    "    logistic_regression_results.loc[n, 'training_score'] = model.score(X_train_processed, y_train)\n",
    "    logistic_regression_results.loc[n, 'validation_score'] = model.score(X_test_processed, y_test)\n",
    "    logistic_regression_results.loc[n, 'recall_score'] = recall_score(predicted_values, y_test)\n",
    "    logistic_regression_results.loc[n, 'precision_score'] = precision_score(predicted_values, y_test)\n",
    "    n += 1\n",
    "    \n",
    "logistic_regression_results\n",
    "\n"
   ]
  },
  {
   "cell_type": "code",
   "execution_count": 59,
   "metadata": {},
   "outputs": [
    {
     "data": {
      "text/plain": [
       "Text(0.5, 1.0, 'ROC plot (ROC-AUC = 0.7401073056888857)')"
      ]
     },
     "execution_count": 59,
     "metadata": {},
     "output_type": "execute_result"
    },
    {
     "data": {
      "image/png": "[encoded data removed]",
      "text/plain": [
       "<Figure size 640x480 with 1 Axes>"
      ]
     },
     "metadata": {},
     "output_type": "display_data"
    }
   ],
   "source": [
    "best_log_model_i = int(logistic_regression_results['f1_score'].idxmax())\n",
    "best_log_model = logistic_regression_results.iloc[best_log_model_i]\n",
    "\n",
    "best_log_threshold = best_log_model['threshold']\n",
    "\n",
    "predicted_values = y_probabilities > best_log_threshold\n",
    "\n",
    "fpr, tpr, threshold = roc_curve(y_test, y_probabilities)\n",
    "roc_auc = roc_auc_score(y_test, y_probabilities)\n",
    "\n",
    "\n",
    "plt.figure()\n",
    "plt.plot(fpr, tpr)\n",
    "plt.plot([0,1], [0,1], linestyle='--')\n",
    "plt.title(f'ROC plot (ROC-AUC = {roc_auc})')"
   ]
  },
  {
   "cell_type": "markdown",
   "metadata": {},
   "source": [
    "## Balancing"
   ]
  },
  {
   "cell_type": "markdown",
   "metadata": {},
   "source": [
    "### Downsampling"
   ]
  },
  {
   "cell_type": "code",
   "execution_count": 60,
   "metadata": {},
   "outputs": [],
   "source": [
    "def downsampling(features, target, fraction)->list|None:\n",
    "    features_ones = features[target==1] \n",
    "    features_zeros = features[target==0] \n",
    "    target_zeros = target[target==0]\n",
    "    target_ones = target[target==1]\n",
    "    \n",
    "    features_zeros_sample = features_zeros.sample(frac = fraction, random_state=12345)\n",
    "    target_zeros_sample = target_zeros.sample(frac=fraction, random_state=12345)\n",
    "    downsized_features = pd.concat([features_zeros_sample]+[features_ones])\n",
    "    downsized_target = pd.concat([target_zeros_sample]+[target_ones])\n",
    "    return shuffle(downsized_features, downsized_target, random_state=12345)\n",
    "    "
   ]
  },
  {
   "cell_type": "code",
   "execution_count": 61,
   "metadata": {},
   "outputs": [
    {
     "name": "stdout",
     "output_type": "stream",
     "text": [
      "Exited\n",
      "1    1396\n",
      "0    1356\n",
      "Name: count, dtype: int64\n",
      "(2752, 10)\n"
     ]
    }
   ],
   "source": [
    "X_balanced, y_balanced = downsampling(X_train, y_train, 0.25)\n",
    "print(y_balanced.value_counts())\n",
    "print(X_balanced.shape)"
   ]
  },
  {
   "cell_type": "code",
   "execution_count": 62,
   "metadata": {},
   "outputs": [],
   "source": [
    "X_train_down, y_train_down,  = X_balanced,  y_balanced"
   ]
  },
  {
   "cell_type": "code",
   "execution_count": 63,
   "metadata": {},
   "outputs": [],
   "source": [
    "encoder = OneHotEncoder(drop='first', handle_unknown='ignore', sparse_output=False)  # Initialize OneHotEncoder with options to handle unknown categories and output as dense array\n",
    "encoder.fit(X_train_down[categorical_columns])\n",
    "\n",
    "X_train_enc_down = encoder.transform(X_train_down[categorical_columns])\n",
    "X_test_enc_down = encoder.transform(X_test[categorical_columns])"
   ]
  },
  {
   "cell_type": "code",
   "execution_count": 64,
   "metadata": {},
   "outputs": [],
   "source": [
    "scaler = StandardScaler()\n",
    "scaler.fit(X_train_down[numeric_columns])\n",
    "X_train_scaled_down = scaler.transform(X_train_down[numeric_columns])\n",
    "X_test_scaled_down = scaler.transform(X_test[numeric_columns])"
   ]
  },
  {
   "cell_type": "code",
   "execution_count": 65,
   "metadata": {},
   "outputs": [],
   "source": [
    "X_train_processed_down = np.hstack((X_train_enc_down, X_train_scaled_down))\n",
    "X_test_processed_down = np.hstack((X_test_enc_down, X_test_scaled_down))"
   ]
  },
  {
   "cell_type": "markdown",
   "metadata": {},
   "source": [
    "#### Models"
   ]
  },
  {
   "cell_type": "markdown",
   "metadata": {},
   "source": [
    "##### Random Forest Classifier"
   ]
  },
  {
   "cell_type": "code",
   "execution_count": null,
   "metadata": {},
   "outputs": [
    {
     "data": {
      "application/vnd.microsoft.datawrangler.viewer.v0+json": {
       "columns": [
        {
         "name": "index",
         "rawType": "int64",
         "type": "integer"
        },
        {
         "name": "max_depth",
         "rawType": "object",
         "type": "unknown"
        },
        {
         "name": "confusion_matrix",
         "rawType": "object",
         "type": "string"
        },
        {
         "name": "f1_score",
         "rawType": "object",
         "type": "unknown"
        },
        {
         "name": "training_score",
         "rawType": "object",
         "type": "unknown"
        },
        {
         "name": "validation_score",
         "rawType": "object",
         "type": "unknown"
        },
        {
         "name": "recall_score",
         "rawType": "object",
         "type": "unknown"
        },
        {
         "name": "precision_score",
         "rawType": "object",
         "type": "unknown"
        },
        {
         "name": "roc_auc_score",
         "rawType": "float64",
         "type": "float"
        }
       ],
       "ref": "cdf80909-a063-46e5-aadd-c59ebce871d7",
       "rows": [
        [
         "1",
         "1",
         "[[1351  464]* [ 153  305]]",
         "0.4971475142624287",
         "0.7071220930232558",
         "0.7285525736911571",
         "0.3966189856957087",
         "0.665938864628821",
         "0.7705312353386986"
        ],
        [
         "2",
         "2",
         "[[1366  449]* [ 148  310]]",
         "0.5094494658997535",
         "0.7249273255813954",
         "0.7373515178178619",
         "0.40843214756258234",
         "0.6768558951965066",
         "0.7925283000709756"
        ],
        [
         "3",
         "3",
         "[[1360  455]* [ 126  332]]",
         "0.5333333333333333",
         "0.7569040697674418",
         "0.7443906731192257",
         "0.4218551461245235",
         "0.7248908296943232",
         "0.8155226340418877"
        ],
        [
         "4",
         "4",
         "[[1460  355]* [ 140  318]]",
         "0.5623342175066313",
         "0.765625",
         "0.7822261328640563",
         "0.4725111441307578",
         "0.6943231441048034",
         "0.8223856268119865"
        ],
        [
         "5",
         "5",
         "[[1439  376]* [ 133  325]]",
         "0.5608283002588438",
         "0.7896075581395349",
         "0.776066871975363",
         "0.463623395149786",
         "0.7096069868995634",
         "0.8344280438365392"
        ],
        [
         "6",
         "6",
         "[[1432  383]* [ 130  328]]",
         "0.561163387510693",
         "0.8015988372093024",
         "0.774307083150022",
         "0.4613220815752461",
         "0.7161572052401747",
         "0.83161367546044"
        ],
        [
         "7",
         "7",
         "[[1445  370]* [ 135  323]]",
         "0.5612510860121633",
         "0.8172238372093024",
         "0.777826660800704",
         "0.4660894660894661",
         "0.7052401746724891",
         "0.8385247873735369"
        ],
        [
         "8",
         "8",
         "[[1443  372]* [ 131  327]]",
         "0.5652549697493517",
         "0.845203488372093",
         "0.7787065552133744",
         "0.4678111587982833",
         "0.7139737991266376",
         "0.8373067715663983"
        ],
        [
         "9",
         "9",
         "[[1436  379]* [ 126  332]]",
         "0.5680068434559452",
         "0.8742732558139535",
         "0.777826660800704",
         "0.4669479606188467",
         "0.7248908296943232",
         "0.8352929854319293"
        ],
        [
         "10",
         "10",
         "[[1430  385]* [ 126  332]]",
         "0.5651063829787234",
         "0.9029796511627907",
         "0.7751869775626925",
         "0.4630404463040446",
         "0.7248908296943232",
         "0.8328292853104287"
        ],
        [
         "11",
         "11",
         "[[1413  402]* [ 121  337]]",
         "0.5630743525480367",
         "0.9378633720930233",
         "0.7699076110866696",
         "0.456021650879567",
         "0.7358078602620087",
         "0.8282537563006003"
        ],
        [
         "12",
         "12",
         "[[1416  399]* [ 130  328]]",
         "0.5535864978902953",
         "0.953125",
         "0.7672679278486582",
         "0.4511691884456671",
         "0.7161572052401747",
         "0.8242297929673873"
        ],
        [
         "13",
         "13",
         "[[1385  430]* [ 127  331]]",
         "0.5430680885972108",
         "0.9738372093023255",
         "0.7549494060712715",
         "0.43495400788436267",
         "0.722707423580786",
         "0.821379936723327"
        ],
        [
         "14",
         "14",
         "[[1409  406]* [ 122  336]]",
         "0.56",
         "0.9832848837209303",
         "0.7677078750549934",
         "0.4528301886792453",
         "0.7336244541484717",
         "0.8251266134950137"
        ],
        [
         "15",
         "15",
         "[[1403  412]* [ 128  330]]",
         "0.55",
         "0.9901889534883721",
         "0.7624285085789705",
         "0.444743935309973",
         "0.7205240174672489",
         "0.8181601645674691"
        ]
       ],
       "shape": {
        "columns": 8,
        "rows": 15
       }
      },
      "text/html": [
       "<div>\n",
       "<style scoped>\n",
       "    .dataframe tbody tr th:only-of-type {\n",
       "        vertical-align: middle;\n",
       "    }\n",
       "\n",
       "    .dataframe tbody tr th {\n",
       "        vertical-align: top;\n",
       "    }\n",
       "\n",
       "    .dataframe thead th {\n",
       "        text-align: right;\n",
       "    }\n",
       "</style>\n",
       "<table border=\"1\" class=\"dataframe\">\n",
       "  <thead>\n",
       "    <tr style=\"text-align: right;\">\n",
       "      <th></th>\n",
       "      <th>max_depth</th>\n",
       "      <th>confusion_matrix</th>\n",
       "      <th>f1_score</th>\n",
       "      <th>training_score</th>\n",
       "      <th>validation_score</th>\n",
       "      <th>recall_score</th>\n",
       "      <th>precision_score</th>\n",
       "      <th>roc_auc_score</th>\n",
       "    </tr>\n",
       "  </thead>\n",
       "  <tbody>\n",
       "    <tr>\n",
       "      <th>1</th>\n",
       "      <td>1</td>\n",
       "      <td>[[1351  464]* [ 153  305]]</td>\n",
       "      <td>0.497148</td>\n",
       "      <td>0.707122</td>\n",
       "      <td>0.728553</td>\n",
       "      <td>0.396619</td>\n",
       "      <td>0.665939</td>\n",
       "      <td>0.770531</td>\n",
       "    </tr>\n",
       "    <tr>\n",
       "      <th>2</th>\n",
       "      <td>2</td>\n",
       "      <td>[[1366  449]* [ 148  310]]</td>\n",
       "      <td>0.509449</td>\n",
       "      <td>0.724927</td>\n",
       "      <td>0.737352</td>\n",
       "      <td>0.408432</td>\n",
       "      <td>0.676856</td>\n",
       "      <td>0.792528</td>\n",
       "    </tr>\n",
       "    <tr>\n",
       "      <th>3</th>\n",
       "      <td>3</td>\n",
       "      <td>[[1360  455]* [ 126  332]]</td>\n",
       "      <td>0.533333</td>\n",
       "      <td>0.756904</td>\n",
       "      <td>0.744391</td>\n",
       "      <td>0.421855</td>\n",
       "      <td>0.724891</td>\n",
       "      <td>0.815523</td>\n",
       "    </tr>\n",
       "    <tr>\n",
       "      <th>4</th>\n",
       "      <td>4</td>\n",
       "      <td>[[1460  355]* [ 140  318]]</td>\n",
       "      <td>0.562334</td>\n",
       "      <td>0.765625</td>\n",
       "      <td>0.782226</td>\n",
       "      <td>0.472511</td>\n",
       "      <td>0.694323</td>\n",
       "      <td>0.822386</td>\n",
       "    </tr>\n",
       "    <tr>\n",
       "      <th>5</th>\n",
       "      <td>5</td>\n",
       "      <td>[[1439  376]* [ 133  325]]</td>\n",
       "      <td>0.560828</td>\n",
       "      <td>0.789608</td>\n",
       "      <td>0.776067</td>\n",
       "      <td>0.463623</td>\n",
       "      <td>0.709607</td>\n",
       "      <td>0.834428</td>\n",
       "    </tr>\n",
       "    <tr>\n",
       "      <th>6</th>\n",
       "      <td>6</td>\n",
       "      <td>[[1432  383]* [ 130  328]]</td>\n",
       "      <td>0.561163</td>\n",
       "      <td>0.801599</td>\n",
       "      <td>0.774307</td>\n",
       "      <td>0.461322</td>\n",
       "      <td>0.716157</td>\n",
       "      <td>0.831614</td>\n",
       "    </tr>\n",
       "    <tr>\n",
       "      <th>7</th>\n",
       "      <td>7</td>\n",
       "      <td>[[1445  370]* [ 135  323]]</td>\n",
       "      <td>0.561251</td>\n",
       "      <td>0.817224</td>\n",
       "      <td>0.777827</td>\n",
       "      <td>0.466089</td>\n",
       "      <td>0.70524</td>\n",
       "      <td>0.838525</td>\n",
       "    </tr>\n",
       "    <tr>\n",
       "      <th>8</th>\n",
       "      <td>8</td>\n",
       "      <td>[[1443  372]* [ 131  327]]</td>\n",
       "      <td>0.565255</td>\n",
       "      <td>0.845203</td>\n",
       "      <td>0.778707</td>\n",
       "      <td>0.467811</td>\n",
       "      <td>0.713974</td>\n",
       "      <td>0.837307</td>\n",
       "    </tr>\n",
       "    <tr>\n",
       "      <th>9</th>\n",
       "      <td>9</td>\n",
       "      <td>[[1436  379]* [ 126  332]]</td>\n",
       "      <td>0.568007</td>\n",
       "      <td>0.874273</td>\n",
       "      <td>0.777827</td>\n",
       "      <td>0.466948</td>\n",
       "      <td>0.724891</td>\n",
       "      <td>0.835293</td>\n",
       "    </tr>\n",
       "    <tr>\n",
       "      <th>10</th>\n",
       "      <td>10</td>\n",
       "      <td>[[1430  385]* [ 126  332]]</td>\n",
       "      <td>0.565106</td>\n",
       "      <td>0.90298</td>\n",
       "      <td>0.775187</td>\n",
       "      <td>0.46304</td>\n",
       "      <td>0.724891</td>\n",
       "      <td>0.832829</td>\n",
       "    </tr>\n",
       "    <tr>\n",
       "      <th>11</th>\n",
       "      <td>11</td>\n",
       "      <td>[[1413  402]* [ 121  337]]</td>\n",
       "      <td>0.563074</td>\n",
       "      <td>0.937863</td>\n",
       "      <td>0.769908</td>\n",
       "      <td>0.456022</td>\n",
       "      <td>0.735808</td>\n",
       "      <td>0.828254</td>\n",
       "    </tr>\n",
       "    <tr>\n",
       "      <th>12</th>\n",
       "      <td>12</td>\n",
       "      <td>[[1416  399]* [ 130  328]]</td>\n",
       "      <td>0.553586</td>\n",
       "      <td>0.953125</td>\n",
       "      <td>0.767268</td>\n",
       "      <td>0.451169</td>\n",
       "      <td>0.716157</td>\n",
       "      <td>0.824230</td>\n",
       "    </tr>\n",
       "    <tr>\n",
       "      <th>13</th>\n",
       "      <td>13</td>\n",
       "      <td>[[1385  430]* [ 127  331]]</td>\n",
       "      <td>0.543068</td>\n",
       "      <td>0.973837</td>\n",
       "      <td>0.754949</td>\n",
       "      <td>0.434954</td>\n",
       "      <td>0.722707</td>\n",
       "      <td>0.821380</td>\n",
       "    </tr>\n",
       "    <tr>\n",
       "      <th>14</th>\n",
       "      <td>14</td>\n",
       "      <td>[[1409  406]* [ 122  336]]</td>\n",
       "      <td>0.56</td>\n",
       "      <td>0.983285</td>\n",
       "      <td>0.767708</td>\n",
       "      <td>0.45283</td>\n",
       "      <td>0.733624</td>\n",
       "      <td>0.825127</td>\n",
       "    </tr>\n",
       "    <tr>\n",
       "      <th>15</th>\n",
       "      <td>15</td>\n",
       "      <td>[[1403  412]* [ 128  330]]</td>\n",
       "      <td>0.55</td>\n",
       "      <td>0.990189</td>\n",
       "      <td>0.762429</td>\n",
       "      <td>0.444744</td>\n",
       "      <td>0.720524</td>\n",
       "      <td>0.818160</td>\n",
       "    </tr>\n",
       "  </tbody>\n",
       "</table>\n",
       "</div>"
      ],
      "text/plain": [
       "   max_depth            confusion_matrix  f1_score training_score  \\\n",
       "1          1  [[1351  464]* [ 153  305]]  0.497148       0.707122   \n",
       "2          2  [[1366  449]* [ 148  310]]  0.509449       0.724927   \n",
       "3          3  [[1360  455]* [ 126  332]]  0.533333       0.756904   \n",
       "4          4  [[1460  355]* [ 140  318]]  0.562334       0.765625   \n",
       "5          5  [[1439  376]* [ 133  325]]  0.560828       0.789608   \n",
       "6          6  [[1432  383]* [ 130  328]]  0.561163       0.801599   \n",
       "7          7  [[1445  370]* [ 135  323]]  0.561251       0.817224   \n",
       "8          8  [[1443  372]* [ 131  327]]  0.565255       0.845203   \n",
       "9          9  [[1436  379]* [ 126  332]]  0.568007       0.874273   \n",
       "10        10  [[1430  385]* [ 126  332]]  0.565106        0.90298   \n",
       "11        11  [[1413  402]* [ 121  337]]  0.563074       0.937863   \n",
       "12        12  [[1416  399]* [ 130  328]]  0.553586       0.953125   \n",
       "13        13  [[1385  430]* [ 127  331]]  0.543068       0.973837   \n",
       "14        14  [[1409  406]* [ 122  336]]      0.56       0.983285   \n",
       "15        15  [[1403  412]* [ 128  330]]      0.55       0.990189   \n",
       "\n",
       "   validation_score recall_score precision_score  roc_auc_score  \n",
       "1          0.728553     0.396619        0.665939       0.770531  \n",
       "2          0.737352     0.408432        0.676856       0.792528  \n",
       "3          0.744391     0.421855        0.724891       0.815523  \n",
       "4          0.782226     0.472511        0.694323       0.822386  \n",
       "5          0.776067     0.463623        0.709607       0.834428  \n",
       "6          0.774307     0.461322        0.716157       0.831614  \n",
       "7          0.777827     0.466089         0.70524       0.838525  \n",
       "8          0.778707     0.467811        0.713974       0.837307  \n",
       "9          0.777827     0.466948        0.724891       0.835293  \n",
       "10         0.775187      0.46304        0.724891       0.832829  \n",
       "11         0.769908     0.456022        0.735808       0.828254  \n",
       "12         0.767268     0.451169        0.716157       0.824230  \n",
       "13         0.754949     0.434954        0.722707       0.821380  \n",
       "14         0.767708      0.45283        0.733624       0.825127  \n",
       "15         0.762429     0.444744        0.720524       0.818160  "
      ]
     },
     "execution_count": 66,
     "metadata": {},
     "output_type": "execute_result"
    }
   ],
   "source": [
    "random_forest_results = pd.DataFrame(columns=['max_depth', 'confusion_matrix', 'f1_score', 'training_score', 'validation_score', 'recall_score', 'precision_score'])\n",
    "n=1\n",
    "best_roc_auc_score= 0\n",
    "best_model = None\n",
    "\n",
    "for depth in range(1, 16):\n",
    "    model = RandomForestClassifier(random_state=12345, max_depth=depth, n_estimators=20)\n",
    "    model.fit(X_train_processed_down, y_train_down)\n",
    "\n",
    "    y_probabilities = model.predict_proba(X_test_processed_down)[:, 1]\n",
    "    y_predicted_values = y_probabilities > 0.5\n",
    "\n",
    "    roc_auc = roc_auc_score(y_test, y_probabilities)\n",
    "\n",
    "    random_forest_results.loc[n, 'max_depth'] = depth \n",
    "    random_forest_results.loc[n, 'roc_auc_score'] = roc_auc    \n",
    "    random_forest_results.loc[n, 'confusion_matrix'] = str(confusion_matrix(y_test, y_predicted_values)).replace('\\n', '*')\n",
    "    random_forest_results.loc[n, 'f1_score'] =  f1_score(y_test, y_predicted_values)\n",
    "    random_forest_results.loc[n, 'training_score'] = model.score(X_train_processed_down, y_train_down)\n",
    "    random_forest_results.loc[n, 'validation_score'] = model.score(X_test_processed_down, y_test)\n",
    "    random_forest_results.loc[n, 'recall_score'] = recall_score(y_predicted_values, y_test)\n",
    "    random_forest_results.loc[n, 'precision_score'] = precision_score(y_predicted_values, y_test)\n",
    "    if  roc_auc > best_roc_auc_score:\n",
    "        best_model = model\n",
    "        best_roc_auc_score = roc_auc\n",
    "    n += 1\n",
    "random_forest_results"
   ]
  },
  {
   "cell_type": "markdown",
   "metadata": {},
   "source": [
    "###### ROC curve"
   ]
  },
  {
   "cell_type": "code",
   "execution_count": 67,
   "metadata": {},
   "outputs": [
    {
     "data": {
      "image/png": "[encoded data removed]",
      "text/plain": [
       "<Figure size 640x480 with 1 Axes>"
      ]
     },
     "metadata": {},
     "output_type": "display_data"
    },
    {
     "name": "stdout",
     "output_type": "stream",
     "text": [
      "AUC-ROC: 0.8385247873735369\n"
     ]
    }
   ],
   "source": [
    "probabilities_valid = best_model.predict_proba(X_test_processed_down)[:, 1]\n",
    "fpr, tpr, thresholds = roc_curve(y_test, probabilities_valid)\n",
    "\n",
    "plt.figure()\n",
    "plt.plot(fpr, tpr)\n",
    "plt.plot([0, 1], [0, 1], linestyle='--')\n",
    "plt.xlim([0.0, 1.0])\n",
    "plt.ylim([0.0, 1.0])\n",
    "plt.xlabel('Tasa de falsos positivos')\n",
    "plt.ylabel('Tasa de verdaderos positivos')\n",
    "plt.title('Curva ROC')\n",
    "plt.show()\n",
    "\n",
    "auc_roc = roc_auc_score(y_test, probabilities_valid)\n",
    "print(f'AUC-ROC: {auc_roc}')    "
   ]
  },
  {
   "cell_type": "markdown",
   "metadata": {},
   "source": [
    "##### Logistic Regression binary classification"
   ]
  },
  {
   "cell_type": "code",
   "execution_count": null,
   "metadata": {},
   "outputs": [
    {
     "data": {
      "application/vnd.microsoft.datawrangler.viewer.v0+json": {
       "columns": [
        {
         "name": "index",
         "rawType": "int64",
         "type": "integer"
        },
        {
         "name": "threshold",
         "rawType": "object",
         "type": "unknown"
        },
        {
         "name": "recall_score",
         "rawType": "object",
         "type": "unknown"
        },
        {
         "name": "precision_score",
         "rawType": "object",
         "type": "unknown"
        },
        {
         "name": "recall_score",
         "rawType": "object",
         "type": "unknown"
        },
        {
         "name": "confusion_matrix",
         "rawType": "object",
         "type": "string"
        },
        {
         "name": "f1_score",
         "rawType": "float64",
         "type": "float"
        },
        {
         "name": "training_score",
         "rawType": "float64",
         "type": "float"
        },
        {
         "name": "validation_score",
         "rawType": "float64",
         "type": "float"
        }
       ],
       "ref": "e5c34786-1001-4139-bc38-ded1504ebef7",
       "rows": [
        [
         "0",
         "0.3",
         "0.9126637554585153",
         "0.2524154589371981",
         "0.9126637554585153",
         "[[ 577 1238]* [  40  418]]",
         "0.3954588457899716",
         "0.7042151162790697",
         "0.6981962164540255"
        ],
        [
         "1",
         "0.31",
         "0.9039301310043668",
         "0.2571428571428571",
         "0.9039301310043668",
         "[[ 619 1196]* [  44  414]]",
         "0.40038684719535783",
         "0.7042151162790697",
         "0.6981962164540255"
        ],
        [
         "2",
         "0.32",
         "0.9017467248908297",
         "0.26339285714285715",
         "0.9017467248908297",
         "[[ 660 1155]* [  45  413]]",
         "0.4076999012833169",
         "0.7042151162790697",
         "0.6981962164540255"
        ],
        [
         "3",
         "0.33",
         "0.8930131004366813",
         "0.26575698505523065",
         "0.8930131004366813",
         "[[ 685 1130]* [  49  409]]",
         "0.40961442163244866",
         "0.7042151162790697",
         "0.6981962164540255"
        ],
        [
         "4",
         "0.34",
         "0.8755458515283843",
         "0.2678690714762859",
         "0.8755458515283843",
         "[[ 719 1096]* [  57  401]]",
         "0.41023017902813297",
         "0.7042151162790697",
         "0.6981962164540255"
        ],
        [
         "5",
         "0.35000000000000003",
         "0.8646288209606987",
         "0.2732919254658385",
         "0.8646288209606987",
         "[[ 762 1053]* [  62  396]]",
         "0.4153120083901416",
         "0.7042151162790697",
         "0.6981962164540255"
        ],
        [
         "6",
         "0.36000000000000004",
         "0.8580786026200873",
         "0.28011404133998574",
         "0.8580786026200873",
         "[[ 805 1010]* [  65  393]]",
         "0.42235357334766255",
         "0.7042151162790697",
         "0.6981962164540255"
        ],
        [
         "7",
         "0.37000000000000005",
         "0.8537117903930131",
         "0.28519328956965717",
         "0.8537117903930131",
         "[[835 980]* [ 67 391]]",
         "0.42755604155276106",
         "0.7042151162790697",
         "0.6981962164540255"
        ],
        [
         "8",
         "0.38000000000000006",
         "0.8406113537117904",
         "0.2921092564491654",
         "0.8406113537117904",
         "[[882 933]* [ 73 385]]",
         "0.43355855855855857",
         "0.7042151162790697",
         "0.6981962164540255"
        ],
        [
         "9",
         "0.39000000000000007",
         "0.834061135371179",
         "0.2984375",
         "0.834061135371179",
         "[[917 898]* [ 76 382]]",
         "0.43958573072497126",
         "0.7042151162790697",
         "0.6981962164540255"
        ],
        [
         "10",
         "0.4000000000000001",
         "0.8275109170305677",
         "0.3073803730738037",
         "0.8275109170305677",
         "[[961 854]* [ 79 379]]",
         "0.4482554701360142",
         "0.7042151162790697",
         "0.6981962164540255"
        ],
        [
         "11",
         "0.4100000000000001",
         "0.8165938864628821",
         "0.3140218303946264",
         "0.8165938864628821",
         "[[998 817]* [ 84 374]]",
         "0.4536082474226804",
         "0.7042151162790697",
         "0.6981962164540255"
        ],
        [
         "12",
         "0.4200000000000001",
         "0.8034934497816594",
         "0.3202785030461271",
         "0.8034934497816594",
         "[[1034  781]* [  90  368]]",
         "0.4579962663347853",
         "0.7042151162790697",
         "0.6981962164540255"
        ],
        [
         "13",
         "0.4300000000000001",
         "0.7925764192139738",
         "0.33",
         "0.7925764192139738",
         "[[1078  737]* [  95  363]]",
         "0.46598202824133506",
         "0.7042151162790697",
         "0.6981962164540255"
        ],
        [
         "14",
         "0.4400000000000001",
         "0.7816593886462883",
         "0.33773584905660375",
         "0.7816593886462883",
         "[[1113  702]* [ 100  358]]",
         "0.47167325428194995",
         "0.7042151162790697",
         "0.6981962164540255"
        ],
        [
         "15",
         "0.4500000000000001",
         "0.7751091703056768",
         "0.3463414634146341",
         "0.7751091703056768",
         "[[1145  670]* [ 103  355]]",
         "0.4787592717464599",
         "0.7042151162790697",
         "0.6981962164540255"
        ],
        [
         "16",
         "0.46000000000000013",
         "0.75764192139738",
         "0.35121457489878544",
         "0.75764192139738",
         "[[1174  641]* [ 111  347]]",
         "0.47994467496542187",
         "0.7042151162790697",
         "0.6981962164540255"
        ],
        [
         "17",
         "0.47000000000000014",
         "0.7358078602620087",
         "0.35104166666666664",
         "0.7358078602620087",
         "[[1192  623]* [ 121  337]]",
         "0.47531734837799716",
         "0.7042151162790697",
         "0.6981962164540255"
        ],
        [
         "18",
         "0.48000000000000015",
         "0.7096069868995634",
         "0.3540305010893246",
         "0.7096069868995634",
         "[[1222  593]* [ 133  325]]",
         "0.47238372093023256",
         "0.7042151162790697",
         "0.6981962164540255"
        ],
        [
         "19",
         "0.49000000000000016",
         "0.6986899563318777",
         "0.36076662908680945",
         "0.6986899563318777",
         "[[1248  567]* [ 138  320]]",
         "0.4758364312267658",
         "0.7042151162790697",
         "0.6981962164540255"
        ],
        [
         "20",
         "0.5000000000000002",
         "0.6834061135371179",
         "0.3665105386416862",
         "0.6834061135371179",
         "[[1274  541]* [ 145  313]]",
         "0.4771341463414634",
         "0.7042151162790697",
         "0.6981962164540255"
        ],
        [
         "21",
         "0.5100000000000002",
         "0.6615720524017468",
         "0.3686131386861314",
         "0.6615720524017468",
         "[[1296  519]* [ 155  303]]",
         "0.4734375",
         "0.7042151162790697",
         "0.6981962164540255"
        ],
        [
         "22",
         "0.5200000000000002",
         "0.6331877729257642",
         "0.3670886075949367",
         "0.6331877729257642",
         "[[1315  500]* [ 168  290]]",
         "0.46474358974358976",
         "0.7042151162790697",
         "0.6981962164540255"
        ],
        [
         "23",
         "0.5300000000000002",
         "0.6157205240174672",
         "0.3700787401574803",
         "0.6157205240174672",
         "[[1335  480]* [ 176  282]]",
         "0.46229508196721314",
         "0.7042151162790697",
         "0.6981962164540255"
        ],
        [
         "24",
         "0.5400000000000003",
         "0.6026200873362445",
         "0.3812154696132597",
         "0.6026200873362445",
         "[[1367  448]* [ 182  276]]",
         "0.467005076142132",
         "0.7042151162790697",
         "0.6981962164540255"
        ],
        [
         "25",
         "0.5500000000000003",
         "0.5851528384279476",
         "0.38672438672438675",
         "0.5851528384279476",
         "[[1390  425]* [ 190  268]]",
         "0.46568201563857514",
         "0.7042151162790697",
         "0.6981962164540255"
        ],
        [
         "26",
         "0.5600000000000003",
         "0.5567685589519651",
         "0.3881278538812785",
         "0.5567685589519651",
         "[[1413  402]* [ 203  255]]",
         "0.45739910313901344",
         "0.7042151162790697",
         "0.6981962164540255"
        ],
        [
         "27",
         "0.5700000000000003",
         "0.5393013100436681",
         "0.39206349206349206",
         "0.5393013100436681",
         "[[1432  383]* [ 211  247]]",
         "0.4540441176470588",
         "0.7042151162790697",
         "0.6981962164540255"
        ],
        [
         "28",
         "0.5800000000000003",
         "0.519650655021834",
         "0.39144736842105265",
         "0.519650655021834",
         "[[1445  370]* [ 220  238]]",
         "0.44652908067542213",
         "0.7042151162790697",
         "0.6981962164540255"
        ],
        [
         "29",
         "0.5900000000000003",
         "0.49563318777292575",
         "0.3873720136518771",
         "0.49563318777292575",
         "[[1456  359]* [ 231  227]]",
         "0.43486590038314177",
         "0.7042151162790697",
         "0.6981962164540255"
        ],
        [
         "30",
         "0.6000000000000003",
         "0.4737991266375546",
         "0.3868092691622103",
         "0.4737991266375546",
         "[[1471  344]* [ 241  217]]",
         "0.4259077526987242",
         "0.7042151162790697",
         "0.6981962164540255"
        ],
        [
         "31",
         "0.6100000000000003",
         "0.4585152838427948",
         "0.39399624765478425",
         "0.4585152838427948",
         "[[1492  323]* [ 248  210]]",
         "0.4238143289606458",
         "0.7042151162790697",
         "0.6981962164540255"
        ],
        [
         "32",
         "0.6200000000000003",
         "0.4344978165938865",
         "0.398",
         "0.4344978165938865",
         "[[1514  301]* [ 259  199]]",
         "0.4154488517745303",
         "0.7042151162790697",
         "0.6981962164540255"
        ],
        [
         "33",
         "0.6300000000000003",
         "0.40611353711790393",
         "0.39914163090128757",
         "0.40611353711790393",
         "[[1535  280]* [ 272  186]]",
         "0.4025974025974026",
         "0.7042151162790697",
         "0.6981962164540255"
        ],
        [
         "34",
         "0.6400000000000003",
         "0.38209606986899564",
         "0.39503386004514673",
         "0.38209606986899564",
         "[[1547  268]* [ 283  175]]",
         "0.38845726970033295",
         "0.7042151162790697",
         "0.6981962164540255"
        ],
        [
         "35",
         "0.6500000000000004",
         "0.36681222707423583",
         "0.3990498812351544",
         "0.36681222707423583",
         "[[1562  253]* [ 290  168]]",
         "0.3822525597269625",
         "0.7042151162790697",
         "0.6981962164540255"
        ],
        [
         "36",
         "0.6600000000000004",
         "0.35152838427947597",
         "0.4025",
         "0.35152838427947597",
         "[[1576  239]* [ 297  161]]",
         "0.3752913752913753",
         "0.7042151162790697",
         "0.6981962164540255"
        ],
        [
         "37",
         "0.6700000000000004",
         "0.3471615720524017",
         "0.412987012987013",
         "0.3471615720524017",
         "[[1589  226]* [ 299  159]]",
         "0.37722419928825623",
         "0.7042151162790697",
         "0.6981962164540255"
        ],
        [
         "38",
         "0.6800000000000004",
         "0.32751091703056767",
         "0.4155124653739612",
         "0.32751091703056767",
         "[[1604  211]* [ 308  150]]",
         "0.3663003663003663",
         "0.7042151162790697",
         "0.6981962164540255"
        ],
        [
         "39",
         "0.6900000000000004",
         "0.31222707423580787",
         "0.42686567164179107",
         "0.31222707423580787",
         "[[1623  192]* [ 315  143]]",
         "0.36065573770491804",
         "0.7042151162790697",
         "0.6981962164540255"
        ],
        [
         "40",
         "0.7000000000000004",
         "0.3056768558951965",
         "0.4375",
         "0.3056768558951965",
         "[[1635  180]* [ 318  140]]",
         "0.35989717223650386",
         "0.7042151162790697",
         "0.6981962164540255"
        ],
        [
         "41",
         "0.7100000000000004",
         "0.2925764192139738",
         "0.4511784511784512",
         "0.2925764192139738",
         "[[1652  163]* [ 324  134]]",
         "0.35496688741721855",
         "0.7042151162790697",
         "0.6981962164540255"
        ],
        [
         "42",
         "0.7200000000000004",
         "0.2794759825327511",
         "0.4620938628158845",
         "0.2794759825327511",
         "[[1666  149]* [ 330  128]]",
         "0.34829931972789113",
         "0.7042151162790697",
         "0.6981962164540255"
        ],
        [
         "43",
         "0.7300000000000004",
         "0.26200873362445415",
         "0.47058823529411764",
         "0.26200873362445415",
         "[[1680  135]* [ 338  120]]",
         "0.33660589060308554",
         "0.7042151162790697",
         "0.6981962164540255"
        ],
        [
         "44",
         "0.7400000000000004",
         "0.24672489082969432",
         "0.46311475409836067",
         "0.24672489082969432",
         "[[1684  131]* [ 345  113]]",
         "0.32193732193732194",
         "0.7042151162790697",
         "0.6981962164540255"
        ],
        [
         "45",
         "0.7500000000000004",
         "0.2314410480349345",
         "0.4774774774774775",
         "0.2314410480349345",
         "[[1699  116]* [ 352  106]]",
         "0.31176470588235294",
         "0.7042151162790697",
         "0.6981962164540255"
        ],
        [
         "46",
         "0.7600000000000005",
         "0.22707423580786026",
         "0.4928909952606635",
         "0.22707423580786026",
         "[[1708  107]* [ 354  104]]",
         "0.3109118086696562",
         "0.7042151162790697",
         "0.6981962164540255"
        ],
        [
         "47",
         "0.7700000000000005",
         "0.20305676855895197",
         "0.48186528497409326",
         "0.20305676855895197",
         "[[1715  100]* [ 365   93]]",
         "0.2857142857142857",
         "0.7042151162790697",
         "0.6981962164540255"
        ],
        [
         "48",
         "0.7800000000000005",
         "0.19213973799126638",
         "0.4971751412429379",
         "0.19213973799126638",
         "[[1726   89]* [ 370   88]]",
         "0.27716535433070866",
         "0.7042151162790697",
         "0.6981962164540255"
        ],
        [
         "49",
         "0.7900000000000005",
         "0.1703056768558952",
         "0.4875",
         "0.1703056768558952",
         "[[1733   82]* [ 380   78]]",
         "0.2524271844660194",
         "0.7042151162790697",
         "0.6981962164540255"
        ]
       ],
       "shape": {
        "columns": 8,
        "rows": 50
       }
      },
      "text/html": [
       "<div>\n",
       "<style scoped>\n",
       "    .dataframe tbody tr th:only-of-type {\n",
       "        vertical-align: middle;\n",
       "    }\n",
       "\n",
       "    .dataframe tbody tr th {\n",
       "        vertical-align: top;\n",
       "    }\n",
       "\n",
       "    .dataframe thead th {\n",
       "        text-align: right;\n",
       "    }\n",
       "</style>\n",
       "<table border=\"1\" class=\"dataframe\">\n",
       "  <thead>\n",
       "    <tr style=\"text-align: right;\">\n",
       "      <th></th>\n",
       "      <th>threshold</th>\n",
       "      <th>recall_score</th>\n",
       "      <th>precision_score</th>\n",
       "      <th>recall_score</th>\n",
       "      <th>confusion_matrix</th>\n",
       "      <th>f1_score</th>\n",
       "      <th>training_score</th>\n",
       "      <th>validation_score</th>\n",
       "    </tr>\n",
       "  </thead>\n",
       "  <tbody>\n",
       "    <tr>\n",
       "      <th>0</th>\n",
       "      <td>0.3</td>\n",
       "      <td>0.912664</td>\n",
       "      <td>0.252415</td>\n",
       "      <td>0.912664</td>\n",
       "      <td>[[ 577 1238]* [  40  418]]</td>\n",
       "      <td>0.395459</td>\n",
       "      <td>0.704215</td>\n",
       "      <td>0.698196</td>\n",
       "    </tr>\n",
       "    <tr>\n",
       "      <th>1</th>\n",
       "      <td>0.31</td>\n",
       "      <td>0.90393</td>\n",
       "      <td>0.257143</td>\n",
       "      <td>0.90393</td>\n",
       "      <td>[[ 619 1196]* [  44  414]]</td>\n",
       "      <td>0.400387</td>\n",
       "      <td>0.704215</td>\n",
       "      <td>0.698196</td>\n",
       "    </tr>\n",
       "    <tr>\n",
       "      <th>2</th>\n",
       "      <td>0.32</td>\n",
       "      <td>0.901747</td>\n",
       "      <td>0.263393</td>\n",
       "      <td>0.901747</td>\n",
       "      <td>[[ 660 1155]* [  45  413]]</td>\n",
       "      <td>0.407700</td>\n",
       "      <td>0.704215</td>\n",
       "      <td>0.698196</td>\n",
       "    </tr>\n",
       "    <tr>\n",
       "      <th>3</th>\n",
       "      <td>0.33</td>\n",
       "      <td>0.893013</td>\n",
       "      <td>0.265757</td>\n",
       "      <td>0.893013</td>\n",
       "      <td>[[ 685 1130]* [  49  409]]</td>\n",
       "      <td>0.409614</td>\n",
       "      <td>0.704215</td>\n",
       "      <td>0.698196</td>\n",
       "    </tr>\n",
       "    <tr>\n",
       "      <th>4</th>\n",
       "      <td>0.34</td>\n",
       "      <td>0.875546</td>\n",
       "      <td>0.267869</td>\n",
       "      <td>0.875546</td>\n",
       "      <td>[[ 719 1096]* [  57  401]]</td>\n",
       "      <td>0.410230</td>\n",
       "      <td>0.704215</td>\n",
       "      <td>0.698196</td>\n",
       "    </tr>\n",
       "    <tr>\n",
       "      <th>5</th>\n",
       "      <td>0.35</td>\n",
       "      <td>0.864629</td>\n",
       "      <td>0.273292</td>\n",
       "      <td>0.864629</td>\n",
       "      <td>[[ 762 1053]* [  62  396]]</td>\n",
       "      <td>0.415312</td>\n",
       "      <td>0.704215</td>\n",
       "      <td>0.698196</td>\n",
       "    </tr>\n",
       "    <tr>\n",
       "      <th>6</th>\n",
       "      <td>0.36</td>\n",
       "      <td>0.858079</td>\n",
       "      <td>0.280114</td>\n",
       "      <td>0.858079</td>\n",
       "      <td>[[ 805 1010]* [  65  393]]</td>\n",
       "      <td>0.422354</td>\n",
       "      <td>0.704215</td>\n",
       "      <td>0.698196</td>\n",
       "    </tr>\n",
       "    <tr>\n",
       "      <th>7</th>\n",
       "      <td>0.37</td>\n",
       "      <td>0.853712</td>\n",
       "      <td>0.285193</td>\n",
       "      <td>0.853712</td>\n",
       "      <td>[[835 980]* [ 67 391]]</td>\n",
       "      <td>0.427556</td>\n",
       "      <td>0.704215</td>\n",
       "      <td>0.698196</td>\n",
       "    </tr>\n",
       "    <tr>\n",
       "      <th>8</th>\n",
       "      <td>0.38</td>\n",
       "      <td>0.840611</td>\n",
       "      <td>0.292109</td>\n",
       "      <td>0.840611</td>\n",
       "      <td>[[882 933]* [ 73 385]]</td>\n",
       "      <td>0.433559</td>\n",
       "      <td>0.704215</td>\n",
       "      <td>0.698196</td>\n",
       "    </tr>\n",
       "    <tr>\n",
       "      <th>9</th>\n",
       "      <td>0.39</td>\n",
       "      <td>0.834061</td>\n",
       "      <td>0.298438</td>\n",
       "      <td>0.834061</td>\n",
       "      <td>[[917 898]* [ 76 382]]</td>\n",
       "      <td>0.439586</td>\n",
       "      <td>0.704215</td>\n",
       "      <td>0.698196</td>\n",
       "    </tr>\n",
       "    <tr>\n",
       "      <th>10</th>\n",
       "      <td>0.4</td>\n",
       "      <td>0.827511</td>\n",
       "      <td>0.30738</td>\n",
       "      <td>0.827511</td>\n",
       "      <td>[[961 854]* [ 79 379]]</td>\n",
       "      <td>0.448255</td>\n",
       "      <td>0.704215</td>\n",
       "      <td>0.698196</td>\n",
       "    </tr>\n",
       "    <tr>\n",
       "      <th>11</th>\n",
       "      <td>0.41</td>\n",
       "      <td>0.816594</td>\n",
       "      <td>0.314022</td>\n",
       "      <td>0.816594</td>\n",
       "      <td>[[998 817]* [ 84 374]]</td>\n",
       "      <td>0.453608</td>\n",
       "      <td>0.704215</td>\n",
       "      <td>0.698196</td>\n",
       "    </tr>\n",
       "    <tr>\n",
       "      <th>12</th>\n",
       "      <td>0.42</td>\n",
       "      <td>0.803493</td>\n",
       "      <td>0.320279</td>\n",
       "      <td>0.803493</td>\n",
       "      <td>[[1034  781]* [  90  368]]</td>\n",
       "      <td>0.457996</td>\n",
       "      <td>0.704215</td>\n",
       "      <td>0.698196</td>\n",
       "    </tr>\n",
       "    <tr>\n",
       "      <th>13</th>\n",
       "      <td>0.43</td>\n",
       "      <td>0.792576</td>\n",
       "      <td>0.33</td>\n",
       "      <td>0.792576</td>\n",
       "      <td>[[1078  737]* [  95  363]]</td>\n",
       "      <td>0.465982</td>\n",
       "      <td>0.704215</td>\n",
       "      <td>0.698196</td>\n",
       "    </tr>\n",
       "    <tr>\n",
       "      <th>14</th>\n",
       "      <td>0.44</td>\n",
       "      <td>0.781659</td>\n",
       "      <td>0.337736</td>\n",
       "      <td>0.781659</td>\n",
       "      <td>[[1113  702]* [ 100  358]]</td>\n",
       "      <td>0.471673</td>\n",
       "      <td>0.704215</td>\n",
       "      <td>0.698196</td>\n",
       "    </tr>\n",
       "    <tr>\n",
       "      <th>15</th>\n",
       "      <td>0.45</td>\n",
       "      <td>0.775109</td>\n",
       "      <td>0.346341</td>\n",
       "      <td>0.775109</td>\n",
       "      <td>[[1145  670]* [ 103  355]]</td>\n",
       "      <td>0.478759</td>\n",
       "      <td>0.704215</td>\n",
       "      <td>0.698196</td>\n",
       "    </tr>\n",
       "    <tr>\n",
       "      <th>16</th>\n",
       "      <td>0.46</td>\n",
       "      <td>0.757642</td>\n",
       "      <td>0.351215</td>\n",
       "      <td>0.757642</td>\n",
       "      <td>[[1174  641]* [ 111  347]]</td>\n",
       "      <td>0.479945</td>\n",
       "      <td>0.704215</td>\n",
       "      <td>0.698196</td>\n",
       "    </tr>\n",
       "    <tr>\n",
       "      <th>17</th>\n",
       "      <td>0.47</td>\n",
       "      <td>0.735808</td>\n",
       "      <td>0.351042</td>\n",
       "      <td>0.735808</td>\n",
       "      <td>[[1192  623]* [ 121  337]]</td>\n",
       "      <td>0.475317</td>\n",
       "      <td>0.704215</td>\n",
       "      <td>0.698196</td>\n",
       "    </tr>\n",
       "    <tr>\n",
       "      <th>18</th>\n",
       "      <td>0.48</td>\n",
       "      <td>0.709607</td>\n",
       "      <td>0.354031</td>\n",
       "      <td>0.709607</td>\n",
       "      <td>[[1222  593]* [ 133  325]]</td>\n",
       "      <td>0.472384</td>\n",
       "      <td>0.704215</td>\n",
       "      <td>0.698196</td>\n",
       "    </tr>\n",
       "    <tr>\n",
       "      <th>19</th>\n",
       "      <td>0.49</td>\n",
       "      <td>0.69869</td>\n",
       "      <td>0.360767</td>\n",
       "      <td>0.69869</td>\n",
       "      <td>[[1248  567]* [ 138  320]]</td>\n",
       "      <td>0.475836</td>\n",
       "      <td>0.704215</td>\n",
       "      <td>0.698196</td>\n",
       "    </tr>\n",
       "    <tr>\n",
       "      <th>20</th>\n",
       "      <td>0.5</td>\n",
       "      <td>0.683406</td>\n",
       "      <td>0.366511</td>\n",
       "      <td>0.683406</td>\n",
       "      <td>[[1274  541]* [ 145  313]]</td>\n",
       "      <td>0.477134</td>\n",
       "      <td>0.704215</td>\n",
       "      <td>0.698196</td>\n",
       "    </tr>\n",
       "    <tr>\n",
       "      <th>21</th>\n",
       "      <td>0.51</td>\n",
       "      <td>0.661572</td>\n",
       "      <td>0.368613</td>\n",
       "      <td>0.661572</td>\n",
       "      <td>[[1296  519]* [ 155  303]]</td>\n",
       "      <td>0.473438</td>\n",
       "      <td>0.704215</td>\n",
       "      <td>0.698196</td>\n",
       "    </tr>\n",
       "    <tr>\n",
       "      <th>22</th>\n",
       "      <td>0.52</td>\n",
       "      <td>0.633188</td>\n",
       "      <td>0.367089</td>\n",
       "      <td>0.633188</td>\n",
       "      <td>[[1315  500]* [ 168  290]]</td>\n",
       "      <td>0.464744</td>\n",
       "      <td>0.704215</td>\n",
       "      <td>0.698196</td>\n",
       "    </tr>\n",
       "    <tr>\n",
       "      <th>23</th>\n",
       "      <td>0.53</td>\n",
       "      <td>0.615721</td>\n",
       "      <td>0.370079</td>\n",
       "      <td>0.615721</td>\n",
       "      <td>[[1335  480]* [ 176  282]]</td>\n",
       "      <td>0.462295</td>\n",
       "      <td>0.704215</td>\n",
       "      <td>0.698196</td>\n",
       "    </tr>\n",
       "    <tr>\n",
       "      <th>24</th>\n",
       "      <td>0.54</td>\n",
       "      <td>0.60262</td>\n",
       "      <td>0.381215</td>\n",
       "      <td>0.60262</td>\n",
       "      <td>[[1367  448]* [ 182  276]]</td>\n",
       "      <td>0.467005</td>\n",
       "      <td>0.704215</td>\n",
       "      <td>0.698196</td>\n",
       "    </tr>\n",
       "    <tr>\n",
       "      <th>25</th>\n",
       "      <td>0.55</td>\n",
       "      <td>0.585153</td>\n",
       "      <td>0.386724</td>\n",
       "      <td>0.585153</td>\n",
       "      <td>[[1390  425]* [ 190  268]]</td>\n",
       "      <td>0.465682</td>\n",
       "      <td>0.704215</td>\n",
       "      <td>0.698196</td>\n",
       "    </tr>\n",
       "    <tr>\n",
       "      <th>26</th>\n",
       "      <td>0.56</td>\n",
       "      <td>0.556769</td>\n",
       "      <td>0.388128</td>\n",
       "      <td>0.556769</td>\n",
       "      <td>[[1413  402]* [ 203  255]]</td>\n",
       "      <td>0.457399</td>\n",
       "      <td>0.704215</td>\n",
       "      <td>0.698196</td>\n",
       "    </tr>\n",
       "    <tr>\n",
       "      <th>27</th>\n",
       "      <td>0.57</td>\n",
       "      <td>0.539301</td>\n",
       "      <td>0.392063</td>\n",
       "      <td>0.539301</td>\n",
       "      <td>[[1432  383]* [ 211  247]]</td>\n",
       "      <td>0.454044</td>\n",
       "      <td>0.704215</td>\n",
       "      <td>0.698196</td>\n",
       "    </tr>\n",
       "    <tr>\n",
       "      <th>28</th>\n",
       "      <td>0.58</td>\n",
       "      <td>0.519651</td>\n",
       "      <td>0.391447</td>\n",
       "      <td>0.519651</td>\n",
       "      <td>[[1445  370]* [ 220  238]]</td>\n",
       "      <td>0.446529</td>\n",
       "      <td>0.704215</td>\n",
       "      <td>0.698196</td>\n",
       "    </tr>\n",
       "    <tr>\n",
       "      <th>29</th>\n",
       "      <td>0.59</td>\n",
       "      <td>0.495633</td>\n",
       "      <td>0.387372</td>\n",
       "      <td>0.495633</td>\n",
       "      <td>[[1456  359]* [ 231  227]]</td>\n",
       "      <td>0.434866</td>\n",
       "      <td>0.704215</td>\n",
       "      <td>0.698196</td>\n",
       "    </tr>\n",
       "    <tr>\n",
       "      <th>30</th>\n",
       "      <td>0.6</td>\n",
       "      <td>0.473799</td>\n",
       "      <td>0.386809</td>\n",
       "      <td>0.473799</td>\n",
       "      <td>[[1471  344]* [ 241  217]]</td>\n",
       "      <td>0.425908</td>\n",
       "      <td>0.704215</td>\n",
       "      <td>0.698196</td>\n",
       "    </tr>\n",
       "    <tr>\n",
       "      <th>31</th>\n",
       "      <td>0.61</td>\n",
       "      <td>0.458515</td>\n",
       "      <td>0.393996</td>\n",
       "      <td>0.458515</td>\n",
       "      <td>[[1492  323]* [ 248  210]]</td>\n",
       "      <td>0.423814</td>\n",
       "      <td>0.704215</td>\n",
       "      <td>0.698196</td>\n",
       "    </tr>\n",
       "    <tr>\n",
       "      <th>32</th>\n",
       "      <td>0.62</td>\n",
       "      <td>0.434498</td>\n",
       "      <td>0.398</td>\n",
       "      <td>0.434498</td>\n",
       "      <td>[[1514  301]* [ 259  199]]</td>\n",
       "      <td>0.415449</td>\n",
       "      <td>0.704215</td>\n",
       "      <td>0.698196</td>\n",
       "    </tr>\n",
       "    <tr>\n",
       "      <th>33</th>\n",
       "      <td>0.63</td>\n",
       "      <td>0.406114</td>\n",
       "      <td>0.399142</td>\n",
       "      <td>0.406114</td>\n",
       "      <td>[[1535  280]* [ 272  186]]</td>\n",
       "      <td>0.402597</td>\n",
       "      <td>0.704215</td>\n",
       "      <td>0.698196</td>\n",
       "    </tr>\n",
       "    <tr>\n",
       "      <th>34</th>\n",
       "      <td>0.64</td>\n",
       "      <td>0.382096</td>\n",
       "      <td>0.395034</td>\n",
       "      <td>0.382096</td>\n",
       "      <td>[[1547  268]* [ 283  175]]</td>\n",
       "      <td>0.388457</td>\n",
       "      <td>0.704215</td>\n",
       "      <td>0.698196</td>\n",
       "    </tr>\n",
       "    <tr>\n",
       "      <th>35</th>\n",
       "      <td>0.65</td>\n",
       "      <td>0.366812</td>\n",
       "      <td>0.39905</td>\n",
       "      <td>0.366812</td>\n",
       "      <td>[[1562  253]* [ 290  168]]</td>\n",
       "      <td>0.382253</td>\n",
       "      <td>0.704215</td>\n",
       "      <td>0.698196</td>\n",
       "    </tr>\n",
       "    <tr>\n",
       "      <th>36</th>\n",
       "      <td>0.66</td>\n",
       "      <td>0.351528</td>\n",
       "      <td>0.4025</td>\n",
       "      <td>0.351528</td>\n",
       "      <td>[[1576  239]* [ 297  161]]</td>\n",
       "      <td>0.375291</td>\n",
       "      <td>0.704215</td>\n",
       "      <td>0.698196</td>\n",
       "    </tr>\n",
       "    <tr>\n",
       "      <th>37</th>\n",
       "      <td>0.67</td>\n",
       "      <td>0.347162</td>\n",
       "      <td>0.412987</td>\n",
       "      <td>0.347162</td>\n",
       "      <td>[[1589  226]* [ 299  159]]</td>\n",
       "      <td>0.377224</td>\n",
       "      <td>0.704215</td>\n",
       "      <td>0.698196</td>\n",
       "    </tr>\n",
       "    <tr>\n",
       "      <th>38</th>\n",
       "      <td>0.68</td>\n",
       "      <td>0.327511</td>\n",
       "      <td>0.415512</td>\n",
       "      <td>0.327511</td>\n",
       "      <td>[[1604  211]* [ 308  150]]</td>\n",
       "      <td>0.366300</td>\n",
       "      <td>0.704215</td>\n",
       "      <td>0.698196</td>\n",
       "    </tr>\n",
       "    <tr>\n",
       "      <th>39</th>\n",
       "      <td>0.69</td>\n",
       "      <td>0.312227</td>\n",
       "      <td>0.426866</td>\n",
       "      <td>0.312227</td>\n",
       "      <td>[[1623  192]* [ 315  143]]</td>\n",
       "      <td>0.360656</td>\n",
       "      <td>0.704215</td>\n",
       "      <td>0.698196</td>\n",
       "    </tr>\n",
       "    <tr>\n",
       "      <th>40</th>\n",
       "      <td>0.7</td>\n",
       "      <td>0.305677</td>\n",
       "      <td>0.4375</td>\n",
       "      <td>0.305677</td>\n",
       "      <td>[[1635  180]* [ 318  140]]</td>\n",
       "      <td>0.359897</td>\n",
       "      <td>0.704215</td>\n",
       "      <td>0.698196</td>\n",
       "    </tr>\n",
       "    <tr>\n",
       "      <th>41</th>\n",
       "      <td>0.71</td>\n",
       "      <td>0.292576</td>\n",
       "      <td>0.451178</td>\n",
       "      <td>0.292576</td>\n",
       "      <td>[[1652  163]* [ 324  134]]</td>\n",
       "      <td>0.354967</td>\n",
       "      <td>0.704215</td>\n",
       "      <td>0.698196</td>\n",
       "    </tr>\n",
       "    <tr>\n",
       "      <th>42</th>\n",
       "      <td>0.72</td>\n",
       "      <td>0.279476</td>\n",
       "      <td>0.462094</td>\n",
       "      <td>0.279476</td>\n",
       "      <td>[[1666  149]* [ 330  128]]</td>\n",
       "      <td>0.348299</td>\n",
       "      <td>0.704215</td>\n",
       "      <td>0.698196</td>\n",
       "    </tr>\n",
       "    <tr>\n",
       "      <th>43</th>\n",
       "      <td>0.73</td>\n",
       "      <td>0.262009</td>\n",
       "      <td>0.470588</td>\n",
       "      <td>0.262009</td>\n",
       "      <td>[[1680  135]* [ 338  120]]</td>\n",
       "      <td>0.336606</td>\n",
       "      <td>0.704215</td>\n",
       "      <td>0.698196</td>\n",
       "    </tr>\n",
       "    <tr>\n",
       "      <th>44</th>\n",
       "      <td>0.74</td>\n",
       "      <td>0.246725</td>\n",
       "      <td>0.463115</td>\n",
       "      <td>0.246725</td>\n",
       "      <td>[[1684  131]* [ 345  113]]</td>\n",
       "      <td>0.321937</td>\n",
       "      <td>0.704215</td>\n",
       "      <td>0.698196</td>\n",
       "    </tr>\n",
       "    <tr>\n",
       "      <th>45</th>\n",
       "      <td>0.75</td>\n",
       "      <td>0.231441</td>\n",
       "      <td>0.477477</td>\n",
       "      <td>0.231441</td>\n",
       "      <td>[[1699  116]* [ 352  106]]</td>\n",
       "      <td>0.311765</td>\n",
       "      <td>0.704215</td>\n",
       "      <td>0.698196</td>\n",
       "    </tr>\n",
       "    <tr>\n",
       "      <th>46</th>\n",
       "      <td>0.76</td>\n",
       "      <td>0.227074</td>\n",
       "      <td>0.492891</td>\n",
       "      <td>0.227074</td>\n",
       "      <td>[[1708  107]* [ 354  104]]</td>\n",
       "      <td>0.310912</td>\n",
       "      <td>0.704215</td>\n",
       "      <td>0.698196</td>\n",
       "    </tr>\n",
       "    <tr>\n",
       "      <th>47</th>\n",
       "      <td>0.77</td>\n",
       "      <td>0.203057</td>\n",
       "      <td>0.481865</td>\n",
       "      <td>0.203057</td>\n",
       "      <td>[[1715  100]* [ 365   93]]</td>\n",
       "      <td>0.285714</td>\n",
       "      <td>0.704215</td>\n",
       "      <td>0.698196</td>\n",
       "    </tr>\n",
       "    <tr>\n",
       "      <th>48</th>\n",
       "      <td>0.78</td>\n",
       "      <td>0.19214</td>\n",
       "      <td>0.497175</td>\n",
       "      <td>0.19214</td>\n",
       "      <td>[[1726   89]* [ 370   88]]</td>\n",
       "      <td>0.277165</td>\n",
       "      <td>0.704215</td>\n",
       "      <td>0.698196</td>\n",
       "    </tr>\n",
       "    <tr>\n",
       "      <th>49</th>\n",
       "      <td>0.79</td>\n",
       "      <td>0.170306</td>\n",
       "      <td>0.4875</td>\n",
       "      <td>0.170306</td>\n",
       "      <td>[[1733   82]* [ 380   78]]</td>\n",
       "      <td>0.252427</td>\n",
       "      <td>0.704215</td>\n",
       "      <td>0.698196</td>\n",
       "    </tr>\n",
       "  </tbody>\n",
       "</table>\n",
       "</div>"
      ],
      "text/plain": [
       "   threshold recall_score precision_score recall_score  \\\n",
       "0        0.3     0.912664        0.252415     0.912664   \n",
       "1       0.31      0.90393        0.257143      0.90393   \n",
       "2       0.32     0.901747        0.263393     0.901747   \n",
       "3       0.33     0.893013        0.265757     0.893013   \n",
       "4       0.34     0.875546        0.267869     0.875546   \n",
       "5       0.35     0.864629        0.273292     0.864629   \n",
       "6       0.36     0.858079        0.280114     0.858079   \n",
       "7       0.37     0.853712        0.285193     0.853712   \n",
       "8       0.38     0.840611        0.292109     0.840611   \n",
       "9       0.39     0.834061        0.298438     0.834061   \n",
       "10       0.4     0.827511         0.30738     0.827511   \n",
       "11      0.41     0.816594        0.314022     0.816594   \n",
       "12      0.42     0.803493        0.320279     0.803493   \n",
       "13      0.43     0.792576            0.33     0.792576   \n",
       "14      0.44     0.781659        0.337736     0.781659   \n",
       "15      0.45     0.775109        0.346341     0.775109   \n",
       "16      0.46     0.757642        0.351215     0.757642   \n",
       "17      0.47     0.735808        0.351042     0.735808   \n",
       "18      0.48     0.709607        0.354031     0.709607   \n",
       "19      0.49      0.69869        0.360767      0.69869   \n",
       "20       0.5     0.683406        0.366511     0.683406   \n",
       "21      0.51     0.661572        0.368613     0.661572   \n",
       "22      0.52     0.633188        0.367089     0.633188   \n",
       "23      0.53     0.615721        0.370079     0.615721   \n",
       "24      0.54      0.60262        0.381215      0.60262   \n",
       "25      0.55     0.585153        0.386724     0.585153   \n",
       "26      0.56     0.556769        0.388128     0.556769   \n",
       "27      0.57     0.539301        0.392063     0.539301   \n",
       "28      0.58     0.519651        0.391447     0.519651   \n",
       "29      0.59     0.495633        0.387372     0.495633   \n",
       "30       0.6     0.473799        0.386809     0.473799   \n",
       "31      0.61     0.458515        0.393996     0.458515   \n",
       "32      0.62     0.434498           0.398     0.434498   \n",
       "33      0.63     0.406114        0.399142     0.406114   \n",
       "34      0.64     0.382096        0.395034     0.382096   \n",
       "35      0.65     0.366812         0.39905     0.366812   \n",
       "36      0.66     0.351528          0.4025     0.351528   \n",
       "37      0.67     0.347162        0.412987     0.347162   \n",
       "38      0.68     0.327511        0.415512     0.327511   \n",
       "39      0.69     0.312227        0.426866     0.312227   \n",
       "40       0.7     0.305677          0.4375     0.305677   \n",
       "41      0.71     0.292576        0.451178     0.292576   \n",
       "42      0.72     0.279476        0.462094     0.279476   \n",
       "43      0.73     0.262009        0.470588     0.262009   \n",
       "44      0.74     0.246725        0.463115     0.246725   \n",
       "45      0.75     0.231441        0.477477     0.231441   \n",
       "46      0.76     0.227074        0.492891     0.227074   \n",
       "47      0.77     0.203057        0.481865     0.203057   \n",
       "48      0.78      0.19214        0.497175      0.19214   \n",
       "49      0.79     0.170306          0.4875     0.170306   \n",
       "\n",
       "              confusion_matrix  f1_score  training_score  validation_score  \n",
       "0   [[ 577 1238]* [  40  418]]  0.395459        0.704215          0.698196  \n",
       "1   [[ 619 1196]* [  44  414]]  0.400387        0.704215          0.698196  \n",
       "2   [[ 660 1155]* [  45  413]]  0.407700        0.704215          0.698196  \n",
       "3   [[ 685 1130]* [  49  409]]  0.409614        0.704215          0.698196  \n",
       "4   [[ 719 1096]* [  57  401]]  0.410230        0.704215          0.698196  \n",
       "5   [[ 762 1053]* [  62  396]]  0.415312        0.704215          0.698196  \n",
       "6   [[ 805 1010]* [  65  393]]  0.422354        0.704215          0.698196  \n",
       "7       [[835 980]* [ 67 391]]  0.427556        0.704215          0.698196  \n",
       "8       [[882 933]* [ 73 385]]  0.433559        0.704215          0.698196  \n",
       "9       [[917 898]* [ 76 382]]  0.439586        0.704215          0.698196  \n",
       "10      [[961 854]* [ 79 379]]  0.448255        0.704215          0.698196  \n",
       "11      [[998 817]* [ 84 374]]  0.453608        0.704215          0.698196  \n",
       "12  [[1034  781]* [  90  368]]  0.457996        0.704215          0.698196  \n",
       "13  [[1078  737]* [  95  363]]  0.465982        0.704215          0.698196  \n",
       "14  [[1113  702]* [ 100  358]]  0.471673        0.704215          0.698196  \n",
       "15  [[1145  670]* [ 103  355]]  0.478759        0.704215          0.698196  \n",
       "16  [[1174  641]* [ 111  347]]  0.479945        0.704215          0.698196  \n",
       "17  [[1192  623]* [ 121  337]]  0.475317        0.704215          0.698196  \n",
       "18  [[1222  593]* [ 133  325]]  0.472384        0.704215          0.698196  \n",
       "19  [[1248  567]* [ 138  320]]  0.475836        0.704215          0.698196  \n",
       "20  [[1274  541]* [ 145  313]]  0.477134        0.704215          0.698196  \n",
       "21  [[1296  519]* [ 155  303]]  0.473438        0.704215          0.698196  \n",
       "22  [[1315  500]* [ 168  290]]  0.464744        0.704215          0.698196  \n",
       "23  [[1335  480]* [ 176  282]]  0.462295        0.704215          0.698196  \n",
       "24  [[1367  448]* [ 182  276]]  0.467005        0.704215          0.698196  \n",
       "25  [[1390  425]* [ 190  268]]  0.465682        0.704215          0.698196  \n",
       "26  [[1413  402]* [ 203  255]]  0.457399        0.704215          0.698196  \n",
       "27  [[1432  383]* [ 211  247]]  0.454044        0.704215          0.698196  \n",
       "28  [[1445  370]* [ 220  238]]  0.446529        0.704215          0.698196  \n",
       "29  [[1456  359]* [ 231  227]]  0.434866        0.704215          0.698196  \n",
       "30  [[1471  344]* [ 241  217]]  0.425908        0.704215          0.698196  \n",
       "31  [[1492  323]* [ 248  210]]  0.423814        0.704215          0.698196  \n",
       "32  [[1514  301]* [ 259  199]]  0.415449        0.704215          0.698196  \n",
       "33  [[1535  280]* [ 272  186]]  0.402597        0.704215          0.698196  \n",
       "34  [[1547  268]* [ 283  175]]  0.388457        0.704215          0.698196  \n",
       "35  [[1562  253]* [ 290  168]]  0.382253        0.704215          0.698196  \n",
       "36  [[1576  239]* [ 297  161]]  0.375291        0.704215          0.698196  \n",
       "37  [[1589  226]* [ 299  159]]  0.377224        0.704215          0.698196  \n",
       "38  [[1604  211]* [ 308  150]]  0.366300        0.704215          0.698196  \n",
       "39  [[1623  192]* [ 315  143]]  0.360656        0.704215          0.698196  \n",
       "40  [[1635  180]* [ 318  140]]  0.359897        0.704215          0.698196  \n",
       "41  [[1652  163]* [ 324  134]]  0.354967        0.704215          0.698196  \n",
       "42  [[1666  149]* [ 330  128]]  0.348299        0.704215          0.698196  \n",
       "43  [[1680  135]* [ 338  120]]  0.336606        0.704215          0.698196  \n",
       "44  [[1684  131]* [ 345  113]]  0.321937        0.704215          0.698196  \n",
       "45  [[1699  116]* [ 352  106]]  0.311765        0.704215          0.698196  \n",
       "46  [[1708  107]* [ 354  104]]  0.310912        0.704215          0.698196  \n",
       "47  [[1715  100]* [ 365   93]]  0.285714        0.704215          0.698196  \n",
       "48  [[1726   89]* [ 370   88]]  0.277165        0.704215          0.698196  \n",
       "49  [[1733   82]* [ 380   78]]  0.252427        0.704215          0.698196  "
      ]
     },
     "execution_count": 68,
     "metadata": {},
     "output_type": "execute_result"
    }
   ],
   "source": [
    "model = LogisticRegression(random_state=12345)\n",
    "model.fit(X_train_processed_down, y_train_down)\n",
    "\n",
    "y_train_prob_ones = model.predict_proba(X_train_processed_down)[:,1]\n",
    "y_test_prob_ones = model.predict_proba(X_test_processed_down)[:,1]\n",
    "\n",
    "highest_f1_score = 0\n",
    "best_threshold = 0\n",
    "\n",
    "logistic_regression_results = pd.DataFrame(columns=['threshold', 'recall_score', 'precision_score', 'recall_score'])\n",
    "\n",
    "n=0\n",
    "for threshold in np.arange(0.3, 0.8, 0.01):\n",
    "    predicted_train = y_train_prob_ones > threshold\n",
    "    predicted_test = y_test_prob_ones > threshold\n",
    "    current_f1 = f1_score(y_test, predicted_test)\n",
    "    \n",
    "    logistic_regression_results.loc[n, 'threshold'] = threshold \n",
    "    logistic_regression_results.loc[n, 'f1_score'] = current_f1\n",
    "    logistic_regression_results.loc[n, 'confusion_matrix'] = str(confusion_matrix(y_test, predicted_test)).replace('\\n', '*')\n",
    "    logistic_regression_results.loc[n, 'training_score'] = model.score(X_train_processed_down, y_train_down)\n",
    "    logistic_regression_results.loc[n, 'validation_score'] = model.score(X_test_processed_down, y_test)\n",
    "    logistic_regression_results.loc[n, 'recall_score'] = recall_score(y_test, predicted_test )\n",
    "    logistic_regression_results.loc[n, 'precision_score'] = precision_score(y_test, predicted_test)\n",
    "    \n",
    "    if current_f1 > highest_f1_score:\n",
    "        highest_f1_score = current_f1\n",
    "        best_threshold = threshold\n",
    "    n+=1\n",
    "\n",
    "\n",
    "n=0\n",
    "\n",
    "    \n",
    "logistic_regression_results\n"
   ]
  },
  {
   "cell_type": "code",
   "execution_count": 69,
   "metadata": {},
   "outputs": [
    {
     "data": {
      "application/vnd.microsoft.datawrangler.viewer.v0+json": {
       "columns": [
        {
         "name": "index",
         "rawType": "object",
         "type": "string"
        },
        {
         "name": "16",
         "rawType": "object",
         "type": "unknown"
        }
       ],
       "ref": "49b4808f-e466-4370-b85b-f0b9ac2b85b8",
       "rows": [
        [
         "threshold",
         "0.46000000000000013"
        ],
        [
         "recall_score",
         "0.75764192139738"
        ],
        [
         "precision_score",
         "0.35121457489878544"
        ],
        [
         "recall_score",
         "0.75764192139738"
        ],
        [
         "confusion_matrix",
         "[[1174  641]* [ 111  347]]"
        ],
        [
         "f1_score",
         "0.47994467496542187"
        ],
        [
         "training_score",
         "0.7042151162790697"
        ],
        [
         "validation_score",
         "0.6981962164540255"
        ]
       ],
       "shape": {
        "columns": 1,
        "rows": 8
       }
      },
      "text/plain": [
       "threshold                                 0.46\n",
       "recall_score                          0.757642\n",
       "precision_score                       0.351215\n",
       "recall_score                          0.757642\n",
       "confusion_matrix    [[1174  641]* [ 111  347]]\n",
       "f1_score                              0.479945\n",
       "training_score                        0.704215\n",
       "validation_score                      0.698196\n",
       "Name: 16, dtype: object"
      ]
     },
     "execution_count": 69,
     "metadata": {},
     "output_type": "execute_result"
    }
   ],
   "source": [
    "logistic_regression_results.iloc[logistic_regression_results['f1_score'].idxmax()]"
   ]
  },
  {
   "cell_type": "markdown",
   "metadata": {},
   "source": [
    "###### ROC curve"
   ]
  },
  {
   "cell_type": "code",
   "execution_count": 70,
   "metadata": {},
   "outputs": [
    {
     "name": "stdout",
     "output_type": "stream",
     "text": [
      "0.7022369386601225\n"
     ]
    },
    {
     "data": {
      "image/png": "[encoded data removed]",
      "text/plain": [
       "<Figure size 640x480 with 1 Axes>"
      ]
     },
     "metadata": {},
     "output_type": "display_data"
    }
   ],
   "source": [
    "predicted_test = model.predict_proba(X_test_processed_down)[:, 1]> best_threshold\n",
    "tpr, fpr, threshold = roc_curve(y_test, predicted_test.astype(int))\n",
    "\n",
    "\n",
    "plt.figure()\n",
    "plt.plot(tpr, fpr)\n",
    "plt.plot([0,1], [0,1], linestyle='--')\n",
    "print(roc_auc_score(y_test, predicted_test.astype(int)))"
   ]
  },
  {
   "cell_type": "markdown",
   "metadata": {},
   "source": [
    "### Upsample"
   ]
  },
  {
   "cell_type": "code",
   "execution_count": 71,
   "metadata": {},
   "outputs": [],
   "source": [
    "def upsample(features, target, repeat):\n",
    "    features_ones = features[target==1]\n",
    "    features_zeros = features[target==0]\n",
    "    target_ones = target[target==1]\n",
    "    target_zeros = target[target==0]\n",
    "    \n",
    "    features_upsampled = pd.concat([features_zeros]+[features_ones]*repeat)\n",
    "    target_upsampled = pd.concat([target_zeros]+[target_ones]*repeat)\n",
    "    \n",
    "    return shuffle(features_upsampled, target_upsampled, random_state=12345)"
   ]
  },
  {
   "cell_type": "code",
   "execution_count": 72,
   "metadata": {},
   "outputs": [
    {
     "name": "stdout",
     "output_type": "stream",
     "text": [
      "Exited\n",
      "1    5584\n",
      "0    5422\n",
      "Name: count, dtype: int64\n",
      "(11006, 10)\n"
     ]
    }
   ],
   "source": [
    "X_train_upsa, y_train_upsa = upsample(X_train, y_train, 4)\n",
    "print(y_train_upsa.value_counts())\n",
    "print(X_train_upsa.shape)"
   ]
  },
  {
   "cell_type": "code",
   "execution_count": 73,
   "metadata": {},
   "outputs": [],
   "source": [
    "encoder = OneHotEncoder(drop='first', handle_unknown='ignore', sparse_output=False)\n",
    "encoder.fit(X_train_upsa[categorical_columns])\n",
    "X_train_ups_enc = encoder.transform(X_train_upsa[categorical_columns])\n",
    "X_test_ups_enc = encoder.transform(X_test[categorical_columns])"
   ]
  },
  {
   "cell_type": "code",
   "execution_count": 74,
   "metadata": {},
   "outputs": [],
   "source": [
    "scaler = StandardScaler()\n",
    "scaler.fit(X_train_upsa[numeric_columns])\n",
    "X_train_ups_scaled = scaler.transform(X_train_upsa[numeric_columns])\n",
    "X_test_ups_scaled = scaler.transform(X_test[numeric_columns])"
   ]
  },
  {
   "cell_type": "code",
   "execution_count": 75,
   "metadata": {},
   "outputs": [],
   "source": [
    "X_train_processed_ups = np.hstack((X_train_ups_enc, X_train_ups_scaled))\n",
    "X_test_processed_ups = np.hstack((X_test_ups_enc, X_test_ups_scaled))"
   ]
  },
  {
   "cell_type": "markdown",
   "metadata": {},
   "source": [
    "#### Models"
   ]
  },
  {
   "cell_type": "markdown",
   "metadata": {},
   "source": [
    "##### Random Forest Classifier"
   ]
  },
  {
   "cell_type": "code",
   "execution_count": 76,
   "metadata": {},
   "outputs": [
    {
     "data": {
      "application/vnd.microsoft.datawrangler.viewer.v0+json": {
       "columns": [
        {
         "name": "index",
         "rawType": "int64",
         "type": "integer"
        },
        {
         "name": "max_depth",
         "rawType": "object",
         "type": "unknown"
        },
        {
         "name": "confusion_matrix",
         "rawType": "object",
         "type": "string"
        },
        {
         "name": "f1_score",
         "rawType": "object",
         "type": "unknown"
        },
        {
         "name": "training_score",
         "rawType": "object",
         "type": "unknown"
        },
        {
         "name": "validation_score",
         "rawType": "object",
         "type": "unknown"
        },
        {
         "name": "recall_score",
         "rawType": "object",
         "type": "unknown"
        },
        {
         "name": "precision_score",
         "rawType": "object",
         "type": "unknown"
        },
        {
         "name": "roc_auc",
         "rawType": "object",
         "type": "unknown"
        }
       ],
       "ref": "442356d5-eb59-4f8b-a797-0a01205d714b",
       "rows": [
        [
         "1",
         "1",
         "[[1381  434]* [ 171  287]]",
         "0.4868532654792197",
         "0.7062511357441396",
         "1.0",
         "0.6266375545851528",
         "0.39805825242718446",
         "0.7717678973137488"
        ],
        [
         "2",
         "2",
         "[[1398  417]* [ 153  305]]",
         "0.5169491525423728",
         "0.7288751590041795",
         "1.0",
         "0.665938864628821",
         "0.4224376731301939",
         "0.7959068653987271"
        ],
        [
         "3",
         "3",
         "[[1499  316]* [ 160  298]]",
         "0.5559701492537313",
         "0.7562238778847901",
         "1.0",
         "0.6506550218340611",
         "0.48534201954397393",
         "0.8171989846860828"
        ],
        [
         "4",
         "4",
         "[[1474  341]* [ 156  302]]",
         "0.5485921889191644",
         "0.7540432491368344",
         "1.0",
         "0.6593886462882096",
         "0.46967340590979784",
         "0.8230280173710106"
        ],
        [
         "5",
         "5",
         "[[1484  331]* [ 146  312]]",
         "0.5667574931880109",
         "0.7746683627112484",
         "1.0",
         "0.6812227074235808",
         "0.48522550544323484",
         "0.8369025707652147"
        ],
        [
         "6",
         "6",
         "[[1493  322]* [ 149  309]]",
         "0.5674931129476584",
         "0.7893876067599491",
         "1.0",
         "0.6746724890829694",
         "0.4896988906497623",
         "0.8363185246670757"
        ],
        [
         "7",
         "7",
         "[[1498  317]* [ 146  312]]",
         "0.5740570377184913",
         "0.806014900963111",
         "1.0",
         "0.6812227074235808",
         "0.4960254372019078",
         "0.8360111636411756"
        ],
        [
         "8",
         "8",
         "[[1498  317]* [ 144  314]]",
         "0.5766758494031221",
         "0.8271851717245139",
         "1.0",
         "0.6855895196506551",
         "0.4976228209191759",
         "0.8379184861717613"
        ],
        [
         "9",
         "9",
         "[[1500  315]* [ 151  307]]",
         "0.5685185185185185",
         "0.8478102852989279",
         "1.0",
         "0.6703056768558951",
         "0.49356913183279744",
         "0.8406648862583758"
        ],
        [
         "10",
         "10",
         "[[1536  279]* [ 163  295]]",
         "0.5717054263565892",
         "0.8855169907323278",
         "1.0",
         "0.6441048034934498",
         "0.5139372822299652",
         "0.8289893776991832"
        ],
        [
         "11",
         "11",
         "[[1553  262]* [ 173  285]]",
         "0.5671641791044776",
         "0.9184081410139924",
         "1.0",
         "0.6222707423580786",
         "0.5210237659963437",
         "0.8302200247813586"
        ],
        [
         "12",
         "12",
         "[[1568  247]* [ 179  279]]",
         "0.5670731707317073",
         "0.945211702707614",
         "1.0",
         "0.6091703056768559",
         "0.5304182509505704",
         "0.8259993744511409"
        ],
        [
         "13",
         "13",
         "[[1590  225]* [ 186  272]]",
         "0.5696335078534032",
         "0.9650190805015446",
         "1.0",
         "0.5938864628820961",
         "0.5472837022132797",
         "0.829219146606999"
        ],
        [
         "14",
         "14",
         "[[1596  219]* [ 196  262]]",
         "0.5580404685835996",
         "0.9791931673632565",
         "1.0",
         "0.5720524017467249",
         "0.5446985446985447",
         "0.8172440963826435"
        ],
        [
         "15",
         "15",
         "[[1615  200]* [ 204  254]]",
         "0.5570175438596491",
         "0.9862802107941123",
         "1.0",
         "0.5545851528384279",
         "0.5594713656387665",
         "0.8194780275963286"
        ]
       ],
       "shape": {
        "columns": 8,
        "rows": 15
       }
      },
      "text/html": [
       "<div>\n",
       "<style scoped>\n",
       "    .dataframe tbody tr th:only-of-type {\n",
       "        vertical-align: middle;\n",
       "    }\n",
       "\n",
       "    .dataframe tbody tr th {\n",
       "        vertical-align: top;\n",
       "    }\n",
       "\n",
       "    .dataframe thead th {\n",
       "        text-align: right;\n",
       "    }\n",
       "</style>\n",
       "<table border=\"1\" class=\"dataframe\">\n",
       "  <thead>\n",
       "    <tr style=\"text-align: right;\">\n",
       "      <th></th>\n",
       "      <th>max_depth</th>\n",
       "      <th>confusion_matrix</th>\n",
       "      <th>f1_score</th>\n",
       "      <th>training_score</th>\n",
       "      <th>validation_score</th>\n",
       "      <th>recall_score</th>\n",
       "      <th>precision_score</th>\n",
       "      <th>roc_auc</th>\n",
       "    </tr>\n",
       "  </thead>\n",
       "  <tbody>\n",
       "    <tr>\n",
       "      <th>1</th>\n",
       "      <td>1</td>\n",
       "      <td>[[1381  434]* [ 171  287]]</td>\n",
       "      <td>0.486853</td>\n",
       "      <td>0.706251</td>\n",
       "      <td>1.0</td>\n",
       "      <td>0.626638</td>\n",
       "      <td>0.398058</td>\n",
       "      <td>0.771768</td>\n",
       "    </tr>\n",
       "    <tr>\n",
       "      <th>2</th>\n",
       "      <td>2</td>\n",
       "      <td>[[1398  417]* [ 153  305]]</td>\n",
       "      <td>0.516949</td>\n",
       "      <td>0.728875</td>\n",
       "      <td>1.0</td>\n",
       "      <td>0.665939</td>\n",
       "      <td>0.422438</td>\n",
       "      <td>0.795907</td>\n",
       "    </tr>\n",
       "    <tr>\n",
       "      <th>3</th>\n",
       "      <td>3</td>\n",
       "      <td>[[1499  316]* [ 160  298]]</td>\n",
       "      <td>0.55597</td>\n",
       "      <td>0.756224</td>\n",
       "      <td>1.0</td>\n",
       "      <td>0.650655</td>\n",
       "      <td>0.485342</td>\n",
       "      <td>0.817199</td>\n",
       "    </tr>\n",
       "    <tr>\n",
       "      <th>4</th>\n",
       "      <td>4</td>\n",
       "      <td>[[1474  341]* [ 156  302]]</td>\n",
       "      <td>0.548592</td>\n",
       "      <td>0.754043</td>\n",
       "      <td>1.0</td>\n",
       "      <td>0.659389</td>\n",
       "      <td>0.469673</td>\n",
       "      <td>0.823028</td>\n",
       "    </tr>\n",
       "    <tr>\n",
       "      <th>5</th>\n",
       "      <td>5</td>\n",
       "      <td>[[1484  331]* [ 146  312]]</td>\n",
       "      <td>0.566757</td>\n",
       "      <td>0.774668</td>\n",
       "      <td>1.0</td>\n",
       "      <td>0.681223</td>\n",
       "      <td>0.485226</td>\n",
       "      <td>0.836903</td>\n",
       "    </tr>\n",
       "    <tr>\n",
       "      <th>6</th>\n",
       "      <td>6</td>\n",
       "      <td>[[1493  322]* [ 149  309]]</td>\n",
       "      <td>0.567493</td>\n",
       "      <td>0.789388</td>\n",
       "      <td>1.0</td>\n",
       "      <td>0.674672</td>\n",
       "      <td>0.489699</td>\n",
       "      <td>0.836319</td>\n",
       "    </tr>\n",
       "    <tr>\n",
       "      <th>7</th>\n",
       "      <td>7</td>\n",
       "      <td>[[1498  317]* [ 146  312]]</td>\n",
       "      <td>0.574057</td>\n",
       "      <td>0.806015</td>\n",
       "      <td>1.0</td>\n",
       "      <td>0.681223</td>\n",
       "      <td>0.496025</td>\n",
       "      <td>0.836011</td>\n",
       "    </tr>\n",
       "    <tr>\n",
       "      <th>8</th>\n",
       "      <td>8</td>\n",
       "      <td>[[1498  317]* [ 144  314]]</td>\n",
       "      <td>0.576676</td>\n",
       "      <td>0.827185</td>\n",
       "      <td>1.0</td>\n",
       "      <td>0.68559</td>\n",
       "      <td>0.497623</td>\n",
       "      <td>0.837918</td>\n",
       "    </tr>\n",
       "    <tr>\n",
       "      <th>9</th>\n",
       "      <td>9</td>\n",
       "      <td>[[1500  315]* [ 151  307]]</td>\n",
       "      <td>0.568519</td>\n",
       "      <td>0.84781</td>\n",
       "      <td>1.0</td>\n",
       "      <td>0.670306</td>\n",
       "      <td>0.493569</td>\n",
       "      <td>0.840665</td>\n",
       "    </tr>\n",
       "    <tr>\n",
       "      <th>10</th>\n",
       "      <td>10</td>\n",
       "      <td>[[1536  279]* [ 163  295]]</td>\n",
       "      <td>0.571705</td>\n",
       "      <td>0.885517</td>\n",
       "      <td>1.0</td>\n",
       "      <td>0.644105</td>\n",
       "      <td>0.513937</td>\n",
       "      <td>0.828989</td>\n",
       "    </tr>\n",
       "    <tr>\n",
       "      <th>11</th>\n",
       "      <td>11</td>\n",
       "      <td>[[1553  262]* [ 173  285]]</td>\n",
       "      <td>0.567164</td>\n",
       "      <td>0.918408</td>\n",
       "      <td>1.0</td>\n",
       "      <td>0.622271</td>\n",
       "      <td>0.521024</td>\n",
       "      <td>0.83022</td>\n",
       "    </tr>\n",
       "    <tr>\n",
       "      <th>12</th>\n",
       "      <td>12</td>\n",
       "      <td>[[1568  247]* [ 179  279]]</td>\n",
       "      <td>0.567073</td>\n",
       "      <td>0.945212</td>\n",
       "      <td>1.0</td>\n",
       "      <td>0.60917</td>\n",
       "      <td>0.530418</td>\n",
       "      <td>0.825999</td>\n",
       "    </tr>\n",
       "    <tr>\n",
       "      <th>13</th>\n",
       "      <td>13</td>\n",
       "      <td>[[1590  225]* [ 186  272]]</td>\n",
       "      <td>0.569634</td>\n",
       "      <td>0.965019</td>\n",
       "      <td>1.0</td>\n",
       "      <td>0.593886</td>\n",
       "      <td>0.547284</td>\n",
       "      <td>0.829219</td>\n",
       "    </tr>\n",
       "    <tr>\n",
       "      <th>14</th>\n",
       "      <td>14</td>\n",
       "      <td>[[1596  219]* [ 196  262]]</td>\n",
       "      <td>0.55804</td>\n",
       "      <td>0.979193</td>\n",
       "      <td>1.0</td>\n",
       "      <td>0.572052</td>\n",
       "      <td>0.544699</td>\n",
       "      <td>0.817244</td>\n",
       "    </tr>\n",
       "    <tr>\n",
       "      <th>15</th>\n",
       "      <td>15</td>\n",
       "      <td>[[1615  200]* [ 204  254]]</td>\n",
       "      <td>0.557018</td>\n",
       "      <td>0.98628</td>\n",
       "      <td>1.0</td>\n",
       "      <td>0.554585</td>\n",
       "      <td>0.559471</td>\n",
       "      <td>0.819478</td>\n",
       "    </tr>\n",
       "  </tbody>\n",
       "</table>\n",
       "</div>"
      ],
      "text/plain": [
       "   max_depth            confusion_matrix  f1_score training_score  \\\n",
       "1          1  [[1381  434]* [ 171  287]]  0.486853       0.706251   \n",
       "2          2  [[1398  417]* [ 153  305]]  0.516949       0.728875   \n",
       "3          3  [[1499  316]* [ 160  298]]   0.55597       0.756224   \n",
       "4          4  [[1474  341]* [ 156  302]]  0.548592       0.754043   \n",
       "5          5  [[1484  331]* [ 146  312]]  0.566757       0.774668   \n",
       "6          6  [[1493  322]* [ 149  309]]  0.567493       0.789388   \n",
       "7          7  [[1498  317]* [ 146  312]]  0.574057       0.806015   \n",
       "8          8  [[1498  317]* [ 144  314]]  0.576676       0.827185   \n",
       "9          9  [[1500  315]* [ 151  307]]  0.568519        0.84781   \n",
       "10        10  [[1536  279]* [ 163  295]]  0.571705       0.885517   \n",
       "11        11  [[1553  262]* [ 173  285]]  0.567164       0.918408   \n",
       "12        12  [[1568  247]* [ 179  279]]  0.567073       0.945212   \n",
       "13        13  [[1590  225]* [ 186  272]]  0.569634       0.965019   \n",
       "14        14  [[1596  219]* [ 196  262]]   0.55804       0.979193   \n",
       "15        15  [[1615  200]* [ 204  254]]  0.557018        0.98628   \n",
       "\n",
       "   validation_score recall_score precision_score   roc_auc  \n",
       "1               1.0     0.626638        0.398058  0.771768  \n",
       "2               1.0     0.665939        0.422438  0.795907  \n",
       "3               1.0     0.650655        0.485342  0.817199  \n",
       "4               1.0     0.659389        0.469673  0.823028  \n",
       "5               1.0     0.681223        0.485226  0.836903  \n",
       "6               1.0     0.674672        0.489699  0.836319  \n",
       "7               1.0     0.681223        0.496025  0.836011  \n",
       "8               1.0      0.68559        0.497623  0.837918  \n",
       "9               1.0     0.670306        0.493569  0.840665  \n",
       "10              1.0     0.644105        0.513937  0.828989  \n",
       "11              1.0     0.622271        0.521024   0.83022  \n",
       "12              1.0      0.60917        0.530418  0.825999  \n",
       "13              1.0     0.593886        0.547284  0.829219  \n",
       "14              1.0     0.572052        0.544699  0.817244  \n",
       "15              1.0     0.554585        0.559471  0.819478  "
      ]
     },
     "execution_count": 76,
     "metadata": {},
     "output_type": "execute_result"
    }
   ],
   "source": [
    "random_forest_results = pd.DataFrame(columns=['max_depth', 'confusion_matrix', 'f1_score', 'training_score', 'validation_score', 'recall_score', 'precision_score', 'roc_auc'])\n",
    "n=1\n",
    "for depth in range(1, 16):\n",
    "    model = RandomForestClassifier(random_state=12345, max_depth=depth, n_estimators=20, class_weight='balanced')\n",
    "    model.fit(X_train_processed_ups, y_train_upsa)\n",
    "\n",
    "    predicted_test = model.predict(X_test_processed_ups)\n",
    "    proba_test = model.predict_proba(X_test_processed_ups)[:, 1] #TODO: Try different thresholds for the probabilities\n",
    "    \n",
    "    random_forest_results.loc[n, 'max_depth'] = depth \n",
    "    random_forest_results.loc[n, 'confusion_matrix'] = str(confusion_matrix(y_test, predicted_test)).replace('\\n', '*')\n",
    "    random_forest_results.loc[n, 'f1_score'] = f1_score(y_test, predicted_test)\n",
    "    random_forest_results.loc[n, 'training_score'] = model.score(X_train_processed_ups, y_train_upsa)\n",
    "    random_forest_results.loc[n, 'validation_score'] = model.score(X_test_processed_ups, predicted_test)\n",
    "    random_forest_results.loc[n, 'recall_score'] = recall_score(y_test, predicted_test)\n",
    "    random_forest_results.loc[n, 'precision_score'] = precision_score(y_test, predicted_test)\n",
    "    random_forest_results.loc[n, 'roc_auc'] = roc_auc_score(y_test, proba_test)\n",
    "    n += 1\n",
    "random_forest_results"
   ]
  },
  {
   "cell_type": "code",
   "execution_count": 77,
   "metadata": {},
   "outputs": [
    {
     "data": {
      "application/vnd.microsoft.datawrangler.viewer.v0+json": {
       "columns": [
        {
         "name": "index",
         "rawType": "object",
         "type": "string"
        },
        {
         "name": "9",
         "rawType": "object",
         "type": "unknown"
        }
       ],
       "ref": "bf613690-8ca6-4d1f-9389-9c0efc7a126e",
       "rows": [
        [
         "max_depth",
         "9"
        ],
        [
         "confusion_matrix",
         "[[1500  315]* [ 151  307]]"
        ],
        [
         "f1_score",
         "0.5685185185185185"
        ],
        [
         "training_score",
         "0.8478102852989279"
        ],
        [
         "validation_score",
         "1.0"
        ],
        [
         "recall_score",
         "0.6703056768558951"
        ],
        [
         "precision_score",
         "0.49356913183279744"
        ],
        [
         "roc_auc",
         "0.8406648862583758"
        ]
       ],
       "shape": {
        "columns": 1,
        "rows": 8
       }
      },
      "text/plain": [
       "max_depth                                    9\n",
       "confusion_matrix    [[1500  315]* [ 151  307]]\n",
       "f1_score                              0.568519\n",
       "training_score                         0.84781\n",
       "validation_score                           1.0\n",
       "recall_score                          0.670306\n",
       "precision_score                       0.493569\n",
       "roc_auc                               0.840665\n",
       "Name: 9, dtype: object"
      ]
     },
     "execution_count": 77,
     "metadata": {},
     "output_type": "execute_result"
    }
   ],
   "source": [
    "best_model_i = int(random_forest_results['roc_auc'].idxmax())\n",
    "best_model_data = random_forest_results.iloc[best_model_i-1]\n",
    "best_model_data"
   ]
  },
  {
   "cell_type": "code",
   "execution_count": 78,
   "metadata": {},
   "outputs": [
    {
     "data": {
      "text/plain": [
       "Text(0.5, 1.0, 'Upsample with Random Forest Classifier ROC plot (ROC-AUC = 0.8355756853970431 )')"
      ]
     },
     "execution_count": 78,
     "metadata": {},
     "output_type": "execute_result"
    },
    {
     "data": {
      "image/png": "[encoded data removed]",
      "text/plain": [
       "<Figure size 640x480 with 1 Axes>"
      ]
     },
     "metadata": {},
     "output_type": "display_data"
    }
   ],
   "source": [
    "best_model = RandomForestClassifier(random_state=12345, n_estimators=20, max_depth=best_model_data['max_depth'])\n",
    "best_model.fit(X_train_processed_ups, y_train_upsa)\n",
    "\n",
    "probabilities = best_model.predict_proba(X_test_processed_ups)[:,1]\n",
    "\n",
    "fpr, tpr, threshold = roc_curve(y_test, probabilities)\n",
    "roc_auc = roc_auc_score(y_test, probabilities)\n",
    "\n",
    "plt.figure()\n",
    "plt.plot(fpr, tpr)\n",
    "plt.plot([0,1],[0,1], linestyle='--')\n",
    "plt.title(f'Upsample with Random Forest Classifier ROC plot (ROC-AUC = {roc_auc} )')"
   ]
  },
  {
   "cell_type": "markdown",
   "metadata": {},
   "source": [
    "##### Logistic REgression Classifier"
   ]
  },
  {
   "cell_type": "code",
   "execution_count": 79,
   "metadata": {},
   "outputs": [
    {
     "data": {
      "application/vnd.microsoft.datawrangler.viewer.v0+json": {
       "columns": [
        {
         "name": "index",
         "rawType": "int64",
         "type": "integer"
        },
        {
         "name": "threshold",
         "rawType": "object",
         "type": "unknown"
        },
        {
         "name": "recall_score",
         "rawType": "object",
         "type": "unknown"
        },
        {
         "name": "precision_score",
         "rawType": "object",
         "type": "unknown"
        },
        {
         "name": "recall_score",
         "rawType": "object",
         "type": "unknown"
        },
        {
         "name": "auc_roc",
         "rawType": "object",
         "type": "unknown"
        },
        {
         "name": "confusion_matrix",
         "rawType": "object",
         "type": "string"
        },
        {
         "name": "f1_score",
         "rawType": "float64",
         "type": "float"
        },
        {
         "name": "training_score",
         "rawType": "float64",
         "type": "float"
        },
        {
         "name": "validation_score",
         "rawType": "float64",
         "type": "float"
        }
       ],
       "ref": "b30b6887-ea41-4dab-b54e-bedcaa2d5406",
       "rows": [
        [
         "0",
         "0.0",
         "1.0",
         "0.2014958205015398",
         "1.0",
         "0.7401506129175839",
         "[[   0 1815]* [   0  458]]",
         "0.33540827535701206",
         "0.7044339451208432",
         "0.6959964804223493"
        ],
        [
         "1",
         "0.01",
         "1.0",
         "0.2014958205015398",
         "1.0",
         "0.7401506129175839",
         "[[   0 1815]* [   0  458]]",
         "0.33540827535701206",
         "0.7044339451208432",
         "0.6959964804223493"
        ],
        [
         "2",
         "0.02",
         "1.0",
         "0.2014958205015398",
         "1.0",
         "0.7401506129175839",
         "[[   0 1815]* [   0  458]]",
         "0.33540827535701206",
         "0.7044339451208432",
         "0.6959964804223493"
        ],
        [
         "3",
         "0.03",
         "1.0",
         "0.2014958205015398",
         "1.0",
         "0.7401506129175839",
         "[[   0 1815]* [   0  458]]",
         "0.33540827535701206",
         "0.7044339451208432",
         "0.6959964804223493"
        ],
        [
         "4",
         "0.04",
         "1.0",
         "0.2014958205015398",
         "1.0",
         "0.7401506129175839",
         "[[   0 1815]* [   0  458]]",
         "0.33540827535701206",
         "0.7044339451208432",
         "0.6959964804223493"
        ],
        [
         "5",
         "0.05",
         "1.0",
         "0.2014958205015398",
         "1.0",
         "0.7401506129175839",
         "[[   0 1815]* [   0  458]]",
         "0.33540827535701206",
         "0.7044339451208432",
         "0.6959964804223493"
        ],
        [
         "6",
         "0.06",
         "1.0",
         "0.2014958205015398",
         "1.0",
         "0.7401506129175839",
         "[[   0 1815]* [   0  458]]",
         "0.33540827535701206",
         "0.7044339451208432",
         "0.6959964804223493"
        ],
        [
         "7",
         "0.07",
         "0.9978165938864629",
         "0.20141031291317762",
         "0.9978165938864629",
         "0.7401506129175839",
         "[[   3 1812]* [   1  457]]",
         "0.3351668500183352",
         "0.7044339451208432",
         "0.6959964804223493"
        ],
        [
         "8",
         "0.08",
         "0.9978165938864629",
         "0.20149911816578484",
         "0.9978165938864629",
         "0.7401506129175839",
         "[[   4 1811]* [   1  457]]",
         "0.33528980190755686",
         "0.7044339451208432",
         "0.6959964804223493"
        ],
        [
         "9",
         "0.09",
         "0.9978165938864629",
         "0.20176600441501102",
         "0.9978165938864629",
         "0.7401506129175839",
         "[[   7 1808]* [   1  457]]",
         "0.3356591994124128",
         "0.7044339451208432",
         "0.6959964804223493"
        ],
        [
         "10",
         "0.1",
         "0.9956331877729258",
         "0.20185922974767595",
         "0.9956331877729258",
         "0.7401506129175839",
         "[[  12 1803]* [   2  456]]",
         "0.3356643356643357",
         "0.7044339451208432",
         "0.6959964804223493"
        ],
        [
         "11",
         "0.11",
         "0.9956331877729258",
         "0.20266666666666666",
         "0.9956331877729258",
         "0.7401506129175839",
         "[[  21 1794]* [   2  456]]",
         "0.33677991137370755",
         "0.7044339451208432",
         "0.6959964804223493"
        ],
        [
         "12",
         "0.12",
         "0.9956331877729258",
         "0.20384443451050513",
         "0.9956331877729258",
         "0.7401506129175839",
         "[[  34 1781]* [   2  456]]",
         "0.338404452690167",
         "0.7044339451208432",
         "0.6959964804223493"
        ],
        [
         "13",
         "0.13",
         "0.9956331877729258",
         "0.20568335588633288",
         "0.9956331877729258",
         "0.7401506129175839",
         "[[  54 1761]* [   2  456]]",
         "0.3409345794392523",
         "0.7044339451208432",
         "0.6959964804223493"
        ],
        [
         "14",
         "0.14",
         "0.9934497816593887",
         "0.20653654108034497",
         "0.9934497816593887",
         "0.7401506129175839",
         "[[  67 1748]* [   3  455]]",
         "0.3419767004885381",
         "0.7044339451208432",
         "0.6959964804223493"
        ],
        [
         "15",
         "0.15",
         "0.9890829694323144",
         "0.20818014705882354",
         "0.9890829694323144",
         "0.7401506129175839",
         "[[  92 1723]* [   5  453]]",
         "0.3439635535307517",
         "0.7044339451208432",
         "0.6959964804223493"
        ],
        [
         "16",
         "0.16",
         "0.9868995633187773",
         "0.2101348210134821",
         "0.9868995633187773",
         "0.7401506129175839",
         "[[ 116 1699]* [   6  452]]",
         "0.34649290916059794",
         "0.7044339451208432",
         "0.6959964804223493"
        ],
        [
         "17",
         "0.17",
         "0.9868995633187773",
         "0.21121495327102804",
         "0.9868995633187773",
         "0.7401506129175839",
         "[[ 127 1688]* [   6  452]]",
         "0.3479599692070824",
         "0.7044339451208432",
         "0.6959964804223493"
        ],
        [
         "18",
         "0.18",
         "0.980349344978166",
         "0.21370775821037602",
         "0.980349344978166",
         "0.7401506129175839",
         "[[ 163 1652]* [   9  449]]",
         "0.3509183274716686",
         "0.7044339451208432",
         "0.6959964804223493"
        ],
        [
         "19",
         "0.19",
         "0.9759825327510917",
         "0.21604639922667956",
         "0.9759825327510917",
         "0.7401506129175839",
         "[[ 193 1622]* [  11  447]]",
         "0.3537791848041156",
         "0.7044339451208432",
         "0.6959964804223493"
        ],
        [
         "20",
         "0.2",
         "0.9737991266375546",
         "0.21809290953545232",
         "0.9737991266375546",
         "0.7401506129175839",
         "[[ 216 1599]* [  12  446]]",
         "0.3563723531761886",
         "0.7044339451208432",
         "0.6959964804223493"
        ],
        [
         "21",
         "0.21",
         "0.9650655021834061",
         "0.22088955522238882",
         "0.9650655021834061",
         "0.7401506129175839",
         "[[ 256 1559]* [  16  442]]",
         "0.3594957299715331",
         "0.7044339451208432",
         "0.6959964804223493"
        ],
        [
         "22",
         "0.22",
         "0.9585152838427947",
         "0.22386537480877103",
         "0.9585152838427947",
         "0.7401506129175839",
         "[[ 293 1522]* [  19  439]]",
         "0.36295990078544854",
         "0.7044339451208432",
         "0.6959964804223493"
        ],
        [
         "23",
         "0.23",
         "0.9519650655021834",
         "0.22696512233211869",
         "0.9519650655021834",
         "0.7401506129175839",
         "[[ 330 1485]* [  22  436]]",
         "0.36654056326187473",
         "0.7044339451208432",
         "0.6959964804223493"
        ],
        [
         "24",
         "0.24",
         "0.9454148471615721",
         "0.23130341880341881",
         "0.9454148471615721",
         "0.7401506129175839",
         "[[ 376 1439]* [  25  433]]",
         "0.37167381974248925",
         "0.7044339451208432",
         "0.6959964804223493"
        ],
        [
         "25",
         "0.25",
         "0.9410480349344978",
         "0.23577680525164113",
         "0.9410480349344978",
         "0.7401506129175839",
         "[[ 418 1397]* [  27  431]]",
         "0.37707786526684167",
         "0.7044339451208432",
         "0.6959964804223493"
        ],
        [
         "26",
         "0.26",
         "0.9366812227074236",
         "0.2392638036809816",
         "0.9366812227074236",
         "0.7401506129175839",
         "[[ 451 1364]* [  29  429]]",
         "0.3811639271434918",
         "0.7044339451208432",
         "0.6959964804223493"
        ],
        [
         "27",
         "0.27",
         "0.9301310043668122",
         "0.2437070938215103",
         "0.9301310043668122",
         "0.7401506129175839",
         "[[ 493 1322]* [  32  426]]",
         "0.386219401631913",
         "0.7044339451208432",
         "0.6959964804223493"
        ],
        [
         "28",
         "0.28",
         "0.9235807860262009",
         "0.2472238457042665",
         "0.9235807860262009",
         "0.7401506129175839",
         "[[ 527 1288]* [  35  423]]",
         "0.3900414937759336",
         "0.7044339451208432",
         "0.6959964804223493"
        ],
        [
         "29",
         "0.29",
         "0.9170305676855895",
         "0.2497027348394768",
         "0.9170305676855895",
         "0.7401506129175839",
         "[[ 553 1262]* [  38  420]]",
         "0.3925233644859813",
         "0.7044339451208432",
         "0.6959964804223493"
        ],
        [
         "30",
         "0.3",
         "0.9082969432314411",
         "0.2535039609993906",
         "0.9082969432314411",
         "0.7401506129175839",
         "[[ 590 1225]* [  42  416]]",
         "0.39637922820390664",
         "0.7044339451208432",
         "0.6959964804223493"
        ],
        [
         "31",
         "0.31",
         "0.9017467248908297",
         "0.25780274656679153",
         "0.9017467248908297",
         "0.7401506129175839",
         "[[ 626 1189]* [  45  413]]",
         "0.4009708737864078",
         "0.7044339451208432",
         "0.6959964804223493"
        ],
        [
         "32",
         "0.32",
         "0.8951965065502183",
         "0.26298909557408595",
         "0.8951965065502183",
         "0.7401506129175839",
         "[[ 666 1149]* [  48  410]]",
         "0.40654437283093703",
         "0.7044339451208432",
         "0.6959964804223493"
        ],
        [
         "33",
         "0.33",
         "0.8908296943231441",
         "0.26754098360655737",
         "0.8908296943231441",
         "0.7401506129175839",
         "[[ 698 1117]* [  50  408]]",
         "0.4114977307110439",
         "0.7044339451208432",
         "0.6959964804223493"
        ],
        [
         "34",
         "0.34",
         "0.8799126637554585",
         "0.2706514439220954",
         "0.8799126637554585",
         "0.7401506129175839",
         "[[ 729 1086]* [  55  403]]",
         "0.4139702105803801",
         "0.7044339451208432",
         "0.6959964804223493"
        ],
        [
         "35",
         "0.35000000000000003",
         "0.868995633187773",
         "0.2763888888888889",
         "0.868995633187773",
         "0.7401506129175839",
         "[[ 773 1042]* [  60  398]]",
         "0.41938883034773444",
         "0.7044339451208432",
         "0.6959964804223493"
        ],
        [
         "36",
         "0.36",
         "0.8558951965065502",
         "0.28303249097472927",
         "0.8558951965065502",
         "0.7401506129175839",
         "[[822 993]* [ 66 392]]",
         "0.42539338035811175",
         "0.7044339451208432",
         "0.6959964804223493"
        ],
        [
         "37",
         "0.37",
         "0.8471615720524017",
         "0.28869047619047616",
         "0.8471615720524017",
         "0.7401506129175839",
         "[[859 956]* [ 70 388]]",
         "0.4306326304106548",
         "0.7044339451208432",
         "0.6959964804223493"
        ],
        [
         "38",
         "0.38",
         "0.8384279475982532",
         "0.29583975346687214",
         "0.8384279475982532",
         "0.7401506129175839",
         "[[901 914]* [ 74 384]]",
         "0.43735763097949887",
         "0.7044339451208432",
         "0.6959964804223493"
        ],
        [
         "39",
         "0.39",
         "0.8318777292576419",
         "0.3019017432646593",
         "0.8318777292576419",
         "0.7401506129175839",
         "[[934 881]* [ 77 381]]",
         "0.44302325581395346",
         "0.7044339451208432",
         "0.6959964804223493"
        ],
        [
         "40",
         "0.4",
         "0.8253275109170306",
         "0.3111111111111111",
         "0.8253275109170306",
         "0.7401506129175839",
         "[[978 837]* [ 80 378]]",
         "0.45188284518828453",
         "0.7044339451208432",
         "0.6959964804223493"
        ],
        [
         "41",
         "0.41000000000000003",
         "0.8144104803493449",
         "0.3169073916737468",
         "0.8144104803493449",
         "0.7401506129175839",
         "[[1011  804]* [  85  373]]",
         "0.4562691131498471",
         "0.7044339451208432",
         "0.6959964804223493"
        ],
        [
         "42",
         "0.42",
         "0.8078602620087336",
         "0.3274336283185841",
         "0.8078602620087336",
         "0.7401506129175839",
         "[[1055  760]* [  88  370]]",
         "0.4659949622166247",
         "0.7044339451208432",
         "0.6959964804223493"
        ],
        [
         "43",
         "0.43",
         "0.7991266375545851",
         "0.33516483516483514",
         "0.7991266375545851",
         "0.7401506129175839",
         "[[1089  726]* [  92  366]]",
         "0.472258064516129",
         "0.7044339451208432",
         "0.6959964804223493"
        ],
        [
         "44",
         "0.44",
         "0.7816593886462883",
         "0.3403041825095057",
         "0.7816593886462883",
         "0.7401506129175839",
         "[[1121  694]* [ 100  358]]",
         "0.4741721854304636",
         "0.7044339451208432",
         "0.6959964804223493"
        ],
        [
         "45",
         "0.45",
         "0.7707423580786026",
         "0.34573947110675807",
         "0.7707423580786026",
         "0.7401506129175839",
         "[[1147  668]* [ 105  353]]",
         "0.47734956051386074",
         "0.7044339451208432",
         "0.6959964804223493"
        ],
        [
         "46",
         "0.46",
         "0.7554585152838428",
         "0.3527013251783894",
         "0.7554585152838428",
         "0.7401506129175839",
         "[[1180  635]* [ 112  346]]",
         "0.4808895066018068",
         "0.7044339451208432",
         "0.6959964804223493"
        ],
        [
         "47",
         "0.47000000000000003",
         "0.7336244541484717",
         "0.35668789808917195",
         "0.7336244541484717",
         "0.7401506129175839",
         "[[1209  606]* [ 122  336]]",
         "0.48",
         "0.7044339451208432",
         "0.6959964804223493"
        ],
        [
         "48",
         "0.48",
         "0.722707423580786",
         "0.3641364136413641",
         "0.722707423580786",
         "0.7401506129175839",
         "[[1237  578]* [ 127  331]]",
         "0.4842721287490856",
         "0.7044339451208432",
         "0.6959964804223493"
        ],
        [
         "49",
         "0.49",
         "0.7030567685589519",
         "0.3646659116647792",
         "0.7030567685589519",
         "0.7401506129175839",
         "[[1254  561]* [ 136  322]]",
         "0.4802386278896346",
         "0.7044339451208432",
         "0.6959964804223493"
        ]
       ],
       "shape": {
        "columns": 9,
        "rows": 75
       }
      },
      "text/html": [
       "<div>\n",
       "<style scoped>\n",
       "    .dataframe tbody tr th:only-of-type {\n",
       "        vertical-align: middle;\n",
       "    }\n",
       "\n",
       "    .dataframe tbody tr th {\n",
       "        vertical-align: top;\n",
       "    }\n",
       "\n",
       "    .dataframe thead th {\n",
       "        text-align: right;\n",
       "    }\n",
       "</style>\n",
       "<table border=\"1\" class=\"dataframe\">\n",
       "  <thead>\n",
       "    <tr style=\"text-align: right;\">\n",
       "      <th></th>\n",
       "      <th>threshold</th>\n",
       "      <th>recall_score</th>\n",
       "      <th>precision_score</th>\n",
       "      <th>recall_score</th>\n",
       "      <th>auc_roc</th>\n",
       "      <th>confusion_matrix</th>\n",
       "      <th>f1_score</th>\n",
       "      <th>training_score</th>\n",
       "      <th>validation_score</th>\n",
       "    </tr>\n",
       "  </thead>\n",
       "  <tbody>\n",
       "    <tr>\n",
       "      <th>0</th>\n",
       "      <td>0.0</td>\n",
       "      <td>1.0</td>\n",
       "      <td>0.201496</td>\n",
       "      <td>1.0</td>\n",
       "      <td>0.740151</td>\n",
       "      <td>[[   0 1815]* [   0  458]]</td>\n",
       "      <td>0.335408</td>\n",
       "      <td>0.704434</td>\n",
       "      <td>0.695996</td>\n",
       "    </tr>\n",
       "    <tr>\n",
       "      <th>1</th>\n",
       "      <td>0.01</td>\n",
       "      <td>1.0</td>\n",
       "      <td>0.201496</td>\n",
       "      <td>1.0</td>\n",
       "      <td>0.740151</td>\n",
       "      <td>[[   0 1815]* [   0  458]]</td>\n",
       "      <td>0.335408</td>\n",
       "      <td>0.704434</td>\n",
       "      <td>0.695996</td>\n",
       "    </tr>\n",
       "    <tr>\n",
       "      <th>2</th>\n",
       "      <td>0.02</td>\n",
       "      <td>1.0</td>\n",
       "      <td>0.201496</td>\n",
       "      <td>1.0</td>\n",
       "      <td>0.740151</td>\n",
       "      <td>[[   0 1815]* [   0  458]]</td>\n",
       "      <td>0.335408</td>\n",
       "      <td>0.704434</td>\n",
       "      <td>0.695996</td>\n",
       "    </tr>\n",
       "    <tr>\n",
       "      <th>3</th>\n",
       "      <td>0.03</td>\n",
       "      <td>1.0</td>\n",
       "      <td>0.201496</td>\n",
       "      <td>1.0</td>\n",
       "      <td>0.740151</td>\n",
       "      <td>[[   0 1815]* [   0  458]]</td>\n",
       "      <td>0.335408</td>\n",
       "      <td>0.704434</td>\n",
       "      <td>0.695996</td>\n",
       "    </tr>\n",
       "    <tr>\n",
       "      <th>4</th>\n",
       "      <td>0.04</td>\n",
       "      <td>1.0</td>\n",
       "      <td>0.201496</td>\n",
       "      <td>1.0</td>\n",
       "      <td>0.740151</td>\n",
       "      <td>[[   0 1815]* [   0  458]]</td>\n",
       "      <td>0.335408</td>\n",
       "      <td>0.704434</td>\n",
       "      <td>0.695996</td>\n",
       "    </tr>\n",
       "    <tr>\n",
       "      <th>...</th>\n",
       "      <td>...</td>\n",
       "      <td>...</td>\n",
       "      <td>...</td>\n",
       "      <td>...</td>\n",
       "      <td>...</td>\n",
       "      <td>...</td>\n",
       "      <td>...</td>\n",
       "      <td>...</td>\n",
       "      <td>...</td>\n",
       "    </tr>\n",
       "    <tr>\n",
       "      <th>70</th>\n",
       "      <td>0.7</td>\n",
       "      <td>0.31441</td>\n",
       "      <td>0.429851</td>\n",
       "      <td>0.31441</td>\n",
       "      <td>0.740151</td>\n",
       "      <td>[[1624  191]* [ 314  144]]</td>\n",
       "      <td>0.363178</td>\n",
       "      <td>0.704434</td>\n",
       "      <td>0.695996</td>\n",
       "    </tr>\n",
       "    <tr>\n",
       "      <th>71</th>\n",
       "      <td>0.71</td>\n",
       "      <td>0.30131</td>\n",
       "      <td>0.445161</td>\n",
       "      <td>0.30131</td>\n",
       "      <td>0.740151</td>\n",
       "      <td>[[1643  172]* [ 320  138]]</td>\n",
       "      <td>0.359375</td>\n",
       "      <td>0.704434</td>\n",
       "      <td>0.695996</td>\n",
       "    </tr>\n",
       "    <tr>\n",
       "      <th>72</th>\n",
       "      <td>0.72</td>\n",
       "      <td>0.28821</td>\n",
       "      <td>0.44898</td>\n",
       "      <td>0.28821</td>\n",
       "      <td>0.740151</td>\n",
       "      <td>[[1653  162]* [ 326  132]]</td>\n",
       "      <td>0.351064</td>\n",
       "      <td>0.704434</td>\n",
       "      <td>0.695996</td>\n",
       "    </tr>\n",
       "    <tr>\n",
       "      <th>73</th>\n",
       "      <td>0.73</td>\n",
       "      <td>0.279476</td>\n",
       "      <td>0.458781</td>\n",
       "      <td>0.279476</td>\n",
       "      <td>0.740151</td>\n",
       "      <td>[[1664  151]* [ 330  128]]</td>\n",
       "      <td>0.347354</td>\n",
       "      <td>0.704434</td>\n",
       "      <td>0.695996</td>\n",
       "    </tr>\n",
       "    <tr>\n",
       "      <th>74</th>\n",
       "      <td>0.74</td>\n",
       "      <td>0.264192</td>\n",
       "      <td>0.467181</td>\n",
       "      <td>0.264192</td>\n",
       "      <td>0.740151</td>\n",
       "      <td>[[1677  138]* [ 337  121]]</td>\n",
       "      <td>0.337517</td>\n",
       "      <td>0.704434</td>\n",
       "      <td>0.695996</td>\n",
       "    </tr>\n",
       "  </tbody>\n",
       "</table>\n",
       "<p>75 rows × 9 columns</p>\n",
       "</div>"
      ],
      "text/plain": [
       "   threshold recall_score precision_score recall_score   auc_roc  \\\n",
       "0        0.0          1.0        0.201496          1.0  0.740151   \n",
       "1       0.01          1.0        0.201496          1.0  0.740151   \n",
       "2       0.02          1.0        0.201496          1.0  0.740151   \n",
       "3       0.03          1.0        0.201496          1.0  0.740151   \n",
       "4       0.04          1.0        0.201496          1.0  0.740151   \n",
       "..       ...          ...             ...          ...       ...   \n",
       "70       0.7      0.31441        0.429851      0.31441  0.740151   \n",
       "71      0.71      0.30131        0.445161      0.30131  0.740151   \n",
       "72      0.72      0.28821         0.44898      0.28821  0.740151   \n",
       "73      0.73     0.279476        0.458781     0.279476  0.740151   \n",
       "74      0.74     0.264192        0.467181     0.264192  0.740151   \n",
       "\n",
       "              confusion_matrix  f1_score  training_score  validation_score  \n",
       "0   [[   0 1815]* [   0  458]]  0.335408        0.704434          0.695996  \n",
       "1   [[   0 1815]* [   0  458]]  0.335408        0.704434          0.695996  \n",
       "2   [[   0 1815]* [   0  458]]  0.335408        0.704434          0.695996  \n",
       "3   [[   0 1815]* [   0  458]]  0.335408        0.704434          0.695996  \n",
       "4   [[   0 1815]* [   0  458]]  0.335408        0.704434          0.695996  \n",
       "..                         ...       ...             ...               ...  \n",
       "70  [[1624  191]* [ 314  144]]  0.363178        0.704434          0.695996  \n",
       "71  [[1643  172]* [ 320  138]]  0.359375        0.704434          0.695996  \n",
       "72  [[1653  162]* [ 326  132]]  0.351064        0.704434          0.695996  \n",
       "73  [[1664  151]* [ 330  128]]  0.347354        0.704434          0.695996  \n",
       "74  [[1677  138]* [ 337  121]]  0.337517        0.704434          0.695996  \n",
       "\n",
       "[75 rows x 9 columns]"
      ]
     },
     "execution_count": 79,
     "metadata": {},
     "output_type": "execute_result"
    }
   ],
   "source": [
    "model = LogisticRegression(random_state=12345)\n",
    "model.fit(X_train_processed_ups, y_train_upsa)\n",
    "\n",
    "\n",
    "test_pred_proba = model.predict_proba(X_test_processed_ups)[:,1]\n",
    "\n",
    "train_pred_proba = model.predict_proba(X_train_processed_ups)[:,1]\n",
    "\n",
    "logistic_regression_results = pd.DataFrame(columns=['threshold', 'recall_score', 'precision_score', 'recall_score', 'auc_roc'])\n",
    "n=0\n",
    "\n",
    "for threshold in np.arange(0, 0.75, 0.01):\n",
    "\n",
    "    test_predictions = test_pred_proba > threshold\n",
    "    train_predictions = train_pred_proba > threshold\n",
    "\n",
    "    logistic_regression_results.loc[n, 'threshold'] = threshold \n",
    "    logistic_regression_results.loc[n, 'confusion_matrix'] = str(confusion_matrix(y_test, test_predictions)).replace('\\n', '*')\n",
    "    logistic_regression_results.loc[n, 'f1_score'] = f1_score(y_test, test_predictions)\n",
    "    logistic_regression_results.loc[n, 'training_score'] = model.score(X_train_processed_ups, y_train_upsa)\n",
    "    logistic_regression_results.loc[n, 'validation_score'] = model.score(X_test_processed_ups, y_test)\n",
    "    logistic_regression_results.loc[n, 'recall_score'] = recall_score(y_test, test_predictions)\n",
    "    logistic_regression_results.loc[n, 'precision_score'] = precision_score(y_test, test_predictions)\n",
    "    logistic_regression_results.loc[n, 'auc_roc'] = roc_auc_score(y_test, test_pred_proba)\n",
    "    \n",
    "    n += 1\n",
    "    \n",
    "logistic_regression_results\n"
   ]
  },
  {
   "cell_type": "code",
   "execution_count": 80,
   "metadata": {},
   "outputs": [],
   "source": [
    "best_model_data = logistic_regression_results.iloc[logistic_regression_results['f1_score'].idxmax()]"
   ]
  },
  {
   "cell_type": "code",
   "execution_count": 81,
   "metadata": {},
   "outputs": [
    {
     "name": "stdout",
     "output_type": "stream",
     "text": [
      "0.48\n",
      "Final F1 score: 0.4842721287490856\n",
      "Final AUC-ROC score: 0.7401506129175839\n"
     ]
    },
    {
     "data": {
      "image/png": "[encoded data removed]",
      "text/plain": [
       "<Figure size 640x480 with 1 Axes>"
      ]
     },
     "metadata": {},
     "output_type": "display_data"
    }
   ],
   "source": [
    "fpr, tpr, threshold = roc_curve(y_test, test_pred_proba)\n",
    "\n",
    "roc_auc = roc_auc_score(y_test, test_pred_proba)\n",
    "\n",
    "\n",
    "plt.figure()\n",
    "plt.plot(fpr, tpr)\n",
    "plt.plot([0,1], [0,1], linestyle='--')\n",
    "plt.title(f'Upsample with logistic regression ROC-AUC = {roc_auc}')\n",
    "\n",
    "\n",
    "\n",
    "# Final evaluation of the best model on the test set\n",
    "# Predict on the test set and calculate evaluation metrics\n",
    "final_probabilities = model.predict_proba(X_test_processed_ups)[:, 1]\n",
    "final_predictions = final_probabilities > best_model_data['threshold']\n",
    "print(best_model_data['threshold'])\n",
    "# Calculate F1 score for the final model\n",
    "final_f1 = f1_score(y_test, final_predictions)\n",
    "print('Final F1 score:', final_f1)\n",
    "\n",
    "# Calculate AUC-ROC for the final model\n",
    "final_roc_auc = roc_auc_score(y_test, final_probabilities)\n",
    "print('Final AUC-ROC score:', final_roc_auc)\n",
    "\n",
    "# The results above indicate the model's ability to predict customer churn and the effectiveness of the techniques used."
   ]
  },
  {
   "cell_type": "markdown",
   "metadata": {},
   "source": [
    "## Conclusion"
   ]
  },
  {
   "cell_type": "markdown",
   "metadata": {},
   "source": [
    "Random Forest Classifier are less susceptible to the effect of using imbalanced classes in our classification target. We could conclude that the internal implementations of RandomForest to handle imbalanced classes are more effective than Upsampling and downsampling"
   ]
  },
  {
   "cell_type": "markdown",
   "metadata": {},
   "source": []
  }
 ],
 "metadata": {
  "ExecuteTimeLog": [
   {
    "duration": 347,
    "start_time": "2024-07-12T21:30:04.432Z"
   },
   {
    "duration": 1555,
    "start_time": "2024-07-12T21:38:53.955Z"
   },
   {
    "duration": 4,
    "start_time": "2024-07-12T21:39:15.431Z"
   },
   {
    "duration": 40,
    "start_time": "2024-07-12T21:39:18.697Z"
   },
   {
    "duration": 28,
    "start_time": "2024-07-12T21:39:26.717Z"
   },
   {
    "duration": 18,
    "start_time": "2024-07-12T21:39:31.374Z"
   },
   {
    "duration": 56,
    "start_time": "2024-07-12T21:40:04.286Z"
   },
   {
    "duration": 7,
    "start_time": "2024-07-12T21:42:21.729Z"
   },
   {
    "duration": 16,
    "start_time": "2024-07-12T21:46:24.693Z"
   },
   {
    "duration": 19,
    "start_time": "2024-07-12T21:46:28.921Z"
   },
   {
    "duration": 875,
    "start_time": "2024-07-12T21:47:01.330Z"
   },
   {
    "duration": 7,
    "start_time": "2024-07-12T21:47:40.122Z"
   },
   {
    "duration": 6,
    "start_time": "2024-07-12T22:00:24.028Z"
   },
   {
    "duration": 6,
    "start_time": "2024-07-12T22:11:42.453Z"
   },
   {
    "duration": 15,
    "start_time": "2024-07-12T22:11:46.854Z"
   },
   {
    "duration": 47,
    "start_time": "2024-07-12T22:12:18.578Z"
   },
   {
    "duration": 19,
    "start_time": "2024-07-12T22:12:28.522Z"
   },
   {
    "duration": 28,
    "start_time": "2024-07-12T22:16:08.610Z"
   },
   {
    "duration": 34,
    "start_time": "2024-07-12T22:16:12.016Z"
   },
   {
    "duration": 23,
    "start_time": "2024-07-12T22:16:19.703Z"
   },
   {
    "duration": 8,
    "start_time": "2024-07-12T22:17:40.150Z"
   },
   {
    "duration": 4151,
    "start_time": "2024-07-12T22:17:48.103Z"
   },
   {
    "duration": 10,
    "start_time": "2024-07-12T22:21:28.493Z"
   },
   {
    "duration": 403,
    "start_time": "2024-07-12T22:25:47.293Z"
   },
   {
    "duration": 39,
    "start_time": "2024-07-12T22:26:20.368Z"
   },
   {
    "duration": 21,
    "start_time": "2024-07-12T22:27:13.293Z"
   },
   {
    "duration": 6,
    "start_time": "2024-07-12T22:27:17.458Z"
   },
   {
    "duration": 14,
    "start_time": "2024-07-12T22:27:17.916Z"
   },
   {
    "duration": 24,
    "start_time": "2024-07-12T22:27:18.225Z"
   },
   {
    "duration": 23,
    "start_time": "2024-07-12T22:27:18.405Z"
   },
   {
    "duration": 171,
    "start_time": "2024-07-12T22:27:19.410Z"
   },
   {
    "duration": 8,
    "start_time": "2024-07-12T22:27:20.879Z"
   },
   {
    "duration": 1029,
    "start_time": "2024-07-12T22:27:22.419Z"
   },
   {
    "duration": 22,
    "start_time": "2024-07-12T22:27:45.357Z"
   },
   {
    "duration": 200,
    "start_time": "2024-07-12T22:28:25.459Z"
   },
   {
    "duration": 195,
    "start_time": "2024-07-12T22:28:37.719Z"
   },
   {
    "duration": 2742,
    "start_time": "2024-07-12T22:30:11.261Z"
   },
   {
    "duration": 2952,
    "start_time": "2024-07-12T22:30:26.669Z"
   },
   {
    "duration": 578,
    "start_time": "2024-07-12T22:46:16.733Z"
   },
   {
    "duration": 0,
    "start_time": "2024-07-12T22:46:17.316Z"
   },
   {
    "duration": 2693,
    "start_time": "2024-07-12T22:46:37.529Z"
   },
   {
    "duration": 2737,
    "start_time": "2024-07-12T22:46:51.417Z"
   },
   {
    "duration": 2737,
    "start_time": "2024-07-12T22:46:58.310Z"
   },
   {
    "duration": 1377,
    "start_time": "2024-07-13T00:54:04.718Z"
   },
   {
    "duration": 63,
    "start_time": "2024-07-13T00:54:06.098Z"
   },
   {
    "duration": 27,
    "start_time": "2024-07-13T00:54:06.165Z"
   },
   {
    "duration": 24,
    "start_time": "2024-07-13T00:54:06.198Z"
   },
   {
    "duration": 65,
    "start_time": "2024-07-13T00:54:06.226Z"
   },
   {
    "duration": 35,
    "start_time": "2024-07-13T00:54:06.295Z"
   },
   {
    "duration": 23,
    "start_time": "2024-07-13T00:54:06.337Z"
   },
   {
    "duration": 6,
    "start_time": "2024-07-13T00:54:06.363Z"
   },
   {
    "duration": 15,
    "start_time": "2024-07-13T00:54:06.372Z"
   },
   {
    "duration": 37,
    "start_time": "2024-07-13T00:54:06.411Z"
   },
   {
    "duration": 24,
    "start_time": "2024-07-13T00:54:06.452Z"
   },
   {
    "duration": 4768,
    "start_time": "2024-07-13T00:54:06.479Z"
   },
   {
    "duration": 9,
    "start_time": "2024-07-13T00:54:11.250Z"
   },
   {
    "duration": 2985,
    "start_time": "2024-07-13T00:54:11.263Z"
   },
   {
    "duration": 9,
    "start_time": "2024-07-13T00:54:14.252Z"
   },
   {
    "duration": 77,
    "start_time": "2024-07-13T00:54:14.264Z"
   },
   {
    "duration": 768,
    "start_time": "2024-07-13T00:59:08.903Z"
   },
   {
    "duration": 3052,
    "start_time": "2024-07-13T00:59:34.776Z"
   },
   {
    "duration": 3001,
    "start_time": "2024-07-13T01:00:13.701Z"
   },
   {
    "duration": 2947,
    "start_time": "2024-07-13T01:00:24.637Z"
   },
   {
    "duration": 2965,
    "start_time": "2024-07-13T01:00:35.201Z"
   },
   {
    "duration": 1228,
    "start_time": "2024-07-13T02:08:07.441Z"
   },
   {
    "duration": 58,
    "start_time": "2024-07-13T02:08:08.673Z"
   },
   {
    "duration": 24,
    "start_time": "2024-07-13T02:08:08.733Z"
   },
   {
    "duration": 17,
    "start_time": "2024-07-13T02:08:08.761Z"
   },
   {
    "duration": 78,
    "start_time": "2024-07-13T02:08:08.780Z"
   },
   {
    "duration": 15,
    "start_time": "2024-07-13T02:08:08.862Z"
   },
   {
    "duration": 46,
    "start_time": "2024-07-13T02:08:08.880Z"
   },
   {
    "duration": 8,
    "start_time": "2024-07-13T02:08:08.929Z"
   },
   {
    "duration": 17,
    "start_time": "2024-07-13T02:08:08.940Z"
   },
   {
    "duration": 26,
    "start_time": "2024-07-13T02:08:08.962Z"
   },
   {
    "duration": 55,
    "start_time": "2024-07-13T02:08:08.990Z"
   },
   {
    "duration": 4150,
    "start_time": "2024-07-13T02:08:09.048Z"
   },
   {
    "duration": 21,
    "start_time": "2024-07-13T02:08:13.202Z"
   },
   {
    "duration": 2620,
    "start_time": "2024-07-13T02:08:13.225Z"
   },
   {
    "duration": 9,
    "start_time": "2024-07-13T02:08:15.848Z"
   },
   {
    "duration": 1193,
    "start_time": "2024-07-13T02:25:01.069Z"
   },
   {
    "duration": 36,
    "start_time": "2024-07-13T02:25:02.265Z"
   },
   {
    "duration": 38,
    "start_time": "2024-07-13T02:25:02.304Z"
   },
   {
    "duration": 17,
    "start_time": "2024-07-13T02:25:02.348Z"
   },
   {
    "duration": 75,
    "start_time": "2024-07-13T02:25:02.368Z"
   },
   {
    "duration": 18,
    "start_time": "2024-07-13T02:25:02.446Z"
   },
   {
    "duration": 22,
    "start_time": "2024-07-13T02:25:02.467Z"
   },
   {
    "duration": 32,
    "start_time": "2024-07-13T02:25:02.493Z"
   },
   {
    "duration": 14,
    "start_time": "2024-07-13T02:25:02.528Z"
   },
   {
    "duration": 26,
    "start_time": "2024-07-13T02:25:02.549Z"
   },
   {
    "duration": 62,
    "start_time": "2024-07-13T02:25:02.578Z"
   },
   {
    "duration": 500,
    "start_time": "2024-07-13T02:25:02.643Z"
   },
   {
    "duration": 10,
    "start_time": "2024-07-13T02:25:03.145Z"
   },
   {
    "duration": 2790,
    "start_time": "2024-07-13T02:25:03.158Z"
   },
   {
    "duration": 10,
    "start_time": "2024-07-13T02:25:05.950Z"
   },
   {
    "duration": 444,
    "start_time": "2024-07-13T02:25:05.963Z"
   },
   {
    "duration": 25,
    "start_time": "2024-07-13T02:40:10.732Z"
   },
   {
    "duration": 4,
    "start_time": "2024-07-13T02:40:18.919Z"
   },
   {
    "duration": 108,
    "start_time": "2024-07-13T02:42:11.114Z"
   },
   {
    "duration": 8,
    "start_time": "2024-07-13T02:43:33.885Z"
   },
   {
    "duration": 2657,
    "start_time": "2024-07-13T02:43:43.181Z"
   },
   {
    "duration": 9,
    "start_time": "2024-07-13T02:43:45.843Z"
   },
   {
    "duration": 88,
    "start_time": "2024-07-13T02:43:45.855Z"
   },
   {
    "duration": 9,
    "start_time": "2024-07-13T02:45:57.676Z"
   },
   {
    "duration": 95,
    "start_time": "2024-07-13T02:46:00.639Z"
   },
   {
    "duration": 130,
    "start_time": "2024-07-13T03:02:26.924Z"
   },
   {
    "duration": 5,
    "start_time": "2024-07-13T03:02:43.128Z"
   },
   {
    "duration": 436,
    "start_time": "2024-07-13T03:02:48.939Z"
   },
   {
    "duration": 2796,
    "start_time": "2024-07-13T03:03:24.251Z"
   },
   {
    "duration": 82,
    "start_time": "2024-07-13T03:47:59.066Z"
   },
   {
    "duration": 5,
    "start_time": "2024-07-13T03:49:33.285Z"
   },
   {
    "duration": 227,
    "start_time": "2024-07-13T03:49:40.804Z"
   },
   {
    "duration": 7575,
    "start_time": "2024-07-13T03:50:22.151Z"
   },
   {
    "duration": 7558,
    "start_time": "2024-07-13T03:50:48.285Z"
   },
   {
    "duration": 7539,
    "start_time": "2024-07-13T03:51:05.587Z"
   },
   {
    "duration": 7553,
    "start_time": "2024-07-13T03:51:23.889Z"
   },
   {
    "duration": 8133,
    "start_time": "2024-07-13T03:52:08.002Z"
   },
   {
    "duration": 7865,
    "start_time": "2024-07-13T03:52:30.861Z"
   },
   {
    "duration": 7,
    "start_time": "2024-07-13T03:54:06.273Z"
   },
   {
    "duration": 7,
    "start_time": "2024-07-13T03:54:21.770Z"
   },
   {
    "duration": 5,
    "start_time": "2024-07-13T04:08:38.181Z"
   },
   {
    "duration": 5,
    "start_time": "2024-07-13T04:10:50.064Z"
   },
   {
    "duration": 43,
    "start_time": "2024-07-13T04:13:08.183Z"
   },
   {
    "duration": 5,
    "start_time": "2024-07-13T04:13:24.861Z"
   },
   {
    "duration": 52,
    "start_time": "2024-07-13T04:13:26.254Z"
   },
   {
    "duration": 5,
    "start_time": "2024-07-13T04:13:40.688Z"
   },
   {
    "duration": 15,
    "start_time": "2024-07-13T04:13:42.940Z"
   },
   {
    "duration": 28,
    "start_time": "2024-07-13T04:14:16.241Z"
   },
   {
    "duration": 6,
    "start_time": "2024-07-13T04:14:18.353Z"
   },
   {
    "duration": 18,
    "start_time": "2024-07-13T04:14:18.530Z"
   },
   {
    "duration": 6,
    "start_time": "2024-07-13T04:31:29.311Z"
   },
   {
    "duration": 19,
    "start_time": "2024-07-13T04:31:30.043Z"
   },
   {
    "duration": 5,
    "start_time": "2024-07-13T04:32:11.174Z"
   },
   {
    "duration": 23,
    "start_time": "2024-07-13T04:32:12.591Z"
   },
   {
    "duration": 1169,
    "start_time": "2024-07-13T04:34:11.126Z"
   },
   {
    "duration": 35,
    "start_time": "2024-07-13T04:34:12.298Z"
   },
   {
    "duration": 25,
    "start_time": "2024-07-13T04:34:12.335Z"
   },
   {
    "duration": 17,
    "start_time": "2024-07-13T04:34:12.363Z"
   },
   {
    "duration": 80,
    "start_time": "2024-07-13T04:34:12.384Z"
   },
   {
    "duration": 15,
    "start_time": "2024-07-13T04:34:12.467Z"
   },
   {
    "duration": 41,
    "start_time": "2024-07-13T04:34:12.485Z"
   },
   {
    "duration": 6,
    "start_time": "2024-07-13T04:34:12.530Z"
   },
   {
    "duration": 15,
    "start_time": "2024-07-13T04:34:12.540Z"
   },
   {
    "duration": 24,
    "start_time": "2024-07-13T04:34:12.558Z"
   },
   {
    "duration": 26,
    "start_time": "2024-07-13T04:34:12.624Z"
   },
   {
    "duration": 486,
    "start_time": "2024-07-13T04:34:12.652Z"
   },
   {
    "duration": 9,
    "start_time": "2024-07-13T04:34:13.141Z"
   },
   {
    "duration": 2712,
    "start_time": "2024-07-13T04:34:13.156Z"
   },
   {
    "duration": 8071,
    "start_time": "2024-07-13T04:34:15.871Z"
   },
   {
    "duration": 80,
    "start_time": "2024-07-13T04:34:23.945Z"
   },
   {
    "duration": 7,
    "start_time": "2024-07-13T04:34:24.029Z"
   },
   {
    "duration": 1153,
    "start_time": "2024-07-13T04:35:06.749Z"
   },
   {
    "duration": 35,
    "start_time": "2024-07-13T04:35:07.906Z"
   },
   {
    "duration": 27,
    "start_time": "2024-07-13T04:35:07.944Z"
   },
   {
    "duration": 18,
    "start_time": "2024-07-13T04:35:07.973Z"
   },
   {
    "duration": 77,
    "start_time": "2024-07-13T04:35:07.995Z"
   },
   {
    "duration": 16,
    "start_time": "2024-07-13T04:35:08.074Z"
   },
   {
    "duration": 45,
    "start_time": "2024-07-13T04:35:08.093Z"
   },
   {
    "duration": 6,
    "start_time": "2024-07-13T04:35:08.141Z"
   },
   {
    "duration": 14,
    "start_time": "2024-07-13T04:35:08.150Z"
   },
   {
    "duration": 56,
    "start_time": "2024-07-13T04:35:08.166Z"
   },
   {
    "duration": 25,
    "start_time": "2024-07-13T04:35:08.225Z"
   },
   {
    "duration": 493,
    "start_time": "2024-07-13T04:35:08.252Z"
   },
   {
    "duration": 9,
    "start_time": "2024-07-13T04:35:08.751Z"
   },
   {
    "duration": 2720,
    "start_time": "2024-07-13T04:35:08.766Z"
   },
   {
    "duration": 7749,
    "start_time": "2024-07-13T04:35:11.489Z"
   },
   {
    "duration": 84,
    "start_time": "2024-07-13T04:35:19.241Z"
   },
   {
    "duration": 6,
    "start_time": "2024-07-13T04:35:19.328Z"
   },
   {
    "duration": 17,
    "start_time": "2024-07-13T04:35:19.337Z"
   },
   {
    "duration": 6,
    "start_time": "2024-07-13T04:35:46.187Z"
   },
   {
    "duration": 5,
    "start_time": "2024-07-13T04:35:51.326Z"
   },
   {
    "duration": 15,
    "start_time": "2024-07-13T04:35:54.393Z"
   },
   {
    "duration": 14,
    "start_time": "2024-07-13T04:35:58.516Z"
   },
   {
    "duration": 16,
    "start_time": "2024-07-13T04:36:17.964Z"
   },
   {
    "duration": 6,
    "start_time": "2024-07-13T04:36:21.064Z"
   },
   {
    "duration": 15,
    "start_time": "2024-07-13T04:36:21.397Z"
   },
   {
    "duration": 17,
    "start_time": "2024-07-13T04:36:36.454Z"
   },
   {
    "duration": 16,
    "start_time": "2024-07-13T04:36:55.663Z"
   },
   {
    "duration": 15,
    "start_time": "2024-07-13T04:37:06.040Z"
   },
   {
    "duration": 1170,
    "start_time": "2024-07-13T04:37:12.393Z"
   },
   {
    "duration": 25,
    "start_time": "2024-07-13T04:37:13.566Z"
   },
   {
    "duration": 35,
    "start_time": "2024-07-13T04:37:13.594Z"
   },
   {
    "duration": 17,
    "start_time": "2024-07-13T04:37:13.633Z"
   },
   {
    "duration": 75,
    "start_time": "2024-07-13T04:37:13.653Z"
   },
   {
    "duration": 15,
    "start_time": "2024-07-13T04:37:13.731Z"
   },
   {
    "duration": 21,
    "start_time": "2024-07-13T04:37:13.749Z"
   },
   {
    "duration": 6,
    "start_time": "2024-07-13T04:37:13.774Z"
   },
   {
    "duration": 53,
    "start_time": "2024-07-13T04:37:13.783Z"
   },
   {
    "duration": 25,
    "start_time": "2024-07-13T04:37:13.841Z"
   },
   {
    "duration": 24,
    "start_time": "2024-07-13T04:37:13.868Z"
   },
   {
    "duration": 480,
    "start_time": "2024-07-13T04:37:13.924Z"
   },
   {
    "duration": 17,
    "start_time": "2024-07-13T04:37:14.407Z"
   },
   {
    "duration": 2697,
    "start_time": "2024-07-13T04:37:14.427Z"
   },
   {
    "duration": 8111,
    "start_time": "2024-07-13T04:37:17.127Z"
   },
   {
    "duration": 84,
    "start_time": "2024-07-13T04:37:25.241Z"
   },
   {
    "duration": 6,
    "start_time": "2024-07-13T04:37:25.328Z"
   },
   {
    "duration": 17,
    "start_time": "2024-07-13T04:37:25.337Z"
   },
   {
    "duration": 18,
    "start_time": "2024-07-13T04:37:43.943Z"
   },
   {
    "duration": 17,
    "start_time": "2024-07-13T04:37:49.950Z"
   },
   {
    "duration": 16,
    "start_time": "2024-07-13T04:37:56.238Z"
   },
   {
    "duration": 16,
    "start_time": "2024-07-13T04:37:59.754Z"
   },
   {
    "duration": 14,
    "start_time": "2024-07-13T04:38:42.276Z"
   },
   {
    "duration": 5,
    "start_time": "2024-07-13T04:39:09.721Z"
   },
   {
    "duration": 17,
    "start_time": "2024-07-13T04:39:12.749Z"
   },
   {
    "duration": 8,
    "start_time": "2024-07-13T04:41:20.598Z"
   },
   {
    "duration": 426,
    "start_time": "2024-07-13T04:44:19.219Z"
   },
   {
    "duration": 8,
    "start_time": "2024-07-13T04:44:44.369Z"
   },
   {
    "duration": 77,
    "start_time": "2024-07-13T04:44:45.798Z"
   },
   {
    "duration": 8,
    "start_time": "2024-07-13T04:45:00.706Z"
   },
   {
    "duration": 1502,
    "start_time": "2024-07-13T04:45:01.967Z"
   },
   {
    "duration": 1510,
    "start_time": "2024-07-13T04:45:22.729Z"
   },
   {
    "duration": 1528,
    "start_time": "2024-07-13T04:45:34.781Z"
   },
   {
    "duration": 5583,
    "start_time": "2024-07-13T04:48:45.753Z"
   },
   {
    "duration": 851,
    "start_time": "2024-07-13T04:50:03.981Z"
   },
   {
    "duration": 8,
    "start_time": "2024-07-13T04:50:12.026Z"
   },
   {
    "duration": 2697,
    "start_time": "2024-07-13T04:57:44.536Z"
   },
   {
    "duration": 7990,
    "start_time": "2024-07-13T04:58:30.043Z"
   },
   {
    "duration": 7969,
    "start_time": "2024-07-13T04:59:29.158Z"
   },
   {
    "duration": 9,
    "start_time": "2024-07-13T04:59:39.742Z"
   },
   {
    "duration": 6,
    "start_time": "2024-07-13T05:10:33.460Z"
   },
   {
    "duration": 51,
    "start_time": "2024-07-13T05:11:13.381Z"
   },
   {
    "duration": 5,
    "start_time": "2024-07-13T05:11:23.602Z"
   },
   {
    "duration": 51,
    "start_time": "2024-07-13T05:11:28.682Z"
   },
   {
    "duration": 6,
    "start_time": "2024-07-13T05:11:52.445Z"
   },
   {
    "duration": 22,
    "start_time": "2024-07-13T05:11:52.967Z"
   },
   {
    "duration": 25,
    "start_time": "2024-07-13T05:12:06.135Z"
   },
   {
    "duration": 24,
    "start_time": "2024-07-13T05:12:17.129Z"
   },
   {
    "duration": 28,
    "start_time": "2024-07-13T05:12:29.182Z"
   },
   {
    "duration": 1529,
    "start_time": "2024-07-13T05:18:13.175Z"
   },
   {
    "duration": 25,
    "start_time": "2024-07-13T05:18:50.294Z"
   },
   {
    "duration": 14,
    "start_time": "2024-07-13T05:19:04.218Z"
   },
   {
    "duration": 25,
    "start_time": "2024-07-13T05:19:11.763Z"
   },
   {
    "duration": 16,
    "start_time": "2024-07-13T05:19:21.433Z"
   },
   {
    "duration": 16,
    "start_time": "2024-07-13T05:19:41.691Z"
   },
   {
    "duration": 1524,
    "start_time": "2024-07-13T05:19:43.923Z"
   },
   {
    "duration": 5793,
    "start_time": "2024-07-13T05:19:45.450Z"
   },
   {
    "duration": 307,
    "start_time": "2024-07-13T05:28:00.521Z"
   },
   {
    "duration": 26,
    "start_time": "2024-07-13T05:28:21.973Z"
   },
   {
    "duration": 4,
    "start_time": "2024-07-13T05:28:58.031Z"
   },
   {
    "duration": 546,
    "start_time": "2024-07-13T05:29:05.897Z"
   },
   {
    "duration": 14,
    "start_time": "2024-07-13T05:29:40.624Z"
   },
   {
    "duration": 6268,
    "start_time": "2024-07-13T05:29:45.659Z"
   },
   {
    "duration": 1230,
    "start_time": "2024-07-13T05:36:17.316Z"
   },
   {
    "duration": 26,
    "start_time": "2024-07-13T05:36:18.550Z"
   },
   {
    "duration": 24,
    "start_time": "2024-07-13T05:36:18.578Z"
   },
   {
    "duration": 16,
    "start_time": "2024-07-13T05:36:18.623Z"
   },
   {
    "duration": 51,
    "start_time": "2024-07-13T05:36:18.643Z"
   },
   {
    "duration": 16,
    "start_time": "2024-07-13T05:36:18.724Z"
   },
   {
    "duration": 20,
    "start_time": "2024-07-13T05:36:18.744Z"
   },
   {
    "duration": 5,
    "start_time": "2024-07-13T05:36:18.768Z"
   },
   {
    "duration": 52,
    "start_time": "2024-07-13T05:36:18.777Z"
   },
   {
    "duration": 25,
    "start_time": "2024-07-13T05:36:18.831Z"
   },
   {
    "duration": 26,
    "start_time": "2024-07-13T05:36:18.859Z"
   },
   {
    "duration": 489,
    "start_time": "2024-07-13T05:36:18.888Z"
   },
   {
    "duration": 9,
    "start_time": "2024-07-13T05:36:19.381Z"
   },
   {
    "duration": 2797,
    "start_time": "2024-07-13T05:36:19.395Z"
   },
   {
    "duration": 8151,
    "start_time": "2024-07-13T05:36:22.195Z"
   },
   {
    "duration": 9,
    "start_time": "2024-07-13T05:36:30.425Z"
   },
   {
    "duration": 6,
    "start_time": "2024-07-13T05:36:30.437Z"
   },
   {
    "duration": 17,
    "start_time": "2024-07-13T05:36:30.447Z"
   },
   {
    "duration": 7,
    "start_time": "2024-07-13T05:36:30.467Z"
   },
   {
    "duration": 1648,
    "start_time": "2024-07-13T05:36:30.477Z"
   },
   {
    "duration": 5795,
    "start_time": "2024-07-13T05:36:32.129Z"
   },
   {
    "duration": 8,
    "start_time": "2024-07-13T05:36:37.927Z"
   },
   {
    "duration": 82,
    "start_time": "2024-07-13T05:36:37.942Z"
   },
   {
    "duration": 17,
    "start_time": "2024-07-13T05:36:38.027Z"
   },
   {
    "duration": 1563,
    "start_time": "2024-07-13T05:36:38.047Z"
   },
   {
    "duration": 6422,
    "start_time": "2024-07-13T05:36:39.613Z"
   },
   {
    "duration": 1527,
    "start_time": "2024-07-18T02:47:06.133Z"
   },
   {
    "duration": 50,
    "start_time": "2024-07-18T02:47:08.520Z"
   },
   {
    "duration": 41,
    "start_time": "2024-07-18T02:47:09.688Z"
   },
   {
    "duration": 23,
    "start_time": "2024-07-18T02:47:10.070Z"
   },
   {
    "duration": 79,
    "start_time": "2024-07-18T02:47:10.446Z"
   },
   {
    "duration": 17,
    "start_time": "2024-07-18T02:47:10.789Z"
   },
   {
    "duration": 41,
    "start_time": "2024-07-18T02:47:11.025Z"
   },
   {
    "duration": 11,
    "start_time": "2024-07-18T02:47:11.724Z"
   },
   {
    "duration": 22,
    "start_time": "2024-07-18T02:47:12.316Z"
   },
   {
    "duration": 716,
    "start_time": "2024-07-18T02:47:12.688Z"
   },
   {
    "duration": 33,
    "start_time": "2024-07-18T02:48:13.322Z"
   },
   {
    "duration": 32,
    "start_time": "2024-07-18T02:48:33.419Z"
   },
   {
    "duration": 5180,
    "start_time": "2024-07-18T02:48:34.063Z"
   },
   {
    "duration": 14,
    "start_time": "2024-07-18T02:48:39.249Z"
   },
   {
    "duration": 3368,
    "start_time": "2024-07-18T02:48:39.267Z"
   },
   {
    "duration": 9875,
    "start_time": "2024-07-18T02:48:42.647Z"
   },
   {
    "duration": 9,
    "start_time": "2024-07-18T02:48:52.525Z"
   },
   {
    "duration": 79,
    "start_time": "2024-07-18T02:48:52.537Z"
   },
   {
    "duration": 16,
    "start_time": "2024-07-18T02:48:52.620Z"
   },
   {
    "duration": 10,
    "start_time": "2024-07-18T02:48:52.639Z"
   },
   {
    "duration": 1728,
    "start_time": "2024-07-18T02:48:52.653Z"
   },
   {
    "duration": 7632,
    "start_time": "2024-07-18T02:48:54.386Z"
   },
   {
    "duration": 15,
    "start_time": "2024-07-18T02:49:02.021Z"
   },
   {
    "duration": 71,
    "start_time": "2024-07-18T02:49:02.039Z"
   },
   {
    "duration": 18,
    "start_time": "2024-07-18T02:49:02.115Z"
   },
   {
    "duration": 1720,
    "start_time": "2024-07-18T02:49:02.137Z"
   },
   {
    "duration": 6449,
    "start_time": "2024-07-18T02:49:03.861Z"
   },
   {
    "duration": 4468,
    "start_time": "2024-07-18T02:57:21.560Z"
   },
   {
    "duration": 6,
    "start_time": "2024-07-18T03:01:22.474Z"
   },
   {
    "duration": 65,
    "start_time": "2024-07-18T03:04:08.196Z"
   },
   {
    "duration": 211,
    "start_time": "2024-07-18T03:09:43.088Z"
   },
   {
    "duration": 15,
    "start_time": "2024-07-18T03:15:52.714Z"
   },
   {
    "duration": 11,
    "start_time": "2024-07-18T03:16:11.422Z"
   },
   {
    "duration": 52,
    "start_time": "2024-07-18T03:16:22.053Z"
   },
   {
    "duration": 185,
    "start_time": "2024-07-18T03:16:24.977Z"
   },
   {
    "duration": 98,
    "start_time": "2024-07-18T03:16:42.461Z"
   },
   {
    "duration": 2292,
    "start_time": "2024-07-18T03:16:59.736Z"
   },
   {
    "duration": 28,
    "start_time": "2024-07-18T03:17:02.033Z"
   },
   {
    "duration": 44,
    "start_time": "2024-07-18T03:17:02.070Z"
   },
   {
    "duration": 20,
    "start_time": "2024-07-18T03:17:02.120Z"
   },
   {
    "duration": 98,
    "start_time": "2024-07-18T03:17:02.143Z"
   },
   {
    "duration": 18,
    "start_time": "2024-07-18T03:17:02.244Z"
   },
   {
    "duration": 64,
    "start_time": "2024-07-18T03:17:02.265Z"
   },
   {
    "duration": 7,
    "start_time": "2024-07-18T03:17:02.334Z"
   },
   {
    "duration": 19,
    "start_time": "2024-07-18T03:17:02.345Z"
   },
   {
    "duration": 68,
    "start_time": "2024-07-18T03:17:02.370Z"
   },
   {
    "duration": 33,
    "start_time": "2024-07-18T03:17:02.441Z"
   },
   {
    "duration": 312,
    "start_time": "2024-07-18T03:17:02.477Z"
   },
   {
    "duration": 20,
    "start_time": "2024-07-18T03:17:02.793Z"
   },
   {
    "duration": 3009,
    "start_time": "2024-07-18T03:17:02.816Z"
   },
   {
    "duration": 7009,
    "start_time": "2024-07-18T03:17:05.833Z"
   },
   {
    "duration": 67,
    "start_time": "2024-07-18T03:17:12.845Z"
   },
   {
    "duration": 8,
    "start_time": "2024-07-18T03:17:12.915Z"
   },
   {
    "duration": 20,
    "start_time": "2024-07-18T03:17:12.926Z"
   },
   {
    "duration": 66,
    "start_time": "2024-07-18T03:17:12.949Z"
   },
   {
    "duration": 571,
    "start_time": "2024-07-18T03:17:13.019Z"
   },
   {
    "duration": 0,
    "start_time": "2024-07-18T03:17:13.594Z"
   },
   {
    "duration": 0,
    "start_time": "2024-07-18T03:17:13.610Z"
   },
   {
    "duration": 0,
    "start_time": "2024-07-18T03:17:13.611Z"
   },
   {
    "duration": 0,
    "start_time": "2024-07-18T03:17:13.613Z"
   },
   {
    "duration": 0,
    "start_time": "2024-07-18T03:17:13.614Z"
   },
   {
    "duration": 0,
    "start_time": "2024-07-18T03:17:13.616Z"
   },
   {
    "duration": 0,
    "start_time": "2024-07-18T03:17:13.618Z"
   },
   {
    "duration": 0,
    "start_time": "2024-07-18T03:17:13.620Z"
   },
   {
    "duration": 191,
    "start_time": "2024-07-18T03:17:28.059Z"
   },
   {
    "duration": 1702,
    "start_time": "2024-07-18T03:18:08.815Z"
   },
   {
    "duration": 2346,
    "start_time": "2024-07-18T03:18:25.094Z"
   },
   {
    "duration": 80,
    "start_time": "2024-07-18T03:18:27.444Z"
   },
   {
    "duration": 79,
    "start_time": "2024-07-18T03:18:27.532Z"
   },
   {
    "duration": 28,
    "start_time": "2024-07-18T03:18:27.622Z"
   },
   {
    "duration": 115,
    "start_time": "2024-07-18T03:18:27.655Z"
   },
   {
    "duration": 40,
    "start_time": "2024-07-18T03:18:27.773Z"
   },
   {
    "duration": 28,
    "start_time": "2024-07-18T03:18:27.817Z"
   },
   {
    "duration": 7,
    "start_time": "2024-07-18T03:18:27.848Z"
   },
   {
    "duration": 55,
    "start_time": "2024-07-18T03:18:27.860Z"
   },
   {
    "duration": 28,
    "start_time": "2024-07-18T03:18:27.919Z"
   },
   {
    "duration": 62,
    "start_time": "2024-07-18T03:18:27.950Z"
   },
   {
    "duration": 282,
    "start_time": "2024-07-18T03:18:28.021Z"
   },
   {
    "duration": 11,
    "start_time": "2024-07-18T03:18:28.305Z"
   },
   {
    "duration": 3009,
    "start_time": "2024-07-18T03:18:28.320Z"
   },
   {
    "duration": 8702,
    "start_time": "2024-07-18T03:18:31.332Z"
   },
   {
    "duration": 76,
    "start_time": "2024-07-18T03:18:40.038Z"
   },
   {
    "duration": 7,
    "start_time": "2024-07-18T03:18:40.118Z"
   },
   {
    "duration": 79,
    "start_time": "2024-07-18T03:18:40.131Z"
   },
   {
    "duration": 9,
    "start_time": "2024-07-18T03:18:40.214Z"
   },
   {
    "duration": 1758,
    "start_time": "2024-07-18T03:18:40.228Z"
   },
   {
    "duration": 240,
    "start_time": "2024-07-18T03:18:41.990Z"
   },
   {
    "duration": 5104,
    "start_time": "2024-07-18T03:18:42.236Z"
   },
   {
    "duration": 71,
    "start_time": "2024-07-18T03:18:47.344Z"
   },
   {
    "duration": 597,
    "start_time": "2024-07-18T03:18:47.419Z"
   },
   {
    "duration": 0,
    "start_time": "2024-07-18T03:18:48.020Z"
   },
   {
    "duration": 0,
    "start_time": "2024-07-18T03:18:48.022Z"
   },
   {
    "duration": 0,
    "start_time": "2024-07-18T03:18:48.024Z"
   },
   {
    "duration": 0,
    "start_time": "2024-07-18T03:18:48.026Z"
   },
   {
    "duration": 1722,
    "start_time": "2024-07-18T03:18:55.856Z"
   },
   {
    "duration": 206,
    "start_time": "2024-07-18T03:19:09.897Z"
   },
   {
    "duration": 5106,
    "start_time": "2024-07-18T03:20:19.638Z"
   },
   {
    "duration": 203,
    "start_time": "2024-07-18T03:21:14.640Z"
   },
   {
    "duration": 5216,
    "start_time": "2024-07-18T03:21:33.401Z"
   },
   {
    "duration": 34,
    "start_time": "2024-07-18T03:26:07.896Z"
   },
   {
    "duration": 35,
    "start_time": "2024-07-18T03:26:30.478Z"
   },
   {
    "duration": 333,
    "start_time": "2024-07-18T03:27:06.981Z"
   },
   {
    "duration": 189,
    "start_time": "2024-07-18T03:28:39.259Z"
   },
   {
    "duration": 272,
    "start_time": "2024-07-18T03:30:10.386Z"
   },
   {
    "duration": 6,
    "start_time": "2024-07-18T03:32:13.648Z"
   },
   {
    "duration": 18,
    "start_time": "2024-07-18T03:32:47.290Z"
   },
   {
    "duration": 155,
    "start_time": "2024-07-18T03:33:11.458Z"
   },
   {
    "duration": 364,
    "start_time": "2024-07-18T03:33:14.512Z"
   },
   {
    "duration": 303,
    "start_time": "2024-07-18T03:35:36.646Z"
   },
   {
    "duration": 2038,
    "start_time": "2024-07-18T03:35:40.073Z"
   },
   {
    "duration": 502,
    "start_time": "2024-07-18T03:35:43.593Z"
   },
   {
    "duration": 306,
    "start_time": "2024-07-18T03:35:48.086Z"
   },
   {
    "duration": 454,
    "start_time": "2024-07-18T03:36:03.328Z"
   },
   {
    "duration": 280,
    "start_time": "2024-07-18T03:36:06.777Z"
   },
   {
    "duration": 5022,
    "start_time": "2024-07-28T00:49:44.366Z"
   },
   {
    "duration": 30,
    "start_time": "2024-07-28T00:49:49.392Z"
   },
   {
    "duration": 34,
    "start_time": "2024-07-28T00:49:49.425Z"
   },
   {
    "duration": 22,
    "start_time": "2024-07-28T00:49:49.463Z"
   },
   {
    "duration": 94,
    "start_time": "2024-07-28T00:49:49.489Z"
   },
   {
    "duration": 17,
    "start_time": "2024-07-28T00:49:49.586Z"
   },
   {
    "duration": 41,
    "start_time": "2024-07-28T00:49:49.606Z"
   },
   {
    "duration": 7,
    "start_time": "2024-07-28T00:49:49.650Z"
   },
   {
    "duration": 15,
    "start_time": "2024-07-28T00:49:49.660Z"
   },
   {
    "duration": 57,
    "start_time": "2024-07-28T00:49:49.681Z"
   },
   {
    "duration": 23,
    "start_time": "2024-07-28T00:49:49.741Z"
   },
   {
    "duration": 199,
    "start_time": "2024-07-28T00:49:49.768Z"
   },
   {
    "duration": 9,
    "start_time": "2024-07-28T00:49:49.970Z"
   },
   {
    "duration": 3168,
    "start_time": "2024-07-28T00:49:49.982Z"
   },
   {
    "duration": 8585,
    "start_time": "2024-07-28T00:49:53.153Z"
   },
   {
    "duration": 11,
    "start_time": "2024-07-28T00:50:01.741Z"
   },
   {
    "duration": 6,
    "start_time": "2024-07-28T00:50:01.834Z"
   },
   {
    "duration": 15,
    "start_time": "2024-07-28T00:50:01.843Z"
   },
   {
    "duration": 7,
    "start_time": "2024-07-28T00:50:01.861Z"
   },
   {
    "duration": 1538,
    "start_time": "2024-07-28T00:50:01.871Z"
   },
   {
    "duration": 208,
    "start_time": "2024-07-28T00:50:03.411Z"
   },
   {
    "duration": 5719,
    "start_time": "2024-07-28T00:50:03.622Z"
   },
   {
    "duration": 92,
    "start_time": "2024-07-28T00:50:09.343Z"
   },
   {
    "duration": 325,
    "start_time": "2024-07-28T00:50:09.438Z"
   },
   {
    "duration": 5,
    "start_time": "2024-07-28T00:50:09.766Z"
   },
   {
    "duration": 15,
    "start_time": "2024-07-28T00:50:09.775Z"
   },
   {
    "duration": 3977,
    "start_time": "2024-07-28T00:50:09.793Z"
   },
   {
    "duration": 501,
    "start_time": "2024-07-28T00:50:13.776Z"
   },
   {
    "duration": 9,
    "start_time": "2024-07-28T01:39:01.115Z"
   },
   {
    "duration": 2762,
    "start_time": "2024-07-28T01:39:02.346Z"
   },
   {
    "duration": 393,
    "start_time": "2024-07-28T01:39:05.111Z"
   },
   {
    "duration": 27,
    "start_time": "2024-07-28T01:39:42.040Z"
   },
   {
    "duration": 109,
    "start_time": "2024-07-28T01:39:47.466Z"
   },
   {
    "duration": 396,
    "start_time": "2024-07-28T01:40:51.552Z"
   },
   {
    "duration": 102,
    "start_time": "2024-07-28T01:41:22.758Z"
   },
   {
    "duration": 77,
    "start_time": "2024-07-28T01:41:34.963Z"
   },
   {
    "duration": 41,
    "start_time": "2024-07-28T01:41:38.306Z"
   },
   {
    "duration": 2032,
    "start_time": "2024-07-28T01:42:35.122Z"
   },
   {
    "duration": 380,
    "start_time": "2024-07-28T01:42:48.025Z"
   },
   {
    "duration": 433,
    "start_time": "2024-07-28T01:42:57.136Z"
   },
   {
    "duration": 422,
    "start_time": "2024-07-28T01:43:15.560Z"
   },
   {
    "duration": 435,
    "start_time": "2024-07-28T01:43:24.751Z"
   },
   {
    "duration": 8025,
    "start_time": "2024-07-28T01:45:35.114Z"
   },
   {
    "duration": 359,
    "start_time": "2024-07-28T01:46:07.311Z"
   },
   {
    "duration": 7934,
    "start_time": "2024-07-28T01:46:37.207Z"
   },
   {
    "duration": 8414,
    "start_time": "2024-07-28T01:47:02.767Z"
   },
   {
    "duration": 8422,
    "start_time": "2024-07-28T01:47:23.532Z"
   },
   {
    "duration": 7,
    "start_time": "2024-07-28T01:47:44.250Z"
   },
   {
    "duration": 8235,
    "start_time": "2024-07-28T01:49:23.912Z"
   },
   {
    "duration": 8066,
    "start_time": "2024-07-28T01:49:35.580Z"
   },
   {
    "duration": 8063,
    "start_time": "2024-07-28T01:50:06.380Z"
   },
   {
    "duration": 8539,
    "start_time": "2024-07-28T01:50:21.351Z"
   },
   {
    "duration": 8483,
    "start_time": "2024-07-28T01:51:07.853Z"
   },
   {
    "duration": 8451,
    "start_time": "2024-07-28T01:52:43.591Z"
   },
   {
    "duration": 0,
    "start_time": "2024-07-28T01:53:48.342Z"
   },
   {
    "duration": 8572,
    "start_time": "2024-07-28T01:53:51.741Z"
   },
   {
    "duration": 8449,
    "start_time": "2024-07-28T01:54:19.519Z"
   },
   {
    "duration": 8331,
    "start_time": "2024-07-28T01:55:20.809Z"
   },
   {
    "duration": 5,
    "start_time": "2024-07-28T01:56:40.042Z"
   },
   {
    "duration": 8265,
    "start_time": "2024-07-28T01:56:50.036Z"
   },
   {
    "duration": 425,
    "start_time": "2024-07-28T01:58:00.161Z"
   },
   {
    "duration": 481,
    "start_time": "2024-07-28T01:58:57.053Z"
   },
   {
    "duration": 1393,
    "start_time": "2024-07-28T01:59:15.145Z"
   },
   {
    "duration": 25,
    "start_time": "2024-07-28T01:59:16.544Z"
   },
   {
    "duration": 22,
    "start_time": "2024-07-28T01:59:16.572Z"
   },
   {
    "duration": 38,
    "start_time": "2024-07-28T01:59:16.598Z"
   },
   {
    "duration": 50,
    "start_time": "2024-07-28T01:59:16.639Z"
   },
   {
    "duration": 44,
    "start_time": "2024-07-28T01:59:16.692Z"
   },
   {
    "duration": 23,
    "start_time": "2024-07-28T01:59:16.739Z"
   },
   {
    "duration": 6,
    "start_time": "2024-07-28T01:59:16.765Z"
   },
   {
    "duration": 13,
    "start_time": "2024-07-28T01:59:16.774Z"
   },
   {
    "duration": 61,
    "start_time": "2024-07-28T01:59:16.792Z"
   },
   {
    "duration": 24,
    "start_time": "2024-07-28T01:59:16.856Z"
   },
   {
    "duration": 270,
    "start_time": "2024-07-28T01:59:16.883Z"
   },
   {
    "duration": 11,
    "start_time": "2024-07-28T01:59:17.156Z"
   },
   {
    "duration": 3369,
    "start_time": "2024-07-28T01:59:17.170Z"
   },
   {
    "duration": 425,
    "start_time": "2024-07-28T01:59:20.542Z"
   },
   {
    "duration": 0,
    "start_time": "2024-07-28T01:59:20.970Z"
   },
   {
    "duration": 0,
    "start_time": "2024-07-28T01:59:20.972Z"
   },
   {
    "duration": 0,
    "start_time": "2024-07-28T01:59:20.974Z"
   },
   {
    "duration": 0,
    "start_time": "2024-07-28T01:59:20.977Z"
   },
   {
    "duration": 0,
    "start_time": "2024-07-28T01:59:20.979Z"
   },
   {
    "duration": 0,
    "start_time": "2024-07-28T01:59:20.980Z"
   },
   {
    "duration": 0,
    "start_time": "2024-07-28T01:59:20.982Z"
   },
   {
    "duration": 0,
    "start_time": "2024-07-28T01:59:20.984Z"
   },
   {
    "duration": 0,
    "start_time": "2024-07-28T01:59:20.986Z"
   },
   {
    "duration": 0,
    "start_time": "2024-07-28T01:59:20.987Z"
   },
   {
    "duration": 0,
    "start_time": "2024-07-28T01:59:20.989Z"
   },
   {
    "duration": 0,
    "start_time": "2024-07-28T01:59:20.991Z"
   },
   {
    "duration": 0,
    "start_time": "2024-07-28T01:59:20.993Z"
   },
   {
    "duration": 0,
    "start_time": "2024-07-28T01:59:20.995Z"
   },
   {
    "duration": 176,
    "start_time": "2024-07-28T01:59:37.981Z"
   },
   {
    "duration": 356,
    "start_time": "2024-07-28T01:59:46.529Z"
   },
   {
    "duration": 349,
    "start_time": "2024-07-28T01:59:49.148Z"
   },
   {
    "duration": 8343,
    "start_time": "2024-07-28T01:59:49.624Z"
   },
   {
    "duration": 8,
    "start_time": "2024-07-28T01:59:57.970Z"
   },
   {
    "duration": 6,
    "start_time": "2024-07-28T01:59:57.981Z"
   },
   {
    "duration": 47,
    "start_time": "2024-07-28T01:59:57.992Z"
   },
   {
    "duration": 8,
    "start_time": "2024-07-28T01:59:58.041Z"
   },
   {
    "duration": 2184,
    "start_time": "2024-07-28T01:59:58.052Z"
   },
   {
    "duration": 204,
    "start_time": "2024-07-28T02:00:00.239Z"
   },
   {
    "duration": 5690,
    "start_time": "2024-07-28T02:00:00.446Z"
   },
   {
    "duration": 13,
    "start_time": "2024-07-28T02:00:06.140Z"
   },
   {
    "duration": 734,
    "start_time": "2024-07-28T02:00:06.157Z"
   },
   {
    "duration": 0,
    "start_time": "2024-07-28T02:00:06.894Z"
   },
   {
    "duration": 0,
    "start_time": "2024-07-28T02:00:06.896Z"
   },
   {
    "duration": 0,
    "start_time": "2024-07-28T02:00:06.899Z"
   },
   {
    "duration": 404,
    "start_time": "2024-07-28T02:01:15.961Z"
   },
   {
    "duration": 1903,
    "start_time": "2024-07-28T02:01:35.532Z"
   },
   {
    "duration": 25,
    "start_time": "2024-07-28T02:01:37.438Z"
   },
   {
    "duration": 74,
    "start_time": "2024-07-28T02:01:37.466Z"
   },
   {
    "duration": 21,
    "start_time": "2024-07-28T02:01:37.545Z"
   },
   {
    "duration": 165,
    "start_time": "2024-07-28T02:01:37.569Z"
   },
   {
    "duration": 15,
    "start_time": "2024-07-28T02:01:37.737Z"
   },
   {
    "duration": 21,
    "start_time": "2024-07-28T02:01:37.755Z"
   },
   {
    "duration": 61,
    "start_time": "2024-07-28T02:01:37.778Z"
   },
   {
    "duration": 14,
    "start_time": "2024-07-28T02:01:37.843Z"
   },
   {
    "duration": 82,
    "start_time": "2024-07-28T02:01:37.863Z"
   },
   {
    "duration": 87,
    "start_time": "2024-07-28T02:01:37.948Z"
   },
   {
    "duration": 245,
    "start_time": "2024-07-28T02:01:38.038Z"
   },
   {
    "duration": 9,
    "start_time": "2024-07-28T02:01:38.286Z"
   },
   {
    "duration": 2737,
    "start_time": "2024-07-28T02:01:38.297Z"
   },
   {
    "duration": 359,
    "start_time": "2024-07-28T02:01:41.037Z"
   },
   {
    "duration": 8192,
    "start_time": "2024-07-28T02:01:41.399Z"
   },
   {
    "duration": 7,
    "start_time": "2024-07-28T02:01:49.597Z"
   },
   {
    "duration": 6,
    "start_time": "2024-07-28T02:01:49.607Z"
   },
   {
    "duration": 16,
    "start_time": "2024-07-28T02:01:49.634Z"
   },
   {
    "duration": 10,
    "start_time": "2024-07-28T02:01:49.652Z"
   },
   {
    "duration": 1543,
    "start_time": "2024-07-28T02:01:49.665Z"
   },
   {
    "duration": 818,
    "start_time": "2024-07-28T02:01:51.210Z"
   },
   {
    "duration": 0,
    "start_time": "2024-07-28T02:01:52.035Z"
   },
   {
    "duration": 0,
    "start_time": "2024-07-28T02:01:52.037Z"
   },
   {
    "duration": 0,
    "start_time": "2024-07-28T02:01:52.039Z"
   },
   {
    "duration": 0,
    "start_time": "2024-07-28T02:01:52.041Z"
   },
   {
    "duration": 0,
    "start_time": "2024-07-28T02:01:52.043Z"
   },
   {
    "duration": 0,
    "start_time": "2024-07-28T02:01:52.045Z"
   },
   {
    "duration": 0,
    "start_time": "2024-07-28T02:01:52.047Z"
   },
   {
    "duration": 204,
    "start_time": "2024-07-28T02:02:35.776Z"
   },
   {
    "duration": 5642,
    "start_time": "2024-07-28T02:02:42.205Z"
   },
   {
    "duration": 86,
    "start_time": "2024-07-28T02:02:47.851Z"
   },
   {
    "duration": 285,
    "start_time": "2024-07-28T02:02:58.973Z"
   },
   {
    "duration": 6,
    "start_time": "2024-07-28T02:03:02.691Z"
   },
   {
    "duration": 16,
    "start_time": "2024-07-28T02:03:03.176Z"
   },
   {
    "duration": 3995,
    "start_time": "2024-07-28T02:03:05.361Z"
   },
   {
    "duration": 38,
    "start_time": "2024-07-28T02:03:09.360Z"
   },
   {
    "duration": 36,
    "start_time": "2024-07-28T02:09:05.319Z"
   },
   {
    "duration": 33,
    "start_time": "2024-07-28T02:09:11.115Z"
   },
   {
    "duration": 6,
    "start_time": "2024-07-28T02:09:18.294Z"
   },
   {
    "duration": 16,
    "start_time": "2024-07-28T02:09:20.034Z"
   },
   {
    "duration": 150,
    "start_time": "2024-07-28T02:09:21.389Z"
   },
   {
    "duration": 9,
    "start_time": "2024-07-28T02:09:21.637Z"
   },
   {
    "duration": 8,
    "start_time": "2024-07-28T02:09:30.542Z"
   },
   {
    "duration": 121,
    "start_time": "2024-07-28T02:11:12.864Z"
   },
   {
    "duration": 219,
    "start_time": "2024-07-28T02:11:22.419Z"
   },
   {
    "duration": 191,
    "start_time": "2024-07-28T02:12:05.801Z"
   },
   {
    "duration": 319,
    "start_time": "2024-07-28T02:12:21.766Z"
   },
   {
    "duration": 4089,
    "start_time": "2024-07-28T02:12:39.833Z"
   },
   {
    "duration": 394,
    "start_time": "2024-07-28T02:13:54.194Z"
   },
   {
    "duration": 8054,
    "start_time": "2024-07-28T02:14:57.091Z"
   },
   {
    "duration": 35,
    "start_time": "2024-07-28T02:23:08.609Z"
   },
   {
    "duration": 381,
    "start_time": "2024-07-28T02:23:15.611Z"
   },
   {
    "duration": 302,
    "start_time": "2024-07-28T02:23:24.850Z"
   },
   {
    "duration": 491,
    "start_time": "2024-07-28T02:24:06.268Z"
   },
   {
    "duration": 470,
    "start_time": "2024-07-28T02:24:48.483Z"
   },
   {
    "duration": 494,
    "start_time": "2024-07-28T02:25:20.959Z"
   },
   {
    "duration": 23,
    "start_time": "2024-07-28T02:30:04.883Z"
   },
   {
    "duration": 28,
    "start_time": "2024-07-28T02:34:44.993Z"
   },
   {
    "duration": 191,
    "start_time": "2024-07-28T02:34:52.646Z"
   },
   {
    "duration": 499,
    "start_time": "2024-07-28T02:35:21.287Z"
   },
   {
    "duration": 508,
    "start_time": "2024-07-28T02:36:26.180Z"
   },
   {
    "duration": 524,
    "start_time": "2024-07-28T02:36:36.832Z"
   },
   {
    "duration": 1397,
    "start_time": "2024-07-28T02:42:10.207Z"
   },
   {
    "duration": 29,
    "start_time": "2024-07-28T02:42:11.608Z"
   },
   {
    "duration": 25,
    "start_time": "2024-07-28T02:42:11.640Z"
   },
   {
    "duration": 18,
    "start_time": "2024-07-28T02:42:11.668Z"
   },
   {
    "duration": 83,
    "start_time": "2024-07-28T02:42:11.691Z"
   },
   {
    "duration": 14,
    "start_time": "2024-07-28T02:42:11.777Z"
   },
   {
    "duration": 45,
    "start_time": "2024-07-28T02:42:11.794Z"
   },
   {
    "duration": 6,
    "start_time": "2024-07-28T02:42:11.842Z"
   },
   {
    "duration": 14,
    "start_time": "2024-07-28T02:42:11.851Z"
   },
   {
    "duration": 24,
    "start_time": "2024-07-28T02:42:11.868Z"
   },
   {
    "duration": 56,
    "start_time": "2024-07-28T02:42:11.895Z"
   },
   {
    "duration": 264,
    "start_time": "2024-07-28T02:42:11.953Z"
   },
   {
    "duration": 14,
    "start_time": "2024-07-28T02:42:12.220Z"
   },
   {
    "duration": 2726,
    "start_time": "2024-07-28T02:42:12.241Z"
   },
   {
    "duration": 366,
    "start_time": "2024-07-28T02:42:14.970Z"
   },
   {
    "duration": 8352,
    "start_time": "2024-07-28T02:42:15.339Z"
   },
   {
    "duration": 7,
    "start_time": "2024-07-28T02:42:23.698Z"
   },
   {
    "duration": 6,
    "start_time": "2024-07-28T02:42:23.709Z"
   },
   {
    "duration": 17,
    "start_time": "2024-07-28T02:42:23.736Z"
   },
   {
    "duration": 8,
    "start_time": "2024-07-28T02:42:23.756Z"
   },
   {
    "duration": 2214,
    "start_time": "2024-07-28T02:42:23.768Z"
   },
   {
    "duration": 209,
    "start_time": "2024-07-28T02:42:25.985Z"
   },
   {
    "duration": 5755,
    "start_time": "2024-07-28T02:42:26.197Z"
   },
   {
    "duration": 81,
    "start_time": "2024-07-28T02:42:31.955Z"
   },
   {
    "duration": 327,
    "start_time": "2024-07-28T02:42:32.039Z"
   },
   {
    "duration": 6,
    "start_time": "2024-07-28T02:42:32.369Z"
   },
   {
    "duration": 16,
    "start_time": "2024-07-28T02:42:32.378Z"
   },
   {
    "duration": 39,
    "start_time": "2024-07-28T02:42:32.398Z"
   },
   {
    "duration": 4174,
    "start_time": "2024-07-28T02:42:32.440Z"
   },
   {
    "duration": 550,
    "start_time": "2024-07-28T02:42:36.618Z"
   },
   {
    "duration": 7882,
    "start_time": "2024-07-28T02:42:37.171Z"
   },
   {
    "duration": 292,
    "start_time": "2024-07-28T02:42:45.056Z"
   },
   {
    "duration": 7,
    "start_time": "2024-07-28T02:42:45.351Z"
   },
   {
    "duration": 1410,
    "start_time": "2024-07-28T02:54:53.463Z"
   },
   {
    "duration": 25,
    "start_time": "2024-07-28T02:54:54.877Z"
   },
   {
    "duration": 34,
    "start_time": "2024-07-28T02:54:54.904Z"
   },
   {
    "duration": 16,
    "start_time": "2024-07-28T02:54:54.942Z"
   },
   {
    "duration": 77,
    "start_time": "2024-07-28T02:54:54.963Z"
   },
   {
    "duration": 14,
    "start_time": "2024-07-28T02:54:55.043Z"
   },
   {
    "duration": 21,
    "start_time": "2024-07-28T02:54:55.060Z"
   },
   {
    "duration": 6,
    "start_time": "2024-07-28T02:54:55.084Z"
   },
   {
    "duration": 52,
    "start_time": "2024-07-28T02:54:55.094Z"
   },
   {
    "duration": 25,
    "start_time": "2024-07-28T02:54:55.149Z"
   },
   {
    "duration": 24,
    "start_time": "2024-07-28T02:54:55.176Z"
   },
   {
    "duration": 246,
    "start_time": "2024-07-28T02:54:55.233Z"
   },
   {
    "duration": 9,
    "start_time": "2024-07-28T02:54:55.482Z"
   },
   {
    "duration": 2774,
    "start_time": "2024-07-28T02:54:55.497Z"
   },
   {
    "duration": 363,
    "start_time": "2024-07-28T02:54:58.274Z"
   },
   {
    "duration": 8266,
    "start_time": "2024-07-28T02:54:58.640Z"
   },
   {
    "duration": 8,
    "start_time": "2024-07-28T02:55:06.909Z"
   },
   {
    "duration": 7,
    "start_time": "2024-07-28T02:55:06.935Z"
   },
   {
    "duration": 18,
    "start_time": "2024-07-28T02:55:06.946Z"
   },
   {
    "duration": 9,
    "start_time": "2024-07-28T02:55:06.968Z"
   },
   {
    "duration": 1634,
    "start_time": "2024-07-28T02:55:06.980Z"
   },
   {
    "duration": 212,
    "start_time": "2024-07-28T02:55:08.617Z"
   },
   {
    "duration": 5904,
    "start_time": "2024-07-28T02:55:08.835Z"
   },
   {
    "duration": 9,
    "start_time": "2024-07-28T02:55:14.742Z"
   },
   {
    "duration": 331,
    "start_time": "2024-07-28T02:55:14.833Z"
   },
   {
    "duration": 7,
    "start_time": "2024-07-28T02:55:15.167Z"
   },
   {
    "duration": 19,
    "start_time": "2024-07-28T02:55:15.177Z"
   },
   {
    "duration": 39,
    "start_time": "2024-07-28T02:55:15.199Z"
   },
   {
    "duration": 4200,
    "start_time": "2024-07-28T02:55:15.241Z"
   },
   {
    "duration": 516,
    "start_time": "2024-07-28T02:55:19.444Z"
   },
   {
    "duration": 7883,
    "start_time": "2024-07-28T02:55:19.963Z"
   },
   {
    "duration": 266,
    "start_time": "2024-07-28T02:55:27.858Z"
   },
   {
    "duration": 5,
    "start_time": "2024-07-28T02:55:28.133Z"
   },
   {
    "duration": 1457,
    "start_time": "2024-07-28T04:01:23.772Z"
   },
   {
    "duration": 26,
    "start_time": "2024-07-28T04:01:25.235Z"
   },
   {
    "duration": 24,
    "start_time": "2024-07-28T04:01:25.264Z"
   },
   {
    "duration": 43,
    "start_time": "2024-07-28T04:01:25.291Z"
   },
   {
    "duration": 53,
    "start_time": "2024-07-28T04:01:25.338Z"
   },
   {
    "duration": 47,
    "start_time": "2024-07-28T04:01:25.395Z"
   },
   {
    "duration": 23,
    "start_time": "2024-07-28T04:01:25.445Z"
   },
   {
    "duration": 5,
    "start_time": "2024-07-28T04:01:25.471Z"
   },
   {
    "duration": 15,
    "start_time": "2024-07-28T04:01:25.480Z"
   },
   {
    "duration": 59,
    "start_time": "2024-07-28T04:01:25.500Z"
   },
   {
    "duration": 26,
    "start_time": "2024-07-28T04:01:25.562Z"
   },
   {
    "duration": 280,
    "start_time": "2024-07-28T04:01:25.591Z"
   },
   {
    "duration": 9,
    "start_time": "2024-07-28T04:01:25.874Z"
   },
   {
    "duration": 2775,
    "start_time": "2024-07-28T04:01:25.886Z"
   },
   {
    "duration": 365,
    "start_time": "2024-07-28T04:01:28.665Z"
   },
   {
    "duration": 8343,
    "start_time": "2024-07-28T04:01:29.035Z"
   },
   {
    "duration": 11,
    "start_time": "2024-07-28T04:01:37.381Z"
   },
   {
    "duration": 7,
    "start_time": "2024-07-28T04:01:37.394Z"
   },
   {
    "duration": 42,
    "start_time": "2024-07-28T04:01:37.404Z"
   },
   {
    "duration": 9,
    "start_time": "2024-07-28T04:01:37.449Z"
   },
   {
    "duration": 1582,
    "start_time": "2024-07-28T04:01:37.460Z"
   },
   {
    "duration": 207,
    "start_time": "2024-07-28T04:01:39.046Z"
   },
   {
    "duration": 5877,
    "start_time": "2024-07-28T04:01:39.257Z"
   },
   {
    "duration": 12,
    "start_time": "2024-07-28T04:01:45.143Z"
   },
   {
    "duration": 402,
    "start_time": "2024-07-28T04:01:45.158Z"
   },
   {
    "duration": 5,
    "start_time": "2024-07-28T04:01:45.563Z"
   },
   {
    "duration": 17,
    "start_time": "2024-07-28T04:01:45.572Z"
   },
   {
    "duration": 38,
    "start_time": "2024-07-28T04:01:45.596Z"
   },
   {
    "duration": 4241,
    "start_time": "2024-07-28T04:01:45.637Z"
   },
   {
    "duration": 512,
    "start_time": "2024-07-28T04:01:49.882Z"
   },
   {
    "duration": 9556,
    "start_time": "2024-07-28T04:01:50.397Z"
   },
   {
    "duration": 413,
    "start_time": "2024-07-28T04:02:00.036Z"
   }
  ],
  "kernelspec": {
   "display_name": "Python 3",
   "language": "python",
   "name": "python3"
  },
  "language_info": {
   "codemirror_mode": {
    "name": "ipython",
    "version": 3
   },
   "file_extension": ".py",
   "mimetype": "text/x-python",
   "name": "python",
   "nbconvert_exporter": "python",
   "pygments_lexer": "ipython3",
   "version": "3.12.9"
  },
  "toc": {
   "base_numbering": 1,
   "nav_menu": {},
   "number_sections": true,
   "sideBar": true,
   "skip_h1_title": true,
   "title_cell": "Table of Contents",
   "title_sidebar": "Contents",
   "toc_cell": false,
   "toc_position": {
    "height": "calc(100% - 180px)",
    "left": "10px",
    "top": "150px",
    "width": "199.002px"
   },
   "toc_section_display": true,
   "toc_window_display": true
  }
 },
 "nbformat": 4,
 "nbformat_minor": 2
}
