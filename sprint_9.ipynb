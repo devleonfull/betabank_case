{
 "cells": [
  {
   "cell_type": "markdown",
   "metadata": {},
   "source": [
    "¡Hola!\n",
    "\n",
    "Mi nombre es Marcos Torres y tengo el gusto de revisar tu código el día de hoy.\n",
    "\n",
    "Cuando vea algo notable o algún asunto en el notebook, te dejaré un comentario o un hint. Se que encontraras la mejor respuesta para resolver todos los comentarios, de no ser así, no te preocupes en futuras iteraciones dejaré comentarios y pistas más específicos.\n",
    "\n",
    "Este proceso es muy parecido al que se recibe de un gerente o de un Senior Data Scientist en un trabajo real, por lo que te estarás preparando para la experiencia en la vida real.\n",
    "\n",
    "Encontrarás comentarios en verde, amarillo o rojo como los siguientes:\n",
    "\n",
    "<div class=\"alert alert-block alert-success\">\n",
    "<b>Comentario del revisor</b> <a class=\"tocSkip\"></a>\n",
    "\n",
    "Buen trabajo. ¡Lo hiciste muy bien!\n",
    "</div>\n",
    "\n",
    "<div class=\"alert alert-block alert-warning\">\n",
    "<b>Comentario del revisor</b> <a class=\"tocSkip\"></a>\n",
    "\n",
    "Nota. Se puede mejorar.\n",
    "</div>\n",
    "\n",
    "<div class=\"alert alert-block alert-danger\">\n",
    "<b>Comentario del revisor</b> <a class=\"tocSkip\"></a>\n",
    "\n",
    "Necesitas corregirlo. Este bloque indica que se requiere una correción. El trabajo no se acepta si tiene estos bloques.\n",
    "</div>\n",
    "\n",
    "Puedes responder a mis comentarios usando estos bloques:\n",
    "\n",
    "<div class=\"alert alert-block alert-info\">\n",
    "<b>Respuesta del estudiante.</b> <a class=\"tocSkip\"></a>\n",
    "</div>"
   ]
  },
  {
   "cell_type": "markdown",
   "metadata": {},
   "source": [
    "Los clientes de Beta Bank se están yendo, cada mes, poco a poco. Los banqueros descubrieron que es más barato salvar a los clientes existentes que atraer nuevos.\n",
    "\n",
    "Necesitamos predecir si un cliente dejará el banco pronto. Tú tienes los datos sobre el comportamiento pasado de los clientes y la terminación de contratos con el banco.\n",
    "\n",
    "Crea un modelo con el máximo valor F1 posible. Para aprobar la revisión, necesitas un valor F1 de al menos 0.59. Verifica F1 para el conjunto de prueba. \n",
    "\n",
    "Además, debes medir la métrica AUC-ROC y compararla con el valor F1.\n",
    "\n",
    "Instrucciones del proyecto\n",
    "Descarga y prepara los datos.  Explica el procedimiento.\n",
    "\n",
    "Examina el equilibrio de clases. Entrena el modelo sin tener en cuenta el desequilibrio. Describe brevemente tus hallazgos.\n",
    "\n",
    "Mejora la calidad del modelo. Asegúrate de utilizar al menos dos enfoques para corregir el desequilibrio de clases. Utiliza conjuntos de entrenamiento y validación para encontrar el mejor modelo y el mejor conjunto de parámetros. Entrena diferentes modelos en los conjuntos de entrenamiento y validación. Encuentra el mejor. Describe brevemente tus hallazgos.\n",
    "\n",
    "Realiza la prueba final.\n",
    "\n",
    "Descripción de los datos\n",
    "Puedes encontrar los datos en el archivo  /datasets/Churn.csv file. Descarga el conjunto de datos.\n",
    "\n",
    "Características\n",
    "\n",
    "RowNumber: índice de cadena de datos\n",
    "CustomerId: identificador de cliente único\n",
    "Surname: apellido\n",
    "CreditScore: valor de crédito\n",
    "Geography: país de residencia\n",
    "Gender: sexo\n",
    "Age: edad\n",
    "Tenure: período durante el cual ha madurado el depósito a plazo fijo de un cliente (años)\n",
    "Balance: saldo de la cuenta\n",
    "NumOfProducts: número de productos bancarios utilizados por el cliente\n",
    "HasCrCard: el cliente tiene una tarjeta de crédito (1 - sí; 0 - no)\n",
    "IsActiveMember: actividad del cliente (1 - sí; 0 - no)\n",
    "EstimatedSalary: salario estimado\n",
    "Objetivo\n",
    "\n",
    "Exited: El cliente se ha ido (1 - sí; 0 - no)\n",
    "Evaluación del proyecto\n",
    "Hemos definido los criterios de evaluación para el proyecto. Lee esto con atención antes de pasar al ejercicio.\n",
    "\n",
    "Esto es lo que los revisores buscarán cuando evalúen tu proyecto:\n",
    "\n",
    "¿Cómo preparaste los datos para el entrenamiento? ¿Procesaste todos los tipos de características?\n",
    "¿Explicaste los pasos de preprocesamiento lo suficientemente bien?\n",
    "¿Cómo investigaste el equilibrio de clases?\n",
    "¿Estudiaste el modelo sin tener en cuenta el desequilibrio de clases?\n",
    "¿Qué descubriste sobre la investigación del ejercicio?\n",
    "¿Dividiste correctamente los datos en conjuntos?\n",
    "¿Cómo trabajaste con el desequilibrio de clases?\n",
    "¿Utilizaste al menos dos técnicas para corregir el desequilibrio?\n",
    "¿Realizaste correctamente el entrenamiento, la validación y las pruebas finales del modelo?\n",
    "¿Qué tan alto es tu valor F1?\n",
    "¿Examinaste los valores AUC-ROC?\n",
    "¿Mantuviste la estructura del proyecto y el código limpio?\n",
    "Ya tienes las hojas informativas y los resúmenes de capítulos, tienes todo para continuar con el proyecto.\n",
    "\n",
    "¡Buena suerte!"
   ]
  },
  {
   "cell_type": "markdown",
   "metadata": {},
   "source": [
    "<div class='alert alert-info'>\n",
    "Estimado revisor, espero que estes muy bien. El presente notebook es una entrega parcial, no el resultado final del proyecto, sin embargo apreciaría mucho si puedes verificar que los procedimientos se alinien a lo solicitado. Los analisis detallados, conclusiones y algunas graficas serán adicionadas para una segunda entrega. \n",
    "</div>"
   ]
  },
  {
   "cell_type": "markdown",
   "metadata": {},
   "source": [
    "<div class=\"alert alert-block alert-success\">\n",
    "<b>Comentario del revisor</b> <a class=\"tocSkip\"></a>\n",
    "\n",
    "De acuerdo, te daré los comentarios necesarios para que puedas avanzar con tu proyecto :)\n",
    "</div>"
   ]
  },
  {
   "cell_type": "markdown",
   "metadata": {},
   "source": [
    "# Account closure predictor for BetaBank bank users"
   ]
  },
  {
   "cell_type": "markdown",
   "metadata": {},
   "source": [
    "## Dependencies"
   ]
  },
  {
   "cell_type": "code",
   "execution_count": 1,
   "metadata": {},
   "outputs": [],
   "source": [
    "import pandas as pd\n",
    "from sklearn.ensemble import RandomForestClassifier\n",
    "from sklearn.metrics import confusion_matrix, f1_score, recall_score, precision_score, roc_auc_score, roc_curve\n",
    "from sklearn.linear_model import LogisticRegression\n",
    "from sklearn.model_selection import train_test_split\n",
    "from sklearn.preprocessing import StandardScaler\n",
    "from sklearn.utils import shuffle\n",
    "import matplotlib.pyplot as plt\n",
    "import numpy as np"
   ]
  },
  {
   "cell_type": "markdown",
   "metadata": {},
   "source": [
    "## Loading dataset"
   ]
  },
  {
   "cell_type": "code",
   "execution_count": 2,
   "metadata": {},
   "outputs": [],
   "source": [
    "data = pd.read_csv('/datasets/Churn.csv')"
   ]
  },
  {
   "cell_type": "markdown",
   "metadata": {},
   "source": [
    "<div class=\"alert alert-block alert-success\">\n",
    "<b>Comentario del revisor</b> <a class=\"tocSkip\"></a>\n",
    "\n",
    "Buen trabajo. Usaste correctamente una celda independiente para importar las librerías y otra para leer los datos.\n",
    "</div>"
   ]
  },
  {
   "cell_type": "code",
   "execution_count": 3,
   "metadata": {},
   "outputs": [
    {
     "data": {
      "text/html": [
       "<div>\n",
       "<style scoped>\n",
       "    .dataframe tbody tr th:only-of-type {\n",
       "        vertical-align: middle;\n",
       "    }\n",
       "\n",
       "    .dataframe tbody tr th {\n",
       "        vertical-align: top;\n",
       "    }\n",
       "\n",
       "    .dataframe thead th {\n",
       "        text-align: right;\n",
       "    }\n",
       "</style>\n",
       "<table border=\"1\" class=\"dataframe\">\n",
       "  <thead>\n",
       "    <tr style=\"text-align: right;\">\n",
       "      <th></th>\n",
       "      <th>RowNumber</th>\n",
       "      <th>CustomerId</th>\n",
       "      <th>Surname</th>\n",
       "      <th>CreditScore</th>\n",
       "      <th>Geography</th>\n",
       "      <th>Gender</th>\n",
       "      <th>Age</th>\n",
       "      <th>Tenure</th>\n",
       "      <th>Balance</th>\n",
       "      <th>NumOfProducts</th>\n",
       "      <th>HasCrCard</th>\n",
       "      <th>IsActiveMember</th>\n",
       "      <th>EstimatedSalary</th>\n",
       "      <th>Exited</th>\n",
       "    </tr>\n",
       "  </thead>\n",
       "  <tbody>\n",
       "    <tr>\n",
       "      <th>0</th>\n",
       "      <td>1</td>\n",
       "      <td>15634602</td>\n",
       "      <td>Hargrave</td>\n",
       "      <td>619</td>\n",
       "      <td>France</td>\n",
       "      <td>Female</td>\n",
       "      <td>42</td>\n",
       "      <td>2.0</td>\n",
       "      <td>0.00</td>\n",
       "      <td>1</td>\n",
       "      <td>1</td>\n",
       "      <td>1</td>\n",
       "      <td>101348.88</td>\n",
       "      <td>1</td>\n",
       "    </tr>\n",
       "    <tr>\n",
       "      <th>1</th>\n",
       "      <td>2</td>\n",
       "      <td>15647311</td>\n",
       "      <td>Hill</td>\n",
       "      <td>608</td>\n",
       "      <td>Spain</td>\n",
       "      <td>Female</td>\n",
       "      <td>41</td>\n",
       "      <td>1.0</td>\n",
       "      <td>83807.86</td>\n",
       "      <td>1</td>\n",
       "      <td>0</td>\n",
       "      <td>1</td>\n",
       "      <td>112542.58</td>\n",
       "      <td>0</td>\n",
       "    </tr>\n",
       "    <tr>\n",
       "      <th>2</th>\n",
       "      <td>3</td>\n",
       "      <td>15619304</td>\n",
       "      <td>Onio</td>\n",
       "      <td>502</td>\n",
       "      <td>France</td>\n",
       "      <td>Female</td>\n",
       "      <td>42</td>\n",
       "      <td>8.0</td>\n",
       "      <td>159660.80</td>\n",
       "      <td>3</td>\n",
       "      <td>1</td>\n",
       "      <td>0</td>\n",
       "      <td>113931.57</td>\n",
       "      <td>1</td>\n",
       "    </tr>\n",
       "    <tr>\n",
       "      <th>3</th>\n",
       "      <td>4</td>\n",
       "      <td>15701354</td>\n",
       "      <td>Boni</td>\n",
       "      <td>699</td>\n",
       "      <td>France</td>\n",
       "      <td>Female</td>\n",
       "      <td>39</td>\n",
       "      <td>1.0</td>\n",
       "      <td>0.00</td>\n",
       "      <td>2</td>\n",
       "      <td>0</td>\n",
       "      <td>0</td>\n",
       "      <td>93826.63</td>\n",
       "      <td>0</td>\n",
       "    </tr>\n",
       "    <tr>\n",
       "      <th>4</th>\n",
       "      <td>5</td>\n",
       "      <td>15737888</td>\n",
       "      <td>Mitchell</td>\n",
       "      <td>850</td>\n",
       "      <td>Spain</td>\n",
       "      <td>Female</td>\n",
       "      <td>43</td>\n",
       "      <td>2.0</td>\n",
       "      <td>125510.82</td>\n",
       "      <td>1</td>\n",
       "      <td>1</td>\n",
       "      <td>1</td>\n",
       "      <td>79084.10</td>\n",
       "      <td>0</td>\n",
       "    </tr>\n",
       "  </tbody>\n",
       "</table>\n",
       "</div>"
      ],
      "text/plain": [
       "   RowNumber  CustomerId   Surname  CreditScore Geography  Gender  Age  \\\n",
       "0          1    15634602  Hargrave          619    France  Female   42   \n",
       "1          2    15647311      Hill          608     Spain  Female   41   \n",
       "2          3    15619304      Onio          502    France  Female   42   \n",
       "3          4    15701354      Boni          699    France  Female   39   \n",
       "4          5    15737888  Mitchell          850     Spain  Female   43   \n",
       "\n",
       "   Tenure    Balance  NumOfProducts  HasCrCard  IsActiveMember  \\\n",
       "0     2.0       0.00              1          1               1   \n",
       "1     1.0   83807.86              1          0               1   \n",
       "2     8.0  159660.80              3          1               0   \n",
       "3     1.0       0.00              2          0               0   \n",
       "4     2.0  125510.82              1          1               1   \n",
       "\n",
       "   EstimatedSalary  Exited  \n",
       "0        101348.88       1  \n",
       "1        112542.58       0  \n",
       "2        113931.57       1  \n",
       "3         93826.63       0  \n",
       "4         79084.10       0  "
      ]
     },
     "execution_count": 3,
     "metadata": {},
     "output_type": "execute_result"
    }
   ],
   "source": [
    "data.head()"
   ]
  },
  {
   "cell_type": "code",
   "execution_count": 4,
   "metadata": {},
   "outputs": [
    {
     "name": "stdout",
     "output_type": "stream",
     "text": [
      "<class 'pandas.core.frame.DataFrame'>\n",
      "RangeIndex: 10000 entries, 0 to 9999\n",
      "Data columns (total 14 columns):\n",
      " #   Column           Non-Null Count  Dtype  \n",
      "---  ------           --------------  -----  \n",
      " 0   RowNumber        10000 non-null  int64  \n",
      " 1   CustomerId       10000 non-null  int64  \n",
      " 2   Surname          10000 non-null  object \n",
      " 3   CreditScore      10000 non-null  int64  \n",
      " 4   Geography        10000 non-null  object \n",
      " 5   Gender           10000 non-null  object \n",
      " 6   Age              10000 non-null  int64  \n",
      " 7   Tenure           9091 non-null   float64\n",
      " 8   Balance          10000 non-null  float64\n",
      " 9   NumOfProducts    10000 non-null  int64  \n",
      " 10  HasCrCard        10000 non-null  int64  \n",
      " 11  IsActiveMember   10000 non-null  int64  \n",
      " 12  EstimatedSalary  10000 non-null  float64\n",
      " 13  Exited           10000 non-null  int64  \n",
      "dtypes: float64(3), int64(8), object(3)\n",
      "memory usage: 1.1+ MB\n"
     ]
    }
   ],
   "source": [
    "data.info()"
   ]
  },
  {
   "cell_type": "code",
   "execution_count": 5,
   "metadata": {},
   "outputs": [
    {
     "data": {
      "text/html": [
       "<div>\n",
       "<style scoped>\n",
       "    .dataframe tbody tr th:only-of-type {\n",
       "        vertical-align: middle;\n",
       "    }\n",
       "\n",
       "    .dataframe tbody tr th {\n",
       "        vertical-align: top;\n",
       "    }\n",
       "\n",
       "    .dataframe thead th {\n",
       "        text-align: right;\n",
       "    }\n",
       "</style>\n",
       "<table border=\"1\" class=\"dataframe\">\n",
       "  <thead>\n",
       "    <tr style=\"text-align: right;\">\n",
       "      <th></th>\n",
       "      <th>RowNumber</th>\n",
       "      <th>CustomerId</th>\n",
       "      <th>CreditScore</th>\n",
       "      <th>Age</th>\n",
       "      <th>Tenure</th>\n",
       "      <th>Balance</th>\n",
       "      <th>NumOfProducts</th>\n",
       "      <th>HasCrCard</th>\n",
       "      <th>IsActiveMember</th>\n",
       "      <th>EstimatedSalary</th>\n",
       "      <th>Exited</th>\n",
       "    </tr>\n",
       "  </thead>\n",
       "  <tbody>\n",
       "    <tr>\n",
       "      <th>count</th>\n",
       "      <td>10000.00000</td>\n",
       "      <td>1.000000e+04</td>\n",
       "      <td>10000.000000</td>\n",
       "      <td>10000.000000</td>\n",
       "      <td>9091.000000</td>\n",
       "      <td>10000.000000</td>\n",
       "      <td>10000.000000</td>\n",
       "      <td>10000.00000</td>\n",
       "      <td>10000.000000</td>\n",
       "      <td>10000.000000</td>\n",
       "      <td>10000.000000</td>\n",
       "    </tr>\n",
       "    <tr>\n",
       "      <th>mean</th>\n",
       "      <td>5000.50000</td>\n",
       "      <td>1.569094e+07</td>\n",
       "      <td>650.528800</td>\n",
       "      <td>38.921800</td>\n",
       "      <td>4.997690</td>\n",
       "      <td>76485.889288</td>\n",
       "      <td>1.530200</td>\n",
       "      <td>0.70550</td>\n",
       "      <td>0.515100</td>\n",
       "      <td>100090.239881</td>\n",
       "      <td>0.203700</td>\n",
       "    </tr>\n",
       "    <tr>\n",
       "      <th>std</th>\n",
       "      <td>2886.89568</td>\n",
       "      <td>7.193619e+04</td>\n",
       "      <td>96.653299</td>\n",
       "      <td>10.487806</td>\n",
       "      <td>2.894723</td>\n",
       "      <td>62397.405202</td>\n",
       "      <td>0.581654</td>\n",
       "      <td>0.45584</td>\n",
       "      <td>0.499797</td>\n",
       "      <td>57510.492818</td>\n",
       "      <td>0.402769</td>\n",
       "    </tr>\n",
       "    <tr>\n",
       "      <th>min</th>\n",
       "      <td>1.00000</td>\n",
       "      <td>1.556570e+07</td>\n",
       "      <td>350.000000</td>\n",
       "      <td>18.000000</td>\n",
       "      <td>0.000000</td>\n",
       "      <td>0.000000</td>\n",
       "      <td>1.000000</td>\n",
       "      <td>0.00000</td>\n",
       "      <td>0.000000</td>\n",
       "      <td>11.580000</td>\n",
       "      <td>0.000000</td>\n",
       "    </tr>\n",
       "    <tr>\n",
       "      <th>25%</th>\n",
       "      <td>2500.75000</td>\n",
       "      <td>1.562853e+07</td>\n",
       "      <td>584.000000</td>\n",
       "      <td>32.000000</td>\n",
       "      <td>2.000000</td>\n",
       "      <td>0.000000</td>\n",
       "      <td>1.000000</td>\n",
       "      <td>0.00000</td>\n",
       "      <td>0.000000</td>\n",
       "      <td>51002.110000</td>\n",
       "      <td>0.000000</td>\n",
       "    </tr>\n",
       "    <tr>\n",
       "      <th>50%</th>\n",
       "      <td>5000.50000</td>\n",
       "      <td>1.569074e+07</td>\n",
       "      <td>652.000000</td>\n",
       "      <td>37.000000</td>\n",
       "      <td>5.000000</td>\n",
       "      <td>97198.540000</td>\n",
       "      <td>1.000000</td>\n",
       "      <td>1.00000</td>\n",
       "      <td>1.000000</td>\n",
       "      <td>100193.915000</td>\n",
       "      <td>0.000000</td>\n",
       "    </tr>\n",
       "    <tr>\n",
       "      <th>75%</th>\n",
       "      <td>7500.25000</td>\n",
       "      <td>1.575323e+07</td>\n",
       "      <td>718.000000</td>\n",
       "      <td>44.000000</td>\n",
       "      <td>7.000000</td>\n",
       "      <td>127644.240000</td>\n",
       "      <td>2.000000</td>\n",
       "      <td>1.00000</td>\n",
       "      <td>1.000000</td>\n",
       "      <td>149388.247500</td>\n",
       "      <td>0.000000</td>\n",
       "    </tr>\n",
       "    <tr>\n",
       "      <th>max</th>\n",
       "      <td>10000.00000</td>\n",
       "      <td>1.581569e+07</td>\n",
       "      <td>850.000000</td>\n",
       "      <td>92.000000</td>\n",
       "      <td>10.000000</td>\n",
       "      <td>250898.090000</td>\n",
       "      <td>4.000000</td>\n",
       "      <td>1.00000</td>\n",
       "      <td>1.000000</td>\n",
       "      <td>199992.480000</td>\n",
       "      <td>1.000000</td>\n",
       "    </tr>\n",
       "  </tbody>\n",
       "</table>\n",
       "</div>"
      ],
      "text/plain": [
       "         RowNumber    CustomerId   CreditScore           Age       Tenure  \\\n",
       "count  10000.00000  1.000000e+04  10000.000000  10000.000000  9091.000000   \n",
       "mean    5000.50000  1.569094e+07    650.528800     38.921800     4.997690   \n",
       "std     2886.89568  7.193619e+04     96.653299     10.487806     2.894723   \n",
       "min        1.00000  1.556570e+07    350.000000     18.000000     0.000000   \n",
       "25%     2500.75000  1.562853e+07    584.000000     32.000000     2.000000   \n",
       "50%     5000.50000  1.569074e+07    652.000000     37.000000     5.000000   \n",
       "75%     7500.25000  1.575323e+07    718.000000     44.000000     7.000000   \n",
       "max    10000.00000  1.581569e+07    850.000000     92.000000    10.000000   \n",
       "\n",
       "             Balance  NumOfProducts    HasCrCard  IsActiveMember  \\\n",
       "count   10000.000000   10000.000000  10000.00000    10000.000000   \n",
       "mean    76485.889288       1.530200      0.70550        0.515100   \n",
       "std     62397.405202       0.581654      0.45584        0.499797   \n",
       "min         0.000000       1.000000      0.00000        0.000000   \n",
       "25%         0.000000       1.000000      0.00000        0.000000   \n",
       "50%     97198.540000       1.000000      1.00000        1.000000   \n",
       "75%    127644.240000       2.000000      1.00000        1.000000   \n",
       "max    250898.090000       4.000000      1.00000        1.000000   \n",
       "\n",
       "       EstimatedSalary        Exited  \n",
       "count     10000.000000  10000.000000  \n",
       "mean     100090.239881      0.203700  \n",
       "std       57510.492818      0.402769  \n",
       "min          11.580000      0.000000  \n",
       "25%       51002.110000      0.000000  \n",
       "50%      100193.915000      0.000000  \n",
       "75%      149388.247500      0.000000  \n",
       "max      199992.480000      1.000000  "
      ]
     },
     "execution_count": 5,
     "metadata": {},
     "output_type": "execute_result"
    }
   ],
   "source": [
    "data.describe()"
   ]
  },
  {
   "cell_type": "code",
   "execution_count": 6,
   "metadata": {},
   "outputs": [
    {
     "data": {
      "text/plain": [
       "0"
      ]
     },
     "execution_count": 6,
     "metadata": {},
     "output_type": "execute_result"
    }
   ],
   "source": [
    "data.duplicated().sum()"
   ]
  },
  {
   "cell_type": "code",
   "execution_count": 7,
   "metadata": {},
   "outputs": [
    {
     "name": "stdout",
     "output_type": "stream",
     "text": [
      "<class 'pandas.core.frame.DataFrame'>\n",
      "Int64Index: 9091 entries, 0 to 9998\n",
      "Data columns (total 14 columns):\n",
      " #   Column           Non-Null Count  Dtype  \n",
      "---  ------           --------------  -----  \n",
      " 0   RowNumber        9091 non-null   int64  \n",
      " 1   CustomerId       9091 non-null   int64  \n",
      " 2   Surname          9091 non-null   object \n",
      " 3   CreditScore      9091 non-null   int64  \n",
      " 4   Geography        9091 non-null   object \n",
      " 5   Gender           9091 non-null   object \n",
      " 6   Age              9091 non-null   int64  \n",
      " 7   Tenure           9091 non-null   float64\n",
      " 8   Balance          9091 non-null   float64\n",
      " 9   NumOfProducts    9091 non-null   int64  \n",
      " 10  HasCrCard        9091 non-null   int64  \n",
      " 11  IsActiveMember   9091 non-null   int64  \n",
      " 12  EstimatedSalary  9091 non-null   float64\n",
      " 13  Exited           9091 non-null   int64  \n",
      "dtypes: float64(3), int64(8), object(3)\n",
      "memory usage: 1.0+ MB\n"
     ]
    }
   ],
   "source": [
    "data = data.dropna()\n",
    "data.info()"
   ]
  },
  {
   "cell_type": "markdown",
   "metadata": {},
   "source": [
    "<div class=\"alert alert-block alert-success\">\n",
    "<b>Comentario del revisor</b> <a class=\"tocSkip\"></a>\n",
    "\n",
    "Buen uso de los métodos de pandas para explorar los datos.\n",
    "</div>"
   ]
  },
  {
   "cell_type": "markdown",
   "metadata": {},
   "source": [
    "## Features"
   ]
  },
  {
   "cell_type": "markdown",
   "metadata": {},
   "source": [
    "The `Surname` is not relevant for our perdictor, and in adittion if we try to use one hot enconder over the `Surname` column it will generate a huge amount of new columns. For that reason the columns we will include as features are:"
   ]
  },
  {
   "cell_type": "code",
   "execution_count": 8,
   "metadata": {},
   "outputs": [],
   "source": [
    "features_columns = ['CreditScore', 'Geography',\n",
    "       'Gender', 'Age', 'Tenure', 'Balance', 'NumOfProducts', 'HasCrCard',\n",
    "       'IsActiveMember', 'EstimatedSalary']\n",
    "features = data[features_columns]\n",
    "target = data['Exited']"
   ]
  },
  {
   "cell_type": "markdown",
   "metadata": {},
   "source": [
    "### Encoding"
   ]
  },
  {
   "cell_type": "markdown",
   "metadata": {},
   "source": [
    "There are some categorical variable we need to encode, those are `Geography` (Nominal), `Gender`(nominal)"
   ]
  },
  {
   "cell_type": "code",
   "execution_count": 9,
   "metadata": {},
   "outputs": [],
   "source": [
    "features = pd.get_dummies(features)"
   ]
  },
  {
   "cell_type": "markdown",
   "metadata": {},
   "source": [
    "### Scaling "
   ]
  },
  {
   "cell_type": "code",
   "execution_count": 10,
   "metadata": {},
   "outputs": [],
   "source": [
    "numeric_columns = ['CreditScore','Age', 'Tenure', 'Balance', 'NumOfProducts','EstimatedSalary']\n",
    "scaler = StandardScaler()\n",
    "scaler.fit(features[numeric_columns])\n",
    "features_scaled = features\n",
    "\n",
    "features_scaled[numeric_columns] = scaler.transform(features[numeric_columns])"
   ]
  },
  {
   "cell_type": "code",
   "execution_count": 11,
   "metadata": {},
   "outputs": [
    {
     "data": {
      "text/html": [
       "<div>\n",
       "<style scoped>\n",
       "    .dataframe tbody tr th:only-of-type {\n",
       "        vertical-align: middle;\n",
       "    }\n",
       "\n",
       "    .dataframe tbody tr th {\n",
       "        vertical-align: top;\n",
       "    }\n",
       "\n",
       "    .dataframe thead th {\n",
       "        text-align: right;\n",
       "    }\n",
       "</style>\n",
       "<table border=\"1\" class=\"dataframe\">\n",
       "  <thead>\n",
       "    <tr style=\"text-align: right;\">\n",
       "      <th></th>\n",
       "      <th>CreditScore</th>\n",
       "      <th>Age</th>\n",
       "      <th>Tenure</th>\n",
       "      <th>Balance</th>\n",
       "      <th>NumOfProducts</th>\n",
       "      <th>HasCrCard</th>\n",
       "      <th>IsActiveMember</th>\n",
       "      <th>EstimatedSalary</th>\n",
       "      <th>Geography_France</th>\n",
       "      <th>Geography_Germany</th>\n",
       "      <th>Geography_Spain</th>\n",
       "      <th>Gender_Female</th>\n",
       "      <th>Gender_Male</th>\n",
       "    </tr>\n",
       "  </thead>\n",
       "  <tbody>\n",
       "    <tr>\n",
       "      <th>0</th>\n",
       "      <td>-0.329200</td>\n",
       "      <td>0.289040</td>\n",
       "      <td>-1.035627</td>\n",
       "      <td>-1.227780</td>\n",
       "      <td>-0.912601</td>\n",
       "      <td>1</td>\n",
       "      <td>1</td>\n",
       "      <td>0.020264</td>\n",
       "      <td>1</td>\n",
       "      <td>0</td>\n",
       "      <td>0</td>\n",
       "      <td>1</td>\n",
       "      <td>0</td>\n",
       "    </tr>\n",
       "    <tr>\n",
       "      <th>1</th>\n",
       "      <td>-0.443301</td>\n",
       "      <td>0.194298</td>\n",
       "      <td>-1.381103</td>\n",
       "      <td>0.116887</td>\n",
       "      <td>-0.912601</td>\n",
       "      <td>0</td>\n",
       "      <td>1</td>\n",
       "      <td>0.214527</td>\n",
       "      <td>0</td>\n",
       "      <td>0</td>\n",
       "      <td>1</td>\n",
       "      <td>1</td>\n",
       "      <td>0</td>\n",
       "    </tr>\n",
       "    <tr>\n",
       "      <th>2</th>\n",
       "      <td>-1.542828</td>\n",
       "      <td>0.289040</td>\n",
       "      <td>1.037224</td>\n",
       "      <td>1.333920</td>\n",
       "      <td>2.529911</td>\n",
       "      <td>1</td>\n",
       "      <td>0</td>\n",
       "      <td>0.238632</td>\n",
       "      <td>1</td>\n",
       "      <td>0</td>\n",
       "      <td>0</td>\n",
       "      <td>1</td>\n",
       "      <td>0</td>\n",
       "    </tr>\n",
       "    <tr>\n",
       "      <th>3</th>\n",
       "      <td>0.500631</td>\n",
       "      <td>0.004815</td>\n",
       "      <td>-1.381103</td>\n",
       "      <td>-1.227780</td>\n",
       "      <td>0.808655</td>\n",
       "      <td>0</td>\n",
       "      <td>0</td>\n",
       "      <td>-0.110281</td>\n",
       "      <td>1</td>\n",
       "      <td>0</td>\n",
       "      <td>0</td>\n",
       "      <td>1</td>\n",
       "      <td>0</td>\n",
       "    </tr>\n",
       "    <tr>\n",
       "      <th>4</th>\n",
       "      <td>2.066937</td>\n",
       "      <td>0.383782</td>\n",
       "      <td>-1.035627</td>\n",
       "      <td>0.785996</td>\n",
       "      <td>-0.912601</td>\n",
       "      <td>1</td>\n",
       "      <td>1</td>\n",
       "      <td>-0.366132</td>\n",
       "      <td>0</td>\n",
       "      <td>0</td>\n",
       "      <td>1</td>\n",
       "      <td>1</td>\n",
       "      <td>0</td>\n",
       "    </tr>\n",
       "    <tr>\n",
       "      <th>...</th>\n",
       "      <td>...</td>\n",
       "      <td>...</td>\n",
       "      <td>...</td>\n",
       "      <td>...</td>\n",
       "      <td>...</td>\n",
       "      <td>...</td>\n",
       "      <td>...</td>\n",
       "      <td>...</td>\n",
       "      <td>...</td>\n",
       "      <td>...</td>\n",
       "      <td>...</td>\n",
       "      <td>...</td>\n",
       "      <td>...</td>\n",
       "    </tr>\n",
       "    <tr>\n",
       "      <th>9994</th>\n",
       "      <td>1.548293</td>\n",
       "      <td>-0.942603</td>\n",
       "      <td>-1.035627</td>\n",
       "      <td>-1.227780</td>\n",
       "      <td>0.808655</td>\n",
       "      <td>0</td>\n",
       "      <td>0</td>\n",
       "      <td>1.173038</td>\n",
       "      <td>1</td>\n",
       "      <td>0</td>\n",
       "      <td>0</td>\n",
       "      <td>1</td>\n",
       "      <td>0</td>\n",
       "    </tr>\n",
       "    <tr>\n",
       "      <th>9995</th>\n",
       "      <td>1.247479</td>\n",
       "      <td>0.004815</td>\n",
       "      <td>0.000798</td>\n",
       "      <td>-1.227780</td>\n",
       "      <td>0.808655</td>\n",
       "      <td>1</td>\n",
       "      <td>0</td>\n",
       "      <td>-0.067866</td>\n",
       "      <td>1</td>\n",
       "      <td>0</td>\n",
       "      <td>0</td>\n",
       "      <td>0</td>\n",
       "      <td>1</td>\n",
       "    </tr>\n",
       "    <tr>\n",
       "      <th>9996</th>\n",
       "      <td>-1.397607</td>\n",
       "      <td>-0.374153</td>\n",
       "      <td>1.728174</td>\n",
       "      <td>-0.307305</td>\n",
       "      <td>-0.912601</td>\n",
       "      <td>1</td>\n",
       "      <td>1</td>\n",
       "      <td>0.026354</td>\n",
       "      <td>1</td>\n",
       "      <td>0</td>\n",
       "      <td>0</td>\n",
       "      <td>0</td>\n",
       "      <td>1</td>\n",
       "    </tr>\n",
       "    <tr>\n",
       "      <th>9997</th>\n",
       "      <td>0.604360</td>\n",
       "      <td>-0.279411</td>\n",
       "      <td>0.691748</td>\n",
       "      <td>-1.227780</td>\n",
       "      <td>-0.912601</td>\n",
       "      <td>0</td>\n",
       "      <td>1</td>\n",
       "      <td>-1.008227</td>\n",
       "      <td>1</td>\n",
       "      <td>0</td>\n",
       "      <td>0</td>\n",
       "      <td>1</td>\n",
       "      <td>0</td>\n",
       "    </tr>\n",
       "    <tr>\n",
       "      <th>9998</th>\n",
       "      <td>1.257852</td>\n",
       "      <td>0.289040</td>\n",
       "      <td>-0.690152</td>\n",
       "      <td>-0.023223</td>\n",
       "      <td>0.808655</td>\n",
       "      <td>1</td>\n",
       "      <td>0</td>\n",
       "      <td>-0.126562</td>\n",
       "      <td>0</td>\n",
       "      <td>1</td>\n",
       "      <td>0</td>\n",
       "      <td>0</td>\n",
       "      <td>1</td>\n",
       "    </tr>\n",
       "  </tbody>\n",
       "</table>\n",
       "<p>9091 rows × 13 columns</p>\n",
       "</div>"
      ],
      "text/plain": [
       "      CreditScore       Age    Tenure   Balance  NumOfProducts  HasCrCard  \\\n",
       "0       -0.329200  0.289040 -1.035627 -1.227780      -0.912601          1   \n",
       "1       -0.443301  0.194298 -1.381103  0.116887      -0.912601          0   \n",
       "2       -1.542828  0.289040  1.037224  1.333920       2.529911          1   \n",
       "3        0.500631  0.004815 -1.381103 -1.227780       0.808655          0   \n",
       "4        2.066937  0.383782 -1.035627  0.785996      -0.912601          1   \n",
       "...           ...       ...       ...       ...            ...        ...   \n",
       "9994     1.548293 -0.942603 -1.035627 -1.227780       0.808655          0   \n",
       "9995     1.247479  0.004815  0.000798 -1.227780       0.808655          1   \n",
       "9996    -1.397607 -0.374153  1.728174 -0.307305      -0.912601          1   \n",
       "9997     0.604360 -0.279411  0.691748 -1.227780      -0.912601          0   \n",
       "9998     1.257852  0.289040 -0.690152 -0.023223       0.808655          1   \n",
       "\n",
       "      IsActiveMember  EstimatedSalary  Geography_France  Geography_Germany  \\\n",
       "0                  1         0.020264                 1                  0   \n",
       "1                  1         0.214527                 0                  0   \n",
       "2                  0         0.238632                 1                  0   \n",
       "3                  0        -0.110281                 1                  0   \n",
       "4                  1        -0.366132                 0                  0   \n",
       "...              ...              ...               ...                ...   \n",
       "9994               0         1.173038                 1                  0   \n",
       "9995               0        -0.067866                 1                  0   \n",
       "9996               1         0.026354                 1                  0   \n",
       "9997               1        -1.008227                 1                  0   \n",
       "9998               0        -0.126562                 0                  1   \n",
       "\n",
       "      Geography_Spain  Gender_Female  Gender_Male  \n",
       "0                   0              1            0  \n",
       "1                   1              1            0  \n",
       "2                   0              1            0  \n",
       "3                   0              1            0  \n",
       "4                   1              1            0  \n",
       "...               ...            ...          ...  \n",
       "9994                0              1            0  \n",
       "9995                0              0            1  \n",
       "9996                0              0            1  \n",
       "9997                0              1            0  \n",
       "9998                0              0            1  \n",
       "\n",
       "[9091 rows x 13 columns]"
      ]
     },
     "execution_count": 11,
     "metadata": {},
     "output_type": "execute_result"
    }
   ],
   "source": [
    "features"
   ]
  },
  {
   "cell_type": "markdown",
   "metadata": {},
   "source": [
    "<div class=\"alert alert-block alert-warning\">\n",
    "<b>Comentario del revisor</b> <a class=\"tocSkip\"></a>\n",
    "\n",
    "¡Muy bien! Trataste los datos correctamente, el escalado es correcto, aunque tal vez sería bueno guardarlo en un dataframe nuevo por ejemplo features_scaled solo para diferenciarlo de los datos originales, porque ahora no podrás explorar o consultar los datos originales, por ejemplo ahora la columna edad ya no tiene los valores de la edad de los usuarios.\n",
    "</div>"
   ]
  },
  {
   "cell_type": "markdown",
   "metadata": {},
   "source": [
    "## Target"
   ]
  },
  {
   "cell_type": "markdown",
   "metadata": {},
   "source": [
    "### Class disbalance"
   ]
  },
  {
   "cell_type": "code",
   "execution_count": 12,
   "metadata": {},
   "outputs": [
    {
     "data": {
      "text/plain": [
       "<AxesSubplot:>"
      ]
     },
     "execution_count": 12,
     "metadata": {},
     "output_type": "execute_result"
    },
    {
     "data": {
      "image/png": "[encoded data removed]",
      "text/plain": [
       "<Figure size 640x480 with 1 Axes>"
      ]
     },
     "metadata": {},
     "output_type": "display_data"
    }
   ],
   "source": [
    "target.value_counts().plot(kind='bar')"
   ]
  },
  {
   "cell_type": "markdown",
   "metadata": {},
   "source": [
    "<div class=\"alert alert-block alert-success\">\n",
    "<b>Comentario del revisor</b> <a class=\"tocSkip\"></a>\n",
    "\n",
    "Bien, la gráfica muestra correctamente el imbalance de datos.\n",
    "</div>"
   ]
  },
  {
   "cell_type": "markdown",
   "metadata": {},
   "source": [
    "Let's make predictions with the imbalance"
   ]
  },
  {
   "cell_type": "markdown",
   "metadata": {},
   "source": [
    "##  Training and validation datasets"
   ]
  },
  {
   "cell_type": "code",
   "execution_count": 13,
   "metadata": {},
   "outputs": [],
   "source": [
    "training_features, validation_features, training_target, validation_target = train_test_split(features_scaled, target, test_size=0.25, random_state=12345)"
   ]
  },
  {
   "cell_type": "markdown",
   "metadata": {},
   "source": [
    "## Prediction models"
   ]
  },
  {
   "cell_type": "markdown",
   "metadata": {},
   "source": [
    "### Random Forest classification"
   ]
  },
  {
   "cell_type": "code",
   "execution_count": 14,
   "metadata": {},
   "outputs": [
    {
     "data": {
      "text/html": [
       "<div>\n",
       "<style scoped>\n",
       "    .dataframe tbody tr th:only-of-type {\n",
       "        vertical-align: middle;\n",
       "    }\n",
       "\n",
       "    .dataframe tbody tr th {\n",
       "        vertical-align: top;\n",
       "    }\n",
       "\n",
       "    .dataframe thead th {\n",
       "        text-align: right;\n",
       "    }\n",
       "</style>\n",
       "<table border=\"1\" class=\"dataframe\">\n",
       "  <thead>\n",
       "    <tr style=\"text-align: right;\">\n",
       "      <th></th>\n",
       "      <th>max_depth</th>\n",
       "      <th>confusion_matrix</th>\n",
       "      <th>f1_score</th>\n",
       "      <th>training_score</th>\n",
       "      <th>validation_score</th>\n",
       "      <th>recall_score</th>\n",
       "      <th>precision_score</th>\n",
       "    </tr>\n",
       "  </thead>\n",
       "  <tbody>\n",
       "    <tr>\n",
       "      <th>1</th>\n",
       "      <td>1</td>\n",
       "      <td>[[1388  434]* [ 155  296]]</td>\n",
       "      <td>0.50127</td>\n",
       "      <td>0.7379</td>\n",
       "      <td>0.740871</td>\n",
       "      <td>0.405479</td>\n",
       "      <td>0.656319</td>\n",
       "    </tr>\n",
       "    <tr>\n",
       "      <th>2</th>\n",
       "      <td>2</td>\n",
       "      <td>[[1452  370]* [ 133  318]]</td>\n",
       "      <td>0.558385</td>\n",
       "      <td>0.771634</td>\n",
       "      <td>0.778707</td>\n",
       "      <td>0.462209</td>\n",
       "      <td>0.7051</td>\n",
       "    </tr>\n",
       "    <tr>\n",
       "      <th>3</th>\n",
       "      <td>3</td>\n",
       "      <td>[[1470  352]* [ 126  325]]</td>\n",
       "      <td>0.576241</td>\n",
       "      <td>0.787181</td>\n",
       "      <td>0.789705</td>\n",
       "      <td>0.480059</td>\n",
       "      <td>0.720621</td>\n",
       "    </tr>\n",
       "    <tr>\n",
       "      <th>4</th>\n",
       "      <td>4</td>\n",
       "      <td>[[1449  373]* [ 119  332]]</td>\n",
       "      <td>0.574394</td>\n",
       "      <td>0.789968</td>\n",
       "      <td>0.783546</td>\n",
       "      <td>0.470922</td>\n",
       "      <td>0.736142</td>\n",
       "    </tr>\n",
       "    <tr>\n",
       "      <th>5</th>\n",
       "      <td>5</td>\n",
       "      <td>[[1490  332]* [ 123  328]]</td>\n",
       "      <td>0.590459</td>\n",
       "      <td>0.805955</td>\n",
       "      <td>0.799824</td>\n",
       "      <td>0.49697</td>\n",
       "      <td>0.727273</td>\n",
       "    </tr>\n",
       "    <tr>\n",
       "      <th>6</th>\n",
       "      <td>6</td>\n",
       "      <td>[[1510  312]* [ 129  322]]</td>\n",
       "      <td>0.593548</td>\n",
       "      <td>0.820915</td>\n",
       "      <td>0.805983</td>\n",
       "      <td>0.507886</td>\n",
       "      <td>0.713969</td>\n",
       "    </tr>\n",
       "    <tr>\n",
       "      <th>7</th>\n",
       "      <td>7</td>\n",
       "      <td>[[1501  321]* [ 122  329]]</td>\n",
       "      <td>0.597639</td>\n",
       "      <td>0.830302</td>\n",
       "      <td>0.805103</td>\n",
       "      <td>0.506154</td>\n",
       "      <td>0.72949</td>\n",
       "    </tr>\n",
       "    <tr>\n",
       "      <th>8</th>\n",
       "      <td>8</td>\n",
       "      <td>[[1538  284]* [ 145  306]]</td>\n",
       "      <td>0.587896</td>\n",
       "      <td>0.853769</td>\n",
       "      <td>0.811263</td>\n",
       "      <td>0.518644</td>\n",
       "      <td>0.678492</td>\n",
       "    </tr>\n",
       "    <tr>\n",
       "      <th>9</th>\n",
       "      <td>9</td>\n",
       "      <td>[[1596  226]* [ 161  290]]</td>\n",
       "      <td>0.599793</td>\n",
       "      <td>0.88677</td>\n",
       "      <td>0.82974</td>\n",
       "      <td>0.562016</td>\n",
       "      <td>0.643016</td>\n",
       "    </tr>\n",
       "    <tr>\n",
       "      <th>10</th>\n",
       "      <td>10</td>\n",
       "      <td>[[1610  212]* [ 171  280]]</td>\n",
       "      <td>0.593849</td>\n",
       "      <td>0.908331</td>\n",
       "      <td>0.8315</td>\n",
       "      <td>0.569106</td>\n",
       "      <td>0.620843</td>\n",
       "    </tr>\n",
       "    <tr>\n",
       "      <th>11</th>\n",
       "      <td>11</td>\n",
       "      <td>[[1648  174]* [ 185  266]]</td>\n",
       "      <td>0.597082</td>\n",
       "      <td>0.936198</td>\n",
       "      <td>0.842059</td>\n",
       "      <td>0.604545</td>\n",
       "      <td>0.5898</td>\n",
       "    </tr>\n",
       "    <tr>\n",
       "      <th>12</th>\n",
       "      <td>12</td>\n",
       "      <td>[[1685  137]* [ 216  235]]</td>\n",
       "      <td>0.571081</td>\n",
       "      <td>0.959519</td>\n",
       "      <td>0.844699</td>\n",
       "      <td>0.63172</td>\n",
       "      <td>0.521064</td>\n",
       "    </tr>\n",
       "    <tr>\n",
       "      <th>13</th>\n",
       "      <td>13</td>\n",
       "      <td>[[1704  118]* [ 224  227]]</td>\n",
       "      <td>0.570352</td>\n",
       "      <td>0.973746</td>\n",
       "      <td>0.849538</td>\n",
       "      <td>0.657971</td>\n",
       "      <td>0.503326</td>\n",
       "    </tr>\n",
       "    <tr>\n",
       "      <th>14</th>\n",
       "      <td>14</td>\n",
       "      <td>[[1719  103]* [ 235  216]]</td>\n",
       "      <td>0.561039</td>\n",
       "      <td>0.984306</td>\n",
       "      <td>0.851298</td>\n",
       "      <td>0.677116</td>\n",
       "      <td>0.478936</td>\n",
       "    </tr>\n",
       "    <tr>\n",
       "      <th>15</th>\n",
       "      <td>15</td>\n",
       "      <td>[[1724   98]* [ 241  210]]</td>\n",
       "      <td>0.55336</td>\n",
       "      <td>0.98856</td>\n",
       "      <td>0.850858</td>\n",
       "      <td>0.681818</td>\n",
       "      <td>0.465632</td>\n",
       "    </tr>\n",
       "  </tbody>\n",
       "</table>\n",
       "</div>"
      ],
      "text/plain": [
       "   max_depth            confusion_matrix  f1_score training_score  \\\n",
       "1          1  [[1388  434]* [ 155  296]]   0.50127         0.7379   \n",
       "2          2  [[1452  370]* [ 133  318]]  0.558385       0.771634   \n",
       "3          3  [[1470  352]* [ 126  325]]  0.576241       0.787181   \n",
       "4          4  [[1449  373]* [ 119  332]]  0.574394       0.789968   \n",
       "5          5  [[1490  332]* [ 123  328]]  0.590459       0.805955   \n",
       "6          6  [[1510  312]* [ 129  322]]  0.593548       0.820915   \n",
       "7          7  [[1501  321]* [ 122  329]]  0.597639       0.830302   \n",
       "8          8  [[1538  284]* [ 145  306]]  0.587896       0.853769   \n",
       "9          9  [[1596  226]* [ 161  290]]  0.599793        0.88677   \n",
       "10        10  [[1610  212]* [ 171  280]]  0.593849       0.908331   \n",
       "11        11  [[1648  174]* [ 185  266]]  0.597082       0.936198   \n",
       "12        12  [[1685  137]* [ 216  235]]  0.571081       0.959519   \n",
       "13        13  [[1704  118]* [ 224  227]]  0.570352       0.973746   \n",
       "14        14  [[1719  103]* [ 235  216]]  0.561039       0.984306   \n",
       "15        15  [[1724   98]* [ 241  210]]   0.55336        0.98856   \n",
       "\n",
       "   validation_score recall_score precision_score  \n",
       "1          0.740871     0.405479        0.656319  \n",
       "2          0.778707     0.462209          0.7051  \n",
       "3          0.789705     0.480059        0.720621  \n",
       "4          0.783546     0.470922        0.736142  \n",
       "5          0.799824      0.49697        0.727273  \n",
       "6          0.805983     0.507886        0.713969  \n",
       "7          0.805103     0.506154         0.72949  \n",
       "8          0.811263     0.518644        0.678492  \n",
       "9           0.82974     0.562016        0.643016  \n",
       "10           0.8315     0.569106        0.620843  \n",
       "11         0.842059     0.604545          0.5898  \n",
       "12         0.844699      0.63172        0.521064  \n",
       "13         0.849538     0.657971        0.503326  \n",
       "14         0.851298     0.677116        0.478936  \n",
       "15         0.850858     0.681818        0.465632  "
      ]
     },
     "execution_count": 14,
     "metadata": {},
     "output_type": "execute_result"
    }
   ],
   "source": [
    "random_forest_results = pd.DataFrame(columns=['max_depth', 'confusion_matrix', 'f1_score', 'training_score', 'validation_score', 'recall_score', 'precision_score'])\n",
    "n=1\n",
    "for depth in range(1, 16):\n",
    "    model = RandomForestClassifier(random_state=12345, max_depth=depth, n_estimators=20,  class_weight='balanced')\n",
    "    model.fit(training_features, training_target)\n",
    "    predicted_values = model.predict(validation_features)\n",
    "    random_forest_results.loc[n, 'max_depth'] = depth \n",
    "    random_forest_results.loc[n, 'confusion_matrix'] = str(confusion_matrix(validation_target, predicted_values)).replace('\\n', '*')\n",
    "    random_forest_results.loc[n, 'f1_score'] = f1_score(validation_target, predicted_values)\n",
    "    random_forest_results.loc[n, 'training_score'] = model.score(training_features, training_target)\n",
    "    random_forest_results.loc[n, 'validation_score'] = model.score(validation_features, validation_target)\n",
    "    random_forest_results.loc[n, 'recall_score'] = recall_score(predicted_values, validation_target)\n",
    "    random_forest_results.loc[n, 'precision_score'] = precision_score(predicted_values, validation_target)\n",
    "\n",
    "    n +=1 \n",
    "\n",
    "random_forest_results"
   ]
  },
  {
   "cell_type": "code",
   "execution_count": 15,
   "metadata": {},
   "outputs": [
    {
     "data": {
      "text/plain": [
       "Text(0, 0.5, 'TPR')"
      ]
     },
     "execution_count": 15,
     "metadata": {},
     "output_type": "execute_result"
    },
    {
     "data": {
      "image/png": "[encoded data removed]",
      "text/plain": [
       "<Figure size 640x480 with 1 Axes>"
      ]
     },
     "metadata": {},
     "output_type": "display_data"
    }
   ],
   "source": [
    "best_forest = RandomForestClassifier(random_state=12345, max_depth=9, n_estimators=20, class_weight='balanced')\n",
    "\n",
    "best_forest.fit(training_features, training_target)\n",
    "probabilities = best_forest.predict_proba(validation_features)[:, 1]\n",
    "\n",
    "fpr, tpr, threshold= roc_curve(validation_target, probabilities)\n",
    "roc_auc = roc_auc_score(validation_target, probabilities)\n",
    "\n",
    "plt.figure()\n",
    "plt.plot(fpr, tpr)\n",
    "plt.plot([0,1],[0,1], linestyle='--')\n",
    "plt.title(f'ROC plot (ROC-AUC = {roc_auc})')\n",
    "plt.xlabel('FPR')\n",
    "plt.ylabel('TPR')"
   ]
  },
  {
   "cell_type": "markdown",
   "metadata": {},
   "source": [
    "<div class=\"alert alert-block alert-success\">\n",
    "<b>Comentario del revisor</b> <a class=\"tocSkip\"></a>\n",
    "\n",
    "¡Perfecto! Con el ciclo for exploraste distintos hiperparámetros para tus datos, algunos de estos modelos incluso ya superan el umbral solicitado de 0.59 en la métrica F1.\n",
    "</div>"
   ]
  },
  {
   "cell_type": "markdown",
   "metadata": {},
   "source": [
    "### Logistic regression"
   ]
  },
  {
   "cell_type": "code",
   "execution_count": 16,
   "metadata": {},
   "outputs": [
    {
     "data": {
      "text/plain": [
       "Text(0.5, 1.0, 'ROC plot (ROC-AUC = 0.7883262222503474)')"
      ]
     },
     "execution_count": 16,
     "metadata": {},
     "output_type": "execute_result"
    },
    {
     "data": {
      "image/png": "[encoded data removed]",
      "text/plain": [
       "<Figure size 640x480 with 1 Axes>"
      ]
     },
     "metadata": {},
     "output_type": "display_data"
    }
   ],
   "source": [
    "model = LogisticRegression(random_state=12345,  class_weight='balanced')\n",
    "model.fit(training_features, training_target)\n",
    "\n",
    "val_prob = model.predict_proba(validation_features)\n",
    "ones_prob = val_prob[:,1]\n",
    "\n",
    "logistic_regression_results = pd.DataFrame(columns=['threshold', 'recall_score', 'precision_score', 'recall_score'])\n",
    "n=0\n",
    "\n",
    "for threshold in np.arange(0, 0.75, 0.01):\n",
    "    predicted_values = ones_prob > threshold\n",
    "    logistic_regression_results.loc[n, 'threshold'] = threshold \n",
    "    logistic_regression_results.loc[n, 'confusion_matrix'] = str(confusion_matrix(validation_target, predicted_values)).replace('\\n', '*')\n",
    "    logistic_regression_results.loc[n, 'f1_score'] = f1_score(validation_target, predicted_values)\n",
    "    logistic_regression_results.loc[n, 'training_score'] = model.score(training_features, training_target)\n",
    "    logistic_regression_results.loc[n, 'validation_score'] = model.score(validation_features, validation_target)\n",
    "    logistic_regression_results.loc[n, 'recall_score'] = recall_score(predicted_values, validation_target)\n",
    "    logistic_regression_results.loc[n, 'precision_score'] = precision_score(predicted_values, validation_target)\n",
    "    n += 1\n",
    "    \n",
    "logistic_regression_results\n",
    "\n",
    "fpr, tpr, threshold = roc_curve(validation_target, ones_prob)\n",
    "roc_auc = roc_auc_score(validation_target, ones_prob)\n",
    "\n",
    "\n",
    "plt.figure()\n",
    "plt.plot(fpr, tpr)\n",
    "plt.plot([0,1], [0,1], linestyle='--')\n",
    "plt.title(f'ROC plot (ROC-AUC = {roc_auc})')"
   ]
  },
  {
   "cell_type": "code",
   "execution_count": 17,
   "metadata": {},
   "outputs": [
    {
     "data": {
      "text/plain": [
       "54"
      ]
     },
     "execution_count": 17,
     "metadata": {},
     "output_type": "execute_result"
    }
   ],
   "source": [
    "logistic_regression_results['f1_score'].idxmax()"
   ]
  },
  {
   "cell_type": "markdown",
   "metadata": {},
   "source": [
    "<div class=\"alert alert-block alert-success\">\n",
    "<b>Comentario del revisor</b> <a class=\"tocSkip\"></a>\n",
    "\n",
    "Buen trabajo. Se exploró correctamente el modelo de regresión logística, el cual naturalmente tiene peor desempeño que random forest.\n",
    "</div>"
   ]
  },
  {
   "cell_type": "markdown",
   "metadata": {},
   "source": [
    "## Balancing"
   ]
  },
  {
   "cell_type": "markdown",
   "metadata": {},
   "source": [
    "### Downsampling"
   ]
  },
  {
   "cell_type": "code",
   "execution_count": 18,
   "metadata": {},
   "outputs": [],
   "source": [
    "def downsampling(features, target, fraction):\n",
    "    features_ones = features[target==1] \n",
    "    features_zeros = features[target==0] \n",
    "    target_zeros = target[target==0]\n",
    "    target_ones = target[target==1]\n",
    "    \n",
    "    features_zeros_sample = features_zeros.sample(frac = fraction, random_state=12345)\n",
    "    target_zeros_sample = target_zeros.sample(frac=fraction, random_state=12345)\n",
    "    downsized_features = pd.concat([features_zeros_sample]+[features_ones])\n",
    "    downsized_target = pd.concat([target_zeros_sample]+[target_ones])\n",
    "    return shuffle(downsized_features, downsized_target, random_state=12345)\n",
    "    "
   ]
  },
  {
   "cell_type": "code",
   "execution_count": 19,
   "metadata": {},
   "outputs": [
    {
     "name": "stdout",
     "output_type": "stream",
     "text": [
      "1    1854\n",
      "0    1809\n",
      "Name: Exited, dtype: int64\n",
      "(3663, 13)\n"
     ]
    }
   ],
   "source": [
    "balanced_features, balanced_target = downsampling(features, target, 0.25)\n",
    "print(balanced_target.value_counts())\n",
    "print(balanced_features.shape)"
   ]
  },
  {
   "cell_type": "code",
   "execution_count": 20,
   "metadata": {},
   "outputs": [],
   "source": [
    "b_training_features, b_validation_features, b_training_target, b_validation_target = train_test_split(balanced_features, balanced_target, test_size=0.25, random_state=12345)"
   ]
  },
  {
   "cell_type": "markdown",
   "metadata": {},
   "source": [
    "<div class=\"alert alert-block alert-success\">\n",
    "<b>Comentario del revisor</b> <a class=\"tocSkip\"></a>\n",
    "\n",
    "Bien, se aplicó correctamente el downsampling.\n",
    "</div>"
   ]
  },
  {
   "cell_type": "markdown",
   "metadata": {},
   "source": [
    "#### Models"
   ]
  },
  {
   "cell_type": "markdown",
   "metadata": {},
   "source": [
    "##### Random Forest Classifier"
   ]
  },
  {
   "cell_type": "code",
   "execution_count": 21,
   "metadata": {},
   "outputs": [
    {
     "data": {
      "text/html": [
       "<div>\n",
       "<style scoped>\n",
       "    .dataframe tbody tr th:only-of-type {\n",
       "        vertical-align: middle;\n",
       "    }\n",
       "\n",
       "    .dataframe tbody tr th {\n",
       "        vertical-align: top;\n",
       "    }\n",
       "\n",
       "    .dataframe thead th {\n",
       "        text-align: right;\n",
       "    }\n",
       "</style>\n",
       "<table border=\"1\" class=\"dataframe\">\n",
       "  <thead>\n",
       "    <tr style=\"text-align: right;\">\n",
       "      <th></th>\n",
       "      <th>max_depth</th>\n",
       "      <th>confusion_matrix</th>\n",
       "      <th>f1_score</th>\n",
       "      <th>training_score</th>\n",
       "      <th>validation_score</th>\n",
       "      <th>recall_score</th>\n",
       "      <th>precision_score</th>\n",
       "    </tr>\n",
       "  </thead>\n",
       "  <tbody>\n",
       "    <tr>\n",
       "      <th>1</th>\n",
       "      <td>1</td>\n",
       "      <td>[[319 121]* [136 340]]</td>\n",
       "      <td>0.72572</td>\n",
       "      <td>0.709865</td>\n",
       "      <td>0.719432</td>\n",
       "      <td>0.737527</td>\n",
       "      <td>0.714286</td>\n",
       "    </tr>\n",
       "    <tr>\n",
       "      <th>2</th>\n",
       "      <td>2</td>\n",
       "      <td>[[331 109]* [127 349]]</td>\n",
       "      <td>0.747323</td>\n",
       "      <td>0.732071</td>\n",
       "      <td>0.742358</td>\n",
       "      <td>0.762009</td>\n",
       "      <td>0.733193</td>\n",
       "    </tr>\n",
       "    <tr>\n",
       "      <th>3</th>\n",
       "      <td>3</td>\n",
       "      <td>[[335 105]* [115 361]]</td>\n",
       "      <td>0.766454</td>\n",
       "      <td>0.771023</td>\n",
       "      <td>0.759825</td>\n",
       "      <td>0.774678</td>\n",
       "      <td>0.758403</td>\n",
       "    </tr>\n",
       "    <tr>\n",
       "      <th>4</th>\n",
       "      <td>4</td>\n",
       "      <td>[[341  99]* [119 357]]</td>\n",
       "      <td>0.766094</td>\n",
       "      <td>0.772479</td>\n",
       "      <td>0.762009</td>\n",
       "      <td>0.782895</td>\n",
       "      <td>0.75</td>\n",
       "    </tr>\n",
       "    <tr>\n",
       "      <th>5</th>\n",
       "      <td>5</td>\n",
       "      <td>[[328 112]* [113 363]]</td>\n",
       "      <td>0.763407</td>\n",
       "      <td>0.788497</td>\n",
       "      <td>0.754367</td>\n",
       "      <td>0.764211</td>\n",
       "      <td>0.762605</td>\n",
       "    </tr>\n",
       "    <tr>\n",
       "      <th>6</th>\n",
       "      <td>6</td>\n",
       "      <td>[[333 107]* [112 364]]</td>\n",
       "      <td>0.768743</td>\n",
       "      <td>0.816527</td>\n",
       "      <td>0.760917</td>\n",
       "      <td>0.772824</td>\n",
       "      <td>0.764706</td>\n",
       "    </tr>\n",
       "    <tr>\n",
       "      <th>7</th>\n",
       "      <td>7</td>\n",
       "      <td>[[341  99]* [127 349]]</td>\n",
       "      <td>0.755411</td>\n",
       "      <td>0.836549</td>\n",
       "      <td>0.753275</td>\n",
       "      <td>0.779018</td>\n",
       "      <td>0.733193</td>\n",
       "    </tr>\n",
       "    <tr>\n",
       "      <th>8</th>\n",
       "      <td>8</td>\n",
       "      <td>[[349  91]* [119 357]]</td>\n",
       "      <td>0.772727</td>\n",
       "      <td>0.860211</td>\n",
       "      <td>0.770742</td>\n",
       "      <td>0.796875</td>\n",
       "      <td>0.75</td>\n",
       "    </tr>\n",
       "    <tr>\n",
       "      <th>9</th>\n",
       "      <td>9</td>\n",
       "      <td>[[350  90]* [119 357]]</td>\n",
       "      <td>0.773564</td>\n",
       "      <td>0.891882</td>\n",
       "      <td>0.771834</td>\n",
       "      <td>0.798658</td>\n",
       "      <td>0.75</td>\n",
       "    </tr>\n",
       "    <tr>\n",
       "      <th>10</th>\n",
       "      <td>10</td>\n",
       "      <td>[[330 110]* [117 359]]</td>\n",
       "      <td>0.759788</td>\n",
       "      <td>0.925373</td>\n",
       "      <td>0.752183</td>\n",
       "      <td>0.765458</td>\n",
       "      <td>0.754202</td>\n",
       "    </tr>\n",
       "    <tr>\n",
       "      <th>11</th>\n",
       "      <td>11</td>\n",
       "      <td>[[335 105]* [120 356]]</td>\n",
       "      <td>0.759872</td>\n",
       "      <td>0.950127</td>\n",
       "      <td>0.754367</td>\n",
       "      <td>0.772234</td>\n",
       "      <td>0.747899</td>\n",
       "    </tr>\n",
       "    <tr>\n",
       "      <th>12</th>\n",
       "      <td>12</td>\n",
       "      <td>[[336 104]* [123 353]]</td>\n",
       "      <td>0.756699</td>\n",
       "      <td>0.975246</td>\n",
       "      <td>0.752183</td>\n",
       "      <td>0.772429</td>\n",
       "      <td>0.741597</td>\n",
       "    </tr>\n",
       "    <tr>\n",
       "      <th>13</th>\n",
       "      <td>13</td>\n",
       "      <td>[[339 101]* [134 342]]</td>\n",
       "      <td>0.744287</td>\n",
       "      <td>0.985075</td>\n",
       "      <td>0.74345</td>\n",
       "      <td>0.772009</td>\n",
       "      <td>0.718487</td>\n",
       "    </tr>\n",
       "    <tr>\n",
       "      <th>14</th>\n",
       "      <td>14</td>\n",
       "      <td>[[332 108]* [126 350]]</td>\n",
       "      <td>0.749465</td>\n",
       "      <td>0.990535</td>\n",
       "      <td>0.744541</td>\n",
       "      <td>0.764192</td>\n",
       "      <td>0.735294</td>\n",
       "    </tr>\n",
       "    <tr>\n",
       "      <th>15</th>\n",
       "      <td>15</td>\n",
       "      <td>[[334 106]* [125 351]]</td>\n",
       "      <td>0.752412</td>\n",
       "      <td>0.994175</td>\n",
       "      <td>0.747817</td>\n",
       "      <td>0.768053</td>\n",
       "      <td>0.737395</td>\n",
       "    </tr>\n",
       "  </tbody>\n",
       "</table>\n",
       "</div>"
      ],
      "text/plain": [
       "   max_depth        confusion_matrix  f1_score training_score  \\\n",
       "1          1  [[319 121]* [136 340]]   0.72572       0.709865   \n",
       "2          2  [[331 109]* [127 349]]  0.747323       0.732071   \n",
       "3          3  [[335 105]* [115 361]]  0.766454       0.771023   \n",
       "4          4  [[341  99]* [119 357]]  0.766094       0.772479   \n",
       "5          5  [[328 112]* [113 363]]  0.763407       0.788497   \n",
       "6          6  [[333 107]* [112 364]]  0.768743       0.816527   \n",
       "7          7  [[341  99]* [127 349]]  0.755411       0.836549   \n",
       "8          8  [[349  91]* [119 357]]  0.772727       0.860211   \n",
       "9          9  [[350  90]* [119 357]]  0.773564       0.891882   \n",
       "10        10  [[330 110]* [117 359]]  0.759788       0.925373   \n",
       "11        11  [[335 105]* [120 356]]  0.759872       0.950127   \n",
       "12        12  [[336 104]* [123 353]]  0.756699       0.975246   \n",
       "13        13  [[339 101]* [134 342]]  0.744287       0.985075   \n",
       "14        14  [[332 108]* [126 350]]  0.749465       0.990535   \n",
       "15        15  [[334 106]* [125 351]]  0.752412       0.994175   \n",
       "\n",
       "   validation_score recall_score precision_score  \n",
       "1          0.719432     0.737527        0.714286  \n",
       "2          0.742358     0.762009        0.733193  \n",
       "3          0.759825     0.774678        0.758403  \n",
       "4          0.762009     0.782895            0.75  \n",
       "5          0.754367     0.764211        0.762605  \n",
       "6          0.760917     0.772824        0.764706  \n",
       "7          0.753275     0.779018        0.733193  \n",
       "8          0.770742     0.796875            0.75  \n",
       "9          0.771834     0.798658            0.75  \n",
       "10         0.752183     0.765458        0.754202  \n",
       "11         0.754367     0.772234        0.747899  \n",
       "12         0.752183     0.772429        0.741597  \n",
       "13          0.74345     0.772009        0.718487  \n",
       "14         0.744541     0.764192        0.735294  \n",
       "15         0.747817     0.768053        0.737395  "
      ]
     },
     "execution_count": 21,
     "metadata": {},
     "output_type": "execute_result"
    }
   ],
   "source": [
    "random_forest_results = pd.DataFrame(columns=['max_depth', 'confusion_matrix', 'f1_score', 'training_score', 'validation_score', 'recall_score', 'precision_score'])\n",
    "n=1\n",
    "best_f1 = 0\n",
    "best_model = None\n",
    "for depth in range(1, 16):\n",
    "    model = RandomForestClassifier(random_state=12345, max_depth=depth, n_estimators=20)\n",
    "    model.fit(b_training_features, b_training_target)\n",
    "    b_predicted_values = model.predict(b_validation_features)\n",
    "    random_forest_results.loc[n, 'max_depth'] = depth \n",
    "    random_forest_results.loc[n, 'confusion_matrix'] = str(confusion_matrix(b_validation_target, b_predicted_values)).replace('\\n', '*')\n",
    "    current_f1_score = f1_score(b_validation_target, b_predicted_values)\n",
    "    random_forest_results.loc[n, 'f1_score'] =  current_f1_score\n",
    "    random_forest_results.loc[n, 'training_score'] = model.score(b_training_features, b_training_target)\n",
    "    random_forest_results.loc[n, 'validation_score'] = model.score(b_validation_features, b_validation_target)\n",
    "    random_forest_results.loc[n, 'recall_score'] = recall_score(b_predicted_values, b_validation_target)\n",
    "    random_forest_results.loc[n, 'precision_score'] = precision_score(b_predicted_values, b_validation_target)\n",
    "    if  current_f1_score > best_f1:\n",
    "        best_model = model\n",
    "        best_f1 = current_f1_score\n",
    "    n += 1\n",
    "random_forest_results"
   ]
  },
  {
   "cell_type": "markdown",
   "metadata": {},
   "source": [
    "<div class=\"alert alert-block alert-success\">\n",
    "<b>Comentario del revisor</b> <a class=\"tocSkip\"></a>\n",
    "\n",
    "¡Muy bien! Los resultados ahora son mucho mejor.\n",
    "</div>"
   ]
  },
  {
   "cell_type": "markdown",
   "metadata": {},
   "source": [
    "###### ROC curve"
   ]
  },
  {
   "cell_type": "code",
   "execution_count": 22,
   "metadata": {},
   "outputs": [
    {
     "data": {
      "image/png": "[encoded data removed]",
      "text/plain": [
       "<Figure size 640x480 with 1 Axes>"
      ]
     },
     "metadata": {},
     "output_type": "display_data"
    },
    {
     "name": "stdout",
     "output_type": "stream",
     "text": [
      "AUC-ROC: 0.8400424942704355\n"
     ]
    }
   ],
   "source": [
    "\n",
    "model = best_model\n",
    "probabilities_valid = model.predict_proba(b_validation_features)[:, 1]\n",
    "fpr, tpr, thresholds = roc_curve(b_validation_target, probabilities_valid)\n",
    "\n",
    "plt.figure()\n",
    "plt.plot(fpr, tpr)\n",
    "plt.plot([0, 1], [0, 1], linestyle='--')\n",
    "plt.xlim([0.0, 1.0])\n",
    "plt.ylim([0.0, 1.0])\n",
    "plt.xlabel('Tasa de falsos positivos')\n",
    "plt.ylabel('Tasa de verdaderos positivos')\n",
    "plt.title('Curva ROC')\n",
    "plt.show()\n",
    "\n",
    "auc_roc = roc_auc_score(b_validation_target, probabilities_valid)\n",
    "print(f'AUC-ROC: {auc_roc}')    "
   ]
  },
  {
   "cell_type": "markdown",
   "metadata": {},
   "source": [
    "##### Logistic Regression binary classification"
   ]
  },
  {
   "cell_type": "code",
   "execution_count": 23,
   "metadata": {},
   "outputs": [
    {
     "data": {
      "text/html": [
       "<div>\n",
       "<style scoped>\n",
       "    .dataframe tbody tr th:only-of-type {\n",
       "        vertical-align: middle;\n",
       "    }\n",
       "\n",
       "    .dataframe tbody tr th {\n",
       "        vertical-align: top;\n",
       "    }\n",
       "\n",
       "    .dataframe thead th {\n",
       "        text-align: right;\n",
       "    }\n",
       "</style>\n",
       "<table border=\"1\" class=\"dataframe\">\n",
       "  <thead>\n",
       "    <tr style=\"text-align: right;\">\n",
       "      <th></th>\n",
       "      <th>threshold</th>\n",
       "      <th>recall_score</th>\n",
       "      <th>precision_score</th>\n",
       "      <th>recall_score</th>\n",
       "      <th>confusion_matrix</th>\n",
       "      <th>f1_score</th>\n",
       "      <th>training_score</th>\n",
       "      <th>validation_score</th>\n",
       "    </tr>\n",
       "  </thead>\n",
       "  <tbody>\n",
       "    <tr>\n",
       "      <th>0</th>\n",
       "      <td>0.0</td>\n",
       "      <td>0.519651</td>\n",
       "      <td>1.0</td>\n",
       "      <td>0.519651</td>\n",
       "      <td>[[  0 440]* [  0 476]]</td>\n",
       "      <td>0.683908</td>\n",
       "      <td>0.704041</td>\n",
       "      <td>0.720524</td>\n",
       "    </tr>\n",
       "    <tr>\n",
       "      <th>1</th>\n",
       "      <td>0.01</td>\n",
       "      <td>0.519651</td>\n",
       "      <td>1.0</td>\n",
       "      <td>0.519651</td>\n",
       "      <td>[[  0 440]* [  0 476]]</td>\n",
       "      <td>0.683908</td>\n",
       "      <td>0.704041</td>\n",
       "      <td>0.720524</td>\n",
       "    </tr>\n",
       "    <tr>\n",
       "      <th>2</th>\n",
       "      <td>0.02</td>\n",
       "      <td>0.519651</td>\n",
       "      <td>1.0</td>\n",
       "      <td>0.519651</td>\n",
       "      <td>[[  0 440]* [  0 476]]</td>\n",
       "      <td>0.683908</td>\n",
       "      <td>0.704041</td>\n",
       "      <td>0.720524</td>\n",
       "    </tr>\n",
       "    <tr>\n",
       "      <th>3</th>\n",
       "      <td>0.03</td>\n",
       "      <td>0.519651</td>\n",
       "      <td>1.0</td>\n",
       "      <td>0.519651</td>\n",
       "      <td>[[  0 440]* [  0 476]]</td>\n",
       "      <td>0.683908</td>\n",
       "      <td>0.704041</td>\n",
       "      <td>0.720524</td>\n",
       "    </tr>\n",
       "    <tr>\n",
       "      <th>4</th>\n",
       "      <td>0.04</td>\n",
       "      <td>0.519651</td>\n",
       "      <td>1.0</td>\n",
       "      <td>0.519651</td>\n",
       "      <td>[[  0 440]* [  0 476]]</td>\n",
       "      <td>0.683908</td>\n",
       "      <td>0.704041</td>\n",
       "      <td>0.720524</td>\n",
       "    </tr>\n",
       "    <tr>\n",
       "      <th>...</th>\n",
       "      <td>...</td>\n",
       "      <td>...</td>\n",
       "      <td>...</td>\n",
       "      <td>...</td>\n",
       "      <td>...</td>\n",
       "      <td>...</td>\n",
       "      <td>...</td>\n",
       "      <td>...</td>\n",
       "    </tr>\n",
       "    <tr>\n",
       "      <th>70</th>\n",
       "      <td>0.7</td>\n",
       "      <td>0.832579</td>\n",
       "      <td>0.386555</td>\n",
       "      <td>0.832579</td>\n",
       "      <td>[[403  37]* [292 184]]</td>\n",
       "      <td>0.527977</td>\n",
       "      <td>0.704041</td>\n",
       "      <td>0.720524</td>\n",
       "    </tr>\n",
       "    <tr>\n",
       "      <th>71</th>\n",
       "      <td>0.71</td>\n",
       "      <td>0.84466</td>\n",
       "      <td>0.365546</td>\n",
       "      <td>0.84466</td>\n",
       "      <td>[[408  32]* [302 174]]</td>\n",
       "      <td>0.510264</td>\n",
       "      <td>0.704041</td>\n",
       "      <td>0.720524</td>\n",
       "    </tr>\n",
       "    <tr>\n",
       "      <th>72</th>\n",
       "      <td>0.72</td>\n",
       "      <td>0.835052</td>\n",
       "      <td>0.340336</td>\n",
       "      <td>0.835052</td>\n",
       "      <td>[[408  32]* [314 162]]</td>\n",
       "      <td>0.483582</td>\n",
       "      <td>0.704041</td>\n",
       "      <td>0.720524</td>\n",
       "    </tr>\n",
       "    <tr>\n",
       "      <th>73</th>\n",
       "      <td>0.73</td>\n",
       "      <td>0.832432</td>\n",
       "      <td>0.323529</td>\n",
       "      <td>0.832432</td>\n",
       "      <td>[[409  31]* [322 154]]</td>\n",
       "      <td>0.465961</td>\n",
       "      <td>0.704041</td>\n",
       "      <td>0.720524</td>\n",
       "    </tr>\n",
       "    <tr>\n",
       "      <th>74</th>\n",
       "      <td>0.74</td>\n",
       "      <td>0.846154</td>\n",
       "      <td>0.30042</td>\n",
       "      <td>0.846154</td>\n",
       "      <td>[[414  26]* [333 143]]</td>\n",
       "      <td>0.443411</td>\n",
       "      <td>0.704041</td>\n",
       "      <td>0.720524</td>\n",
       "    </tr>\n",
       "  </tbody>\n",
       "</table>\n",
       "<p>75 rows × 8 columns</p>\n",
       "</div>"
      ],
      "text/plain": [
       "   threshold recall_score precision_score recall_score  \\\n",
       "0        0.0     0.519651             1.0     0.519651   \n",
       "1       0.01     0.519651             1.0     0.519651   \n",
       "2       0.02     0.519651             1.0     0.519651   \n",
       "3       0.03     0.519651             1.0     0.519651   \n",
       "4       0.04     0.519651             1.0     0.519651   \n",
       "..       ...          ...             ...          ...   \n",
       "70       0.7     0.832579        0.386555     0.832579   \n",
       "71      0.71      0.84466        0.365546      0.84466   \n",
       "72      0.72     0.835052        0.340336     0.835052   \n",
       "73      0.73     0.832432        0.323529     0.832432   \n",
       "74      0.74     0.846154         0.30042     0.846154   \n",
       "\n",
       "          confusion_matrix  f1_score  training_score  validation_score  \n",
       "0   [[  0 440]* [  0 476]]  0.683908        0.704041          0.720524  \n",
       "1   [[  0 440]* [  0 476]]  0.683908        0.704041          0.720524  \n",
       "2   [[  0 440]* [  0 476]]  0.683908        0.704041          0.720524  \n",
       "3   [[  0 440]* [  0 476]]  0.683908        0.704041          0.720524  \n",
       "4   [[  0 440]* [  0 476]]  0.683908        0.704041          0.720524  \n",
       "..                     ...       ...             ...               ...  \n",
       "70  [[403  37]* [292 184]]  0.527977        0.704041          0.720524  \n",
       "71  [[408  32]* [302 174]]  0.510264        0.704041          0.720524  \n",
       "72  [[408  32]* [314 162]]  0.483582        0.704041          0.720524  \n",
       "73  [[409  31]* [322 154]]  0.465961        0.704041          0.720524  \n",
       "74  [[414  26]* [333 143]]  0.443411        0.704041          0.720524  \n",
       "\n",
       "[75 rows x 8 columns]"
      ]
     },
     "execution_count": 23,
     "metadata": {},
     "output_type": "execute_result"
    }
   ],
   "source": [
    "model = LogisticRegression(random_state=12345)\n",
    "model.fit(b_training_features, b_training_target)\n",
    "\n",
    "val_prob = model.predict_proba(b_validation_features)\n",
    "ones_prob = val_prob[:,1]\n",
    "\n",
    "logistic_regression_results = pd.DataFrame(columns=['threshold', 'recall_score', 'precision_score', 'recall_score'])\n",
    "n=0\n",
    "\n",
    "best_model = None\n",
    "best_f1_score = 0\n",
    "\n",
    "\n",
    "for threshold in np.arange(0, 0.75, 0.01):\n",
    "    b_predicted_values = ones_prob > threshold\n",
    "    logistic_regression_results.loc[n, 'threshold'] = threshold \n",
    "    logistic_regression_results.loc[n, 'confusion_matrix'] = str(confusion_matrix(b_validation_target, b_predicted_values)).replace('\\n', '*')\n",
    "    \n",
    "    current_f1_score = f1_score(b_validation_target, b_predicted_values)\n",
    "    \n",
    "    logistic_regression_results.loc[n, 'f1_score'] = current_f1_score\n",
    "    logistic_regression_results.loc[n, 'training_score'] = model.score(b_training_features, b_training_target)\n",
    "    logistic_regression_results.loc[n, 'validation_score'] = model.score(b_validation_features, b_validation_target)\n",
    "    logistic_regression_results.loc[n, 'recall_score'] = recall_score(b_predicted_values, b_validation_target)\n",
    "    logistic_regression_results.loc[n, 'precision_score'] = precision_score(b_predicted_values, b_validation_target)\n",
    "    \n",
    "    if current_f1_score> best_f1_score:\n",
    "        best_f1_score = current_f1_score\n",
    "        best_model = model\n",
    "    \n",
    "    n += 1\n",
    "    \n",
    "logistic_regression_results\n"
   ]
  },
  {
   "cell_type": "code",
   "execution_count": 24,
   "metadata": {},
   "outputs": [
    {
     "data": {
      "text/plain": [
       "threshold                             0.37\n",
       "recall_score                      0.652313\n",
       "precision_score                   0.859244\n",
       "recall_score                      0.652313\n",
       "confusion_matrix    [[222 218]* [ 67 409]]\n",
       "f1_score                          0.741614\n",
       "training_score                    0.704041\n",
       "validation_score                  0.720524\n",
       "Name: 37, dtype: object"
      ]
     },
     "execution_count": 24,
     "metadata": {},
     "output_type": "execute_result"
    }
   ],
   "source": [
    "logistic_regression_results.iloc[logistic_regression_results['f1_score'].idxmax()]"
   ]
  },
  {
   "cell_type": "markdown",
   "metadata": {},
   "source": [
    "<div class=\"alert alert-block alert-success\">\n",
    "<b>Comentario del revisor</b> <a class=\"tocSkip\"></a>\n",
    "\n",
    "Bien, el downsample sirvió, aunque no se recomienda mucho pues se puede llegar a perder información al descartar datos.\n",
    "</div>"
   ]
  },
  {
   "cell_type": "markdown",
   "metadata": {},
   "source": [
    "###### ROC curve"
   ]
  },
  {
   "cell_type": "code",
   "execution_count": 25,
   "metadata": {},
   "outputs": [
    {
     "name": "stdout",
     "output_type": "stream",
     "text": [
      "0.7810828877005347\n"
     ]
    },
    {
     "data": {
      "image/png": "[encoded data removed]",
      "text/plain": [
       "<Figure size 640x480 with 1 Axes>"
      ]
     },
     "metadata": {},
     "output_type": "display_data"
    }
   ],
   "source": [
    "model = best_model\n",
    "\n",
    "probabilities_valid = model.predict_proba(b_validation_features)[:, 1]\n",
    "tpr, fpr, threshold = roc_curve(b_validation_target, probabilities_valid)\n",
    "\n",
    "\n",
    "plt.figure()\n",
    "plt.plot(tpr, fpr)\n",
    "plt.plot([0,1], [0,1], linestyle='--')\n",
    "print(roc_auc_score(b_validation_target, probabilities_valid))"
   ]
  },
  {
   "cell_type": "markdown",
   "metadata": {},
   "source": [
    "### Upsample"
   ]
  },
  {
   "cell_type": "code",
   "execution_count": 26,
   "metadata": {},
   "outputs": [],
   "source": [
    "def upsample(features, target, repeat):\n",
    "    features_ones = features[target==1]\n",
    "    features_zeros = features[target==0]\n",
    "    target_ones = target[target==1]\n",
    "    target_zeros = target[target==0]\n",
    "    \n",
    "    features_upsampled = pd.concat([features_zeros]+[features_ones]*repeat)\n",
    "    target_upsampled = pd.concat([target_zeros]+[target_ones]*repeat)\n",
    "    \n",
    "    return shuffle(features_upsampled, target_upsampled, random_state=12345)"
   ]
  },
  {
   "cell_type": "code",
   "execution_count": 27,
   "metadata": {},
   "outputs": [
    {
     "name": "stdout",
     "output_type": "stream",
     "text": [
      "1    7416\n",
      "0    7237\n",
      "Name: Exited, dtype: int64\n",
      "(14653, 13)\n"
     ]
    }
   ],
   "source": [
    "balanced_features, balanced_target = upsample(features, target, 4)\n",
    "print(balanced_target.value_counts())\n",
    "print(balanced_features.shape)"
   ]
  },
  {
   "cell_type": "code",
   "execution_count": 28,
   "metadata": {},
   "outputs": [],
   "source": [
    "b_up_training_features, b_up_validation_features, b_up_training_target, b_up_validation_target = train_test_split(balanced_features, balanced_target, test_size=0.25, random_state=12345)"
   ]
  },
  {
   "cell_type": "markdown",
   "metadata": {},
   "source": [
    "#### Models"
   ]
  },
  {
   "cell_type": "markdown",
   "metadata": {},
   "source": [
    "##### Random Forest Classifier"
   ]
  },
  {
   "cell_type": "code",
   "execution_count": 29,
   "metadata": {},
   "outputs": [
    {
     "data": {
      "text/html": [
       "<div>\n",
       "<style scoped>\n",
       "    .dataframe tbody tr th:only-of-type {\n",
       "        vertical-align: middle;\n",
       "    }\n",
       "\n",
       "    .dataframe tbody tr th {\n",
       "        vertical-align: top;\n",
       "    }\n",
       "\n",
       "    .dataframe thead th {\n",
       "        text-align: right;\n",
       "    }\n",
       "</style>\n",
       "<table border=\"1\" class=\"dataframe\">\n",
       "  <thead>\n",
       "    <tr style=\"text-align: right;\">\n",
       "      <th></th>\n",
       "      <th>max_depth</th>\n",
       "      <th>confusion_matrix</th>\n",
       "      <th>f1_score</th>\n",
       "      <th>training_score</th>\n",
       "      <th>validation_score</th>\n",
       "      <th>recall_score</th>\n",
       "      <th>precision_score</th>\n",
       "      <th>roc_auc</th>\n",
       "    </tr>\n",
       "  </thead>\n",
       "  <tbody>\n",
       "    <tr>\n",
       "      <th>1</th>\n",
       "      <td>1</td>\n",
       "      <td>[[1305  449]* [ 652 1258]]</td>\n",
       "      <td>0.695604</td>\n",
       "      <td>0.71699</td>\n",
       "      <td>0.699509</td>\n",
       "      <td>0.736965</td>\n",
       "      <td>0.658639</td>\n",
       "      <td>0.781908</td>\n",
       "    </tr>\n",
       "    <tr>\n",
       "      <th>2</th>\n",
       "      <td>2</td>\n",
       "      <td>[[1380  374]* [ 647 1263]]</td>\n",
       "      <td>0.712151</td>\n",
       "      <td>0.737192</td>\n",
       "      <td>0.721343</td>\n",
       "      <td>0.771533</td>\n",
       "      <td>0.661257</td>\n",
       "      <td>0.805118</td>\n",
       "    </tr>\n",
       "    <tr>\n",
       "      <th>3</th>\n",
       "      <td>3</td>\n",
       "      <td>[[1352  402]* [ 540 1370]]</td>\n",
       "      <td>0.744161</td>\n",
       "      <td>0.757758</td>\n",
       "      <td>0.742904</td>\n",
       "      <td>0.773138</td>\n",
       "      <td>0.717277</td>\n",
       "      <td>0.818796</td>\n",
       "    </tr>\n",
       "    <tr>\n",
       "      <th>4</th>\n",
       "      <td>4</td>\n",
       "      <td>[[1397  357]* [ 566 1344]]</td>\n",
       "      <td>0.744392</td>\n",
       "      <td>0.763855</td>\n",
       "      <td>0.74809</td>\n",
       "      <td>0.790123</td>\n",
       "      <td>0.703665</td>\n",
       "      <td>0.83194</td>\n",
       "    </tr>\n",
       "    <tr>\n",
       "      <th>5</th>\n",
       "      <td>5</td>\n",
       "      <td>[[1404  350]* [ 527 1383]]</td>\n",
       "      <td>0.759264</td>\n",
       "      <td>0.780053</td>\n",
       "      <td>0.760644</td>\n",
       "      <td>0.798038</td>\n",
       "      <td>0.724084</td>\n",
       "      <td>0.841722</td>\n",
       "    </tr>\n",
       "    <tr>\n",
       "      <th>6</th>\n",
       "      <td>6</td>\n",
       "      <td>[[1399  355]* [ 480 1430]]</td>\n",
       "      <td>0.774019</td>\n",
       "      <td>0.793612</td>\n",
       "      <td>0.772107</td>\n",
       "      <td>0.80112</td>\n",
       "      <td>0.748691</td>\n",
       "      <td>0.856837</td>\n",
       "    </tr>\n",
       "    <tr>\n",
       "      <th>7</th>\n",
       "      <td>7</td>\n",
       "      <td>[[1434  320]* [ 481 1429]]</td>\n",
       "      <td>0.781088</td>\n",
       "      <td>0.804532</td>\n",
       "      <td>0.781386</td>\n",
       "      <td>0.817038</td>\n",
       "      <td>0.748168</td>\n",
       "      <td>0.871145</td>\n",
       "    </tr>\n",
       "    <tr>\n",
       "      <th>8</th>\n",
       "      <td>8</td>\n",
       "      <td>[[1449  305]* [ 423 1487]]</td>\n",
       "      <td>0.80335</td>\n",
       "      <td>0.830558</td>\n",
       "      <td>0.80131</td>\n",
       "      <td>0.829799</td>\n",
       "      <td>0.778534</td>\n",
       "      <td>0.88489</td>\n",
       "    </tr>\n",
       "    <tr>\n",
       "      <th>9</th>\n",
       "      <td>9</td>\n",
       "      <td>[[1432  322]* [ 396 1514]]</td>\n",
       "      <td>0.808329</td>\n",
       "      <td>0.851488</td>\n",
       "      <td>0.804039</td>\n",
       "      <td>0.824619</td>\n",
       "      <td>0.79267</td>\n",
       "      <td>0.899025</td>\n",
       "    </tr>\n",
       "    <tr>\n",
       "      <th>10</th>\n",
       "      <td>10</td>\n",
       "      <td>[[1474  280]* [ 331 1579]]</td>\n",
       "      <td>0.837888</td>\n",
       "      <td>0.883338</td>\n",
       "      <td>0.833242</td>\n",
       "      <td>0.849381</td>\n",
       "      <td>0.826702</td>\n",
       "      <td>0.91891</td>\n",
       "    </tr>\n",
       "    <tr>\n",
       "      <th>11</th>\n",
       "      <td>11</td>\n",
       "      <td>[[1507  247]* [ 248 1662]]</td>\n",
       "      <td>0.870385</td>\n",
       "      <td>0.922559</td>\n",
       "      <td>0.864902</td>\n",
       "      <td>0.870613</td>\n",
       "      <td>0.870157</td>\n",
       "      <td>0.941393</td>\n",
       "    </tr>\n",
       "    <tr>\n",
       "      <th>12</th>\n",
       "      <td>12</td>\n",
       "      <td>[[1522  232]* [ 183 1727]]</td>\n",
       "      <td>0.892737</td>\n",
       "      <td>0.949859</td>\n",
       "      <td>0.886736</td>\n",
       "      <td>0.881572</td>\n",
       "      <td>0.904188</td>\n",
       "      <td>0.95454</td>\n",
       "    </tr>\n",
       "    <tr>\n",
       "      <th>13</th>\n",
       "      <td>13</td>\n",
       "      <td>[[1515  239]* [ 113 1797]]</td>\n",
       "      <td>0.910796</td>\n",
       "      <td>0.970789</td>\n",
       "      <td>0.90393</td>\n",
       "      <td>0.882613</td>\n",
       "      <td>0.940838</td>\n",
       "      <td>0.967968</td>\n",
       "    </tr>\n",
       "    <tr>\n",
       "      <th>14</th>\n",
       "      <td>14</td>\n",
       "      <td>[[1534  220]* [  52 1858]]</td>\n",
       "      <td>0.931795</td>\n",
       "      <td>0.986168</td>\n",
       "      <td>0.925764</td>\n",
       "      <td>0.894129</td>\n",
       "      <td>0.972775</td>\n",
       "      <td>0.978167</td>\n",
       "    </tr>\n",
       "    <tr>\n",
       "      <th>15</th>\n",
       "      <td>15</td>\n",
       "      <td>[[1562  192]* [  51 1859]]</td>\n",
       "      <td>0.938652</td>\n",
       "      <td>0.990627</td>\n",
       "      <td>0.933679</td>\n",
       "      <td>0.906387</td>\n",
       "      <td>0.973298</td>\n",
       "      <td>0.983715</td>\n",
       "    </tr>\n",
       "  </tbody>\n",
       "</table>\n",
       "</div>"
      ],
      "text/plain": [
       "   max_depth            confusion_matrix  f1_score training_score  \\\n",
       "1          1  [[1305  449]* [ 652 1258]]  0.695604        0.71699   \n",
       "2          2  [[1380  374]* [ 647 1263]]  0.712151       0.737192   \n",
       "3          3  [[1352  402]* [ 540 1370]]  0.744161       0.757758   \n",
       "4          4  [[1397  357]* [ 566 1344]]  0.744392       0.763855   \n",
       "5          5  [[1404  350]* [ 527 1383]]  0.759264       0.780053   \n",
       "6          6  [[1399  355]* [ 480 1430]]  0.774019       0.793612   \n",
       "7          7  [[1434  320]* [ 481 1429]]  0.781088       0.804532   \n",
       "8          8  [[1449  305]* [ 423 1487]]   0.80335       0.830558   \n",
       "9          9  [[1432  322]* [ 396 1514]]  0.808329       0.851488   \n",
       "10        10  [[1474  280]* [ 331 1579]]  0.837888       0.883338   \n",
       "11        11  [[1507  247]* [ 248 1662]]  0.870385       0.922559   \n",
       "12        12  [[1522  232]* [ 183 1727]]  0.892737       0.949859   \n",
       "13        13  [[1515  239]* [ 113 1797]]  0.910796       0.970789   \n",
       "14        14  [[1534  220]* [  52 1858]]  0.931795       0.986168   \n",
       "15        15  [[1562  192]* [  51 1859]]  0.938652       0.990627   \n",
       "\n",
       "   validation_score recall_score precision_score   roc_auc  \n",
       "1          0.699509     0.736965        0.658639  0.781908  \n",
       "2          0.721343     0.771533        0.661257  0.805118  \n",
       "3          0.742904     0.773138        0.717277  0.818796  \n",
       "4           0.74809     0.790123        0.703665   0.83194  \n",
       "5          0.760644     0.798038        0.724084  0.841722  \n",
       "6          0.772107      0.80112        0.748691  0.856837  \n",
       "7          0.781386     0.817038        0.748168  0.871145  \n",
       "8           0.80131     0.829799        0.778534   0.88489  \n",
       "9          0.804039     0.824619         0.79267  0.899025  \n",
       "10         0.833242     0.849381        0.826702   0.91891  \n",
       "11         0.864902     0.870613        0.870157  0.941393  \n",
       "12         0.886736     0.881572        0.904188   0.95454  \n",
       "13          0.90393     0.882613        0.940838  0.967968  \n",
       "14         0.925764     0.894129        0.972775  0.978167  \n",
       "15         0.933679     0.906387        0.973298  0.983715  "
      ]
     },
     "execution_count": 29,
     "metadata": {},
     "output_type": "execute_result"
    }
   ],
   "source": [
    "random_forest_results = pd.DataFrame(columns=['max_depth', 'confusion_matrix', 'f1_score', 'training_score', 'validation_score', 'recall_score', 'precision_score', 'roc_auc'])\n",
    "n=1\n",
    "for depth in range(1, 16):\n",
    "    model = RandomForestClassifier(random_state=12345, max_depth=depth, n_estimators=20)\n",
    "    model.fit(b_up_training_features, b_up_training_target)\n",
    "    b_up_predicted_values = model.predict(b_up_validation_features)\n",
    "    b_up_probabilities_predicted = model.predict_proba(b_up_validation_features)[:, 1]\n",
    "    random_forest_results.loc[n, 'max_depth'] = depth \n",
    "    random_forest_results.loc[n, 'confusion_matrix'] = str(confusion_matrix(b_up_validation_target, b_up_predicted_values)).replace('\\n', '*')\n",
    "    random_forest_results.loc[n, 'f1_score'] = f1_score(b_up_validation_target, b_up_predicted_values)\n",
    "    random_forest_results.loc[n, 'training_score'] = model.score(b_up_training_features, b_up_training_target)\n",
    "    random_forest_results.loc[n, 'validation_score'] = model.score(b_up_validation_features, b_up_validation_target)\n",
    "    random_forest_results.loc[n, 'recall_score'] = recall_score(b_up_predicted_values, b_up_validation_target)\n",
    "    random_forest_results.loc[n, 'precision_score'] = precision_score(b_up_predicted_values, b_up_validation_target)\n",
    "    random_forest_results.loc[n, 'roc_auc'] = roc_auc_score(b_up_validation_target,b_up_probabilities_predicted)\n",
    "    \n",
    "    n += 1\n",
    "random_forest_results"
   ]
  },
  {
   "cell_type": "code",
   "execution_count": 30,
   "metadata": {},
   "outputs": [
    {
     "data": {
      "text/plain": [
       "Text(0.5, 1.0, 'Upsample with Random Forest Classifier ROC plot (ROC-AUC = 0.983714859677506 )')"
      ]
     },
     "execution_count": 30,
     "metadata": {},
     "output_type": "execute_result"
    },
    {
     "data": {
      "image/png": "[encoded data removed]",
      "text/plain": [
       "<Figure size 640x480 with 1 Axes>"
      ]
     },
     "metadata": {},
     "output_type": "display_data"
    }
   ],
   "source": [
    "best_model = RandomForestClassifier(random_state=12345, n_estimators=20, max_depth=15)\n",
    "best_model.fit(b_up_training_features, b_up_training_target)\n",
    "\n",
    "probabilities = best_model.predict_proba(b_up_validation_features)[:,1]\n",
    "\n",
    "fpr, tpr, threshold = roc_curve(b_up_validation_target, probabilities)\n",
    "roc_auc = roc_auc_score(b_up_validation_target, probabilities)\n",
    "\n",
    "plt.figure()\n",
    "plt.plot(fpr, tpr)\n",
    "plt.plot([0,1],[0,1], linestyle='--')\n",
    "plt.title(f'Upsample with Random Forest Classifier ROC plot (ROC-AUC = {roc_auc} )')"
   ]
  },
  {
   "cell_type": "markdown",
   "metadata": {},
   "source": [
    "##### Logistic REgression Classifier"
   ]
  },
  {
   "cell_type": "code",
   "execution_count": 31,
   "metadata": {},
   "outputs": [
    {
     "data": {
      "text/html": [
       "<div>\n",
       "<style scoped>\n",
       "    .dataframe tbody tr th:only-of-type {\n",
       "        vertical-align: middle;\n",
       "    }\n",
       "\n",
       "    .dataframe tbody tr th {\n",
       "        vertical-align: top;\n",
       "    }\n",
       "\n",
       "    .dataframe thead th {\n",
       "        text-align: right;\n",
       "    }\n",
       "</style>\n",
       "<table border=\"1\" class=\"dataframe\">\n",
       "  <thead>\n",
       "    <tr style=\"text-align: right;\">\n",
       "      <th></th>\n",
       "      <th>threshold</th>\n",
       "      <th>recall_score</th>\n",
       "      <th>precision_score</th>\n",
       "      <th>recall_score</th>\n",
       "      <th>auc_roc</th>\n",
       "      <th>confusion_matrix</th>\n",
       "      <th>f1_score</th>\n",
       "      <th>training_score</th>\n",
       "      <th>validation_score</th>\n",
       "    </tr>\n",
       "  </thead>\n",
       "  <tbody>\n",
       "    <tr>\n",
       "      <th>0</th>\n",
       "      <td>0.0</td>\n",
       "      <td>0.906387</td>\n",
       "      <td>0.973298</td>\n",
       "      <td>0.906387</td>\n",
       "      <td>0.758306</td>\n",
       "      <td>[[1562  192]* [  51 1859]]</td>\n",
       "      <td>0.938652</td>\n",
       "      <td>0.711439</td>\n",
       "      <td>0.698144</td>\n",
       "    </tr>\n",
       "    <tr>\n",
       "      <th>1</th>\n",
       "      <td>0.01</td>\n",
       "      <td>0.906387</td>\n",
       "      <td>0.973298</td>\n",
       "      <td>0.906387</td>\n",
       "      <td>0.758306</td>\n",
       "      <td>[[1562  192]* [  51 1859]]</td>\n",
       "      <td>0.938652</td>\n",
       "      <td>0.711439</td>\n",
       "      <td>0.698144</td>\n",
       "    </tr>\n",
       "    <tr>\n",
       "      <th>2</th>\n",
       "      <td>0.02</td>\n",
       "      <td>0.906387</td>\n",
       "      <td>0.973298</td>\n",
       "      <td>0.906387</td>\n",
       "      <td>0.758306</td>\n",
       "      <td>[[1562  192]* [  51 1859]]</td>\n",
       "      <td>0.938652</td>\n",
       "      <td>0.711439</td>\n",
       "      <td>0.698144</td>\n",
       "    </tr>\n",
       "    <tr>\n",
       "      <th>3</th>\n",
       "      <td>0.03</td>\n",
       "      <td>0.906387</td>\n",
       "      <td>0.973298</td>\n",
       "      <td>0.906387</td>\n",
       "      <td>0.758306</td>\n",
       "      <td>[[1562  192]* [  51 1859]]</td>\n",
       "      <td>0.938652</td>\n",
       "      <td>0.711439</td>\n",
       "      <td>0.698144</td>\n",
       "    </tr>\n",
       "    <tr>\n",
       "      <th>4</th>\n",
       "      <td>0.04</td>\n",
       "      <td>0.906387</td>\n",
       "      <td>0.973298</td>\n",
       "      <td>0.906387</td>\n",
       "      <td>0.758306</td>\n",
       "      <td>[[1562  192]* [  51 1859]]</td>\n",
       "      <td>0.938652</td>\n",
       "      <td>0.711439</td>\n",
       "      <td>0.698144</td>\n",
       "    </tr>\n",
       "    <tr>\n",
       "      <th>...</th>\n",
       "      <td>...</td>\n",
       "      <td>...</td>\n",
       "      <td>...</td>\n",
       "      <td>...</td>\n",
       "      <td>...</td>\n",
       "      <td>...</td>\n",
       "      <td>...</td>\n",
       "      <td>...</td>\n",
       "      <td>...</td>\n",
       "    </tr>\n",
       "    <tr>\n",
       "      <th>70</th>\n",
       "      <td>0.7</td>\n",
       "      <td>0.906387</td>\n",
       "      <td>0.973298</td>\n",
       "      <td>0.906387</td>\n",
       "      <td>0.758306</td>\n",
       "      <td>[[1562  192]* [  51 1859]]</td>\n",
       "      <td>0.938652</td>\n",
       "      <td>0.711439</td>\n",
       "      <td>0.698144</td>\n",
       "    </tr>\n",
       "    <tr>\n",
       "      <th>71</th>\n",
       "      <td>0.71</td>\n",
       "      <td>0.906387</td>\n",
       "      <td>0.973298</td>\n",
       "      <td>0.906387</td>\n",
       "      <td>0.758306</td>\n",
       "      <td>[[1562  192]* [  51 1859]]</td>\n",
       "      <td>0.938652</td>\n",
       "      <td>0.711439</td>\n",
       "      <td>0.698144</td>\n",
       "    </tr>\n",
       "    <tr>\n",
       "      <th>72</th>\n",
       "      <td>0.72</td>\n",
       "      <td>0.906387</td>\n",
       "      <td>0.973298</td>\n",
       "      <td>0.906387</td>\n",
       "      <td>0.758306</td>\n",
       "      <td>[[1562  192]* [  51 1859]]</td>\n",
       "      <td>0.938652</td>\n",
       "      <td>0.711439</td>\n",
       "      <td>0.698144</td>\n",
       "    </tr>\n",
       "    <tr>\n",
       "      <th>73</th>\n",
       "      <td>0.73</td>\n",
       "      <td>0.906387</td>\n",
       "      <td>0.973298</td>\n",
       "      <td>0.906387</td>\n",
       "      <td>0.758306</td>\n",
       "      <td>[[1562  192]* [  51 1859]]</td>\n",
       "      <td>0.938652</td>\n",
       "      <td>0.711439</td>\n",
       "      <td>0.698144</td>\n",
       "    </tr>\n",
       "    <tr>\n",
       "      <th>74</th>\n",
       "      <td>0.74</td>\n",
       "      <td>0.906387</td>\n",
       "      <td>0.973298</td>\n",
       "      <td>0.906387</td>\n",
       "      <td>0.758306</td>\n",
       "      <td>[[1562  192]* [  51 1859]]</td>\n",
       "      <td>0.938652</td>\n",
       "      <td>0.711439</td>\n",
       "      <td>0.698144</td>\n",
       "    </tr>\n",
       "  </tbody>\n",
       "</table>\n",
       "<p>75 rows × 9 columns</p>\n",
       "</div>"
      ],
      "text/plain": [
       "   threshold recall_score precision_score recall_score   auc_roc  \\\n",
       "0        0.0     0.906387        0.973298     0.906387  0.758306   \n",
       "1       0.01     0.906387        0.973298     0.906387  0.758306   \n",
       "2       0.02     0.906387        0.973298     0.906387  0.758306   \n",
       "3       0.03     0.906387        0.973298     0.906387  0.758306   \n",
       "4       0.04     0.906387        0.973298     0.906387  0.758306   \n",
       "..       ...          ...             ...          ...       ...   \n",
       "70       0.7     0.906387        0.973298     0.906387  0.758306   \n",
       "71      0.71     0.906387        0.973298     0.906387  0.758306   \n",
       "72      0.72     0.906387        0.973298     0.906387  0.758306   \n",
       "73      0.73     0.906387        0.973298     0.906387  0.758306   \n",
       "74      0.74     0.906387        0.973298     0.906387  0.758306   \n",
       "\n",
       "              confusion_matrix  f1_score  training_score  validation_score  \n",
       "0   [[1562  192]* [  51 1859]]  0.938652        0.711439          0.698144  \n",
       "1   [[1562  192]* [  51 1859]]  0.938652        0.711439          0.698144  \n",
       "2   [[1562  192]* [  51 1859]]  0.938652        0.711439          0.698144  \n",
       "3   [[1562  192]* [  51 1859]]  0.938652        0.711439          0.698144  \n",
       "4   [[1562  192]* [  51 1859]]  0.938652        0.711439          0.698144  \n",
       "..                         ...       ...             ...               ...  \n",
       "70  [[1562  192]* [  51 1859]]  0.938652        0.711439          0.698144  \n",
       "71  [[1562  192]* [  51 1859]]  0.938652        0.711439          0.698144  \n",
       "72  [[1562  192]* [  51 1859]]  0.938652        0.711439          0.698144  \n",
       "73  [[1562  192]* [  51 1859]]  0.938652        0.711439          0.698144  \n",
       "74  [[1562  192]* [  51 1859]]  0.938652        0.711439          0.698144  \n",
       "\n",
       "[75 rows x 9 columns]"
      ]
     },
     "execution_count": 31,
     "metadata": {},
     "output_type": "execute_result"
    }
   ],
   "source": [
    "model = LogisticRegression(random_state=12345)\n",
    "model.fit(b_up_training_features, b_up_training_target)\n",
    "\n",
    "val_prob = model.predict_proba(b_up_validation_features)\n",
    "ones_prob = val_prob[:,1]\n",
    "\n",
    "logistic_regression_results = pd.DataFrame(columns=['threshold', 'recall_score', 'precision_score', 'recall_score', 'auc_roc'])\n",
    "n=0\n",
    "\n",
    "for threshold in np.arange(0, 0.75, 0.01):\n",
    "    b_predicted_values = ones_prob > threshold\n",
    "    logistic_regression_results.loc[n, 'threshold'] = threshold \n",
    "    logistic_regression_results.loc[n, 'confusion_matrix'] = str(confusion_matrix(b_up_validation_target, b_up_predicted_values)).replace('\\n', '*')\n",
    "    logistic_regression_results.loc[n, 'f1_score'] = f1_score(b_up_validation_target, b_up_predicted_values)\n",
    "    logistic_regression_results.loc[n, 'training_score'] = model.score(b_up_training_features, b_up_training_target)\n",
    "    logistic_regression_results.loc[n, 'validation_score'] = model.score(b_up_validation_features, b_up_validation_target)\n",
    "    logistic_regression_results.loc[n, 'recall_score'] = recall_score(b_up_predicted_values, b_up_validation_target)\n",
    "    logistic_regression_results.loc[n, 'precision_score'] = precision_score(b_up_predicted_values, b_up_validation_target)\n",
    "    logistic_regression_results.loc[n, 'auc_roc'] = roc_auc_score(b_up_validation_target, ones_prob)\n",
    "    \n",
    "    n += 1\n",
    "    \n",
    "logistic_regression_results\n"
   ]
  },
  {
   "cell_type": "code",
   "execution_count": 32,
   "metadata": {},
   "outputs": [
    {
     "data": {
      "text/plain": [
       "Text(0.5, 1.0, 'Upsample with logistic regression ROC-AUC = 0.7583062200385655')"
      ]
     },
     "execution_count": 32,
     "metadata": {},
     "output_type": "execute_result"
    },
    {
     "data": {
      "image/png": "[encoded data removed]",
      "text/plain": [
       "<Figure size 640x480 with 1 Axes>"
      ]
     },
     "metadata": {},
     "output_type": "display_data"
    }
   ],
   "source": [
    "fpr, tpr, threshold = roc_curve(b_up_validation_target, ones_prob)\n",
    "\n",
    "roc_auc = roc_auc_score(b_up_validation_target, ones_prob)\n",
    "\n",
    "plt.figure()\n",
    "plt.plot(fpr, tpr)\n",
    "plt.plot([0,1], [0,1], linestyle='--')\n",
    "plt.title(f'Upsample with logistic regression ROC-AUC = {roc_auc}')"
   ]
  },
  {
   "cell_type": "markdown",
   "metadata": {},
   "source": [
    "<div class=\"alert alert-block alert-danger\">\n",
    "<b>Comentario del revisor</b> <a class=\"tocSkip\"></a>\n",
    "\n",
    "¡Muy buen trabajo! Realizaste correctamente el upsample, aunque creo que el conjunto de datos que usaste para entrenar es el mismo que se uso para el downsample, porque se llama `b_training_features, b_training_target` y el del upsample se llama `balanced_features, balanced_target`.\n",
    "</div>"
   ]
  },
  {
   "cell_type": "markdown",
   "metadata": {},
   "source": [
    "<div class='alert alert-info'>\n",
    "Los datasets han sido modificados</div>"
   ]
  },
  {
   "cell_type": "markdown",
   "metadata": {},
   "source": [
    "<div class=\"alert alert-block alert-danger\">\n",
    "<b>Comentario del revisor</b> <a class=\"tocSkip\"></a>\n",
    "\n",
    "¡Muy bien! Ahora solo falta el final, realizar un análisis de la curva roc, te dejo un ejemplo de como graficarla:\n",
    "    \n",
    "```\n",
    "\n",
    "import matplotlib.pyplot as plt\n",
    "from sklearn.metrics import roc_curve, roc_auc_score\n",
    "\n",
    "probabilities_valid = model.predict_proba(features_valid)[:, 1]\n",
    "fpr, tpr, thresholds = roc_curve(target_valid, probabilities_valid)\n",
    "\n",
    "plt.figure()\n",
    "plt.plot(fpr, tpr)\n",
    "plt.plot([0, 1], [0, 1], linestyle='--')\n",
    "plt.xlim([0.0, 1.0])\n",
    "plt.ylim([0.0, 1.0])\n",
    "plt.xlabel('Tasa de falsos positivos')\n",
    "plt.ylabel('Tasa de verdaderos positivos')\n",
    "plt.title('Curva ROC')\n",
    "plt.show()\n",
    "\n",
    "auc_roc = roc_auc_score(target_valid, probabilities_valid)\n",
    "print(f'AUC-ROC: {auc_roc}')    \n",
    "    \n",
    "```\n",
    "    \n",
    "También faltaría seleccionar un módelo con un desempeño mejor al umbral de 0.59 en el score F1, y realizar tus conclusiones. Sé que podrás realizar esto de manera satisfactoria.\n",
    "</div>"
   ]
  },
  {
   "cell_type": "markdown",
   "metadata": {},
   "source": [
    "<div class='alert alert-info'>Graficas incluidas</div>"
   ]
  },
  {
   "cell_type": "markdown",
   "metadata": {},
   "source": [
    "## Conclusion"
   ]
  },
  {
   "cell_type": "markdown",
   "metadata": {},
   "source": [
    "Based on the gathered data, we could conclude that Random forest classifiers works really well with upsampled data (in case of using unbalanced data). In our particular case a depth of 15 along with 20 estimators scores a 0.98 using ROC-AUC technique. In the other hand, logistic regression does not significatively improves neither using downsampling or upsampling. \n",
    "Data scaling and data encoding also contributes to optimize model performance. "
   ]
  },
  {
   "cell_type": "markdown",
   "metadata": {},
   "source": [
    "<div class='alert alert-info'>Estimado Marcos, Se han incluido la mayorias de los cambios solicitados. Algunos detalles deben ser corregidos:\n",
    "    <ul>\n",
    "        <li>El codigo no sigue las mejores practicas: Los nombres de las variables son muy largos. Codigo repetitivo puede ser agrupado en funciones.</li>\n",
    "          <li>Graficas deben mejorar</li>\n",
    "    </ul>\n",
    "    <p>Estos ultimos días he tenido relativamente poco tiempo para adelantar trabajos en plataforma, pero los ajustes serán incluidos en la versión que será cargada al repo.</p>\n",
    "    <b>Muchas gracias por tomarse el tiempo de revisar mi trabajo, muchos exitos</b>\n",
    "</div>"
   ]
  },
  {
   "cell_type": "markdown",
   "metadata": {},
   "source": [
    "<div class='alert alert-info'>\n",
    "    Estimado Marcos, gracias por tu tiempo. No he podido encontrar las correcciones por las cuales el proyecto ha sido devuelto. Al entrar en la plataforma hay un mensaje advirtiendo de una migración que podría ocasionar perdida en el avance de proyectos, no sé si esta sea la razón por la cual no se vén reflejadas las sugerencias y correcciones. Agradecería que en caso de ser necesarias nuevas modificaciones, sean incluidas en el documento nuevamente para finalizar este sprint. \n",
    "</div>"
   ]
  },
  {
   "cell_type": "markdown",
   "metadata": {},
   "source": [
    "<div class=\"alert alert-block alert-success\">\n",
    "<b>Comentario del revisor</b> <a class=\"tocSkip\"></a>\n",
    "\n",
    "¡Hola! El único comentario que realicé fue que en las conclusiones se debería mostrar un modelo que supere el umbral solicitado de 0.59 en el score F1. Pero es un cambio pequeño, puedo aprobar tu proyecto sin problemas.\n",
    "    \n",
    "Saludos, Marcos.\n",
    "</div>"
   ]
  },
  {
   "cell_type": "code",
   "execution_count": null,
   "metadata": {},
   "outputs": [],
   "source": []
  }
 ],
 "metadata": {
  "ExecuteTimeLog": [
   {
    "duration": 347,
    "start_time": "2024-07-12T21:30:04.432Z"
   },
   {
    "duration": 1555,
    "start_time": "2024-07-12T21:38:53.955Z"
   },
   {
    "duration": 4,
    "start_time": "2024-07-12T21:39:15.431Z"
   },
   {
    "duration": 40,
    "start_time": "2024-07-12T21:39:18.697Z"
   },
   {
    "duration": 28,
    "start_time": "2024-07-12T21:39:26.717Z"
   },
   {
    "duration": 18,
    "start_time": "2024-07-12T21:39:31.374Z"
   },
   {
    "duration": 56,
    "start_time": "2024-07-12T21:40:04.286Z"
   },
   {
    "duration": 7,
    "start_time": "2024-07-12T21:42:21.729Z"
   },
   {
    "duration": 16,
    "start_time": "2024-07-12T21:46:24.693Z"
   },
   {
    "duration": 19,
    "start_time": "2024-07-12T21:46:28.921Z"
   },
   {
    "duration": 875,
    "start_time": "2024-07-12T21:47:01.330Z"
   },
   {
    "duration": 7,
    "start_time": "2024-07-12T21:47:40.122Z"
   },
   {
    "duration": 6,
    "start_time": "2024-07-12T22:00:24.028Z"
   },
   {
    "duration": 6,
    "start_time": "2024-07-12T22:11:42.453Z"
   },
   {
    "duration": 15,
    "start_time": "2024-07-12T22:11:46.854Z"
   },
   {
    "duration": 47,
    "start_time": "2024-07-12T22:12:18.578Z"
   },
   {
    "duration": 19,
    "start_time": "2024-07-12T22:12:28.522Z"
   },
   {
    "duration": 28,
    "start_time": "2024-07-12T22:16:08.610Z"
   },
   {
    "duration": 34,
    "start_time": "2024-07-12T22:16:12.016Z"
   },
   {
    "duration": 23,
    "start_time": "2024-07-12T22:16:19.703Z"
   },
   {
    "duration": 8,
    "start_time": "2024-07-12T22:17:40.150Z"
   },
   {
    "duration": 4151,
    "start_time": "2024-07-12T22:17:48.103Z"
   },
   {
    "duration": 10,
    "start_time": "2024-07-12T22:21:28.493Z"
   },
   {
    "duration": 403,
    "start_time": "2024-07-12T22:25:47.293Z"
   },
   {
    "duration": 39,
    "start_time": "2024-07-12T22:26:20.368Z"
   },
   {
    "duration": 21,
    "start_time": "2024-07-12T22:27:13.293Z"
   },
   {
    "duration": 6,
    "start_time": "2024-07-12T22:27:17.458Z"
   },
   {
    "duration": 14,
    "start_time": "2024-07-12T22:27:17.916Z"
   },
   {
    "duration": 24,
    "start_time": "2024-07-12T22:27:18.225Z"
   },
   {
    "duration": 23,
    "start_time": "2024-07-12T22:27:18.405Z"
   },
   {
    "duration": 171,
    "start_time": "2024-07-12T22:27:19.410Z"
   },
   {
    "duration": 8,
    "start_time": "2024-07-12T22:27:20.879Z"
   },
   {
    "duration": 1029,
    "start_time": "2024-07-12T22:27:22.419Z"
   },
   {
    "duration": 22,
    "start_time": "2024-07-12T22:27:45.357Z"
   },
   {
    "duration": 200,
    "start_time": "2024-07-12T22:28:25.459Z"
   },
   {
    "duration": 195,
    "start_time": "2024-07-12T22:28:37.719Z"
   },
   {
    "duration": 2742,
    "start_time": "2024-07-12T22:30:11.261Z"
   },
   {
    "duration": 2952,
    "start_time": "2024-07-12T22:30:26.669Z"
   },
   {
    "duration": 578,
    "start_time": "2024-07-12T22:46:16.733Z"
   },
   {
    "duration": 0,
    "start_time": "2024-07-12T22:46:17.316Z"
   },
   {
    "duration": 2693,
    "start_time": "2024-07-12T22:46:37.529Z"
   },
   {
    "duration": 2737,
    "start_time": "2024-07-12T22:46:51.417Z"
   },
   {
    "duration": 2737,
    "start_time": "2024-07-12T22:46:58.310Z"
   },
   {
    "duration": 1377,
    "start_time": "2024-07-13T00:54:04.718Z"
   },
   {
    "duration": 63,
    "start_time": "2024-07-13T00:54:06.098Z"
   },
   {
    "duration": 27,
    "start_time": "2024-07-13T00:54:06.165Z"
   },
   {
    "duration": 24,
    "start_time": "2024-07-13T00:54:06.198Z"
   },
   {
    "duration": 65,
    "start_time": "2024-07-13T00:54:06.226Z"
   },
   {
    "duration": 35,
    "start_time": "2024-07-13T00:54:06.295Z"
   },
   {
    "duration": 23,
    "start_time": "2024-07-13T00:54:06.337Z"
   },
   {
    "duration": 6,
    "start_time": "2024-07-13T00:54:06.363Z"
   },
   {
    "duration": 15,
    "start_time": "2024-07-13T00:54:06.372Z"
   },
   {
    "duration": 37,
    "start_time": "2024-07-13T00:54:06.411Z"
   },
   {
    "duration": 24,
    "start_time": "2024-07-13T00:54:06.452Z"
   },
   {
    "duration": 4768,
    "start_time": "2024-07-13T00:54:06.479Z"
   },
   {
    "duration": 9,
    "start_time": "2024-07-13T00:54:11.250Z"
   },
   {
    "duration": 2985,
    "start_time": "2024-07-13T00:54:11.263Z"
   },
   {
    "duration": 9,
    "start_time": "2024-07-13T00:54:14.252Z"
   },
   {
    "duration": 77,
    "start_time": "2024-07-13T00:54:14.264Z"
   },
   {
    "duration": 768,
    "start_time": "2024-07-13T00:59:08.903Z"
   },
   {
    "duration": 3052,
    "start_time": "2024-07-13T00:59:34.776Z"
   },
   {
    "duration": 3001,
    "start_time": "2024-07-13T01:00:13.701Z"
   },
   {
    "duration": 2947,
    "start_time": "2024-07-13T01:00:24.637Z"
   },
   {
    "duration": 2965,
    "start_time": "2024-07-13T01:00:35.201Z"
   },
   {
    "duration": 1228,
    "start_time": "2024-07-13T02:08:07.441Z"
   },
   {
    "duration": 58,
    "start_time": "2024-07-13T02:08:08.673Z"
   },
   {
    "duration": 24,
    "start_time": "2024-07-13T02:08:08.733Z"
   },
   {
    "duration": 17,
    "start_time": "2024-07-13T02:08:08.761Z"
   },
   {
    "duration": 78,
    "start_time": "2024-07-13T02:08:08.780Z"
   },
   {
    "duration": 15,
    "start_time": "2024-07-13T02:08:08.862Z"
   },
   {
    "duration": 46,
    "start_time": "2024-07-13T02:08:08.880Z"
   },
   {
    "duration": 8,
    "start_time": "2024-07-13T02:08:08.929Z"
   },
   {
    "duration": 17,
    "start_time": "2024-07-13T02:08:08.940Z"
   },
   {
    "duration": 26,
    "start_time": "2024-07-13T02:08:08.962Z"
   },
   {
    "duration": 55,
    "start_time": "2024-07-13T02:08:08.990Z"
   },
   {
    "duration": 4150,
    "start_time": "2024-07-13T02:08:09.048Z"
   },
   {
    "duration": 21,
    "start_time": "2024-07-13T02:08:13.202Z"
   },
   {
    "duration": 2620,
    "start_time": "2024-07-13T02:08:13.225Z"
   },
   {
    "duration": 9,
    "start_time": "2024-07-13T02:08:15.848Z"
   },
   {
    "duration": 1193,
    "start_time": "2024-07-13T02:25:01.069Z"
   },
   {
    "duration": 36,
    "start_time": "2024-07-13T02:25:02.265Z"
   },
   {
    "duration": 38,
    "start_time": "2024-07-13T02:25:02.304Z"
   },
   {
    "duration": 17,
    "start_time": "2024-07-13T02:25:02.348Z"
   },
   {
    "duration": 75,
    "start_time": "2024-07-13T02:25:02.368Z"
   },
   {
    "duration": 18,
    "start_time": "2024-07-13T02:25:02.446Z"
   },
   {
    "duration": 22,
    "start_time": "2024-07-13T02:25:02.467Z"
   },
   {
    "duration": 32,
    "start_time": "2024-07-13T02:25:02.493Z"
   },
   {
    "duration": 14,
    "start_time": "2024-07-13T02:25:02.528Z"
   },
   {
    "duration": 26,
    "start_time": "2024-07-13T02:25:02.549Z"
   },
   {
    "duration": 62,
    "start_time": "2024-07-13T02:25:02.578Z"
   },
   {
    "duration": 500,
    "start_time": "2024-07-13T02:25:02.643Z"
   },
   {
    "duration": 10,
    "start_time": "2024-07-13T02:25:03.145Z"
   },
   {
    "duration": 2790,
    "start_time": "2024-07-13T02:25:03.158Z"
   },
   {
    "duration": 10,
    "start_time": "2024-07-13T02:25:05.950Z"
   },
   {
    "duration": 444,
    "start_time": "2024-07-13T02:25:05.963Z"
   },
   {
    "duration": 25,
    "start_time": "2024-07-13T02:40:10.732Z"
   },
   {
    "duration": 4,
    "start_time": "2024-07-13T02:40:18.919Z"
   },
   {
    "duration": 108,
    "start_time": "2024-07-13T02:42:11.114Z"
   },
   {
    "duration": 8,
    "start_time": "2024-07-13T02:43:33.885Z"
   },
   {
    "duration": 2657,
    "start_time": "2024-07-13T02:43:43.181Z"
   },
   {
    "duration": 9,
    "start_time": "2024-07-13T02:43:45.843Z"
   },
   {
    "duration": 88,
    "start_time": "2024-07-13T02:43:45.855Z"
   },
   {
    "duration": 9,
    "start_time": "2024-07-13T02:45:57.676Z"
   },
   {
    "duration": 95,
    "start_time": "2024-07-13T02:46:00.639Z"
   },
   {
    "duration": 130,
    "start_time": "2024-07-13T03:02:26.924Z"
   },
   {
    "duration": 5,
    "start_time": "2024-07-13T03:02:43.128Z"
   },
   {
    "duration": 436,
    "start_time": "2024-07-13T03:02:48.939Z"
   },
   {
    "duration": 2796,
    "start_time": "2024-07-13T03:03:24.251Z"
   },
   {
    "duration": 82,
    "start_time": "2024-07-13T03:47:59.066Z"
   },
   {
    "duration": 5,
    "start_time": "2024-07-13T03:49:33.285Z"
   },
   {
    "duration": 227,
    "start_time": "2024-07-13T03:49:40.804Z"
   },
   {
    "duration": 7575,
    "start_time": "2024-07-13T03:50:22.151Z"
   },
   {
    "duration": 7558,
    "start_time": "2024-07-13T03:50:48.285Z"
   },
   {
    "duration": 7539,
    "start_time": "2024-07-13T03:51:05.587Z"
   },
   {
    "duration": 7553,
    "start_time": "2024-07-13T03:51:23.889Z"
   },
   {
    "duration": 8133,
    "start_time": "2024-07-13T03:52:08.002Z"
   },
   {
    "duration": 7865,
    "start_time": "2024-07-13T03:52:30.861Z"
   },
   {
    "duration": 7,
    "start_time": "2024-07-13T03:54:06.273Z"
   },
   {
    "duration": 7,
    "start_time": "2024-07-13T03:54:21.770Z"
   },
   {
    "duration": 5,
    "start_time": "2024-07-13T04:08:38.181Z"
   },
   {
    "duration": 5,
    "start_time": "2024-07-13T04:10:50.064Z"
   },
   {
    "duration": 43,
    "start_time": "2024-07-13T04:13:08.183Z"
   },
   {
    "duration": 5,
    "start_time": "2024-07-13T04:13:24.861Z"
   },
   {
    "duration": 52,
    "start_time": "2024-07-13T04:13:26.254Z"
   },
   {
    "duration": 5,
    "start_time": "2024-07-13T04:13:40.688Z"
   },
   {
    "duration": 15,
    "start_time": "2024-07-13T04:13:42.940Z"
   },
   {
    "duration": 28,
    "start_time": "2024-07-13T04:14:16.241Z"
   },
   {
    "duration": 6,
    "start_time": "2024-07-13T04:14:18.353Z"
   },
   {
    "duration": 18,
    "start_time": "2024-07-13T04:14:18.530Z"
   },
   {
    "duration": 6,
    "start_time": "2024-07-13T04:31:29.311Z"
   },
   {
    "duration": 19,
    "start_time": "2024-07-13T04:31:30.043Z"
   },
   {
    "duration": 5,
    "start_time": "2024-07-13T04:32:11.174Z"
   },
   {
    "duration": 23,
    "start_time": "2024-07-13T04:32:12.591Z"
   },
   {
    "duration": 1169,
    "start_time": "2024-07-13T04:34:11.126Z"
   },
   {
    "duration": 35,
    "start_time": "2024-07-13T04:34:12.298Z"
   },
   {
    "duration": 25,
    "start_time": "2024-07-13T04:34:12.335Z"
   },
   {
    "duration": 17,
    "start_time": "2024-07-13T04:34:12.363Z"
   },
   {
    "duration": 80,
    "start_time": "2024-07-13T04:34:12.384Z"
   },
   {
    "duration": 15,
    "start_time": "2024-07-13T04:34:12.467Z"
   },
   {
    "duration": 41,
    "start_time": "2024-07-13T04:34:12.485Z"
   },
   {
    "duration": 6,
    "start_time": "2024-07-13T04:34:12.530Z"
   },
   {
    "duration": 15,
    "start_time": "2024-07-13T04:34:12.540Z"
   },
   {
    "duration": 24,
    "start_time": "2024-07-13T04:34:12.558Z"
   },
   {
    "duration": 26,
    "start_time": "2024-07-13T04:34:12.624Z"
   },
   {
    "duration": 486,
    "start_time": "2024-07-13T04:34:12.652Z"
   },
   {
    "duration": 9,
    "start_time": "2024-07-13T04:34:13.141Z"
   },
   {
    "duration": 2712,
    "start_time": "2024-07-13T04:34:13.156Z"
   },
   {
    "duration": 8071,
    "start_time": "2024-07-13T04:34:15.871Z"
   },
   {
    "duration": 80,
    "start_time": "2024-07-13T04:34:23.945Z"
   },
   {
    "duration": 7,
    "start_time": "2024-07-13T04:34:24.029Z"
   },
   {
    "duration": 1153,
    "start_time": "2024-07-13T04:35:06.749Z"
   },
   {
    "duration": 35,
    "start_time": "2024-07-13T04:35:07.906Z"
   },
   {
    "duration": 27,
    "start_time": "2024-07-13T04:35:07.944Z"
   },
   {
    "duration": 18,
    "start_time": "2024-07-13T04:35:07.973Z"
   },
   {
    "duration": 77,
    "start_time": "2024-07-13T04:35:07.995Z"
   },
   {
    "duration": 16,
    "start_time": "2024-07-13T04:35:08.074Z"
   },
   {
    "duration": 45,
    "start_time": "2024-07-13T04:35:08.093Z"
   },
   {
    "duration": 6,
    "start_time": "2024-07-13T04:35:08.141Z"
   },
   {
    "duration": 14,
    "start_time": "2024-07-13T04:35:08.150Z"
   },
   {
    "duration": 56,
    "start_time": "2024-07-13T04:35:08.166Z"
   },
   {
    "duration": 25,
    "start_time": "2024-07-13T04:35:08.225Z"
   },
   {
    "duration": 493,
    "start_time": "2024-07-13T04:35:08.252Z"
   },
   {
    "duration": 9,
    "start_time": "2024-07-13T04:35:08.751Z"
   },
   {
    "duration": 2720,
    "start_time": "2024-07-13T04:35:08.766Z"
   },
   {
    "duration": 7749,
    "start_time": "2024-07-13T04:35:11.489Z"
   },
   {
    "duration": 84,
    "start_time": "2024-07-13T04:35:19.241Z"
   },
   {
    "duration": 6,
    "start_time": "2024-07-13T04:35:19.328Z"
   },
   {
    "duration": 17,
    "start_time": "2024-07-13T04:35:19.337Z"
   },
   {
    "duration": 6,
    "start_time": "2024-07-13T04:35:46.187Z"
   },
   {
    "duration": 5,
    "start_time": "2024-07-13T04:35:51.326Z"
   },
   {
    "duration": 15,
    "start_time": "2024-07-13T04:35:54.393Z"
   },
   {
    "duration": 14,
    "start_time": "2024-07-13T04:35:58.516Z"
   },
   {
    "duration": 16,
    "start_time": "2024-07-13T04:36:17.964Z"
   },
   {
    "duration": 6,
    "start_time": "2024-07-13T04:36:21.064Z"
   },
   {
    "duration": 15,
    "start_time": "2024-07-13T04:36:21.397Z"
   },
   {
    "duration": 17,
    "start_time": "2024-07-13T04:36:36.454Z"
   },
   {
    "duration": 16,
    "start_time": "2024-07-13T04:36:55.663Z"
   },
   {
    "duration": 15,
    "start_time": "2024-07-13T04:37:06.040Z"
   },
   {
    "duration": 1170,
    "start_time": "2024-07-13T04:37:12.393Z"
   },
   {
    "duration": 25,
    "start_time": "2024-07-13T04:37:13.566Z"
   },
   {
    "duration": 35,
    "start_time": "2024-07-13T04:37:13.594Z"
   },
   {
    "duration": 17,
    "start_time": "2024-07-13T04:37:13.633Z"
   },
   {
    "duration": 75,
    "start_time": "2024-07-13T04:37:13.653Z"
   },
   {
    "duration": 15,
    "start_time": "2024-07-13T04:37:13.731Z"
   },
   {
    "duration": 21,
    "start_time": "2024-07-13T04:37:13.749Z"
   },
   {
    "duration": 6,
    "start_time": "2024-07-13T04:37:13.774Z"
   },
   {
    "duration": 53,
    "start_time": "2024-07-13T04:37:13.783Z"
   },
   {
    "duration": 25,
    "start_time": "2024-07-13T04:37:13.841Z"
   },
   {
    "duration": 24,
    "start_time": "2024-07-13T04:37:13.868Z"
   },
   {
    "duration": 480,
    "start_time": "2024-07-13T04:37:13.924Z"
   },
   {
    "duration": 17,
    "start_time": "2024-07-13T04:37:14.407Z"
   },
   {
    "duration": 2697,
    "start_time": "2024-07-13T04:37:14.427Z"
   },
   {
    "duration": 8111,
    "start_time": "2024-07-13T04:37:17.127Z"
   },
   {
    "duration": 84,
    "start_time": "2024-07-13T04:37:25.241Z"
   },
   {
    "duration": 6,
    "start_time": "2024-07-13T04:37:25.328Z"
   },
   {
    "duration": 17,
    "start_time": "2024-07-13T04:37:25.337Z"
   },
   {
    "duration": 18,
    "start_time": "2024-07-13T04:37:43.943Z"
   },
   {
    "duration": 17,
    "start_time": "2024-07-13T04:37:49.950Z"
   },
   {
    "duration": 16,
    "start_time": "2024-07-13T04:37:56.238Z"
   },
   {
    "duration": 16,
    "start_time": "2024-07-13T04:37:59.754Z"
   },
   {
    "duration": 14,
    "start_time": "2024-07-13T04:38:42.276Z"
   },
   {
    "duration": 5,
    "start_time": "2024-07-13T04:39:09.721Z"
   },
   {
    "duration": 17,
    "start_time": "2024-07-13T04:39:12.749Z"
   },
   {
    "duration": 8,
    "start_time": "2024-07-13T04:41:20.598Z"
   },
   {
    "duration": 426,
    "start_time": "2024-07-13T04:44:19.219Z"
   },
   {
    "duration": 8,
    "start_time": "2024-07-13T04:44:44.369Z"
   },
   {
    "duration": 77,
    "start_time": "2024-07-13T04:44:45.798Z"
   },
   {
    "duration": 8,
    "start_time": "2024-07-13T04:45:00.706Z"
   },
   {
    "duration": 1502,
    "start_time": "2024-07-13T04:45:01.967Z"
   },
   {
    "duration": 1510,
    "start_time": "2024-07-13T04:45:22.729Z"
   },
   {
    "duration": 1528,
    "start_time": "2024-07-13T04:45:34.781Z"
   },
   {
    "duration": 5583,
    "start_time": "2024-07-13T04:48:45.753Z"
   },
   {
    "duration": 851,
    "start_time": "2024-07-13T04:50:03.981Z"
   },
   {
    "duration": 8,
    "start_time": "2024-07-13T04:50:12.026Z"
   },
   {
    "duration": 2697,
    "start_time": "2024-07-13T04:57:44.536Z"
   },
   {
    "duration": 7990,
    "start_time": "2024-07-13T04:58:30.043Z"
   },
   {
    "duration": 7969,
    "start_time": "2024-07-13T04:59:29.158Z"
   },
   {
    "duration": 9,
    "start_time": "2024-07-13T04:59:39.742Z"
   },
   {
    "duration": 6,
    "start_time": "2024-07-13T05:10:33.460Z"
   },
   {
    "duration": 51,
    "start_time": "2024-07-13T05:11:13.381Z"
   },
   {
    "duration": 5,
    "start_time": "2024-07-13T05:11:23.602Z"
   },
   {
    "duration": 51,
    "start_time": "2024-07-13T05:11:28.682Z"
   },
   {
    "duration": 6,
    "start_time": "2024-07-13T05:11:52.445Z"
   },
   {
    "duration": 22,
    "start_time": "2024-07-13T05:11:52.967Z"
   },
   {
    "duration": 25,
    "start_time": "2024-07-13T05:12:06.135Z"
   },
   {
    "duration": 24,
    "start_time": "2024-07-13T05:12:17.129Z"
   },
   {
    "duration": 28,
    "start_time": "2024-07-13T05:12:29.182Z"
   },
   {
    "duration": 1529,
    "start_time": "2024-07-13T05:18:13.175Z"
   },
   {
    "duration": 25,
    "start_time": "2024-07-13T05:18:50.294Z"
   },
   {
    "duration": 14,
    "start_time": "2024-07-13T05:19:04.218Z"
   },
   {
    "duration": 25,
    "start_time": "2024-07-13T05:19:11.763Z"
   },
   {
    "duration": 16,
    "start_time": "2024-07-13T05:19:21.433Z"
   },
   {
    "duration": 16,
    "start_time": "2024-07-13T05:19:41.691Z"
   },
   {
    "duration": 1524,
    "start_time": "2024-07-13T05:19:43.923Z"
   },
   {
    "duration": 5793,
    "start_time": "2024-07-13T05:19:45.450Z"
   },
   {
    "duration": 307,
    "start_time": "2024-07-13T05:28:00.521Z"
   },
   {
    "duration": 26,
    "start_time": "2024-07-13T05:28:21.973Z"
   },
   {
    "duration": 4,
    "start_time": "2024-07-13T05:28:58.031Z"
   },
   {
    "duration": 546,
    "start_time": "2024-07-13T05:29:05.897Z"
   },
   {
    "duration": 14,
    "start_time": "2024-07-13T05:29:40.624Z"
   },
   {
    "duration": 6268,
    "start_time": "2024-07-13T05:29:45.659Z"
   },
   {
    "duration": 1230,
    "start_time": "2024-07-13T05:36:17.316Z"
   },
   {
    "duration": 26,
    "start_time": "2024-07-13T05:36:18.550Z"
   },
   {
    "duration": 24,
    "start_time": "2024-07-13T05:36:18.578Z"
   },
   {
    "duration": 16,
    "start_time": "2024-07-13T05:36:18.623Z"
   },
   {
    "duration": 51,
    "start_time": "2024-07-13T05:36:18.643Z"
   },
   {
    "duration": 16,
    "start_time": "2024-07-13T05:36:18.724Z"
   },
   {
    "duration": 20,
    "start_time": "2024-07-13T05:36:18.744Z"
   },
   {
    "duration": 5,
    "start_time": "2024-07-13T05:36:18.768Z"
   },
   {
    "duration": 52,
    "start_time": "2024-07-13T05:36:18.777Z"
   },
   {
    "duration": 25,
    "start_time": "2024-07-13T05:36:18.831Z"
   },
   {
    "duration": 26,
    "start_time": "2024-07-13T05:36:18.859Z"
   },
   {
    "duration": 489,
    "start_time": "2024-07-13T05:36:18.888Z"
   },
   {
    "duration": 9,
    "start_time": "2024-07-13T05:36:19.381Z"
   },
   {
    "duration": 2797,
    "start_time": "2024-07-13T05:36:19.395Z"
   },
   {
    "duration": 8151,
    "start_time": "2024-07-13T05:36:22.195Z"
   },
   {
    "duration": 9,
    "start_time": "2024-07-13T05:36:30.425Z"
   },
   {
    "duration": 6,
    "start_time": "2024-07-13T05:36:30.437Z"
   },
   {
    "duration": 17,
    "start_time": "2024-07-13T05:36:30.447Z"
   },
   {
    "duration": 7,
    "start_time": "2024-07-13T05:36:30.467Z"
   },
   {
    "duration": 1648,
    "start_time": "2024-07-13T05:36:30.477Z"
   },
   {
    "duration": 5795,
    "start_time": "2024-07-13T05:36:32.129Z"
   },
   {
    "duration": 8,
    "start_time": "2024-07-13T05:36:37.927Z"
   },
   {
    "duration": 82,
    "start_time": "2024-07-13T05:36:37.942Z"
   },
   {
    "duration": 17,
    "start_time": "2024-07-13T05:36:38.027Z"
   },
   {
    "duration": 1563,
    "start_time": "2024-07-13T05:36:38.047Z"
   },
   {
    "duration": 6422,
    "start_time": "2024-07-13T05:36:39.613Z"
   },
   {
    "duration": 1527,
    "start_time": "2024-07-18T02:47:06.133Z"
   },
   {
    "duration": 50,
    "start_time": "2024-07-18T02:47:08.520Z"
   },
   {
    "duration": 41,
    "start_time": "2024-07-18T02:47:09.688Z"
   },
   {
    "duration": 23,
    "start_time": "2024-07-18T02:47:10.070Z"
   },
   {
    "duration": 79,
    "start_time": "2024-07-18T02:47:10.446Z"
   },
   {
    "duration": 17,
    "start_time": "2024-07-18T02:47:10.789Z"
   },
   {
    "duration": 41,
    "start_time": "2024-07-18T02:47:11.025Z"
   },
   {
    "duration": 11,
    "start_time": "2024-07-18T02:47:11.724Z"
   },
   {
    "duration": 22,
    "start_time": "2024-07-18T02:47:12.316Z"
   },
   {
    "duration": 716,
    "start_time": "2024-07-18T02:47:12.688Z"
   },
   {
    "duration": 33,
    "start_time": "2024-07-18T02:48:13.322Z"
   },
   {
    "duration": 32,
    "start_time": "2024-07-18T02:48:33.419Z"
   },
   {
    "duration": 5180,
    "start_time": "2024-07-18T02:48:34.063Z"
   },
   {
    "duration": 14,
    "start_time": "2024-07-18T02:48:39.249Z"
   },
   {
    "duration": 3368,
    "start_time": "2024-07-18T02:48:39.267Z"
   },
   {
    "duration": 9875,
    "start_time": "2024-07-18T02:48:42.647Z"
   },
   {
    "duration": 9,
    "start_time": "2024-07-18T02:48:52.525Z"
   },
   {
    "duration": 79,
    "start_time": "2024-07-18T02:48:52.537Z"
   },
   {
    "duration": 16,
    "start_time": "2024-07-18T02:48:52.620Z"
   },
   {
    "duration": 10,
    "start_time": "2024-07-18T02:48:52.639Z"
   },
   {
    "duration": 1728,
    "start_time": "2024-07-18T02:48:52.653Z"
   },
   {
    "duration": 7632,
    "start_time": "2024-07-18T02:48:54.386Z"
   },
   {
    "duration": 15,
    "start_time": "2024-07-18T02:49:02.021Z"
   },
   {
    "duration": 71,
    "start_time": "2024-07-18T02:49:02.039Z"
   },
   {
    "duration": 18,
    "start_time": "2024-07-18T02:49:02.115Z"
   },
   {
    "duration": 1720,
    "start_time": "2024-07-18T02:49:02.137Z"
   },
   {
    "duration": 6449,
    "start_time": "2024-07-18T02:49:03.861Z"
   },
   {
    "duration": 4468,
    "start_time": "2024-07-18T02:57:21.560Z"
   },
   {
    "duration": 6,
    "start_time": "2024-07-18T03:01:22.474Z"
   },
   {
    "duration": 65,
    "start_time": "2024-07-18T03:04:08.196Z"
   },
   {
    "duration": 211,
    "start_time": "2024-07-18T03:09:43.088Z"
   },
   {
    "duration": 15,
    "start_time": "2024-07-18T03:15:52.714Z"
   },
   {
    "duration": 11,
    "start_time": "2024-07-18T03:16:11.422Z"
   },
   {
    "duration": 52,
    "start_time": "2024-07-18T03:16:22.053Z"
   },
   {
    "duration": 185,
    "start_time": "2024-07-18T03:16:24.977Z"
   },
   {
    "duration": 98,
    "start_time": "2024-07-18T03:16:42.461Z"
   },
   {
    "duration": 2292,
    "start_time": "2024-07-18T03:16:59.736Z"
   },
   {
    "duration": 28,
    "start_time": "2024-07-18T03:17:02.033Z"
   },
   {
    "duration": 44,
    "start_time": "2024-07-18T03:17:02.070Z"
   },
   {
    "duration": 20,
    "start_time": "2024-07-18T03:17:02.120Z"
   },
   {
    "duration": 98,
    "start_time": "2024-07-18T03:17:02.143Z"
   },
   {
    "duration": 18,
    "start_time": "2024-07-18T03:17:02.244Z"
   },
   {
    "duration": 64,
    "start_time": "2024-07-18T03:17:02.265Z"
   },
   {
    "duration": 7,
    "start_time": "2024-07-18T03:17:02.334Z"
   },
   {
    "duration": 19,
    "start_time": "2024-07-18T03:17:02.345Z"
   },
   {
    "duration": 68,
    "start_time": "2024-07-18T03:17:02.370Z"
   },
   {
    "duration": 33,
    "start_time": "2024-07-18T03:17:02.441Z"
   },
   {
    "duration": 312,
    "start_time": "2024-07-18T03:17:02.477Z"
   },
   {
    "duration": 20,
    "start_time": "2024-07-18T03:17:02.793Z"
   },
   {
    "duration": 3009,
    "start_time": "2024-07-18T03:17:02.816Z"
   },
   {
    "duration": 7009,
    "start_time": "2024-07-18T03:17:05.833Z"
   },
   {
    "duration": 67,
    "start_time": "2024-07-18T03:17:12.845Z"
   },
   {
    "duration": 8,
    "start_time": "2024-07-18T03:17:12.915Z"
   },
   {
    "duration": 20,
    "start_time": "2024-07-18T03:17:12.926Z"
   },
   {
    "duration": 66,
    "start_time": "2024-07-18T03:17:12.949Z"
   },
   {
    "duration": 571,
    "start_time": "2024-07-18T03:17:13.019Z"
   },
   {
    "duration": 0,
    "start_time": "2024-07-18T03:17:13.594Z"
   },
   {
    "duration": 0,
    "start_time": "2024-07-18T03:17:13.610Z"
   },
   {
    "duration": 0,
    "start_time": "2024-07-18T03:17:13.611Z"
   },
   {
    "duration": 0,
    "start_time": "2024-07-18T03:17:13.613Z"
   },
   {
    "duration": 0,
    "start_time": "2024-07-18T03:17:13.614Z"
   },
   {
    "duration": 0,
    "start_time": "2024-07-18T03:17:13.616Z"
   },
   {
    "duration": 0,
    "start_time": "2024-07-18T03:17:13.618Z"
   },
   {
    "duration": 0,
    "start_time": "2024-07-18T03:17:13.620Z"
   },
   {
    "duration": 191,
    "start_time": "2024-07-18T03:17:28.059Z"
   },
   {
    "duration": 1702,
    "start_time": "2024-07-18T03:18:08.815Z"
   },
   {
    "duration": 2346,
    "start_time": "2024-07-18T03:18:25.094Z"
   },
   {
    "duration": 80,
    "start_time": "2024-07-18T03:18:27.444Z"
   },
   {
    "duration": 79,
    "start_time": "2024-07-18T03:18:27.532Z"
   },
   {
    "duration": 28,
    "start_time": "2024-07-18T03:18:27.622Z"
   },
   {
    "duration": 115,
    "start_time": "2024-07-18T03:18:27.655Z"
   },
   {
    "duration": 40,
    "start_time": "2024-07-18T03:18:27.773Z"
   },
   {
    "duration": 28,
    "start_time": "2024-07-18T03:18:27.817Z"
   },
   {
    "duration": 7,
    "start_time": "2024-07-18T03:18:27.848Z"
   },
   {
    "duration": 55,
    "start_time": "2024-07-18T03:18:27.860Z"
   },
   {
    "duration": 28,
    "start_time": "2024-07-18T03:18:27.919Z"
   },
   {
    "duration": 62,
    "start_time": "2024-07-18T03:18:27.950Z"
   },
   {
    "duration": 282,
    "start_time": "2024-07-18T03:18:28.021Z"
   },
   {
    "duration": 11,
    "start_time": "2024-07-18T03:18:28.305Z"
   },
   {
    "duration": 3009,
    "start_time": "2024-07-18T03:18:28.320Z"
   },
   {
    "duration": 8702,
    "start_time": "2024-07-18T03:18:31.332Z"
   },
   {
    "duration": 76,
    "start_time": "2024-07-18T03:18:40.038Z"
   },
   {
    "duration": 7,
    "start_time": "2024-07-18T03:18:40.118Z"
   },
   {
    "duration": 79,
    "start_time": "2024-07-18T03:18:40.131Z"
   },
   {
    "duration": 9,
    "start_time": "2024-07-18T03:18:40.214Z"
   },
   {
    "duration": 1758,
    "start_time": "2024-07-18T03:18:40.228Z"
   },
   {
    "duration": 240,
    "start_time": "2024-07-18T03:18:41.990Z"
   },
   {
    "duration": 5104,
    "start_time": "2024-07-18T03:18:42.236Z"
   },
   {
    "duration": 71,
    "start_time": "2024-07-18T03:18:47.344Z"
   },
   {
    "duration": 597,
    "start_time": "2024-07-18T03:18:47.419Z"
   },
   {
    "duration": 0,
    "start_time": "2024-07-18T03:18:48.020Z"
   },
   {
    "duration": 0,
    "start_time": "2024-07-18T03:18:48.022Z"
   },
   {
    "duration": 0,
    "start_time": "2024-07-18T03:18:48.024Z"
   },
   {
    "duration": 0,
    "start_time": "2024-07-18T03:18:48.026Z"
   },
   {
    "duration": 1722,
    "start_time": "2024-07-18T03:18:55.856Z"
   },
   {
    "duration": 206,
    "start_time": "2024-07-18T03:19:09.897Z"
   },
   {
    "duration": 5106,
    "start_time": "2024-07-18T03:20:19.638Z"
   },
   {
    "duration": 203,
    "start_time": "2024-07-18T03:21:14.640Z"
   },
   {
    "duration": 5216,
    "start_time": "2024-07-18T03:21:33.401Z"
   },
   {
    "duration": 34,
    "start_time": "2024-07-18T03:26:07.896Z"
   },
   {
    "duration": 35,
    "start_time": "2024-07-18T03:26:30.478Z"
   },
   {
    "duration": 333,
    "start_time": "2024-07-18T03:27:06.981Z"
   },
   {
    "duration": 189,
    "start_time": "2024-07-18T03:28:39.259Z"
   },
   {
    "duration": 272,
    "start_time": "2024-07-18T03:30:10.386Z"
   },
   {
    "duration": 6,
    "start_time": "2024-07-18T03:32:13.648Z"
   },
   {
    "duration": 18,
    "start_time": "2024-07-18T03:32:47.290Z"
   },
   {
    "duration": 155,
    "start_time": "2024-07-18T03:33:11.458Z"
   },
   {
    "duration": 364,
    "start_time": "2024-07-18T03:33:14.512Z"
   },
   {
    "duration": 303,
    "start_time": "2024-07-18T03:35:36.646Z"
   },
   {
    "duration": 2038,
    "start_time": "2024-07-18T03:35:40.073Z"
   },
   {
    "duration": 502,
    "start_time": "2024-07-18T03:35:43.593Z"
   },
   {
    "duration": 306,
    "start_time": "2024-07-18T03:35:48.086Z"
   },
   {
    "duration": 454,
    "start_time": "2024-07-18T03:36:03.328Z"
   },
   {
    "duration": 280,
    "start_time": "2024-07-18T03:36:06.777Z"
   },
   {
    "duration": 5022,
    "start_time": "2024-07-28T00:49:44.366Z"
   },
   {
    "duration": 30,
    "start_time": "2024-07-28T00:49:49.392Z"
   },
   {
    "duration": 34,
    "start_time": "2024-07-28T00:49:49.425Z"
   },
   {
    "duration": 22,
    "start_time": "2024-07-28T00:49:49.463Z"
   },
   {
    "duration": 94,
    "start_time": "2024-07-28T00:49:49.489Z"
   },
   {
    "duration": 17,
    "start_time": "2024-07-28T00:49:49.586Z"
   },
   {
    "duration": 41,
    "start_time": "2024-07-28T00:49:49.606Z"
   },
   {
    "duration": 7,
    "start_time": "2024-07-28T00:49:49.650Z"
   },
   {
    "duration": 15,
    "start_time": "2024-07-28T00:49:49.660Z"
   },
   {
    "duration": 57,
    "start_time": "2024-07-28T00:49:49.681Z"
   },
   {
    "duration": 23,
    "start_time": "2024-07-28T00:49:49.741Z"
   },
   {
    "duration": 199,
    "start_time": "2024-07-28T00:49:49.768Z"
   },
   {
    "duration": 9,
    "start_time": "2024-07-28T00:49:49.970Z"
   },
   {
    "duration": 3168,
    "start_time": "2024-07-28T00:49:49.982Z"
   },
   {
    "duration": 8585,
    "start_time": "2024-07-28T00:49:53.153Z"
   },
   {
    "duration": 11,
    "start_time": "2024-07-28T00:50:01.741Z"
   },
   {
    "duration": 6,
    "start_time": "2024-07-28T00:50:01.834Z"
   },
   {
    "duration": 15,
    "start_time": "2024-07-28T00:50:01.843Z"
   },
   {
    "duration": 7,
    "start_time": "2024-07-28T00:50:01.861Z"
   },
   {
    "duration": 1538,
    "start_time": "2024-07-28T00:50:01.871Z"
   },
   {
    "duration": 208,
    "start_time": "2024-07-28T00:50:03.411Z"
   },
   {
    "duration": 5719,
    "start_time": "2024-07-28T00:50:03.622Z"
   },
   {
    "duration": 92,
    "start_time": "2024-07-28T00:50:09.343Z"
   },
   {
    "duration": 325,
    "start_time": "2024-07-28T00:50:09.438Z"
   },
   {
    "duration": 5,
    "start_time": "2024-07-28T00:50:09.766Z"
   },
   {
    "duration": 15,
    "start_time": "2024-07-28T00:50:09.775Z"
   },
   {
    "duration": 3977,
    "start_time": "2024-07-28T00:50:09.793Z"
   },
   {
    "duration": 501,
    "start_time": "2024-07-28T00:50:13.776Z"
   },
   {
    "duration": 9,
    "start_time": "2024-07-28T01:39:01.115Z"
   },
   {
    "duration": 2762,
    "start_time": "2024-07-28T01:39:02.346Z"
   },
   {
    "duration": 393,
    "start_time": "2024-07-28T01:39:05.111Z"
   },
   {
    "duration": 27,
    "start_time": "2024-07-28T01:39:42.040Z"
   },
   {
    "duration": 109,
    "start_time": "2024-07-28T01:39:47.466Z"
   },
   {
    "duration": 396,
    "start_time": "2024-07-28T01:40:51.552Z"
   },
   {
    "duration": 102,
    "start_time": "2024-07-28T01:41:22.758Z"
   },
   {
    "duration": 77,
    "start_time": "2024-07-28T01:41:34.963Z"
   },
   {
    "duration": 41,
    "start_time": "2024-07-28T01:41:38.306Z"
   },
   {
    "duration": 2032,
    "start_time": "2024-07-28T01:42:35.122Z"
   },
   {
    "duration": 380,
    "start_time": "2024-07-28T01:42:48.025Z"
   },
   {
    "duration": 433,
    "start_time": "2024-07-28T01:42:57.136Z"
   },
   {
    "duration": 422,
    "start_time": "2024-07-28T01:43:15.560Z"
   },
   {
    "duration": 435,
    "start_time": "2024-07-28T01:43:24.751Z"
   },
   {
    "duration": 8025,
    "start_time": "2024-07-28T01:45:35.114Z"
   },
   {
    "duration": 359,
    "start_time": "2024-07-28T01:46:07.311Z"
   },
   {
    "duration": 7934,
    "start_time": "2024-07-28T01:46:37.207Z"
   },
   {
    "duration": 8414,
    "start_time": "2024-07-28T01:47:02.767Z"
   },
   {
    "duration": 8422,
    "start_time": "2024-07-28T01:47:23.532Z"
   },
   {
    "duration": 7,
    "start_time": "2024-07-28T01:47:44.250Z"
   },
   {
    "duration": 8235,
    "start_time": "2024-07-28T01:49:23.912Z"
   },
   {
    "duration": 8066,
    "start_time": "2024-07-28T01:49:35.580Z"
   },
   {
    "duration": 8063,
    "start_time": "2024-07-28T01:50:06.380Z"
   },
   {
    "duration": 8539,
    "start_time": "2024-07-28T01:50:21.351Z"
   },
   {
    "duration": 8483,
    "start_time": "2024-07-28T01:51:07.853Z"
   },
   {
    "duration": 8451,
    "start_time": "2024-07-28T01:52:43.591Z"
   },
   {
    "duration": 0,
    "start_time": "2024-07-28T01:53:48.342Z"
   },
   {
    "duration": 8572,
    "start_time": "2024-07-28T01:53:51.741Z"
   },
   {
    "duration": 8449,
    "start_time": "2024-07-28T01:54:19.519Z"
   },
   {
    "duration": 8331,
    "start_time": "2024-07-28T01:55:20.809Z"
   },
   {
    "duration": 5,
    "start_time": "2024-07-28T01:56:40.042Z"
   },
   {
    "duration": 8265,
    "start_time": "2024-07-28T01:56:50.036Z"
   },
   {
    "duration": 425,
    "start_time": "2024-07-28T01:58:00.161Z"
   },
   {
    "duration": 481,
    "start_time": "2024-07-28T01:58:57.053Z"
   },
   {
    "duration": 1393,
    "start_time": "2024-07-28T01:59:15.145Z"
   },
   {
    "duration": 25,
    "start_time": "2024-07-28T01:59:16.544Z"
   },
   {
    "duration": 22,
    "start_time": "2024-07-28T01:59:16.572Z"
   },
   {
    "duration": 38,
    "start_time": "2024-07-28T01:59:16.598Z"
   },
   {
    "duration": 50,
    "start_time": "2024-07-28T01:59:16.639Z"
   },
   {
    "duration": 44,
    "start_time": "2024-07-28T01:59:16.692Z"
   },
   {
    "duration": 23,
    "start_time": "2024-07-28T01:59:16.739Z"
   },
   {
    "duration": 6,
    "start_time": "2024-07-28T01:59:16.765Z"
   },
   {
    "duration": 13,
    "start_time": "2024-07-28T01:59:16.774Z"
   },
   {
    "duration": 61,
    "start_time": "2024-07-28T01:59:16.792Z"
   },
   {
    "duration": 24,
    "start_time": "2024-07-28T01:59:16.856Z"
   },
   {
    "duration": 270,
    "start_time": "2024-07-28T01:59:16.883Z"
   },
   {
    "duration": 11,
    "start_time": "2024-07-28T01:59:17.156Z"
   },
   {
    "duration": 3369,
    "start_time": "2024-07-28T01:59:17.170Z"
   },
   {
    "duration": 425,
    "start_time": "2024-07-28T01:59:20.542Z"
   },
   {
    "duration": 0,
    "start_time": "2024-07-28T01:59:20.970Z"
   },
   {
    "duration": 0,
    "start_time": "2024-07-28T01:59:20.972Z"
   },
   {
    "duration": 0,
    "start_time": "2024-07-28T01:59:20.974Z"
   },
   {
    "duration": 0,
    "start_time": "2024-07-28T01:59:20.977Z"
   },
   {
    "duration": 0,
    "start_time": "2024-07-28T01:59:20.979Z"
   },
   {
    "duration": 0,
    "start_time": "2024-07-28T01:59:20.980Z"
   },
   {
    "duration": 0,
    "start_time": "2024-07-28T01:59:20.982Z"
   },
   {
    "duration": 0,
    "start_time": "2024-07-28T01:59:20.984Z"
   },
   {
    "duration": 0,
    "start_time": "2024-07-28T01:59:20.986Z"
   },
   {
    "duration": 0,
    "start_time": "2024-07-28T01:59:20.987Z"
   },
   {
    "duration": 0,
    "start_time": "2024-07-28T01:59:20.989Z"
   },
   {
    "duration": 0,
    "start_time": "2024-07-28T01:59:20.991Z"
   },
   {
    "duration": 0,
    "start_time": "2024-07-28T01:59:20.993Z"
   },
   {
    "duration": 0,
    "start_time": "2024-07-28T01:59:20.995Z"
   },
   {
    "duration": 176,
    "start_time": "2024-07-28T01:59:37.981Z"
   },
   {
    "duration": 356,
    "start_time": "2024-07-28T01:59:46.529Z"
   },
   {
    "duration": 349,
    "start_time": "2024-07-28T01:59:49.148Z"
   },
   {
    "duration": 8343,
    "start_time": "2024-07-28T01:59:49.624Z"
   },
   {
    "duration": 8,
    "start_time": "2024-07-28T01:59:57.970Z"
   },
   {
    "duration": 6,
    "start_time": "2024-07-28T01:59:57.981Z"
   },
   {
    "duration": 47,
    "start_time": "2024-07-28T01:59:57.992Z"
   },
   {
    "duration": 8,
    "start_time": "2024-07-28T01:59:58.041Z"
   },
   {
    "duration": 2184,
    "start_time": "2024-07-28T01:59:58.052Z"
   },
   {
    "duration": 204,
    "start_time": "2024-07-28T02:00:00.239Z"
   },
   {
    "duration": 5690,
    "start_time": "2024-07-28T02:00:00.446Z"
   },
   {
    "duration": 13,
    "start_time": "2024-07-28T02:00:06.140Z"
   },
   {
    "duration": 734,
    "start_time": "2024-07-28T02:00:06.157Z"
   },
   {
    "duration": 0,
    "start_time": "2024-07-28T02:00:06.894Z"
   },
   {
    "duration": 0,
    "start_time": "2024-07-28T02:00:06.896Z"
   },
   {
    "duration": 0,
    "start_time": "2024-07-28T02:00:06.899Z"
   },
   {
    "duration": 404,
    "start_time": "2024-07-28T02:01:15.961Z"
   },
   {
    "duration": 1903,
    "start_time": "2024-07-28T02:01:35.532Z"
   },
   {
    "duration": 25,
    "start_time": "2024-07-28T02:01:37.438Z"
   },
   {
    "duration": 74,
    "start_time": "2024-07-28T02:01:37.466Z"
   },
   {
    "duration": 21,
    "start_time": "2024-07-28T02:01:37.545Z"
   },
   {
    "duration": 165,
    "start_time": "2024-07-28T02:01:37.569Z"
   },
   {
    "duration": 15,
    "start_time": "2024-07-28T02:01:37.737Z"
   },
   {
    "duration": 21,
    "start_time": "2024-07-28T02:01:37.755Z"
   },
   {
    "duration": 61,
    "start_time": "2024-07-28T02:01:37.778Z"
   },
   {
    "duration": 14,
    "start_time": "2024-07-28T02:01:37.843Z"
   },
   {
    "duration": 82,
    "start_time": "2024-07-28T02:01:37.863Z"
   },
   {
    "duration": 87,
    "start_time": "2024-07-28T02:01:37.948Z"
   },
   {
    "duration": 245,
    "start_time": "2024-07-28T02:01:38.038Z"
   },
   {
    "duration": 9,
    "start_time": "2024-07-28T02:01:38.286Z"
   },
   {
    "duration": 2737,
    "start_time": "2024-07-28T02:01:38.297Z"
   },
   {
    "duration": 359,
    "start_time": "2024-07-28T02:01:41.037Z"
   },
   {
    "duration": 8192,
    "start_time": "2024-07-28T02:01:41.399Z"
   },
   {
    "duration": 7,
    "start_time": "2024-07-28T02:01:49.597Z"
   },
   {
    "duration": 6,
    "start_time": "2024-07-28T02:01:49.607Z"
   },
   {
    "duration": 16,
    "start_time": "2024-07-28T02:01:49.634Z"
   },
   {
    "duration": 10,
    "start_time": "2024-07-28T02:01:49.652Z"
   },
   {
    "duration": 1543,
    "start_time": "2024-07-28T02:01:49.665Z"
   },
   {
    "duration": 818,
    "start_time": "2024-07-28T02:01:51.210Z"
   },
   {
    "duration": 0,
    "start_time": "2024-07-28T02:01:52.035Z"
   },
   {
    "duration": 0,
    "start_time": "2024-07-28T02:01:52.037Z"
   },
   {
    "duration": 0,
    "start_time": "2024-07-28T02:01:52.039Z"
   },
   {
    "duration": 0,
    "start_time": "2024-07-28T02:01:52.041Z"
   },
   {
    "duration": 0,
    "start_time": "2024-07-28T02:01:52.043Z"
   },
   {
    "duration": 0,
    "start_time": "2024-07-28T02:01:52.045Z"
   },
   {
    "duration": 0,
    "start_time": "2024-07-28T02:01:52.047Z"
   },
   {
    "duration": 204,
    "start_time": "2024-07-28T02:02:35.776Z"
   },
   {
    "duration": 5642,
    "start_time": "2024-07-28T02:02:42.205Z"
   },
   {
    "duration": 86,
    "start_time": "2024-07-28T02:02:47.851Z"
   },
   {
    "duration": 285,
    "start_time": "2024-07-28T02:02:58.973Z"
   },
   {
    "duration": 6,
    "start_time": "2024-07-28T02:03:02.691Z"
   },
   {
    "duration": 16,
    "start_time": "2024-07-28T02:03:03.176Z"
   },
   {
    "duration": 3995,
    "start_time": "2024-07-28T02:03:05.361Z"
   },
   {
    "duration": 38,
    "start_time": "2024-07-28T02:03:09.360Z"
   },
   {
    "duration": 36,
    "start_time": "2024-07-28T02:09:05.319Z"
   },
   {
    "duration": 33,
    "start_time": "2024-07-28T02:09:11.115Z"
   },
   {
    "duration": 6,
    "start_time": "2024-07-28T02:09:18.294Z"
   },
   {
    "duration": 16,
    "start_time": "2024-07-28T02:09:20.034Z"
   },
   {
    "duration": 150,
    "start_time": "2024-07-28T02:09:21.389Z"
   },
   {
    "duration": 9,
    "start_time": "2024-07-28T02:09:21.637Z"
   },
   {
    "duration": 8,
    "start_time": "2024-07-28T02:09:30.542Z"
   },
   {
    "duration": 121,
    "start_time": "2024-07-28T02:11:12.864Z"
   },
   {
    "duration": 219,
    "start_time": "2024-07-28T02:11:22.419Z"
   },
   {
    "duration": 191,
    "start_time": "2024-07-28T02:12:05.801Z"
   },
   {
    "duration": 319,
    "start_time": "2024-07-28T02:12:21.766Z"
   },
   {
    "duration": 4089,
    "start_time": "2024-07-28T02:12:39.833Z"
   },
   {
    "duration": 394,
    "start_time": "2024-07-28T02:13:54.194Z"
   },
   {
    "duration": 8054,
    "start_time": "2024-07-28T02:14:57.091Z"
   },
   {
    "duration": 35,
    "start_time": "2024-07-28T02:23:08.609Z"
   },
   {
    "duration": 381,
    "start_time": "2024-07-28T02:23:15.611Z"
   },
   {
    "duration": 302,
    "start_time": "2024-07-28T02:23:24.850Z"
   },
   {
    "duration": 491,
    "start_time": "2024-07-28T02:24:06.268Z"
   },
   {
    "duration": 470,
    "start_time": "2024-07-28T02:24:48.483Z"
   },
   {
    "duration": 494,
    "start_time": "2024-07-28T02:25:20.959Z"
   },
   {
    "duration": 23,
    "start_time": "2024-07-28T02:30:04.883Z"
   },
   {
    "duration": 28,
    "start_time": "2024-07-28T02:34:44.993Z"
   },
   {
    "duration": 191,
    "start_time": "2024-07-28T02:34:52.646Z"
   },
   {
    "duration": 499,
    "start_time": "2024-07-28T02:35:21.287Z"
   },
   {
    "duration": 508,
    "start_time": "2024-07-28T02:36:26.180Z"
   },
   {
    "duration": 524,
    "start_time": "2024-07-28T02:36:36.832Z"
   },
   {
    "duration": 1397,
    "start_time": "2024-07-28T02:42:10.207Z"
   },
   {
    "duration": 29,
    "start_time": "2024-07-28T02:42:11.608Z"
   },
   {
    "duration": 25,
    "start_time": "2024-07-28T02:42:11.640Z"
   },
   {
    "duration": 18,
    "start_time": "2024-07-28T02:42:11.668Z"
   },
   {
    "duration": 83,
    "start_time": "2024-07-28T02:42:11.691Z"
   },
   {
    "duration": 14,
    "start_time": "2024-07-28T02:42:11.777Z"
   },
   {
    "duration": 45,
    "start_time": "2024-07-28T02:42:11.794Z"
   },
   {
    "duration": 6,
    "start_time": "2024-07-28T02:42:11.842Z"
   },
   {
    "duration": 14,
    "start_time": "2024-07-28T02:42:11.851Z"
   },
   {
    "duration": 24,
    "start_time": "2024-07-28T02:42:11.868Z"
   },
   {
    "duration": 56,
    "start_time": "2024-07-28T02:42:11.895Z"
   },
   {
    "duration": 264,
    "start_time": "2024-07-28T02:42:11.953Z"
   },
   {
    "duration": 14,
    "start_time": "2024-07-28T02:42:12.220Z"
   },
   {
    "duration": 2726,
    "start_time": "2024-07-28T02:42:12.241Z"
   },
   {
    "duration": 366,
    "start_time": "2024-07-28T02:42:14.970Z"
   },
   {
    "duration": 8352,
    "start_time": "2024-07-28T02:42:15.339Z"
   },
   {
    "duration": 7,
    "start_time": "2024-07-28T02:42:23.698Z"
   },
   {
    "duration": 6,
    "start_time": "2024-07-28T02:42:23.709Z"
   },
   {
    "duration": 17,
    "start_time": "2024-07-28T02:42:23.736Z"
   },
   {
    "duration": 8,
    "start_time": "2024-07-28T02:42:23.756Z"
   },
   {
    "duration": 2214,
    "start_time": "2024-07-28T02:42:23.768Z"
   },
   {
    "duration": 209,
    "start_time": "2024-07-28T02:42:25.985Z"
   },
   {
    "duration": 5755,
    "start_time": "2024-07-28T02:42:26.197Z"
   },
   {
    "duration": 81,
    "start_time": "2024-07-28T02:42:31.955Z"
   },
   {
    "duration": 327,
    "start_time": "2024-07-28T02:42:32.039Z"
   },
   {
    "duration": 6,
    "start_time": "2024-07-28T02:42:32.369Z"
   },
   {
    "duration": 16,
    "start_time": "2024-07-28T02:42:32.378Z"
   },
   {
    "duration": 39,
    "start_time": "2024-07-28T02:42:32.398Z"
   },
   {
    "duration": 4174,
    "start_time": "2024-07-28T02:42:32.440Z"
   },
   {
    "duration": 550,
    "start_time": "2024-07-28T02:42:36.618Z"
   },
   {
    "duration": 7882,
    "start_time": "2024-07-28T02:42:37.171Z"
   },
   {
    "duration": 292,
    "start_time": "2024-07-28T02:42:45.056Z"
   },
   {
    "duration": 7,
    "start_time": "2024-07-28T02:42:45.351Z"
   },
   {
    "duration": 1410,
    "start_time": "2024-07-28T02:54:53.463Z"
   },
   {
    "duration": 25,
    "start_time": "2024-07-28T02:54:54.877Z"
   },
   {
    "duration": 34,
    "start_time": "2024-07-28T02:54:54.904Z"
   },
   {
    "duration": 16,
    "start_time": "2024-07-28T02:54:54.942Z"
   },
   {
    "duration": 77,
    "start_time": "2024-07-28T02:54:54.963Z"
   },
   {
    "duration": 14,
    "start_time": "2024-07-28T02:54:55.043Z"
   },
   {
    "duration": 21,
    "start_time": "2024-07-28T02:54:55.060Z"
   },
   {
    "duration": 6,
    "start_time": "2024-07-28T02:54:55.084Z"
   },
   {
    "duration": 52,
    "start_time": "2024-07-28T02:54:55.094Z"
   },
   {
    "duration": 25,
    "start_time": "2024-07-28T02:54:55.149Z"
   },
   {
    "duration": 24,
    "start_time": "2024-07-28T02:54:55.176Z"
   },
   {
    "duration": 246,
    "start_time": "2024-07-28T02:54:55.233Z"
   },
   {
    "duration": 9,
    "start_time": "2024-07-28T02:54:55.482Z"
   },
   {
    "duration": 2774,
    "start_time": "2024-07-28T02:54:55.497Z"
   },
   {
    "duration": 363,
    "start_time": "2024-07-28T02:54:58.274Z"
   },
   {
    "duration": 8266,
    "start_time": "2024-07-28T02:54:58.640Z"
   },
   {
    "duration": 8,
    "start_time": "2024-07-28T02:55:06.909Z"
   },
   {
    "duration": 7,
    "start_time": "2024-07-28T02:55:06.935Z"
   },
   {
    "duration": 18,
    "start_time": "2024-07-28T02:55:06.946Z"
   },
   {
    "duration": 9,
    "start_time": "2024-07-28T02:55:06.968Z"
   },
   {
    "duration": 1634,
    "start_time": "2024-07-28T02:55:06.980Z"
   },
   {
    "duration": 212,
    "start_time": "2024-07-28T02:55:08.617Z"
   },
   {
    "duration": 5904,
    "start_time": "2024-07-28T02:55:08.835Z"
   },
   {
    "duration": 9,
    "start_time": "2024-07-28T02:55:14.742Z"
   },
   {
    "duration": 331,
    "start_time": "2024-07-28T02:55:14.833Z"
   },
   {
    "duration": 7,
    "start_time": "2024-07-28T02:55:15.167Z"
   },
   {
    "duration": 19,
    "start_time": "2024-07-28T02:55:15.177Z"
   },
   {
    "duration": 39,
    "start_time": "2024-07-28T02:55:15.199Z"
   },
   {
    "duration": 4200,
    "start_time": "2024-07-28T02:55:15.241Z"
   },
   {
    "duration": 516,
    "start_time": "2024-07-28T02:55:19.444Z"
   },
   {
    "duration": 7883,
    "start_time": "2024-07-28T02:55:19.963Z"
   },
   {
    "duration": 266,
    "start_time": "2024-07-28T02:55:27.858Z"
   },
   {
    "duration": 5,
    "start_time": "2024-07-28T02:55:28.133Z"
   },
   {
    "duration": 1457,
    "start_time": "2024-07-28T04:01:23.772Z"
   },
   {
    "duration": 26,
    "start_time": "2024-07-28T04:01:25.235Z"
   },
   {
    "duration": 24,
    "start_time": "2024-07-28T04:01:25.264Z"
   },
   {
    "duration": 43,
    "start_time": "2024-07-28T04:01:25.291Z"
   },
   {
    "duration": 53,
    "start_time": "2024-07-28T04:01:25.338Z"
   },
   {
    "duration": 47,
    "start_time": "2024-07-28T04:01:25.395Z"
   },
   {
    "duration": 23,
    "start_time": "2024-07-28T04:01:25.445Z"
   },
   {
    "duration": 5,
    "start_time": "2024-07-28T04:01:25.471Z"
   },
   {
    "duration": 15,
    "start_time": "2024-07-28T04:01:25.480Z"
   },
   {
    "duration": 59,
    "start_time": "2024-07-28T04:01:25.500Z"
   },
   {
    "duration": 26,
    "start_time": "2024-07-28T04:01:25.562Z"
   },
   {
    "duration": 280,
    "start_time": "2024-07-28T04:01:25.591Z"
   },
   {
    "duration": 9,
    "start_time": "2024-07-28T04:01:25.874Z"
   },
   {
    "duration": 2775,
    "start_time": "2024-07-28T04:01:25.886Z"
   },
   {
    "duration": 365,
    "start_time": "2024-07-28T04:01:28.665Z"
   },
   {
    "duration": 8343,
    "start_time": "2024-07-28T04:01:29.035Z"
   },
   {
    "duration": 11,
    "start_time": "2024-07-28T04:01:37.381Z"
   },
   {
    "duration": 7,
    "start_time": "2024-07-28T04:01:37.394Z"
   },
   {
    "duration": 42,
    "start_time": "2024-07-28T04:01:37.404Z"
   },
   {
    "duration": 9,
    "start_time": "2024-07-28T04:01:37.449Z"
   },
   {
    "duration": 1582,
    "start_time": "2024-07-28T04:01:37.460Z"
   },
   {
    "duration": 207,
    "start_time": "2024-07-28T04:01:39.046Z"
   },
   {
    "duration": 5877,
    "start_time": "2024-07-28T04:01:39.257Z"
   },
   {
    "duration": 12,
    "start_time": "2024-07-28T04:01:45.143Z"
   },
   {
    "duration": 402,
    "start_time": "2024-07-28T04:01:45.158Z"
   },
   {
    "duration": 5,
    "start_time": "2024-07-28T04:01:45.563Z"
   },
   {
    "duration": 17,
    "start_time": "2024-07-28T04:01:45.572Z"
   },
   {
    "duration": 38,
    "start_time": "2024-07-28T04:01:45.596Z"
   },
   {
    "duration": 4241,
    "start_time": "2024-07-28T04:01:45.637Z"
   },
   {
    "duration": 512,
    "start_time": "2024-07-28T04:01:49.882Z"
   },
   {
    "duration": 9556,
    "start_time": "2024-07-28T04:01:50.397Z"
   },
   {
    "duration": 413,
    "start_time": "2024-07-28T04:02:00.036Z"
   }
  ],
  "kernelspec": {
   "display_name": "Python 3 (ipykernel)",
   "language": "python",
   "name": "python3"
  },
  "language_info": {
   "codemirror_mode": {
    "name": "ipython",
    "version": 3
   },
   "file_extension": ".py",
   "mimetype": "text/x-python",
   "name": "python",
   "nbconvert_exporter": "python",
   "pygments_lexer": "ipython3",
   "version": "3.9.19"
  },
  "toc": {
   "base_numbering": 1,
   "nav_menu": {},
   "number_sections": true,
   "sideBar": true,
   "skip_h1_title": true,
   "title_cell": "Table of Contents",
   "title_sidebar": "Contents",
   "toc_cell": false,
   "toc_position": {
    "height": "calc(100% - 180px)",
    "left": "10px",
    "top": "150px",
    "width": "199.002px"
   },
   "toc_section_display": true,
   "toc_window_display": true
  }
 },
 "nbformat": 4,
 "nbformat_minor": 2
}
